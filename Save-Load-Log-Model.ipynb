{
  "nbformat": 4,
  "nbformat_minor": 0,
  "metadata": {
    "colab": {
      "name": "HC-PyFeat.ipynb",
      "provenance": [],
      "collapsed_sections": [],
      "authorship_tag": "ABX9TyNxXrhWDa4Ofhi3XKE+qQkN",
      "include_colab_link": true
    },
    "kernelspec": {
      "name": "python3",
      "display_name": "Python 3"
    },
    "accelerator": "GPU"
  },
  "cells": [
    {
      "cell_type": "markdown",
      "metadata": {
        "id": "view-in-github",
        "colab_type": "text"
      },
      "source": [
        "<a href=\"https://colab.research.google.com/github/mrzResearchArena/TF-2.x/blob/master/Save-Load-Log-Model.ipynb\" target=\"_parent\"><img src=\"https://colab.research.google.com/assets/colab-badge.svg\" alt=\"Open In Colab\"/></a>"
      ]
    },
    {
      "cell_type": "code",
      "metadata": {
        "id": "eDdE7R49Qqz3",
        "colab_type": "code",
        "colab": {
          "base_uri": "https://localhost:8080/",
          "height": 128
        },
        "outputId": "b7059120-a7b8-433e-ed53-7521d08fc341"
      },
      "source": [
        "from google.colab import drive\n",
        "drive.mount('/content/drive')"
      ],
      "execution_count": null,
      "outputs": [
        {
          "output_type": "stream",
          "text": [
            "Go to this URL in a browser: https://accounts.google.com/o/oauth2/auth?client_id=947318989803-6bn6qk8qdgf4n4g3pfee6491hc0brc4i.apps.googleusercontent.com&redirect_uri=urn%3aietf%3awg%3aoauth%3a2.0%3aoob&scope=email%20https%3a%2f%2fwww.googleapis.com%2fauth%2fdocs.test%20https%3a%2f%2fwww.googleapis.com%2fauth%2fdrive%20https%3a%2f%2fwww.googleapis.com%2fauth%2fdrive.photos.readonly%20https%3a%2f%2fwww.googleapis.com%2fauth%2fpeopleapi.readonly&response_type=code\n",
            "\n",
            "Enter your authorization code:\n",
            "··········\n",
            "Mounted at /content/drive\n"
          ],
          "name": "stdout"
        }
      ]
    },
    {
      "cell_type": "code",
      "metadata": {
        "id": "qlQkeKQkXR77",
        "colab_type": "code",
        "colab": {}
      },
      "source": [
        "# !nvidia-smi\n",
        "# !free -h\n",
        "# !sudo dmidecode --type 17 \n",
        "# !cat /proc/cpuinfo | grep 'model name'\n",
        "# import multiprocessing\n",
        "# multiprocessing.cpu_count()"
      ],
      "execution_count": null,
      "outputs": []
    },
    {
      "cell_type": "code",
      "metadata": {
        "id": "hkNs-1pvQus_",
        "colab_type": "code",
        "colab": {
          "base_uri": "https://localhost:8080/",
          "height": 35
        },
        "outputId": "20137ce1-ee48-46f8-90c1-6b92ac4c8a66"
      },
      "source": [
        "ls"
      ],
      "execution_count": null,
      "outputs": [
        {
          "output_type": "stream",
          "text": [
            "\u001b[0m\u001b[01;34mdrive\u001b[0m/  \u001b[01;34msample_data\u001b[0m/\n"
          ],
          "name": "stdout"
        }
      ]
    },
    {
      "cell_type": "code",
      "metadata": {
        "id": "bYLyuL9-Q9oF",
        "colab_type": "code",
        "colab": {
          "base_uri": "https://localhost:8080/",
          "height": 35
        },
        "outputId": "cb275696-8f4c-4d1a-cfef-7fc6a1450a5b"
      },
      "source": [
        "cd 'drive/My Drive/HC-PyFeat'"
      ],
      "execution_count": null,
      "outputs": [
        {
          "output_type": "stream",
          "text": [
            "/content/drive/My Drive/HC-PyFeat\n"
          ],
          "name": "stdout"
        }
      ]
    },
    {
      "cell_type": "code",
      "metadata": {
        "id": "cU3NIGzmRJyv",
        "colab_type": "code",
        "colab": {
          "base_uri": "https://localhost:8080/",
          "height": 163
        },
        "outputId": "0fe8cf70-899f-4c96-e107-0f65770d6c2a"
      },
      "source": [
        "ls"
      ],
      "execution_count": null,
      "outputs": [
        {
          "output_type": "stream",
          "text": [
            "acp240.npy     matrix8.npy                    ModelStash.data-00000-of-00001\n",
            "acp740.npy     model-HC.png                   ModelStash.index\n",
            "acp740.pickle  \u001b[0m\u001b[01;34mModelLSTM\u001b[0m/                     pg11-48.npy\n",
            "checkpoint     ModelLSTM.data-00000-of-00001  pg.npy\n",
            "D.npy          ModelLSTM.index                pkmer-64.npy\n",
            "D.pickle       \u001b[01;34mModelSave\u001b[0m/                     X.npy\n",
            "HC.txt         ModelSave.data-00000-of-00001\n",
            "log.csv        ModelSave.index\n"
          ],
          "name": "stdout"
        }
      ]
    },
    {
      "cell_type": "code",
      "metadata": {
        "id": "gTW2TXmpRStl",
        "colab_type": "code",
        "colab": {
          "base_uri": "https://localhost:8080/",
          "height": 35
        },
        "outputId": "70677fee-1a6a-4f13-c388-7936adb72513"
      },
      "source": [
        "# Deep Neural Networks:\n",
        "import tensorflow as tf; print('We\\'re using TF-{}.'.format(tf.__version__))\n",
        "# import keras; print('We\\'re using Keras-{}.'.format(keras.__version__))\n",
        "from tensorflow.keras.layers import (Input, Dense, Dropout, Flatten, BatchNormalization,\n",
        "                                     Conv1D, Conv2D, MaxPooling1D, MaxPooling2D, GlobalMaxPooling1D, GlobalMaxPooling2D,\n",
        "                                     LSTM, GRU, Embedding, Bidirectional, Concatenate)\n",
        "from tensorflow.keras.regularizers import (l1, l2, l1_l2)\n",
        "from tensorflow.keras.optimizers import (RMSprop, Adam, SGD)\n",
        "from tensorflow.keras.models import (Sequential, Model)\n",
        "\n",
        "# NLP:\n",
        "from tensorflow.keras.preprocessing.text import Tokenizer\n",
        "from tensorflow.keras.preprocessing.sequence import pad_sequences\n",
        "\n",
        "# Core:\n",
        "import numpy as np\n",
        "import pandas as pd\n",
        "import matplotlib.pyplot as plt\n",
        "from scipy import interp\n",
        "import matplotlib.patches as patches\n",
        "\n",
        "# Performance:\n",
        "from sklearn.metrics import (confusion_matrix, classification_report, matthews_corrcoef, precision_score, roc_curve, auc)\n",
        "from sklearn.model_selection import (StratifiedKFold, KFold, train_test_split)\n",
        "\n",
        "#Utilities:\n",
        "from tensorflow.keras.callbacks import EarlyStopping, ModelCheckpoint, CSVLogger\n",
        "from tensorflow.keras.utils import to_categorical as labelEncoding   # Usages: Y = labelEncoding(Y, dtype=int)\n",
        "from tensorflow.keras.utils import plot_model                        # Usages: plot_model(model, to_file='model.png', show_shapes=True, show_layer_names=False, expand_nested=True)\n",
        "from sklearn.utils import shuffle\n",
        "\n",
        "#end-import"
      ],
      "execution_count": null,
      "outputs": [
        {
          "output_type": "stream",
          "text": [
            "We're using TF-2.3.0.\n"
          ],
          "name": "stdout"
        }
      ]
    },
    {
      "cell_type": "code",
      "metadata": {
        "id": "RELw6G6oRWzb",
        "colab_type": "code",
        "colab": {}
      },
      "source": [
        "def lossPlot(results):\n",
        "    plt.title(label='Loss: Training and Validation')\n",
        "    plt.plot(results.history['loss'], label='Training Loss')\n",
        "    plt.plot(results.history['val_loss'], label='Validation Loss')\n",
        "    plt.xlabel('Epoch')\n",
        "    plt.ylabel('Loss')\n",
        "    plt.legend()\n",
        "    plt.show()\n",
        "#end-def\n",
        "\n",
        "def accuracyPlot(results):\n",
        "    plt.title(label='Accuracy: Training and Validation')\n",
        "    plt.plot(results.history['accuracy'], label='Training Accuracy')\n",
        "    plt.plot(results.history['val_accuracy'], label='Validation Accuracy')\n",
        "    plt.xlabel('Epoch')\n",
        "    plt.ylabel('Accuracy')\n",
        "    plt.legend()\n",
        "    plt.show()\n",
        "#end-def"
      ],
      "execution_count": null,
      "outputs": []
    },
    {
      "cell_type": "code",
      "metadata": {
        "id": "_-12Xs2bRd5E",
        "colab_type": "code",
        "colab": {
          "base_uri": "https://localhost:8080/",
          "height": 35
        },
        "outputId": "f2364cd6-1382-4243-d327-1b3c59ca6bd1"
      },
      "source": [
        "# T = 125 # terminus_length\n",
        "\n",
        "import pickle\n",
        "with open('acp740.pickle', 'rb') as file:   #Pickling\n",
        "    X = pickle.load(file)\n",
        "\n",
        "Y  = [1 for _ in range(376)]\n",
        "Y += [0 for _ in range(364)]\n",
        "Y  = np.array(Y) \n",
        "# Y = labelEncoding(Y, dtype=int)\n",
        "\n",
        "\n",
        "# print(X.shape)\n",
        "print(Y.shape)"
      ],
      "execution_count": null,
      "outputs": [
        {
          "output_type": "stream",
          "text": [
            "(740,)\n"
          ],
          "name": "stdout"
        }
      ]
    },
    {
      "cell_type": "code",
      "metadata": {
        "id": "A7GMo2XeUhmW",
        "colab_type": "code",
        "colab": {
          "base_uri": "https://localhost:8080/",
          "height": 35
        },
        "outputId": "e9d1d80f-be30-47c7-ddb4-d839b42e2c7f"
      },
      "source": [
        "len(X[0])"
      ],
      "execution_count": null,
      "outputs": [
        {
          "output_type": "execute_result",
          "data": {
            "text/plain": [
              "486"
            ]
          },
          "metadata": {
            "tags": []
          },
          "execution_count": 8
        }
      ]
    },
    {
      "cell_type": "code",
      "metadata": {
        "id": "LH6usZtdRFD_",
        "colab_type": "code",
        "colab": {}
      },
      "source": [
        "# split up the data\n",
        "X, Y = shuffle(X, Y, random_state = 101)\n",
        "Xtrain, Xtest, Ytrain, Ytest = train_test_split(X, Y, train_size=0.75)"
      ],
      "execution_count": null,
      "outputs": []
    },
    {
      "cell_type": "code",
      "metadata": {
        "id": "x8GpixpGRX97",
        "colab_type": "code",
        "colab": {
          "base_uri": "https://localhost:8080/",
          "height": 35
        },
        "outputId": "b329ba10-536c-47e9-e372-1ad6b22b67fe"
      },
      "source": [
        "len(Xtrain)"
      ],
      "execution_count": null,
      "outputs": [
        {
          "output_type": "execute_result",
          "data": {
            "text/plain": [
              "555"
            ]
          },
          "metadata": {
            "tags": []
          },
          "execution_count": 10
        }
      ]
    },
    {
      "cell_type": "code",
      "metadata": {
        "id": "t5OvGCdASGLs",
        "colab_type": "code",
        "colab": {}
      },
      "source": [
        "MAX_VOCAB_SIZE = 65000\n",
        "tokenizer = Tokenizer(num_words=MAX_VOCAB_SIZE)\n",
        "tokenizer.fit_on_texts(Xtrain)\n",
        "\n",
        "sequences_train = tokenizer.texts_to_sequences(Xtrain)\n",
        "sequences_test = tokenizer.texts_to_sequences(Xtest)"
      ],
      "execution_count": null,
      "outputs": []
    },
    {
      "cell_type": "code",
      "metadata": {
        "id": "n3OwQAjaSULq",
        "colab_type": "code",
        "colab": {
          "base_uri": "https://localhost:8080/",
          "height": 35
        },
        "outputId": "e29f7449-1464-4a45-a665-c915b0bbbdca"
      },
      "source": [
        "# get word -> integer mapping\n",
        "word2idx = tokenizer.word_index\n",
        "V = len(word2idx)\n",
        "print('Found %s unique tokens.' % V)"
      ],
      "execution_count": null,
      "outputs": [
        {
          "output_type": "stream",
          "text": [
            "Found 61350 unique tokens.\n"
          ],
          "name": "stdout"
        }
      ]
    },
    {
      "cell_type": "code",
      "metadata": {
        "id": "M-Z-kkNcWO1z",
        "colab_type": "code",
        "colab": {
          "base_uri": "https://localhost:8080/",
          "height": 35
        },
        "outputId": "76a89e27-5ff7-4201-cf89-aa2cc7c59849"
      },
      "source": [
        "# pad sequences so that we get a N x T matrix\n",
        "Xtrain = pad_sequences(sequences_train, padding='post')\n",
        "print('Shape of data train tensor:', Xtrain.shape)\n",
        "\n",
        "# get sequence length\n",
        "T = Xtrain.shape[1]"
      ],
      "execution_count": null,
      "outputs": [
        {
          "output_type": "stream",
          "text": [
            "Shape of data train tensor: (555, 1557)\n"
          ],
          "name": "stdout"
        }
      ]
    },
    {
      "cell_type": "code",
      "metadata": {
        "id": "Ymoqpn7AWdLl",
        "colab_type": "code",
        "colab": {
          "base_uri": "https://localhost:8080/",
          "height": 35
        },
        "outputId": "fa2aa032-894d-4641-8c1c-02d8b492d879"
      },
      "source": [
        "Xtest = pad_sequences(sequences_test, maxlen=T, padding='post')\n",
        "print('Shape of data test tensor:', Xtest.shape)"
      ],
      "execution_count": null,
      "outputs": [
        {
          "output_type": "stream",
          "text": [
            "Shape of data test tensor: (185, 1557)\n"
          ],
          "name": "stdout"
        }
      ]
    },
    {
      "cell_type": "code",
      "metadata": {
        "id": "PRFFdlz9XXJj",
        "colab_type": "code",
        "colab": {
          "base_uri": "https://localhost:8080/",
          "height": 35
        },
        "outputId": "bc96af31-1a67-4b10-d4b4-2b227efb82a9"
      },
      "source": [
        "Xtrain.shape"
      ],
      "execution_count": null,
      "outputs": [
        {
          "output_type": "execute_result",
          "data": {
            "text/plain": [
              "(555, 1557)"
            ]
          },
          "metadata": {
            "tags": []
          },
          "execution_count": 15
        }
      ]
    },
    {
      "cell_type": "code",
      "metadata": {
        "id": "Ifh-u38pWjYp",
        "colab_type": "code",
        "colab": {}
      },
      "source": [
        "# Create the model\n",
        "def Network():\n",
        "    # We get to choose embedding dimensionality\n",
        "    D = 300\n",
        "\n",
        "    # Hidden state dimensionality\n",
        "    M = 150\n",
        "\n",
        "    # Note: we actually want to the size of the embedding to (V + 1) x D,\n",
        "    # because the first index starts from 1 and not 0.\n",
        "    # Thus, if the final index of the embedding matrix is V,\n",
        "    # then it actually must have size V + 1.\n",
        "\n",
        "    i = Input(shape=(T,))\n",
        "    x = Embedding(V + 1, D)(i)\n",
        "\n",
        "    # x = LSTM(M, return_sequences=True)(x)\n",
        "    # x = GlobalMaxPooling1D()(x)\n",
        "\n",
        "    x = Conv1D(filters=32, kernel_size=3, activation='relu')(x)\n",
        "    x = BatchNormalization()(x)    \n",
        "    # x = Dropout(rate=0.80)(x)\n",
        "\n",
        "    x = Dense(1, activation='sigmoid')(x)\n",
        "\n",
        "    return Model(i, x)\n",
        "#end-def"
      ],
      "execution_count": null,
      "outputs": []
    },
    {
      "cell_type": "code",
      "metadata": {
        "id": "PnJsmq-jTT1O",
        "colab_type": "code",
        "colab": {
          "base_uri": "https://localhost:8080/",
          "height": 862
        },
        "outputId": "ff9ba443-f77f-4580-e3bc-406f87f471f0"
      },
      "source": [
        "model = Network()\n",
        "model.summary()\n",
        "plot_model(model, to_file='model-HC.png', show_shapes=True, show_layer_names=False, expand_nested=True)"
      ],
      "execution_count": null,
      "outputs": [
        {
          "output_type": "stream",
          "text": [
            "Model: \"functional_1\"\n",
            "_________________________________________________________________\n",
            "Layer (type)                 Output Shape              Param #   \n",
            "=================================================================\n",
            "input_1 (InputLayer)         [(None, 1557)]            0         \n",
            "_________________________________________________________________\n",
            "embedding (Embedding)        (None, 1557, 300)         18405300  \n",
            "_________________________________________________________________\n",
            "conv1d (Conv1D)              (None, 1555, 32)          28832     \n",
            "_________________________________________________________________\n",
            "batch_normalization (BatchNo (None, 1555, 32)          128       \n",
            "_________________________________________________________________\n",
            "dense (Dense)                (None, 1555, 1)           33        \n",
            "=================================================================\n",
            "Total params: 18,434,293\n",
            "Trainable params: 18,434,229\n",
            "Non-trainable params: 64\n",
            "_________________________________________________________________\n"
          ],
          "name": "stdout"
        },
        {
          "output_type": "execute_result",
          "data": {
            "image/png": "[encoded data removed]",
            "text/plain": [
              "<IPython.core.display.Image object>"
            ]
          },
          "metadata": {
            "tags": []
          },
          "execution_count": 17
        }
      ]
    },
    {
      "cell_type": "code",
      "metadata": {
        "id": "bStMF4mrW4gy",
        "colab_type": "code",
        "colab": {}
      },
      "source": [
        "model.compile(optimizer=Adam(learning_rate=0.005),\n",
        "              loss='binary_crossentropy',\n",
        "              metrics=['accuracy'])"
      ],
      "execution_count": null,
      "outputs": []
    },
    {
      "cell_type": "code",
      "metadata": {
        "id": "BGxuMB3pZaXs",
        "colab_type": "code",
        "colab": {}
      },
      "source": [
        "setEpochNumber     = 5\n",
        "setBatchSizeNumber = 16\n",
        "csvLog = CSVLogger('logRafsanjani.csv', append=True, separator=',') # append=True --> Don't erase!\n",
        "\n",
        "saveModel = tf.keras.callbacks.ModelCheckpoint(filepath='ModelRafsanjani',\n",
        "                                               save_best_only=True,\n",
        "                                               save_\n",
        "                                               monitor='val_loss',\n",
        "                                               mode='min',\n",
        "                                               verbose=1)"
      ],
      "execution_count": null,
      "outputs": []
    },
    {
      "cell_type": "code",
      "metadata": {
        "id": "1seWSk35yn1L",
        "colab_type": "code",
        "colab": {}
      },
      "source": [
        "# help(ModelCheckpoint)\n",
        "# help(CSVLogger)\n",
        "# help(tf.keras.callbacks.ModelCheckpoint)"
      ],
      "execution_count": null,
      "outputs": []
    },
    {
      "cell_type": "code",
      "metadata": {
        "id": "vyULg1riYHFC",
        "colab_type": "code",
        "colab": {
          "base_uri": "https://localhost:8080/",
          "height": 401
        },
        "outputId": "16b0c4a7-4ac7-43e8-f5b5-33d6af194dcf"
      },
      "source": [
        "results = model.fit(x=Xtrain,\n",
        "                    y=Ytrain,\n",
        "                    validation_data=(Xtest, Ytest),\n",
        "                    epochs=setEpochNumber,\n",
        "                    batch_size=setBatchSizeNumber,\n",
        "                    verbose=1,\n",
        "                    callbacks=[csvLog, saveModel])"
      ],
      "execution_count": null,
      "outputs": [
        {
          "output_type": "stream",
          "text": [
            "Epoch 1/5\n",
            "35/35 [==============================] - ETA: 0s - loss: 0.5788 - accuracy: 0.5487\n",
            "Epoch 00001: val_loss improved from inf to 0.67302, saving model to ModelRafsanjani\n",
            "INFO:tensorflow:Assets written to: ModelRafsanjani/assets\n",
            "35/35 [==============================] - 10s 291ms/step - loss: 0.5788 - accuracy: 0.5487 - val_loss: 0.6730 - val_accuracy: 0.5542\n",
            "Epoch 2/5\n",
            "35/35 [==============================] - ETA: 0s - loss: 0.5736 - accuracy: 0.5846\n",
            "Epoch 00002: val_loss did not improve from 0.67302\n",
            "35/35 [==============================] - 8s 231ms/step - loss: 0.5736 - accuracy: 0.5846 - val_loss: 0.6860 - val_accuracy: 0.5545\n",
            "Epoch 3/5\n",
            "35/35 [==============================] - ETA: 0s - loss: 0.5665 - accuracy: 0.5697\n",
            "Epoch 00003: val_loss did not improve from 0.67302\n",
            "35/35 [==============================] - 8s 218ms/step - loss: 0.5665 - accuracy: 0.5697 - val_loss: 0.7115 - val_accuracy: 0.5546\n",
            "Epoch 4/5\n",
            "35/35 [==============================] - ETA: 0s - loss: 0.5796 - accuracy: 0.5775\n",
            "Epoch 00004: val_loss did not improve from 0.67302\n",
            "35/35 [==============================] - 8s 217ms/step - loss: 0.5796 - accuracy: 0.5775 - val_loss: 0.7078 - val_accuracy: 0.5528\n",
            "Epoch 5/5\n",
            "35/35 [==============================] - ETA: 0s - loss: 0.5641 - accuracy: 0.5575\n",
            "Epoch 00005: val_loss did not improve from 0.67302\n",
            "35/35 [==============================] - 8s 216ms/step - loss: 0.5641 - accuracy: 0.5575 - val_loss: 0.6999 - val_accuracy: 0.5539\n"
          ],
          "name": "stdout"
        }
      ]
    },
    {
      "cell_type": "code",
      "metadata": {
        "id": "H-cGb99J1Efj",
        "colab_type": "code",
        "colab": {
          "base_uri": "https://localhost:8080/",
          "height": 35
        },
        "outputId": "be67dce8-4b6d-44be-e666-f7f130d6fbd7"
      },
      "source": [
        "M = tf.keras.models.load_model('ModelRafsanjani')\n",
        "M"
      ],
      "execution_count": null,
      "outputs": [
        {
          "output_type": "execute_result",
          "data": {
            "text/plain": [
              "<tensorflow.python.keras.engine.functional.Functional at 0x7f1f9ffa8630>"
            ]
          },
          "metadata": {
            "tags": []
          },
          "execution_count": 38
        }
      ]
    },
    {
      "cell_type": "code",
      "metadata": {
        "id": "xWFvuiF71siB",
        "colab_type": "code",
        "colab": {
          "base_uri": "https://localhost:8080/",
          "height": 383
        },
        "outputId": "d56bd165-c2b6-4a6a-9715-9b42800ce141"
      },
      "source": [
        "results = M.fit(x=Xtrain,\n",
        "                y=Ytrain,\n",
        "                validation_data=(Xtest, Ytest),\n",
        "                epochs=setEpochNumber,\n",
        "                batch_size=setBatchSizeNumber,\n",
        "                verbose=1,\n",
        "                callbacks=[csvLog, saveModel], # Again epoch will continue after 5-epochs, and save the model after 5-epochs.\n",
        "                )"
      ],
      "execution_count": null,
      "outputs": [
        {
          "output_type": "stream",
          "text": [
            "Epoch 1/5\n",
            "35/35 [==============================] - ETA: 0s - loss: 0.5806 - accuracy: 0.5567\n",
            "Epoch 00001: val_loss did not improve from 0.67302\n",
            "35/35 [==============================] - 8s 221ms/step - loss: 0.5806 - accuracy: 0.5567 - val_loss: 0.6758 - val_accuracy: 0.5539\n",
            "Epoch 2/5\n",
            "35/35 [==============================] - ETA: 0s - loss: 0.5736 - accuracy: 0.5685\n",
            "Epoch 00002: val_loss did not improve from 0.67302\n",
            "35/35 [==============================] - 8s 220ms/step - loss: 0.5736 - accuracy: 0.5685 - val_loss: 0.6810 - val_accuracy: 0.5542\n",
            "Epoch 3/5\n",
            "35/35 [==============================] - ETA: 0s - loss: 0.5689 - accuracy: 0.5940\n",
            "Epoch 00003: val_loss did not improve from 0.67302\n",
            "35/35 [==============================] - 8s 219ms/step - loss: 0.5689 - accuracy: 0.5940 - val_loss: 0.6979 - val_accuracy: 0.5532\n",
            "Epoch 4/5\n",
            "35/35 [==============================] - ETA: 0s - loss: 0.5711 - accuracy: 0.5700\n",
            "Epoch 00004: val_loss did not improve from 0.67302\n",
            "35/35 [==============================] - 8s 221ms/step - loss: 0.5711 - accuracy: 0.5700 - val_loss: 0.7282 - val_accuracy: 0.5539\n",
            "Epoch 5/5\n",
            "35/35 [==============================] - ETA: 0s - loss: 0.5672 - accuracy: 0.5902\n",
            "Epoch 00005: val_loss did not improve from 0.67302\n",
            "35/35 [==============================] - 8s 222ms/step - loss: 0.5672 - accuracy: 0.5902 - val_loss: 0.7219 - val_accuracy: 0.5510\n"
          ],
          "name": "stdout"
        }
      ]
    },
    {
      "cell_type": "code",
      "metadata": {
        "id": "NOFenr67TaFl",
        "colab_type": "code",
        "colab": {
          "base_uri": "https://localhost:8080/",
          "height": 1000
        },
        "outputId": "f75013c9-1326-4140-efab-1ce28982e269"
      },
      "source": [
        "# setEpochNumber     = 400     # Performed-welled in epoch 600.\n",
        "# setBatchSizeNumber = 12\n",
        "\n",
        "\n",
        "# ####################################################\n",
        "\n",
        "# cv = KFold(n_splits=5, shuffle=True, random_state=101)\n",
        "\n",
        "# Accuracy = []\n",
        "# Sensitivity = []\n",
        "# Specificity = []\n",
        "# Precision = []\n",
        "# MCC = []\n",
        "\n",
        "# # ROC Curve:\n",
        "# # fig1 = plt.figure(figsize=[12,12])\n",
        "\n",
        "# TPR = []\n",
        "# meanFPR = np.linspace(0, 1, 100)\n",
        "\n",
        "# i = 1\n",
        "# for train, test in cv.split(Y):\n",
        "\n",
        "#     # Compile Model:\n",
        "#     model = Network()\n",
        "#     model.compile(optimizer=Adam(learning_rate=0.005),\n",
        "#                   loss='categorical_crossentropy',\n",
        "#                   metrics=['accuracy'])\n",
        "\n",
        "#     # Run Model:\n",
        "#     results = model.fit(x=[X1[train,:,:], X2[train,:,:], X3[train,:,:]],\n",
        "#                         y=Y[train,:],\n",
        "#                         validation_data=([X1[test,:,:], X2[test,:,:], X3[test,:,:],], Y[test,:]),\n",
        "#                         batch_size=setBatchSizeNumber, epochs=setEpochNumber,\n",
        "#                         verbose=1,\n",
        "#                         callbacks=[csvLogger])\n",
        "    \n",
        "#     accuracy = model.evaluate(x=[X1[test,:,:], X2[test,:,:], X3[test,:,:]], y=Y[test,:], batch_size=setBatchSizeNumber)\n",
        "#     Accuracy.append(accuracy[1])\n",
        "\n",
        "#     # Performance Metices:\n",
        "#     Yactual = Y[test,:].argmax(axis=1)\n",
        "#     Yp = model.predict([X1[test,:,:], X2[test,:,:], X3[test,:,:]])\n",
        "#     v = Yp\n",
        "#     Yp = Yp.argmax(axis=1)\n",
        "\n",
        "#     CM = confusion_matrix(y_pred=Yp, y_true=Yactual)\n",
        "#     TN, FP, FN, TP = CM.ravel()\n",
        "\n",
        "#     MCC.append(matthews_corrcoef(y_true=Yactual, y_pred=Yp))\n",
        "#     Sensitivity.append( TP / (TP + FN) )\n",
        "#     Specificity.append( TN / (TN + FP) )\n",
        "#     Precision.append(precision_score(y_true=Yactual, y_pred=Yp))\n",
        "    \n",
        "#     # # ROC Curve\n",
        "#     # fpr, tpr, _ = roc_curve(Yactual, v[:,1])\n",
        "#     # TPR.append(interp(meanFPR, fpr, tpr))\n",
        "#     # rocauc = auc(fpr, tpr)\n",
        "#     # plt.plot(fpr, tpr, lw=2, alpha=0.3, label='ROC fold %d (AUC = %0.2f)' % (i, rocauc))\n",
        "#     # i= i+1\n",
        "    \n",
        "#     # Performance Plot\n",
        "#     print('#################################################')\n",
        "#     print('Fold\\'s Accuracy: {:.2f}'.format(accuracy[1]*100.0))\n",
        "#     lossPlot(results)\n",
        "#     accuracyPlot(results)\n",
        "#     print('#################################################')\n",
        "# #end-for\n",
        "\n",
        "# # rocPlot(TPR, meanFPR)\n",
        "# # print('Accuracy [Each Fold]: {}'.format(Accuracy))\n",
        "# # print('Accuracy: {:.2f}'.format(np.sum(Accuracy)/5.0))\n",
        "# # print('Sensitivity: {0:.4f}'.format(np.sum(Sensitivity)/5.00))\n",
        "# # print('Specificity: {0:.4f}'.format(np.sum(Specificity)/5.00))\n",
        "# # print('MCC: {0:.4f}'.format(np.sum(MCC)/5.00))\n",
        "# # print('Precision: {0:.4f}'.format(np.sum(Precision)/5.00))"
      ],
      "execution_count": null,
      "outputs": [
        {
          "output_type": "stream",
          "text": [
            "Epoch 1/400\n",
            "72/72 [==============================] - 1s 15ms/step - loss: 3.1755 - accuracy: 0.4942 - val_loss: 3.1108 - val_accuracy: 0.5253\n",
            "Epoch 2/400\n",
            "72/72 [==============================] - 1s 11ms/step - loss: 3.0372 - accuracy: 0.5278 - val_loss: 2.7820 - val_accuracy: 0.5253\n",
            "Epoch 3/400\n",
            "72/72 [==============================] - 1s 11ms/step - loss: 2.6002 - accuracy: 0.5324 - val_loss: 2.3474 - val_accuracy: 0.5253\n",
            "Epoch 4/400\n",
            "72/72 [==============================] - 1s 10ms/step - loss: 2.1285 - accuracy: 0.5440 - val_loss: 1.9227 - val_accuracy: 0.5253\n",
            "Epoch 5/400\n",
            "72/72 [==============================] - 1s 11ms/step - loss: 1.7543 - accuracy: 0.5336 - val_loss: 1.5771 - val_accuracy: 0.5253\n",
            "Epoch 6/400\n",
            "72/72 [==============================] - 1s 10ms/step - loss: 1.4546 - accuracy: 0.5370 - val_loss: 1.3648 - val_accuracy: 0.5253\n",
            "Epoch 7/400\n",
            "72/72 [==============================] - 1s 11ms/step - loss: 1.3090 - accuracy: 0.5509 - val_loss: 1.2968 - val_accuracy: 0.5253\n",
            "Epoch 8/400\n",
            "72/72 [==============================] - 1s 11ms/step - loss: 1.2577 - accuracy: 0.5394 - val_loss: 1.1923 - val_accuracy: 0.5253\n",
            "Epoch 9/400\n",
            "72/72 [==============================] - 1s 10ms/step - loss: 1.2171 - accuracy: 0.5509 - val_loss: 1.2616 - val_accuracy: 0.5253\n",
            "Epoch 10/400\n",
            "72/72 [==============================] - 1s 10ms/step - loss: 1.2191 - accuracy: 0.5370 - val_loss: 1.1910 - val_accuracy: 0.5253\n",
            "Epoch 11/400\n",
            "72/72 [==============================] - 1s 11ms/step - loss: 1.2586 - accuracy: 0.5590 - val_loss: 1.3344 - val_accuracy: 0.5253\n",
            "Epoch 12/400\n",
            "72/72 [==============================] - 1s 11ms/step - loss: 1.3286 - accuracy: 0.5370 - val_loss: 1.2940 - val_accuracy: 0.5253\n",
            "Epoch 13/400\n",
            "72/72 [==============================] - 1s 10ms/step - loss: 1.3307 - accuracy: 0.5567 - val_loss: 1.2967 - val_accuracy: 0.5253\n",
            "Epoch 14/400\n",
            "72/72 [==============================] - 1s 10ms/step - loss: 1.1962 - accuracy: 0.5532 - val_loss: 1.1182 - val_accuracy: 0.5253\n",
            "Epoch 15/400\n",
            "72/72 [==============================] - 1s 11ms/step - loss: 1.1654 - accuracy: 0.5440 - val_loss: 1.2103 - val_accuracy: 0.5253\n",
            "Epoch 16/400\n",
            "72/72 [==============================] - 1s 11ms/step - loss: 1.1070 - accuracy: 0.5428 - val_loss: 1.0639 - val_accuracy: 0.5253\n",
            "Epoch 17/400\n",
            "72/72 [==============================] - 1s 11ms/step - loss: 1.0094 - accuracy: 0.5498 - val_loss: 0.9539 - val_accuracy: 0.5253\n",
            "Epoch 18/400\n",
            "72/72 [==============================] - 1s 11ms/step - loss: 0.9645 - accuracy: 0.5440 - val_loss: 0.9612 - val_accuracy: 0.5253\n",
            "Epoch 19/400\n",
            "72/72 [==============================] - 1s 11ms/step - loss: 1.1925 - accuracy: 0.5463 - val_loss: 1.2093 - val_accuracy: 0.5253\n",
            "Epoch 20/400\n",
            "72/72 [==============================] - 1s 10ms/step - loss: 1.1320 - accuracy: 0.5486 - val_loss: 1.0809 - val_accuracy: 0.5253\n",
            "Epoch 21/400\n",
            "72/72 [==============================] - 1s 11ms/step - loss: 0.9967 - accuracy: 0.5347 - val_loss: 0.9436 - val_accuracy: 0.5253\n",
            "Epoch 22/400\n",
            "72/72 [==============================] - 1s 11ms/step - loss: 0.9131 - accuracy: 0.5509 - val_loss: 0.9428 - val_accuracy: 0.5253\n",
            "Epoch 23/400\n",
            "72/72 [==============================] - 1s 11ms/step - loss: 0.9384 - accuracy: 0.5428 - val_loss: 0.9146 - val_accuracy: 0.5253\n",
            "Epoch 24/400\n",
            "72/72 [==============================] - 1s 11ms/step - loss: 0.9235 - accuracy: 0.5451 - val_loss: 0.9408 - val_accuracy: 0.5253\n",
            "Epoch 25/400\n",
            "72/72 [==============================] - 1s 11ms/step - loss: 0.9523 - accuracy: 0.5382 - val_loss: 0.9359 - val_accuracy: 0.5253\n",
            "Epoch 26/400\n",
            "72/72 [==============================] - 1s 11ms/step - loss: 1.0126 - accuracy: 0.5486 - val_loss: 1.0955 - val_accuracy: 0.5253\n",
            "Epoch 27/400\n",
            "72/72 [==============================] - 1s 11ms/step - loss: 1.0853 - accuracy: 0.5498 - val_loss: 1.0768 - val_accuracy: 0.5253\n",
            "Epoch 28/400\n",
            "72/72 [==============================] - 1s 11ms/step - loss: 1.1075 - accuracy: 0.5370 - val_loss: 1.1112 - val_accuracy: 0.5253\n",
            "Epoch 29/400\n",
            "72/72 [==============================] - 1s 11ms/step - loss: 1.0408 - accuracy: 0.5428 - val_loss: 1.1114 - val_accuracy: 0.5253\n",
            "Epoch 30/400\n",
            "72/72 [==============================] - 1s 10ms/step - loss: 1.0542 - accuracy: 0.5532 - val_loss: 1.1575 - val_accuracy: 0.5253\n",
            "Epoch 31/400\n",
            "72/72 [==============================] - 1s 11ms/step - loss: 1.1912 - accuracy: 0.5451 - val_loss: 1.1035 - val_accuracy: 0.5253\n",
            "Epoch 32/400\n",
            "72/72 [==============================] - 1s 11ms/step - loss: 1.0486 - accuracy: 0.5475 - val_loss: 0.9598 - val_accuracy: 0.5253\n",
            "Epoch 33/400\n",
            "72/72 [==============================] - 1s 11ms/step - loss: 0.9542 - accuracy: 0.5428 - val_loss: 0.9800 - val_accuracy: 0.5253\n",
            "Epoch 34/400\n",
            "72/72 [==============================] - 1s 11ms/step - loss: 0.9038 - accuracy: 0.5509 - val_loss: 0.8350 - val_accuracy: 0.5253\n",
            "Epoch 35/400\n",
            "72/72 [==============================] - 1s 11ms/step - loss: 0.8580 - accuracy: 0.5567 - val_loss: 0.8877 - val_accuracy: 0.5253\n",
            "Epoch 36/400\n",
            "72/72 [==============================] - 1s 11ms/step - loss: 0.8895 - accuracy: 0.5475 - val_loss: 0.8766 - val_accuracy: 0.5253\n",
            "Epoch 37/400\n",
            "72/72 [==============================] - 1s 11ms/step - loss: 0.8282 - accuracy: 0.5498 - val_loss: 0.8162 - val_accuracy: 0.5253\n",
            "Epoch 38/400\n",
            "72/72 [==============================] - 1s 11ms/step - loss: 0.7860 - accuracy: 0.5532 - val_loss: 0.7838 - val_accuracy: 0.5253\n",
            "Epoch 39/400\n",
            "72/72 [==============================] - 1s 11ms/step - loss: 0.8206 - accuracy: 0.5544 - val_loss: 0.8746 - val_accuracy: 0.5253\n",
            "Epoch 40/400\n",
            "72/72 [==============================] - 1s 11ms/step - loss: 0.9363 - accuracy: 0.5556 - val_loss: 0.9277 - val_accuracy: 0.5253\n",
            "Epoch 41/400\n",
            "72/72 [==============================] - 1s 11ms/step - loss: 0.9148 - accuracy: 0.5509 - val_loss: 0.8784 - val_accuracy: 0.5253\n",
            "Epoch 42/400\n",
            "72/72 [==============================] - 1s 11ms/step - loss: 0.9178 - accuracy: 0.5486 - val_loss: 0.8993 - val_accuracy: 0.5253\n",
            "Epoch 43/400\n",
            "72/72 [==============================] - 1s 11ms/step - loss: 0.9291 - accuracy: 0.5509 - val_loss: 0.9361 - val_accuracy: 0.5253\n",
            "Epoch 44/400\n",
            "72/72 [==============================] - 1s 10ms/step - loss: 0.8889 - accuracy: 0.5521 - val_loss: 0.8478 - val_accuracy: 0.5253\n",
            "Epoch 45/400\n",
            "72/72 [==============================] - 1s 11ms/step - loss: 0.8087 - accuracy: 0.5521 - val_loss: 0.8419 - val_accuracy: 0.5253\n",
            "Epoch 46/400\n",
            "72/72 [==============================] - 1s 11ms/step - loss: 0.8328 - accuracy: 0.5475 - val_loss: 0.8811 - val_accuracy: 0.5253\n",
            "Epoch 47/400\n",
            "72/72 [==============================] - 1s 11ms/step - loss: 0.8400 - accuracy: 0.5498 - val_loss: 0.8260 - val_accuracy: 0.5253\n",
            "Epoch 48/400\n",
            "72/72 [==============================] - 1s 11ms/step - loss: 0.8305 - accuracy: 0.5532 - val_loss: 0.8399 - val_accuracy: 0.5253\n",
            "Epoch 49/400\n",
            "72/72 [==============================] - 1s 11ms/step - loss: 0.8924 - accuracy: 0.5475 - val_loss: 0.9884 - val_accuracy: 0.5253\n",
            "Epoch 50/400\n",
            "72/72 [==============================] - 1s 11ms/step - loss: 0.9831 - accuracy: 0.5625 - val_loss: 1.0011 - val_accuracy: 0.5253\n",
            "Epoch 51/400\n",
            "72/72 [==============================] - 1s 11ms/step - loss: 1.0913 - accuracy: 0.5475 - val_loss: 0.9787 - val_accuracy: 0.5253\n",
            "Epoch 52/400\n",
            "72/72 [==============================] - 1s 11ms/step - loss: 0.8283 - accuracy: 0.5521 - val_loss: 0.7570 - val_accuracy: 0.5253\n",
            "Epoch 53/400\n",
            "72/72 [==============================] - 1s 11ms/step - loss: 0.7770 - accuracy: 0.5521 - val_loss: 0.8041 - val_accuracy: 0.5253\n",
            "Epoch 54/400\n",
            "72/72 [==============================] - 1s 11ms/step - loss: 0.8277 - accuracy: 0.5521 - val_loss: 0.8154 - val_accuracy: 0.5253\n",
            "Epoch 55/400\n",
            "72/72 [==============================] - 1s 11ms/step - loss: 0.8187 - accuracy: 0.5509 - val_loss: 0.7996 - val_accuracy: 0.5253\n",
            "Epoch 56/400\n",
            "72/72 [==============================] - 1s 11ms/step - loss: 0.7714 - accuracy: 0.5521 - val_loss: 0.7492 - val_accuracy: 0.5253\n",
            "Epoch 57/400\n",
            "72/72 [==============================] - 1s 11ms/step - loss: 0.7582 - accuracy: 0.5498 - val_loss: 0.7724 - val_accuracy: 0.5253\n",
            "Epoch 58/400\n",
            "72/72 [==============================] - 1s 10ms/step - loss: 0.7864 - accuracy: 0.5544 - val_loss: 0.8581 - val_accuracy: 0.5253\n",
            "Epoch 59/400\n",
            "72/72 [==============================] - 1s 11ms/step - loss: 0.8461 - accuracy: 0.5498 - val_loss: 1.0206 - val_accuracy: 0.5253\n",
            "Epoch 60/400\n",
            "72/72 [==============================] - 1s 11ms/step - loss: 0.8875 - accuracy: 0.5498 - val_loss: 0.7867 - val_accuracy: 0.5253\n",
            "Epoch 61/400\n",
            "72/72 [==============================] - 1s 10ms/step - loss: 0.7532 - accuracy: 0.5521 - val_loss: 0.7674 - val_accuracy: 0.5253\n",
            "Epoch 62/400\n",
            "72/72 [==============================] - 1s 11ms/step - loss: 0.7918 - accuracy: 0.5521 - val_loss: 0.7551 - val_accuracy: 0.5253\n",
            "Epoch 63/400\n",
            "72/72 [==============================] - 1s 10ms/step - loss: 0.7246 - accuracy: 0.5521 - val_loss: 0.7508 - val_accuracy: 0.5253\n",
            "Epoch 64/400\n",
            "72/72 [==============================] - 1s 11ms/step - loss: 0.7400 - accuracy: 0.5521 - val_loss: 0.7454 - val_accuracy: 0.5253\n",
            "Epoch 65/400\n",
            "72/72 [==============================] - 1s 11ms/step - loss: 0.7898 - accuracy: 0.5521 - val_loss: 0.7674 - val_accuracy: 0.5253\n",
            "Epoch 66/400\n",
            "72/72 [==============================] - 1s 11ms/step - loss: 0.7336 - accuracy: 0.5521 - val_loss: 0.7160 - val_accuracy: 0.5253\n",
            "Epoch 67/400\n",
            "72/72 [==============================] - 1s 11ms/step - loss: 0.6999 - accuracy: 0.5521 - val_loss: 0.6969 - val_accuracy: 0.5253\n",
            "Epoch 68/400\n",
            "72/72 [==============================] - 1s 11ms/step - loss: 0.6954 - accuracy: 0.5521 - val_loss: 0.7114 - val_accuracy: 0.5253\n",
            "Epoch 69/400\n",
            "72/72 [==============================] - 1s 11ms/step - loss: 0.7167 - accuracy: 0.5521 - val_loss: 0.7490 - val_accuracy: 0.5253\n",
            "Epoch 70/400\n",
            "72/72 [==============================] - 1s 11ms/step - loss: 0.7853 - accuracy: 0.5475 - val_loss: 0.8067 - val_accuracy: 0.5253\n",
            "Epoch 71/400\n",
            "72/72 [==============================] - 1s 11ms/step - loss: 0.7665 - accuracy: 0.5521 - val_loss: 0.7325 - val_accuracy: 0.5253\n",
            "Epoch 72/400\n",
            "72/72 [==============================] - 1s 11ms/step - loss: 0.7151 - accuracy: 0.5521 - val_loss: 0.7240 - val_accuracy: 0.5253\n",
            "Epoch 73/400\n",
            "72/72 [==============================] - 1s 11ms/step - loss: 0.7105 - accuracy: 0.5521 - val_loss: 0.7044 - val_accuracy: 0.5253\n",
            "Epoch 74/400\n",
            "72/72 [==============================] - 1s 11ms/step - loss: 0.7080 - accuracy: 0.5521 - val_loss: 0.7488 - val_accuracy: 0.5253\n",
            "Epoch 75/400\n",
            "72/72 [==============================] - 1s 11ms/step - loss: 0.7526 - accuracy: 0.5521 - val_loss: 0.7023 - val_accuracy: 0.5253\n",
            "Epoch 76/400\n",
            "72/72 [==============================] - 1s 11ms/step - loss: 0.6997 - accuracy: 0.5521 - val_loss: 0.7102 - val_accuracy: 0.5253\n",
            "Epoch 77/400\n",
            "72/72 [==============================] - 1s 11ms/step - loss: 0.7064 - accuracy: 0.5521 - val_loss: 0.7201 - val_accuracy: 0.5253\n",
            "Epoch 78/400\n",
            "72/72 [==============================] - 1s 10ms/step - loss: 0.7186 - accuracy: 0.5521 - val_loss: 0.7217 - val_accuracy: 0.5253\n",
            "Epoch 79/400\n",
            "72/72 [==============================] - 1s 11ms/step - loss: 0.7179 - accuracy: 0.5521 - val_loss: 0.7203 - val_accuracy: 0.5253\n",
            "Epoch 80/400\n",
            "72/72 [==============================] - 1s 10ms/step - loss: 0.7112 - accuracy: 0.5521 - val_loss: 0.7410 - val_accuracy: 0.5253\n",
            "Epoch 81/400\n",
            "72/72 [==============================] - 1s 11ms/step - loss: 0.7322 - accuracy: 0.5521 - val_loss: 0.7222 - val_accuracy: 0.5253\n",
            "Epoch 82/400\n",
            "72/72 [==============================] - 1s 11ms/step - loss: 0.7106 - accuracy: 0.5521 - val_loss: 0.6982 - val_accuracy: 0.5253\n",
            "Epoch 83/400\n",
            "72/72 [==============================] - 1s 11ms/step - loss: 0.6976 - accuracy: 0.5521 - val_loss: 0.7061 - val_accuracy: 0.5253\n",
            "Epoch 84/400\n",
            "72/72 [==============================] - 1s 11ms/step - loss: 0.6969 - accuracy: 0.5521 - val_loss: 0.6997 - val_accuracy: 0.5253\n",
            "Epoch 85/400\n",
            "72/72 [==============================] - 1s 10ms/step - loss: 0.7090 - accuracy: 0.5521 - val_loss: 0.7087 - val_accuracy: 0.5253\n",
            "Epoch 86/400\n",
            "72/72 [==============================] - 1s 11ms/step - loss: 0.7160 - accuracy: 0.5521 - val_loss: 0.7296 - val_accuracy: 0.5253\n",
            "Epoch 87/400\n",
            "72/72 [==============================] - 1s 11ms/step - loss: 0.7201 - accuracy: 0.5521 - val_loss: 0.7288 - val_accuracy: 0.5253\n",
            "Epoch 88/400\n",
            "72/72 [==============================] - 1s 11ms/step - loss: 0.7155 - accuracy: 0.5521 - val_loss: 0.7114 - val_accuracy: 0.5253\n",
            "Epoch 89/400\n",
            "72/72 [==============================] - 1s 11ms/step - loss: 0.7125 - accuracy: 0.5521 - val_loss: 0.6987 - val_accuracy: 0.5253\n",
            "Epoch 90/400\n",
            "72/72 [==============================] - 1s 11ms/step - loss: 0.6959 - accuracy: 0.5521 - val_loss: 0.6966 - val_accuracy: 0.5253\n",
            "Epoch 91/400\n",
            "72/72 [==============================] - 1s 10ms/step - loss: 0.6969 - accuracy: 0.5521 - val_loss: 0.7031 - val_accuracy: 0.5253\n",
            "Epoch 92/400\n",
            "72/72 [==============================] - 1s 11ms/step - loss: 0.7439 - accuracy: 0.5521 - val_loss: 0.7748 - val_accuracy: 0.5253\n",
            "Epoch 93/400\n",
            "72/72 [==============================] - 1s 11ms/step - loss: 0.7112 - accuracy: 0.5521 - val_loss: 0.7048 - val_accuracy: 0.5253\n",
            "Epoch 94/400\n",
            "72/72 [==============================] - 1s 11ms/step - loss: 0.7121 - accuracy: 0.5521 - val_loss: 0.7312 - val_accuracy: 0.5253\n",
            "Epoch 95/400\n",
            "72/72 [==============================] - 1s 10ms/step - loss: 0.7135 - accuracy: 0.5521 - val_loss: 0.7268 - val_accuracy: 0.5253\n",
            "Epoch 96/400\n",
            "72/72 [==============================] - 1s 11ms/step - loss: 0.7117 - accuracy: 0.5521 - val_loss: 0.7164 - val_accuracy: 0.5253\n",
            "Epoch 97/400\n",
            "72/72 [==============================] - 1s 11ms/step - loss: 0.6999 - accuracy: 0.5521 - val_loss: 0.6953 - val_accuracy: 0.5253\n",
            "Epoch 98/400\n",
            "72/72 [==============================] - 1s 11ms/step - loss: 0.6893 - accuracy: 0.5521 - val_loss: 0.6939 - val_accuracy: 0.5253\n",
            "Epoch 99/400\n",
            "72/72 [==============================] - 1s 11ms/step - loss: 0.6882 - accuracy: 0.5521 - val_loss: 0.6940 - val_accuracy: 0.5253\n",
            "Epoch 100/400\n",
            "72/72 [==============================] - 1s 10ms/step - loss: 0.6884 - accuracy: 0.5521 - val_loss: 0.6937 - val_accuracy: 0.5253\n",
            "Epoch 101/400\n",
            "72/72 [==============================] - 1s 11ms/step - loss: 0.6883 - accuracy: 0.5521 - val_loss: 0.6929 - val_accuracy: 0.5253\n",
            "Epoch 102/400\n",
            "72/72 [==============================] - 1s 11ms/step - loss: 0.6888 - accuracy: 0.5521 - val_loss: 0.6939 - val_accuracy: 0.5253\n",
            "Epoch 103/400\n",
            "72/72 [==============================] - 1s 11ms/step - loss: 0.6885 - accuracy: 0.5521 - val_loss: 0.6933 - val_accuracy: 0.5253\n",
            "Epoch 104/400\n",
            "72/72 [==============================] - 1s 10ms/step - loss: 0.6884 - accuracy: 0.5521 - val_loss: 0.6931 - val_accuracy: 0.5253\n",
            "Epoch 105/400\n",
            "72/72 [==============================] - 1s 11ms/step - loss: 0.6881 - accuracy: 0.5521 - val_loss: 0.6933 - val_accuracy: 0.5253\n",
            "Epoch 106/400\n",
            "72/72 [==============================] - 1s 11ms/step - loss: 0.6883 - accuracy: 0.5521 - val_loss: 0.6933 - val_accuracy: 0.5253\n",
            "Epoch 107/400\n",
            "72/72 [==============================] - 1s 11ms/step - loss: 0.6882 - accuracy: 0.5521 - val_loss: 0.6930 - val_accuracy: 0.5253\n",
            "Epoch 108/400\n",
            "72/72 [==============================] - 1s 11ms/step - loss: 0.6880 - accuracy: 0.5521 - val_loss: 0.6936 - val_accuracy: 0.5253\n",
            "Epoch 109/400\n",
            "72/72 [==============================] - 1s 11ms/step - loss: 0.6884 - accuracy: 0.5521 - val_loss: 0.6930 - val_accuracy: 0.5253\n",
            "Epoch 110/400\n",
            "72/72 [==============================] - 1s 11ms/step - loss: 0.6884 - accuracy: 0.5521 - val_loss: 0.6940 - val_accuracy: 0.5253\n",
            "Epoch 111/400\n",
            "72/72 [==============================] - 1s 10ms/step - loss: 0.6879 - accuracy: 0.5521 - val_loss: 0.6930 - val_accuracy: 0.5253\n",
            "Epoch 112/400\n",
            "72/72 [==============================] - 1s 11ms/step - loss: 0.6880 - accuracy: 0.5521 - val_loss: 0.6934 - val_accuracy: 0.5253\n",
            "Epoch 113/400\n",
            "72/72 [==============================] - 1s 10ms/step - loss: 0.6883 - accuracy: 0.5521 - val_loss: 0.6931 - val_accuracy: 0.5253\n",
            "Epoch 114/400\n",
            "72/72 [==============================] - 1s 11ms/step - loss: 0.6885 - accuracy: 0.5521 - val_loss: 0.6940 - val_accuracy: 0.5253\n",
            "Epoch 115/400\n",
            "72/72 [==============================] - 1s 11ms/step - loss: 0.6883 - accuracy: 0.5521 - val_loss: 0.6932 - val_accuracy: 0.5253\n",
            "Epoch 116/400\n",
            "72/72 [==============================] - 1s 11ms/step - loss: 0.6889 - accuracy: 0.5521 - val_loss: 0.6934 - val_accuracy: 0.5253\n",
            "Epoch 117/400\n",
            "72/72 [==============================] - 1s 10ms/step - loss: 0.6883 - accuracy: 0.5521 - val_loss: 0.6934 - val_accuracy: 0.5253\n",
            "Epoch 118/400\n",
            "72/72 [==============================] - 1s 11ms/step - loss: 0.6880 - accuracy: 0.5521 - val_loss: 0.6929 - val_accuracy: 0.5253\n",
            "Epoch 119/400\n",
            "72/72 [==============================] - 1s 11ms/step - loss: 0.6883 - accuracy: 0.5521 - val_loss: 0.6930 - val_accuracy: 0.5253\n",
            "Epoch 120/400\n",
            "72/72 [==============================] - 1s 11ms/step - loss: 0.6883 - accuracy: 0.5521 - val_loss: 0.6921 - val_accuracy: 0.5253\n",
            "Epoch 121/400\n",
            "72/72 [==============================] - 1s 11ms/step - loss: 0.6893 - accuracy: 0.5521 - val_loss: 0.6938 - val_accuracy: 0.5253\n",
            "Epoch 122/400\n",
            "42/72 [================>.............] - ETA: 0s - loss: 0.6888 - accuracy: 0.5496"
          ],
          "name": "stdout"
        },
        {
          "output_type": "error",
          "ename": "KeyboardInterrupt",
          "evalue": "ignored",
          "traceback": [
            "\u001b[0;31m---------------------------------------------------------------------------\u001b[0m",
            "\u001b[0;31mKeyboardInterrupt\u001b[0m                         Traceback (most recent call last)",
            "\u001b[0;32m<ipython-input-24-b92971e3174e>\u001b[0m in \u001b[0;36m<module>\u001b[0;34m()\u001b[0m\n\u001b[1;32m     34\u001b[0m                         \u001b[0mbatch_size\u001b[0m\u001b[0;34m=\u001b[0m\u001b[0msetBatchSizeNumber\u001b[0m\u001b[0;34m,\u001b[0m \u001b[0mepochs\u001b[0m\u001b[0;34m=\u001b[0m\u001b[0msetEpochNumber\u001b[0m\u001b[0;34m,\u001b[0m\u001b[0;34m\u001b[0m\u001b[0;34m\u001b[0m\u001b[0m\n\u001b[1;32m     35\u001b[0m                         \u001b[0mverbose\u001b[0m\u001b[0;34m=\u001b[0m\u001b[0;36m1\u001b[0m\u001b[0;34m,\u001b[0m\u001b[0;34m\u001b[0m\u001b[0;34m\u001b[0m\u001b[0m\n\u001b[0;32m---> 36\u001b[0;31m                         callbacks=[csvLogger])\n\u001b[0m\u001b[1;32m     37\u001b[0m \u001b[0;34m\u001b[0m\u001b[0m\n\u001b[1;32m     38\u001b[0m     \u001b[0maccuracy\u001b[0m \u001b[0;34m=\u001b[0m \u001b[0mmodel\u001b[0m\u001b[0;34m.\u001b[0m\u001b[0mevaluate\u001b[0m\u001b[0;34m(\u001b[0m\u001b[0mx\u001b[0m\u001b[0;34m=\u001b[0m\u001b[0;34m[\u001b[0m\u001b[0mX1\u001b[0m\u001b[0;34m[\u001b[0m\u001b[0mtest\u001b[0m\u001b[0;34m,\u001b[0m\u001b[0;34m:\u001b[0m\u001b[0;34m,\u001b[0m\u001b[0;34m:\u001b[0m\u001b[0;34m]\u001b[0m\u001b[0;34m,\u001b[0m \u001b[0mX2\u001b[0m\u001b[0;34m[\u001b[0m\u001b[0mtest\u001b[0m\u001b[0;34m,\u001b[0m\u001b[0;34m:\u001b[0m\u001b[0;34m,\u001b[0m\u001b[0;34m:\u001b[0m\u001b[0;34m]\u001b[0m\u001b[0;34m,\u001b[0m \u001b[0mX3\u001b[0m\u001b[0;34m[\u001b[0m\u001b[0mtest\u001b[0m\u001b[0;34m,\u001b[0m\u001b[0;34m:\u001b[0m\u001b[0;34m,\u001b[0m\u001b[0;34m:\u001b[0m\u001b[0;34m]\u001b[0m\u001b[0;34m]\u001b[0m\u001b[0;34m,\u001b[0m \u001b[0my\u001b[0m\u001b[0;34m=\u001b[0m\u001b[0mY\u001b[0m\u001b[0;34m[\u001b[0m\u001b[0mtest\u001b[0m\u001b[0;34m,\u001b[0m\u001b[0;34m:\u001b[0m\u001b[0;34m]\u001b[0m\u001b[0;34m,\u001b[0m \u001b[0mbatch_size\u001b[0m\u001b[0;34m=\u001b[0m\u001b[0msetBatchSizeNumber\u001b[0m\u001b[0;34m)\u001b[0m\u001b[0;34m\u001b[0m\u001b[0;34m\u001b[0m\u001b[0m\n",
            "\u001b[0;32m/usr/local/lib/python3.6/dist-packages/tensorflow/python/keras/engine/training.py\u001b[0m in \u001b[0;36m_method_wrapper\u001b[0;34m(self, *args, **kwargs)\u001b[0m\n\u001b[1;32m    106\u001b[0m   \u001b[0;32mdef\u001b[0m \u001b[0m_method_wrapper\u001b[0m\u001b[0;34m(\u001b[0m\u001b[0mself\u001b[0m\u001b[0;34m,\u001b[0m \u001b[0;34m*\u001b[0m\u001b[0margs\u001b[0m\u001b[0;34m,\u001b[0m \u001b[0;34m**\u001b[0m\u001b[0mkwargs\u001b[0m\u001b[0;34m)\u001b[0m\u001b[0;34m:\u001b[0m\u001b[0;34m\u001b[0m\u001b[0;34m\u001b[0m\u001b[0m\n\u001b[1;32m    107\u001b[0m     \u001b[0;32mif\u001b[0m \u001b[0;32mnot\u001b[0m \u001b[0mself\u001b[0m\u001b[0;34m.\u001b[0m\u001b[0m_in_multi_worker_mode\u001b[0m\u001b[0;34m(\u001b[0m\u001b[0;34m)\u001b[0m\u001b[0;34m:\u001b[0m  \u001b[0;31m# pylint: disable=protected-access\u001b[0m\u001b[0;34m\u001b[0m\u001b[0;34m\u001b[0m\u001b[0m\n\u001b[0;32m--> 108\u001b[0;31m       \u001b[0;32mreturn\u001b[0m \u001b[0mmethod\u001b[0m\u001b[0;34m(\u001b[0m\u001b[0mself\u001b[0m\u001b[0;34m,\u001b[0m \u001b[0;34m*\u001b[0m\u001b[0margs\u001b[0m\u001b[0;34m,\u001b[0m \u001b[0;34m**\u001b[0m\u001b[0mkwargs\u001b[0m\u001b[0;34m)\u001b[0m\u001b[0;34m\u001b[0m\u001b[0;34m\u001b[0m\u001b[0m\n\u001b[0m\u001b[1;32m    109\u001b[0m \u001b[0;34m\u001b[0m\u001b[0m\n\u001b[1;32m    110\u001b[0m     \u001b[0;31m# Running inside `run_distribute_coordinator` already.\u001b[0m\u001b[0;34m\u001b[0m\u001b[0;34m\u001b[0m\u001b[0;34m\u001b[0m\u001b[0m\n",
            "\u001b[0;32m/usr/local/lib/python3.6/dist-packages/tensorflow/python/keras/engine/training.py\u001b[0m in \u001b[0;36mfit\u001b[0;34m(self, x, y, batch_size, epochs, verbose, callbacks, validation_split, validation_data, shuffle, class_weight, sample_weight, initial_epoch, steps_per_epoch, validation_steps, validation_batch_size, validation_freq, max_queue_size, workers, use_multiprocessing)\u001b[0m\n\u001b[1;32m   1096\u001b[0m                 batch_size=batch_size):\n\u001b[1;32m   1097\u001b[0m               \u001b[0mcallbacks\u001b[0m\u001b[0;34m.\u001b[0m\u001b[0mon_train_batch_begin\u001b[0m\u001b[0;34m(\u001b[0m\u001b[0mstep\u001b[0m\u001b[0;34m)\u001b[0m\u001b[0;34m\u001b[0m\u001b[0;34m\u001b[0m\u001b[0m\n\u001b[0;32m-> 1098\u001b[0;31m               \u001b[0mtmp_logs\u001b[0m \u001b[0;34m=\u001b[0m \u001b[0mtrain_function\u001b[0m\u001b[0;34m(\u001b[0m\u001b[0miterator\u001b[0m\u001b[0;34m)\u001b[0m\u001b[0;34m\u001b[0m\u001b[0;34m\u001b[0m\u001b[0m\n\u001b[0m\u001b[1;32m   1099\u001b[0m               \u001b[0;32mif\u001b[0m \u001b[0mdata_handler\u001b[0m\u001b[0;34m.\u001b[0m\u001b[0mshould_sync\u001b[0m\u001b[0;34m:\u001b[0m\u001b[0;34m\u001b[0m\u001b[0;34m\u001b[0m\u001b[0m\n\u001b[1;32m   1100\u001b[0m                 \u001b[0mcontext\u001b[0m\u001b[0;34m.\u001b[0m\u001b[0masync_wait\u001b[0m\u001b[0;34m(\u001b[0m\u001b[0;34m)\u001b[0m\u001b[0;34m\u001b[0m\u001b[0;34m\u001b[0m\u001b[0m\n",
            "\u001b[0;32m/usr/local/lib/python3.6/dist-packages/tensorflow/python/eager/def_function.py\u001b[0m in \u001b[0;36m__call__\u001b[0;34m(self, *args, **kwds)\u001b[0m\n\u001b[1;32m    778\u001b[0m       \u001b[0;32melse\u001b[0m\u001b[0;34m:\u001b[0m\u001b[0;34m\u001b[0m\u001b[0;34m\u001b[0m\u001b[0m\n\u001b[1;32m    779\u001b[0m         \u001b[0mcompiler\u001b[0m \u001b[0;34m=\u001b[0m \u001b[0;34m\"nonXla\"\u001b[0m\u001b[0;34m\u001b[0m\u001b[0;34m\u001b[0m\u001b[0m\n\u001b[0;32m--> 780\u001b[0;31m         \u001b[0mresult\u001b[0m \u001b[0;34m=\u001b[0m \u001b[0mself\u001b[0m\u001b[0;34m.\u001b[0m\u001b[0m_call\u001b[0m\u001b[0;34m(\u001b[0m\u001b[0;34m*\u001b[0m\u001b[0margs\u001b[0m\u001b[0;34m,\u001b[0m \u001b[0;34m**\u001b[0m\u001b[0mkwds\u001b[0m\u001b[0;34m)\u001b[0m\u001b[0;34m\u001b[0m\u001b[0;34m\u001b[0m\u001b[0m\n\u001b[0m\u001b[1;32m    781\u001b[0m \u001b[0;34m\u001b[0m\u001b[0m\n\u001b[1;32m    782\u001b[0m       \u001b[0mnew_tracing_count\u001b[0m \u001b[0;34m=\u001b[0m \u001b[0mself\u001b[0m\u001b[0;34m.\u001b[0m\u001b[0m_get_tracing_count\u001b[0m\u001b[0;34m(\u001b[0m\u001b[0;34m)\u001b[0m\u001b[0;34m\u001b[0m\u001b[0;34m\u001b[0m\u001b[0m\n",
            "\u001b[0;32m/usr/local/lib/python3.6/dist-packages/tensorflow/python/eager/def_function.py\u001b[0m in \u001b[0;36m_call\u001b[0;34m(self, *args, **kwds)\u001b[0m\n\u001b[1;32m    805\u001b[0m       \u001b[0;31m# In this case we have created variables on the first call, so we run the\u001b[0m\u001b[0;34m\u001b[0m\u001b[0;34m\u001b[0m\u001b[0;34m\u001b[0m\u001b[0m\n\u001b[1;32m    806\u001b[0m       \u001b[0;31m# defunned version which is guaranteed to never create variables.\u001b[0m\u001b[0;34m\u001b[0m\u001b[0;34m\u001b[0m\u001b[0;34m\u001b[0m\u001b[0m\n\u001b[0;32m--> 807\u001b[0;31m       \u001b[0;32mreturn\u001b[0m \u001b[0mself\u001b[0m\u001b[0;34m.\u001b[0m\u001b[0m_stateless_fn\u001b[0m\u001b[0;34m(\u001b[0m\u001b[0;34m*\u001b[0m\u001b[0margs\u001b[0m\u001b[0;34m,\u001b[0m \u001b[0;34m**\u001b[0m\u001b[0mkwds\u001b[0m\u001b[0;34m)\u001b[0m  \u001b[0;31m# pylint: disable=not-callable\u001b[0m\u001b[0;34m\u001b[0m\u001b[0;34m\u001b[0m\u001b[0m\n\u001b[0m\u001b[1;32m    808\u001b[0m     \u001b[0;32melif\u001b[0m \u001b[0mself\u001b[0m\u001b[0;34m.\u001b[0m\u001b[0m_stateful_fn\u001b[0m \u001b[0;32mis\u001b[0m \u001b[0;32mnot\u001b[0m \u001b[0;32mNone\u001b[0m\u001b[0;34m:\u001b[0m\u001b[0;34m\u001b[0m\u001b[0;34m\u001b[0m\u001b[0m\n\u001b[1;32m    809\u001b[0m       \u001b[0;31m# Release the lock early so that multiple threads can perform the call\u001b[0m\u001b[0;34m\u001b[0m\u001b[0;34m\u001b[0m\u001b[0;34m\u001b[0m\u001b[0m\n",
            "\u001b[0;32m/usr/local/lib/python3.6/dist-packages/tensorflow/python/eager/function.py\u001b[0m in \u001b[0;36m__call__\u001b[0;34m(self, *args, **kwargs)\u001b[0m\n\u001b[1;32m   2827\u001b[0m     \u001b[0;32mwith\u001b[0m \u001b[0mself\u001b[0m\u001b[0;34m.\u001b[0m\u001b[0m_lock\u001b[0m\u001b[0;34m:\u001b[0m\u001b[0;34m\u001b[0m\u001b[0;34m\u001b[0m\u001b[0m\n\u001b[1;32m   2828\u001b[0m       \u001b[0mgraph_function\u001b[0m\u001b[0;34m,\u001b[0m \u001b[0margs\u001b[0m\u001b[0;34m,\u001b[0m \u001b[0mkwargs\u001b[0m \u001b[0;34m=\u001b[0m \u001b[0mself\u001b[0m\u001b[0;34m.\u001b[0m\u001b[0m_maybe_define_function\u001b[0m\u001b[0;34m(\u001b[0m\u001b[0margs\u001b[0m\u001b[0;34m,\u001b[0m \u001b[0mkwargs\u001b[0m\u001b[0;34m)\u001b[0m\u001b[0;34m\u001b[0m\u001b[0;34m\u001b[0m\u001b[0m\n\u001b[0;32m-> 2829\u001b[0;31m     \u001b[0;32mreturn\u001b[0m \u001b[0mgraph_function\u001b[0m\u001b[0;34m.\u001b[0m\u001b[0m_filtered_call\u001b[0m\u001b[0;34m(\u001b[0m\u001b[0margs\u001b[0m\u001b[0;34m,\u001b[0m \u001b[0mkwargs\u001b[0m\u001b[0;34m)\u001b[0m  \u001b[0;31m# pylint: disable=protected-access\u001b[0m\u001b[0;34m\u001b[0m\u001b[0;34m\u001b[0m\u001b[0m\n\u001b[0m\u001b[1;32m   2830\u001b[0m \u001b[0;34m\u001b[0m\u001b[0m\n\u001b[1;32m   2831\u001b[0m   \u001b[0;34m@\u001b[0m\u001b[0mproperty\u001b[0m\u001b[0;34m\u001b[0m\u001b[0;34m\u001b[0m\u001b[0m\n",
            "\u001b[0;32m/usr/local/lib/python3.6/dist-packages/tensorflow/python/eager/function.py\u001b[0m in \u001b[0;36m_filtered_call\u001b[0;34m(self, args, kwargs, cancellation_manager)\u001b[0m\n\u001b[1;32m   1846\u001b[0m                            resource_variable_ops.BaseResourceVariable))],\n\u001b[1;32m   1847\u001b[0m         \u001b[0mcaptured_inputs\u001b[0m\u001b[0;34m=\u001b[0m\u001b[0mself\u001b[0m\u001b[0;34m.\u001b[0m\u001b[0mcaptured_inputs\u001b[0m\u001b[0;34m,\u001b[0m\u001b[0;34m\u001b[0m\u001b[0;34m\u001b[0m\u001b[0m\n\u001b[0;32m-> 1848\u001b[0;31m         cancellation_manager=cancellation_manager)\n\u001b[0m\u001b[1;32m   1849\u001b[0m \u001b[0;34m\u001b[0m\u001b[0m\n\u001b[1;32m   1850\u001b[0m   \u001b[0;32mdef\u001b[0m \u001b[0m_call_flat\u001b[0m\u001b[0;34m(\u001b[0m\u001b[0mself\u001b[0m\u001b[0;34m,\u001b[0m \u001b[0margs\u001b[0m\u001b[0;34m,\u001b[0m \u001b[0mcaptured_inputs\u001b[0m\u001b[0;34m,\u001b[0m \u001b[0mcancellation_manager\u001b[0m\u001b[0;34m=\u001b[0m\u001b[0;32mNone\u001b[0m\u001b[0;34m)\u001b[0m\u001b[0;34m:\u001b[0m\u001b[0;34m\u001b[0m\u001b[0;34m\u001b[0m\u001b[0m\n",
            "\u001b[0;32m/usr/local/lib/python3.6/dist-packages/tensorflow/python/eager/function.py\u001b[0m in \u001b[0;36m_call_flat\u001b[0;34m(self, args, captured_inputs, cancellation_manager)\u001b[0m\n\u001b[1;32m   1922\u001b[0m       \u001b[0;31m# No tape is watching; skip to running the function.\u001b[0m\u001b[0;34m\u001b[0m\u001b[0;34m\u001b[0m\u001b[0;34m\u001b[0m\u001b[0m\n\u001b[1;32m   1923\u001b[0m       return self._build_call_outputs(self._inference_function.call(\n\u001b[0;32m-> 1924\u001b[0;31m           ctx, args, cancellation_manager=cancellation_manager))\n\u001b[0m\u001b[1;32m   1925\u001b[0m     forward_backward = self._select_forward_and_backward_functions(\n\u001b[1;32m   1926\u001b[0m         \u001b[0margs\u001b[0m\u001b[0;34m,\u001b[0m\u001b[0;34m\u001b[0m\u001b[0;34m\u001b[0m\u001b[0m\n",
            "\u001b[0;32m/usr/local/lib/python3.6/dist-packages/tensorflow/python/eager/function.py\u001b[0m in \u001b[0;36mcall\u001b[0;34m(self, ctx, args, cancellation_manager)\u001b[0m\n\u001b[1;32m    548\u001b[0m               \u001b[0minputs\u001b[0m\u001b[0;34m=\u001b[0m\u001b[0margs\u001b[0m\u001b[0;34m,\u001b[0m\u001b[0;34m\u001b[0m\u001b[0;34m\u001b[0m\u001b[0m\n\u001b[1;32m    549\u001b[0m               \u001b[0mattrs\u001b[0m\u001b[0;34m=\u001b[0m\u001b[0mattrs\u001b[0m\u001b[0;34m,\u001b[0m\u001b[0;34m\u001b[0m\u001b[0;34m\u001b[0m\u001b[0m\n\u001b[0;32m--> 550\u001b[0;31m               ctx=ctx)\n\u001b[0m\u001b[1;32m    551\u001b[0m         \u001b[0;32melse\u001b[0m\u001b[0;34m:\u001b[0m\u001b[0;34m\u001b[0m\u001b[0;34m\u001b[0m\u001b[0m\n\u001b[1;32m    552\u001b[0m           outputs = execute.execute_with_cancellation(\n",
            "\u001b[0;32m/usr/local/lib/python3.6/dist-packages/tensorflow/python/eager/execute.py\u001b[0m in \u001b[0;36mquick_execute\u001b[0;34m(op_name, num_outputs, inputs, attrs, ctx, name)\u001b[0m\n\u001b[1;32m     58\u001b[0m     \u001b[0mctx\u001b[0m\u001b[0;34m.\u001b[0m\u001b[0mensure_initialized\u001b[0m\u001b[0;34m(\u001b[0m\u001b[0;34m)\u001b[0m\u001b[0;34m\u001b[0m\u001b[0;34m\u001b[0m\u001b[0m\n\u001b[1;32m     59\u001b[0m     tensors = pywrap_tfe.TFE_Py_Execute(ctx._handle, device_name, op_name,\n\u001b[0;32m---> 60\u001b[0;31m                                         inputs, attrs, num_outputs)\n\u001b[0m\u001b[1;32m     61\u001b[0m   \u001b[0;32mexcept\u001b[0m \u001b[0mcore\u001b[0m\u001b[0;34m.\u001b[0m\u001b[0m_NotOkStatusException\u001b[0m \u001b[0;32mas\u001b[0m \u001b[0me\u001b[0m\u001b[0;34m:\u001b[0m\u001b[0;34m\u001b[0m\u001b[0;34m\u001b[0m\u001b[0m\n\u001b[1;32m     62\u001b[0m     \u001b[0;32mif\u001b[0m \u001b[0mname\u001b[0m \u001b[0;32mis\u001b[0m \u001b[0;32mnot\u001b[0m \u001b[0;32mNone\u001b[0m\u001b[0;34m:\u001b[0m\u001b[0;34m\u001b[0m\u001b[0;34m\u001b[0m\u001b[0m\n",
            "\u001b[0;31mKeyboardInterrupt\u001b[0m: "
          ]
        }
      ]
    },
    {
      "cell_type": "code",
      "metadata": {
        "id": "DBd-i_-rTj6P",
        "colab_type": "code",
        "colab": {}
      },
      "source": [
        ""
      ],
      "execution_count": null,
      "outputs": []
    }
  ]
}