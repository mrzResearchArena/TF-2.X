{
  "nbformat": 4,
  "nbformat_minor": 0,
  "metadata": {
    "colab": {
      "name": "hybrid-CNN.ipynb",
      "provenance": [],
      "authorship_tag": "ABX9TyPyJKMx1HDAujQgpslV2mBD",
      "include_colab_link": true
    },
    "kernelspec": {
      "name": "python3",
      "display_name": "Python 3"
    }
  },
  "cells": [
    {
      "cell_type": "markdown",
      "metadata": {
        "id": "view-in-github",
        "colab_type": "text"
      },
      "source": [
        "<a href=\"https://colab.research.google.com/github/mrzResearchArena/TF-2.X/blob/master/hybrid-CNN.ipynb\" target=\"_parent\"><img src=\"https://colab.research.google.com/assets/colab-badge.svg\" alt=\"Open In Colab\"/></a>"
      ]
    },
    {
      "cell_type": "code",
      "metadata": {
        "id": "XtBxGOZdR9kv",
        "colab_type": "code",
        "outputId": "d63a17b7-d5d9-43b7-ff56-58ee8ce1366f",
        "colab": {
          "base_uri": "https://localhost:8080/",
          "height": 126
        }
      },
      "source": [
        "from google.colab import drive\n",
        "drive.mount('/content/drive')"
      ],
      "execution_count": 1,
      "outputs": [
        {
          "output_type": "stream",
          "text": [
            "Go to this URL in a browser: https://accounts.google.com/o/oauth2/auth?client_id=947318989803-6bn6qk8qdgf4n4g3pfee6491hc0brc4i.apps.googleusercontent.com&redirect_uri=urn%3aietf%3awg%3aoauth%3a2.0%3aoob&response_type=code&scope=email%20https%3a%2f%2fwww.googleapis.com%2fauth%2fdocs.test%20https%3a%2f%2fwww.googleapis.com%2fauth%2fdrive%20https%3a%2f%2fwww.googleapis.com%2fauth%2fdrive.photos.readonly%20https%3a%2f%2fwww.googleapis.com%2fauth%2fpeopleapi.readonly\n",
            "\n",
            "Enter your authorization code:\n",
            "··········\n",
            "Mounted at /content/drive\n"
          ],
          "name": "stdout"
        }
      ]
    },
    {
      "cell_type": "code",
      "metadata": {
        "id": "ys9sEA0ESuz6",
        "colab_type": "code",
        "outputId": "3c620746-0258-4bef-d136-069dbd91acad",
        "colab": {
          "base_uri": "https://localhost:8080/",
          "height": 35
        }
      },
      "source": [
        "ls"
      ],
      "execution_count": 2,
      "outputs": [
        {
          "output_type": "stream",
          "text": [
            "\u001b[0m\u001b[01;34mdrive\u001b[0m/  \u001b[01;34msample_data\u001b[0m/\n"
          ],
          "name": "stdout"
        }
      ]
    },
    {
      "cell_type": "code",
      "metadata": {
        "id": "cx_l5STLS7w6",
        "colab_type": "code",
        "outputId": "8e4ee584-e17e-43e4-be7d-81579e5f90b7",
        "colab": {
          "base_uri": "https://localhost:8080/",
          "height": 35
        }
      },
      "source": [
        "cd 'drive/My Drive/Colab-Notebooks'"
      ],
      "execution_count": 3,
      "outputs": [
        {
          "output_type": "stream",
          "text": [
            "/content/drive/My Drive/Colab-Notebooks\n"
          ],
          "name": "stdout"
        }
      ]
    },
    {
      "cell_type": "code",
      "metadata": {
        "id": "B41A1p3Q5lGJ",
        "colab_type": "code",
        "outputId": "850a0ad9-0111-4353-afcc-2913457b5902",
        "colab": {
          "base_uri": "https://localhost:8080/",
          "height": 871
        }
      },
      "source": [
        "ls"
      ],
      "execution_count": 4,
      "outputs": [
        {
          "output_type": "stream",
          "text": [
            "0_FINAL_anti_peptide_model_AC240-tensorboard.ipynb\n",
            "0_FINAL_anti_peptide_model_ACP740-tensorboard.ipynb\n",
            "500-164.h5\n",
            "544_encoded_sequences_740.npy\n",
            "ACP164.npy\n",
            "ACP240_labels.npy\n",
            "acp240.txt\n",
            "ACP-500-164.h5\n",
            "ACP500.npy\n",
            "ACP740_labels.npy\n",
            "ACP-740-tensorboard.ipynb\n",
            "acp740.txt\n",
            "blosum-164.npy\n",
            "blosum-240.npy\n",
            "blosum-500.npy\n",
            "blosum62-acp240.npy\n",
            "blosum62-acp740.npy\n",
            "blosum-740.npy\n",
            "bpf-164.npy\n",
            "bpf-240.npy\n",
            "bpf-500.npy\n",
            "bpf-740.npy\n",
            "BPF_coded_ACP164_sequences.npy\n",
            "BPF_coded_ACP240_sequences.npy\n",
            "BPF_coded_ACP500_sequences.npy\n",
            "BPF_coded_ACP740_sequences.npy\n",
            "dataset-50000.csv\n",
            "dataset_to_one_hot_vector_representation.pkl\n",
            "\u001b[0m\u001b[01;34mdrive\u001b[0m/\n",
            "kmer_k_3_ACP240.npy\n",
            "kmer_k_3_ACP740.npy\n",
            "\u001b[01;34mlogs\u001b[0m/\n",
            "mACP-240.ipynb\n",
            "mACP-740.ipynb\n",
            "model-240b.png\n",
            "model-240.png\n",
            "model-50000.png\n",
            "model-500-164.png\n",
            "model-740.png\n",
            "model.png\n",
            "multichannel.png\n",
            "physico_coded_ACP164_sequences.npy\n",
            "physico_coded_ACP240_sequences.npy\n",
            "physico_coded_ACP500_sequences.npy\n",
            "physico_coded_ACP740_sequences.npy\n",
            "Sarcasm_Headlines_Dataset_v2.json\n",
            "X-50000.npy\n",
            "Y-50000.npy\n"
          ],
          "name": "stdout"
        }
      ]
    },
    {
      "cell_type": "code",
      "metadata": {
        "id": "nJ17nB4HS_Se",
        "colab_type": "code",
        "outputId": "25877629-6fb8-427a-9160-d1f3adad5d8a",
        "colab": {
          "base_uri": "https://localhost:8080/",
          "height": 35
        }
      },
      "source": [
        "ls *.pkl -1"
      ],
      "execution_count": 5,
      "outputs": [
        {
          "output_type": "stream",
          "text": [
            "dataset_to_one_hot_vector_representation.pkl\n"
          ],
          "name": "stdout"
        }
      ]
    },
    {
      "cell_type": "code",
      "metadata": {
        "id": "S_pHC41wS_4s",
        "colab_type": "code",
        "outputId": "bde2622d-bacb-40e2-e0eb-9c1300657261",
        "colab": {
          "base_uri": "https://localhost:8080/",
          "height": 35
        }
      },
      "source": [
        "# Deep Neural Networks:\n",
        "import tensorflow as tf; print('We\\'re working on TF-{}.'.format(tf.__version__))\n",
        "from tensorflow.keras.layers import (Input, Dense, Dropout, Flatten, BatchNormalization,\n",
        "                                     Conv1D, Conv2D, MaxPooling1D, MaxPooling2D,\n",
        "                                     LSTM, GRU, Embedding, Bidirectional, concatenate)\n",
        "from tensorflow.keras.regularizers import (l1, l2, l1_l2)\n",
        "from tensorflow.keras.optimizers import (RMSprop, Adam, SGD)\n",
        "from tensorflow.keras.models import (Sequential, Model)\n",
        "\n",
        "# Core:\n",
        "import numpy as np\n",
        "import pandas as pd\n",
        "import matplotlib.pyplot as plt\n",
        "\n",
        "# Performance:\n",
        "from sklearn.metrics import (confusion_matrix, classification_report, matthews_corrcoef, precision_score)\n",
        "\n",
        "#Utilities:\n",
        "from tensorflow.keras.callbacks import EarlyStopping\n",
        "from tensorflow.keras.utils import to_categorical as labelEncoding   # Usages: Y = labelEncoding(Y, dtype=int)\n",
        "from tensorflow.keras.utils import plot_model                        # Usages: plot_model(model, to_file='model.png', show_shapes=True, show_layer_names=False, expand_nested=True)\n",
        "from sklearn.model_selection import (StratifiedKFold, KFold, train_test_split)\n",
        "#end-import"
      ],
      "execution_count": 16,
      "outputs": [
        {
          "output_type": "stream",
          "text": [
            "We're working on TF-2.2.0-rc2.\n"
          ],
          "name": "stdout"
        }
      ]
    },
    {
      "cell_type": "code",
      "metadata": {
        "id": "DGHWrgtoTW7L",
        "colab_type": "code",
        "colab": {}
      },
      "source": [
        "# X = np.load('X-50000.npy')\n",
        "# Y = np.load('Y-50000.npy')\n",
        "\n",
        "# print(X.shape)\n",
        "# print(Y.shape)\n",
        "\n",
        "def zero_one_encoding(Y):\n",
        "    '''\n",
        "    Argument: Class Label (Y)\n",
        "    --> [1, 0, 2]\n",
        "    Return: one hot encoding matrix (2D-array NumPy-array)\n",
        "    --> array([[0, 1, 0],\n",
        "               [1, 0, 0],\n",
        "               [0, 0, 1]])\n",
        "    '''\n",
        "    N = len(Y)\n",
        "    K = len(set(Y))\n",
        "    index = np.zeros(shape=(N, K), dtype=int)\n",
        "    for i, value in enumerate(Y):\n",
        "        index[i, value] = 1\n",
        "    return index"
      ],
      "execution_count": 0,
      "outputs": []
    },
    {
      "cell_type": "code",
      "metadata": {
        "id": "IRPHYX-GzyLc",
        "colab_type": "code",
        "outputId": "cefe8e5d-8e77-4ef4-c22c-7c3efe29e801",
        "colab": {
          "base_uri": "https://localhost:8080/",
          "height": 255
        }
      },
      "source": [
        "# Data Load\n",
        "D = pd.read_csv('dataset-50000.csv')\n",
        "D.head(5)"
      ],
      "execution_count": 10,
      "outputs": [
        {
          "output_type": "execute_result",
          "data": {
            "text/html": [
              "<div>\n",
              "<style scoped>\n",
              "    .dataframe tbody tr th:only-of-type {\n",
              "        vertical-align: middle;\n",
              "    }\n",
              "\n",
              "    .dataframe tbody tr th {\n",
              "        vertical-align: top;\n",
              "    }\n",
              "\n",
              "    .dataframe thead th {\n",
              "        text-align: right;\n",
              "    }\n",
              "</style>\n",
              "<table border=\"1\" class=\"dataframe\">\n",
              "  <thead>\n",
              "    <tr style=\"text-align: right;\">\n",
              "      <th></th>\n",
              "      <th>Sequence</th>\n",
              "      <th>Class</th>\n",
              "      <th>Index_0_A</th>\n",
              "      <th>Index_1_A</th>\n",
              "      <th>Index_2_A</th>\n",
              "      <th>Index_3_A</th>\n",
              "      <th>Index_4_A</th>\n",
              "      <th>Index_5_A</th>\n",
              "      <th>Index_6_A</th>\n",
              "      <th>Index_7_A</th>\n",
              "      <th>Index_8_A</th>\n",
              "      <th>Index_9_A</th>\n",
              "      <th>Index_10_A</th>\n",
              "      <th>Index_11_A</th>\n",
              "      <th>Index_12_A</th>\n",
              "      <th>Index_13_A</th>\n",
              "      <th>Index_14_A</th>\n",
              "      <th>Index_15_A</th>\n",
              "      <th>Index_16_A</th>\n",
              "      <th>Index_17_A</th>\n",
              "      <th>Index_18_A</th>\n",
              "      <th>Index_19_A</th>\n",
              "      <th>Index_20_A</th>\n",
              "      <th>Index_21_A</th>\n",
              "      <th>Index_22_A</th>\n",
              "      <th>Index_0_C</th>\n",
              "      <th>Index_1_C</th>\n",
              "      <th>Index_2_C</th>\n",
              "      <th>Index_3_C</th>\n",
              "      <th>Index_4_C</th>\n",
              "      <th>Index_5_C</th>\n",
              "      <th>Index_6_C</th>\n",
              "      <th>Index_7_C</th>\n",
              "      <th>Index_8_C</th>\n",
              "      <th>Index_9_C</th>\n",
              "      <th>Index_10_C</th>\n",
              "      <th>Index_11_C</th>\n",
              "      <th>Index_12_C</th>\n",
              "      <th>Index_13_C</th>\n",
              "      <th>Index_14_C</th>\n",
              "      <th>...</th>\n",
              "      <th>Index_6_G</th>\n",
              "      <th>Index_7_G</th>\n",
              "      <th>Index_8_G</th>\n",
              "      <th>Index_9_G</th>\n",
              "      <th>Index_10_G</th>\n",
              "      <th>Index_11_G</th>\n",
              "      <th>Index_12_G</th>\n",
              "      <th>Index_13_G</th>\n",
              "      <th>Index_14_G</th>\n",
              "      <th>Index_15_G</th>\n",
              "      <th>Index_16_G</th>\n",
              "      <th>Index_17_G</th>\n",
              "      <th>Index_18_G</th>\n",
              "      <th>Index_19_G</th>\n",
              "      <th>Index_20_G</th>\n",
              "      <th>Index_21_G</th>\n",
              "      <th>Index_22_G</th>\n",
              "      <th>Index_0_T</th>\n",
              "      <th>Index_1_T</th>\n",
              "      <th>Index_2_T</th>\n",
              "      <th>Index_3_T</th>\n",
              "      <th>Index_4_T</th>\n",
              "      <th>Index_5_T</th>\n",
              "      <th>Index_6_T</th>\n",
              "      <th>Index_7_T</th>\n",
              "      <th>Index_8_T</th>\n",
              "      <th>Index_9_T</th>\n",
              "      <th>Index_10_T</th>\n",
              "      <th>Index_11_T</th>\n",
              "      <th>Index_12_T</th>\n",
              "      <th>Index_13_T</th>\n",
              "      <th>Index_14_T</th>\n",
              "      <th>Index_15_T</th>\n",
              "      <th>Index_16_T</th>\n",
              "      <th>Index_17_T</th>\n",
              "      <th>Index_18_T</th>\n",
              "      <th>Index_19_T</th>\n",
              "      <th>Index_20_T</th>\n",
              "      <th>Index_21_T</th>\n",
              "      <th>Index_22_T</th>\n",
              "    </tr>\n",
              "  </thead>\n",
              "  <tbody>\n",
              "    <tr>\n",
              "      <th>0</th>\n",
              "      <td>GCAGCATCCCAACCAGGTGGAGG</td>\n",
              "      <td>2</td>\n",
              "      <td>0</td>\n",
              "      <td>0</td>\n",
              "      <td>1</td>\n",
              "      <td>0</td>\n",
              "      <td>0</td>\n",
              "      <td>1</td>\n",
              "      <td>0</td>\n",
              "      <td>0</td>\n",
              "      <td>0</td>\n",
              "      <td>0</td>\n",
              "      <td>1</td>\n",
              "      <td>1</td>\n",
              "      <td>0</td>\n",
              "      <td>0</td>\n",
              "      <td>1</td>\n",
              "      <td>0</td>\n",
              "      <td>0</td>\n",
              "      <td>0</td>\n",
              "      <td>0</td>\n",
              "      <td>0</td>\n",
              "      <td>1</td>\n",
              "      <td>0</td>\n",
              "      <td>0</td>\n",
              "      <td>0</td>\n",
              "      <td>1</td>\n",
              "      <td>0</td>\n",
              "      <td>0</td>\n",
              "      <td>1</td>\n",
              "      <td>0</td>\n",
              "      <td>0</td>\n",
              "      <td>1</td>\n",
              "      <td>1</td>\n",
              "      <td>1</td>\n",
              "      <td>0</td>\n",
              "      <td>0</td>\n",
              "      <td>1</td>\n",
              "      <td>1</td>\n",
              "      <td>0</td>\n",
              "      <td>...</td>\n",
              "      <td>0</td>\n",
              "      <td>0</td>\n",
              "      <td>0</td>\n",
              "      <td>0</td>\n",
              "      <td>0</td>\n",
              "      <td>0</td>\n",
              "      <td>0</td>\n",
              "      <td>0</td>\n",
              "      <td>0</td>\n",
              "      <td>1</td>\n",
              "      <td>1</td>\n",
              "      <td>0</td>\n",
              "      <td>1</td>\n",
              "      <td>1</td>\n",
              "      <td>0</td>\n",
              "      <td>1</td>\n",
              "      <td>1</td>\n",
              "      <td>0</td>\n",
              "      <td>0</td>\n",
              "      <td>0</td>\n",
              "      <td>0</td>\n",
              "      <td>0</td>\n",
              "      <td>0</td>\n",
              "      <td>1</td>\n",
              "      <td>0</td>\n",
              "      <td>0</td>\n",
              "      <td>0</td>\n",
              "      <td>0</td>\n",
              "      <td>0</td>\n",
              "      <td>0</td>\n",
              "      <td>0</td>\n",
              "      <td>0</td>\n",
              "      <td>0</td>\n",
              "      <td>0</td>\n",
              "      <td>1</td>\n",
              "      <td>0</td>\n",
              "      <td>0</td>\n",
              "      <td>0</td>\n",
              "      <td>0</td>\n",
              "      <td>0</td>\n",
              "    </tr>\n",
              "    <tr>\n",
              "      <th>1</th>\n",
              "      <td>GCGGGAGTGAGAGGACTGGGCGG</td>\n",
              "      <td>9</td>\n",
              "      <td>0</td>\n",
              "      <td>0</td>\n",
              "      <td>0</td>\n",
              "      <td>0</td>\n",
              "      <td>0</td>\n",
              "      <td>1</td>\n",
              "      <td>0</td>\n",
              "      <td>0</td>\n",
              "      <td>0</td>\n",
              "      <td>1</td>\n",
              "      <td>0</td>\n",
              "      <td>1</td>\n",
              "      <td>0</td>\n",
              "      <td>0</td>\n",
              "      <td>1</td>\n",
              "      <td>0</td>\n",
              "      <td>0</td>\n",
              "      <td>0</td>\n",
              "      <td>0</td>\n",
              "      <td>0</td>\n",
              "      <td>0</td>\n",
              "      <td>0</td>\n",
              "      <td>0</td>\n",
              "      <td>0</td>\n",
              "      <td>1</td>\n",
              "      <td>0</td>\n",
              "      <td>0</td>\n",
              "      <td>0</td>\n",
              "      <td>0</td>\n",
              "      <td>0</td>\n",
              "      <td>0</td>\n",
              "      <td>0</td>\n",
              "      <td>0</td>\n",
              "      <td>0</td>\n",
              "      <td>0</td>\n",
              "      <td>0</td>\n",
              "      <td>0</td>\n",
              "      <td>0</td>\n",
              "      <td>...</td>\n",
              "      <td>1</td>\n",
              "      <td>0</td>\n",
              "      <td>1</td>\n",
              "      <td>0</td>\n",
              "      <td>1</td>\n",
              "      <td>0</td>\n",
              "      <td>1</td>\n",
              "      <td>1</td>\n",
              "      <td>0</td>\n",
              "      <td>0</td>\n",
              "      <td>0</td>\n",
              "      <td>1</td>\n",
              "      <td>1</td>\n",
              "      <td>1</td>\n",
              "      <td>0</td>\n",
              "      <td>1</td>\n",
              "      <td>1</td>\n",
              "      <td>0</td>\n",
              "      <td>0</td>\n",
              "      <td>0</td>\n",
              "      <td>0</td>\n",
              "      <td>0</td>\n",
              "      <td>0</td>\n",
              "      <td>0</td>\n",
              "      <td>1</td>\n",
              "      <td>0</td>\n",
              "      <td>0</td>\n",
              "      <td>0</td>\n",
              "      <td>0</td>\n",
              "      <td>0</td>\n",
              "      <td>0</td>\n",
              "      <td>0</td>\n",
              "      <td>0</td>\n",
              "      <td>1</td>\n",
              "      <td>0</td>\n",
              "      <td>0</td>\n",
              "      <td>0</td>\n",
              "      <td>0</td>\n",
              "      <td>0</td>\n",
              "      <td>0</td>\n",
              "    </tr>\n",
              "    <tr>\n",
              "      <th>2</th>\n",
              "      <td>ATGACTCTCATACTCCACGAAGG</td>\n",
              "      <td>8</td>\n",
              "      <td>1</td>\n",
              "      <td>0</td>\n",
              "      <td>0</td>\n",
              "      <td>1</td>\n",
              "      <td>0</td>\n",
              "      <td>0</td>\n",
              "      <td>0</td>\n",
              "      <td>0</td>\n",
              "      <td>0</td>\n",
              "      <td>1</td>\n",
              "      <td>0</td>\n",
              "      <td>1</td>\n",
              "      <td>0</td>\n",
              "      <td>0</td>\n",
              "      <td>0</td>\n",
              "      <td>0</td>\n",
              "      <td>1</td>\n",
              "      <td>0</td>\n",
              "      <td>0</td>\n",
              "      <td>1</td>\n",
              "      <td>1</td>\n",
              "      <td>0</td>\n",
              "      <td>0</td>\n",
              "      <td>0</td>\n",
              "      <td>0</td>\n",
              "      <td>0</td>\n",
              "      <td>0</td>\n",
              "      <td>1</td>\n",
              "      <td>0</td>\n",
              "      <td>1</td>\n",
              "      <td>0</td>\n",
              "      <td>1</td>\n",
              "      <td>0</td>\n",
              "      <td>0</td>\n",
              "      <td>0</td>\n",
              "      <td>1</td>\n",
              "      <td>0</td>\n",
              "      <td>1</td>\n",
              "      <td>...</td>\n",
              "      <td>0</td>\n",
              "      <td>0</td>\n",
              "      <td>0</td>\n",
              "      <td>0</td>\n",
              "      <td>0</td>\n",
              "      <td>0</td>\n",
              "      <td>0</td>\n",
              "      <td>0</td>\n",
              "      <td>0</td>\n",
              "      <td>0</td>\n",
              "      <td>0</td>\n",
              "      <td>0</td>\n",
              "      <td>1</td>\n",
              "      <td>0</td>\n",
              "      <td>0</td>\n",
              "      <td>1</td>\n",
              "      <td>1</td>\n",
              "      <td>0</td>\n",
              "      <td>1</td>\n",
              "      <td>0</td>\n",
              "      <td>0</td>\n",
              "      <td>0</td>\n",
              "      <td>1</td>\n",
              "      <td>0</td>\n",
              "      <td>1</td>\n",
              "      <td>0</td>\n",
              "      <td>0</td>\n",
              "      <td>1</td>\n",
              "      <td>0</td>\n",
              "      <td>0</td>\n",
              "      <td>1</td>\n",
              "      <td>0</td>\n",
              "      <td>0</td>\n",
              "      <td>0</td>\n",
              "      <td>0</td>\n",
              "      <td>0</td>\n",
              "      <td>0</td>\n",
              "      <td>0</td>\n",
              "      <td>0</td>\n",
              "      <td>0</td>\n",
              "    </tr>\n",
              "    <tr>\n",
              "      <th>3</th>\n",
              "      <td>GAGTCATCGAGCAGCTGCCATGG</td>\n",
              "      <td>8</td>\n",
              "      <td>0</td>\n",
              "      <td>1</td>\n",
              "      <td>0</td>\n",
              "      <td>0</td>\n",
              "      <td>0</td>\n",
              "      <td>1</td>\n",
              "      <td>0</td>\n",
              "      <td>0</td>\n",
              "      <td>0</td>\n",
              "      <td>1</td>\n",
              "      <td>0</td>\n",
              "      <td>0</td>\n",
              "      <td>1</td>\n",
              "      <td>0</td>\n",
              "      <td>0</td>\n",
              "      <td>0</td>\n",
              "      <td>0</td>\n",
              "      <td>0</td>\n",
              "      <td>0</td>\n",
              "      <td>1</td>\n",
              "      <td>0</td>\n",
              "      <td>0</td>\n",
              "      <td>0</td>\n",
              "      <td>0</td>\n",
              "      <td>0</td>\n",
              "      <td>0</td>\n",
              "      <td>0</td>\n",
              "      <td>1</td>\n",
              "      <td>0</td>\n",
              "      <td>0</td>\n",
              "      <td>1</td>\n",
              "      <td>0</td>\n",
              "      <td>0</td>\n",
              "      <td>0</td>\n",
              "      <td>1</td>\n",
              "      <td>0</td>\n",
              "      <td>0</td>\n",
              "      <td>1</td>\n",
              "      <td>...</td>\n",
              "      <td>0</td>\n",
              "      <td>0</td>\n",
              "      <td>1</td>\n",
              "      <td>0</td>\n",
              "      <td>1</td>\n",
              "      <td>0</td>\n",
              "      <td>0</td>\n",
              "      <td>1</td>\n",
              "      <td>0</td>\n",
              "      <td>0</td>\n",
              "      <td>1</td>\n",
              "      <td>0</td>\n",
              "      <td>0</td>\n",
              "      <td>0</td>\n",
              "      <td>0</td>\n",
              "      <td>1</td>\n",
              "      <td>1</td>\n",
              "      <td>0</td>\n",
              "      <td>0</td>\n",
              "      <td>0</td>\n",
              "      <td>1</td>\n",
              "      <td>0</td>\n",
              "      <td>0</td>\n",
              "      <td>1</td>\n",
              "      <td>0</td>\n",
              "      <td>0</td>\n",
              "      <td>0</td>\n",
              "      <td>0</td>\n",
              "      <td>0</td>\n",
              "      <td>0</td>\n",
              "      <td>0</td>\n",
              "      <td>0</td>\n",
              "      <td>1</td>\n",
              "      <td>0</td>\n",
              "      <td>0</td>\n",
              "      <td>0</td>\n",
              "      <td>0</td>\n",
              "      <td>1</td>\n",
              "      <td>0</td>\n",
              "      <td>0</td>\n",
              "    </tr>\n",
              "    <tr>\n",
              "      <th>4</th>\n",
              "      <td>AGTCACCCTAGCAAAACCAGTGG</td>\n",
              "      <td>3</td>\n",
              "      <td>1</td>\n",
              "      <td>0</td>\n",
              "      <td>0</td>\n",
              "      <td>0</td>\n",
              "      <td>1</td>\n",
              "      <td>0</td>\n",
              "      <td>0</td>\n",
              "      <td>0</td>\n",
              "      <td>0</td>\n",
              "      <td>1</td>\n",
              "      <td>0</td>\n",
              "      <td>0</td>\n",
              "      <td>1</td>\n",
              "      <td>1</td>\n",
              "      <td>1</td>\n",
              "      <td>1</td>\n",
              "      <td>0</td>\n",
              "      <td>0</td>\n",
              "      <td>1</td>\n",
              "      <td>0</td>\n",
              "      <td>0</td>\n",
              "      <td>0</td>\n",
              "      <td>0</td>\n",
              "      <td>0</td>\n",
              "      <td>0</td>\n",
              "      <td>0</td>\n",
              "      <td>1</td>\n",
              "      <td>0</td>\n",
              "      <td>1</td>\n",
              "      <td>1</td>\n",
              "      <td>1</td>\n",
              "      <td>0</td>\n",
              "      <td>0</td>\n",
              "      <td>0</td>\n",
              "      <td>1</td>\n",
              "      <td>0</td>\n",
              "      <td>0</td>\n",
              "      <td>0</td>\n",
              "      <td>...</td>\n",
              "      <td>0</td>\n",
              "      <td>0</td>\n",
              "      <td>0</td>\n",
              "      <td>0</td>\n",
              "      <td>1</td>\n",
              "      <td>0</td>\n",
              "      <td>0</td>\n",
              "      <td>0</td>\n",
              "      <td>0</td>\n",
              "      <td>0</td>\n",
              "      <td>0</td>\n",
              "      <td>0</td>\n",
              "      <td>0</td>\n",
              "      <td>1</td>\n",
              "      <td>0</td>\n",
              "      <td>1</td>\n",
              "      <td>1</td>\n",
              "      <td>0</td>\n",
              "      <td>0</td>\n",
              "      <td>1</td>\n",
              "      <td>0</td>\n",
              "      <td>0</td>\n",
              "      <td>0</td>\n",
              "      <td>0</td>\n",
              "      <td>0</td>\n",
              "      <td>1</td>\n",
              "      <td>0</td>\n",
              "      <td>0</td>\n",
              "      <td>0</td>\n",
              "      <td>0</td>\n",
              "      <td>0</td>\n",
              "      <td>0</td>\n",
              "      <td>0</td>\n",
              "      <td>0</td>\n",
              "      <td>0</td>\n",
              "      <td>0</td>\n",
              "      <td>0</td>\n",
              "      <td>1</td>\n",
              "      <td>0</td>\n",
              "      <td>0</td>\n",
              "    </tr>\n",
              "  </tbody>\n",
              "</table>\n",
              "<p>5 rows × 94 columns</p>\n",
              "</div>"
            ],
            "text/plain": [
              "                  Sequence  Class  ...  Index_21_T  Index_22_T\n",
              "0  GCAGCATCCCAACCAGGTGGAGG      2  ...           0           0\n",
              "1  GCGGGAGTGAGAGGACTGGGCGG      9  ...           0           0\n",
              "2  ATGACTCTCATACTCCACGAAGG      8  ...           0           0\n",
              "3  GAGTCATCGAGCAGCTGCCATGG      8  ...           0           0\n",
              "4  AGTCACCCTAGCAAAACCAGTGG      3  ...           0           0\n",
              "\n",
              "[5 rows x 94 columns]"
            ]
          },
          "metadata": {
            "tags": []
          },
          "execution_count": 10
        }
      ]
    },
    {
      "cell_type": "code",
      "metadata": {
        "id": "x6bf0rc_bGqQ",
        "colab_type": "code",
        "colab": {
          "base_uri": "https://localhost:8080/",
          "height": 35
        },
        "outputId": "22ac1425-b59c-4981-e36c-b338bfeb0674"
      },
      "source": [
        "# Features and Labels\n",
        "from joblib import load\n",
        "X = joblib.load('dataset_to_one_hot_vector_representation.pkl')  \n",
        "y = D.iloc[:, 1]\n",
        "print(X.shape)"
      ],
      "execution_count": 17,
      "outputs": [
        {
          "output_type": "stream",
          "text": [
            "(50000, 4, 23)\n"
          ],
          "name": "stdout"
        }
      ]
    },
    {
      "cell_type": "code",
      "metadata": {
        "id": "xFjlB-lkbcKx",
        "colab_type": "code",
        "colab": {
          "base_uri": "https://localhost:8080/",
          "height": 373
        },
        "outputId": "e8552e2b-0ea0-471a-d4f6-6c118631cb7b"
      },
      "source": [
        "print(y.value_counts())"
      ],
      "execution_count": 18,
      "outputs": [
        {
          "output_type": "stream",
          "text": [
            "0     4985\n",
            "2     2787\n",
            "1     2768\n",
            "7     2768\n",
            "8     2764\n",
            "5     2750\n",
            "6     2736\n",
            "9     2730\n",
            "4     2712\n",
            "3     2695\n",
            "11    2379\n",
            "15    2360\n",
            "10    2329\n",
            "13    2315\n",
            "14    2287\n",
            "16    2277\n",
            "12    2262\n",
            "17    2070\n",
            "18    2026\n",
            "Name: Class, dtype: int64\n"
          ],
          "name": "stdout"
        }
      ]
    },
    {
      "cell_type": "code",
      "metadata": {
        "id": "IPCcyBu-z48X",
        "colab_type": "code",
        "outputId": "ed941c94-2112-47ae-c658-20b93c0017da",
        "colab": {
          "base_uri": "https://localhost:8080/",
          "height": 802
        }
      },
      "source": [
        "for i in range(len(y)):\n",
        "    if y[i] == -1:\n",
        "        y[i] = 10\n",
        "    elif y[i] == -2:\n",
        "        y[i] = 11\n",
        "    elif y[i] == -3:\n",
        "        y[i] = 12\n",
        "    elif y[i] == -4:\n",
        "        y[i] = 13\n",
        "    elif y[i] == -5:\n",
        "        y[i] = 14\n",
        "    elif y[i] == -6:\n",
        "        y[i] = 15\n",
        "    elif y[i] == -7:\n",
        "        y[i] = 16\n",
        "    elif y[i] == -8:\n",
        "        y[i] = 17\n",
        "    elif y[i] == -9:\n",
        "        y[i] = 18"
      ],
      "execution_count": 14,
      "outputs": [
        {
          "output_type": "stream",
          "text": [
            "/usr/local/lib/python3.6/dist-packages/ipykernel_launcher.py:13: SettingWithCopyWarning: \n",
            "A value is trying to be set on a copy of a slice from a DataFrame\n",
            "\n",
            "See the caveats in the documentation: https://pandas.pydata.org/pandas-docs/stable/user_guide/indexing.html#returning-a-view-versus-a-copy\n",
            "  del sys.path[0]\n",
            "/usr/local/lib/python3.6/dist-packages/ipykernel_launcher.py:9: SettingWithCopyWarning: \n",
            "A value is trying to be set on a copy of a slice from a DataFrame\n",
            "\n",
            "See the caveats in the documentation: https://pandas.pydata.org/pandas-docs/stable/user_guide/indexing.html#returning-a-view-versus-a-copy\n",
            "  if __name__ == '__main__':\n",
            "/usr/local/lib/python3.6/dist-packages/ipykernel_launcher.py:17: SettingWithCopyWarning: \n",
            "A value is trying to be set on a copy of a slice from a DataFrame\n",
            "\n",
            "See the caveats in the documentation: https://pandas.pydata.org/pandas-docs/stable/user_guide/indexing.html#returning-a-view-versus-a-copy\n",
            "/usr/local/lib/python3.6/dist-packages/ipykernel_launcher.py:11: SettingWithCopyWarning: \n",
            "A value is trying to be set on a copy of a slice from a DataFrame\n",
            "\n",
            "See the caveats in the documentation: https://pandas.pydata.org/pandas-docs/stable/user_guide/indexing.html#returning-a-view-versus-a-copy\n",
            "  # This is added back by InteractiveShellApp.init_path()\n",
            "/usr/local/lib/python3.6/dist-packages/ipykernel_launcher.py:5: SettingWithCopyWarning: \n",
            "A value is trying to be set on a copy of a slice from a DataFrame\n",
            "\n",
            "See the caveats in the documentation: https://pandas.pydata.org/pandas-docs/stable/user_guide/indexing.html#returning-a-view-versus-a-copy\n",
            "  \"\"\"\n",
            "/usr/local/lib/python3.6/dist-packages/ipykernel_launcher.py:19: SettingWithCopyWarning: \n",
            "A value is trying to be set on a copy of a slice from a DataFrame\n",
            "\n",
            "See the caveats in the documentation: https://pandas.pydata.org/pandas-docs/stable/user_guide/indexing.html#returning-a-view-versus-a-copy\n",
            "/usr/local/lib/python3.6/dist-packages/ipykernel_launcher.py:15: SettingWithCopyWarning: \n",
            "A value is trying to be set on a copy of a slice from a DataFrame\n",
            "\n",
            "See the caveats in the documentation: https://pandas.pydata.org/pandas-docs/stable/user_guide/indexing.html#returning-a-view-versus-a-copy\n",
            "  from ipykernel import kernelapp as app\n",
            "/usr/local/lib/python3.6/dist-packages/ipykernel_launcher.py:7: SettingWithCopyWarning: \n",
            "A value is trying to be set on a copy of a slice from a DataFrame\n",
            "\n",
            "See the caveats in the documentation: https://pandas.pydata.org/pandas-docs/stable/user_guide/indexing.html#returning-a-view-versus-a-copy\n",
            "  import sys\n",
            "/usr/local/lib/python3.6/dist-packages/ipykernel_launcher.py:3: SettingWithCopyWarning: \n",
            "A value is trying to be set on a copy of a slice from a DataFrame\n",
            "\n",
            "See the caveats in the documentation: https://pandas.pydata.org/pandas-docs/stable/user_guide/indexing.html#returning-a-view-versus-a-copy\n",
            "  This is separate from the ipykernel package so we can avoid doing imports until\n"
          ],
          "name": "stderr"
        }
      ]
    },
    {
      "cell_type": "code",
      "metadata": {
        "id": "LcMJGhqIbhAx",
        "colab_type": "code",
        "colab": {
          "base_uri": "https://localhost:8080/",
          "height": 373
        },
        "outputId": "3ac9e397-2850-46a7-838a-840b2df03ceb"
      },
      "source": [
        "print(y.value_counts())"
      ],
      "execution_count": 19,
      "outputs": [
        {
          "output_type": "stream",
          "text": [
            "0     4985\n",
            "2     2787\n",
            "1     2768\n",
            "7     2768\n",
            "8     2764\n",
            "5     2750\n",
            "6     2736\n",
            "9     2730\n",
            "4     2712\n",
            "3     2695\n",
            "11    2379\n",
            "15    2360\n",
            "10    2329\n",
            "13    2315\n",
            "14    2287\n",
            "16    2277\n",
            "12    2262\n",
            "17    2070\n",
            "18    2026\n",
            "Name: Class, dtype: int64\n"
          ],
          "name": "stdout"
        }
      ]
    },
    {
      "cell_type": "code",
      "metadata": {
        "id": "aI-OtwkPgTMT",
        "colab_type": "code",
        "colab": {}
      },
      "source": [
        "Y = y"
      ],
      "execution_count": 0,
      "outputs": []
    },
    {
      "cell_type": "code",
      "metadata": {
        "id": "7TdaqsRH0AB-",
        "colab_type": "code",
        "colab": {}
      },
      "source": [
        "# Train and Test Split\n",
        "\n",
        "Xtrain, Xtest, Ytrain, Ytest = train_test_split(X, Y, test_size=0.10)"
      ],
      "execution_count": 0,
      "outputs": []
    },
    {
      "cell_type": "code",
      "metadata": {
        "id": "wnpXKZyy0ECq",
        "colab_type": "code",
        "outputId": "1a23bc76-629b-47b3-d470-80e7d63cb69a",
        "colab": {
          "base_uri": "https://localhost:8080/",
          "height": 53
        }
      },
      "source": [
        "print(Xtrain.shape, Ytrain.shape)\n",
        "print(Xtest.shape,  Ytest.shape)"
      ],
      "execution_count": 32,
      "outputs": [
        {
          "output_type": "stream",
          "text": [
            "(45000, 4, 23) (45000,)\n",
            "(5000, 4, 23) (5000,)\n"
          ],
          "name": "stdout"
        }
      ]
    },
    {
      "cell_type": "code",
      "metadata": {
        "id": "xnmOGn0t0Fnl",
        "colab_type": "code",
        "outputId": "ec4a5d4b-b66d-4686-e7b0-66b9c981ebf3",
        "colab": {
          "base_uri": "https://localhost:8080/",
          "height": 53
        }
      },
      "source": [
        "# Label Enconding\n",
        "\n",
        "Ytrain = zero_one_encoding(Ytrain)\n",
        "print(Ytrain.shape)\n",
        "\n",
        "Ytest = zero_one_encoding(Ytest)\n",
        "print(Ytest.shape)"
      ],
      "execution_count": 33,
      "outputs": [
        {
          "output_type": "stream",
          "text": [
            "(45000, 19)\n",
            "(5000, 19)\n"
          ],
          "name": "stdout"
        }
      ]
    },
    {
      "cell_type": "code",
      "metadata": {
        "id": "yQYkGd-OTg1U",
        "colab_type": "code",
        "outputId": "35d660b9-0950-462d-fad1-56b5001f20a3",
        "colab": {
          "base_uri": "https://localhost:8080/",
          "height": 35
        }
      },
      "source": [
        "Xtrain.shape"
      ],
      "execution_count": 34,
      "outputs": [
        {
          "output_type": "execute_result",
          "data": {
            "text/plain": [
              "(45000, 4, 23)"
            ]
          },
          "metadata": {
            "tags": []
          },
          "execution_count": 34
        }
      ]
    },
    {
      "cell_type": "code",
      "metadata": {
        "id": "GWD3-6eg0gJo",
        "colab_type": "code",
        "colab": {}
      },
      "source": [
        "def Network():\n",
        "    # Stage 0\n",
        "    input_data = Input(shape=(4, 23)) \n",
        "    \n",
        "    # Stage 1\n",
        "    x = Conv1D(filters=16, kernel_size=7, strides=1, padding='same', activation='relu')(input_data)\n",
        "    x = MaxPooling1D(pool_size=3, strides=2, padding='same')(x)\n",
        "    x = BatchNormalization()(x)\n",
        "    \n",
        "    # Stage 2\n",
        "    x = Conv1D(filters=32, kernel_size=5, strides=1, padding='same', activation='relu')(x)\n",
        "    x = MaxPooling1D(pool_size=3, strides=2, padding='same')(x)\n",
        "    x = BatchNormalization()(x)\n",
        "    \n",
        "    # Stage 3\n",
        "    x = Conv1D(filters=64, kernel_size=3, strides=1, padding='same', activation='relu')(x)\n",
        "    x = MaxPooling1D(pool_size=3, strides=2, padding='same')(x)\n",
        "    x = BatchNormalization()(x)\n",
        "\n",
        "    # Stage 4\n",
        "    x = Conv1D(filters=128, kernel_size=3, strides=1, padding='same', activation='relu')(x)\n",
        "    x = MaxPooling1D(pool_size=3, strides=2, padding='same')(x)\n",
        "    x = BatchNormalization()(x)\n",
        "    \n",
        "    # Stage 5\n",
        "    x = Conv1D(filters=128, kernel_size=3, strides=1, padding='same', activation='relu')(x)\n",
        "    x = MaxPooling1D(pool_size=3, strides=2, padding='same')(x)\n",
        "    x = BatchNormalization()(x)\n",
        "    \n",
        "    # Stage 6\n",
        "    x = Conv1D(filters=256, kernel_size=3, strides=1, padding='same', activation='relu')(x)\n",
        "    x = MaxPooling1D(pool_size=3, strides=2, padding='same')(x)\n",
        "    x = BatchNormalization()(x)\n",
        "    \n",
        "    x = Flatten()(x)\n",
        "    \n",
        "    # Stage 7\n",
        "    x = Dense(units=1024, activation='relu')(x)\n",
        "    x = BatchNormalization()(x)\n",
        "    x = Dropout(rate=0.25)(x)\n",
        "    \n",
        "    # Stage 8\n",
        "    output = Dense(units=19, activation='softmax')(x)\n",
        "\n",
        "    return Model(inputs=[input_data], outputs=[output])"
      ],
      "execution_count": 0,
      "outputs": []
    },
    {
      "cell_type": "code",
      "metadata": {
        "id": "AJ37HjdiTq81",
        "colab_type": "code",
        "outputId": "cf35bcc8-db50-4b02-ee7f-ed0356cad02c",
        "colab": {
          "base_uri": "https://localhost:8080/",
          "height": 1000
        }
      },
      "source": [
        "model = Network()\n",
        "model.summary()\n",
        "plot_model(model, to_file='model-50000.png', show_shapes=True, show_layer_names=False, expand_nested=True)"
      ],
      "execution_count": 36,
      "outputs": [
        {
          "output_type": "stream",
          "text": [
            "Model: \"model_2\"\n",
            "_________________________________________________________________\n",
            "Layer (type)                 Output Shape              Param #   \n",
            "=================================================================\n",
            "input_3 (InputLayer)         [(None, 4, 23)]           0         \n",
            "_________________________________________________________________\n",
            "conv1d_12 (Conv1D)           (None, 4, 16)             2592      \n",
            "_________________________________________________________________\n",
            "max_pooling1d_12 (MaxPooling (None, 2, 16)             0         \n",
            "_________________________________________________________________\n",
            "batch_normalization_14 (Batc (None, 2, 16)             64        \n",
            "_________________________________________________________________\n",
            "conv1d_13 (Conv1D)           (None, 2, 32)             2592      \n",
            "_________________________________________________________________\n",
            "max_pooling1d_13 (MaxPooling (None, 1, 32)             0         \n",
            "_________________________________________________________________\n",
            "batch_normalization_15 (Batc (None, 1, 32)             128       \n",
            "_________________________________________________________________\n",
            "conv1d_14 (Conv1D)           (None, 1, 64)             6208      \n",
            "_________________________________________________________________\n",
            "max_pooling1d_14 (MaxPooling (None, 1, 64)             0         \n",
            "_________________________________________________________________\n",
            "batch_normalization_16 (Batc (None, 1, 64)             256       \n",
            "_________________________________________________________________\n",
            "conv1d_15 (Conv1D)           (None, 1, 128)            24704     \n",
            "_________________________________________________________________\n",
            "max_pooling1d_15 (MaxPooling (None, 1, 128)            0         \n",
            "_________________________________________________________________\n",
            "batch_normalization_17 (Batc (None, 1, 128)            512       \n",
            "_________________________________________________________________\n",
            "conv1d_16 (Conv1D)           (None, 1, 128)            49280     \n",
            "_________________________________________________________________\n",
            "max_pooling1d_16 (MaxPooling (None, 1, 128)            0         \n",
            "_________________________________________________________________\n",
            "batch_normalization_18 (Batc (None, 1, 128)            512       \n",
            "_________________________________________________________________\n",
            "conv1d_17 (Conv1D)           (None, 1, 256)            98560     \n",
            "_________________________________________________________________\n",
            "max_pooling1d_17 (MaxPooling (None, 1, 256)            0         \n",
            "_________________________________________________________________\n",
            "batch_normalization_19 (Batc (None, 1, 256)            1024      \n",
            "_________________________________________________________________\n",
            "flatten_2 (Flatten)          (None, 256)               0         \n",
            "_________________________________________________________________\n",
            "dense_4 (Dense)              (None, 1024)              263168    \n",
            "_________________________________________________________________\n",
            "batch_normalization_20 (Batc (None, 1024)              4096      \n",
            "_________________________________________________________________\n",
            "dropout_2 (Dropout)          (None, 1024)              0         \n",
            "_________________________________________________________________\n",
            "dense_5 (Dense)              (None, 19)                19475     \n",
            "=================================================================\n",
            "Total params: 473,171\n",
            "Trainable params: 469,875\n",
            "Non-trainable params: 3,296\n",
            "_________________________________________________________________\n"
          ],
          "name": "stdout"
        },
        {
          "output_type": "execute_result",
          "data": {
            "image/png": "[encoded data removed]",
            "text/plain": [
              "<IPython.core.display.Image object>"
            ]
          },
          "metadata": {
            "tags": []
          },
          "execution_count": 36
        }
      ]
    },
    {
      "cell_type": "code",
      "metadata": {
        "id": "ctZbwz7EUSja",
        "colab_type": "code",
        "outputId": "e4be8f56-de2b-4fd0-8b75-48d334e5f70d",
        "colab": {
          "base_uri": "https://localhost:8080/",
          "height": 53
        }
      },
      "source": [
        "print(X.shape)\n",
        "print(Y.shape)"
      ],
      "execution_count": 37,
      "outputs": [
        {
          "output_type": "stream",
          "text": [
            "(50000, 4, 23)\n",
            "(50000,)\n"
          ],
          "name": "stdout"
        }
      ]
    },
    {
      "cell_type": "code",
      "metadata": {
        "id": "b4s2P93p6FRy",
        "colab_type": "code",
        "outputId": "1008f1be-466b-4f83-9cbc-5cd2504674f5",
        "colab": {
          "base_uri": "https://localhost:8080/",
          "height": 88
        }
      },
      "source": [
        "help(MaxPooling1D.__init__)"
      ],
      "execution_count": 38,
      "outputs": [
        {
          "output_type": "stream",
          "text": [
            "Help on function __init__ in module tensorflow.python.keras.layers.pooling:\n",
            "\n",
            "__init__(self, pool_size=2, strides=None, padding='valid', data_format='channels_last', **kwargs)\n",
            "\n"
          ],
          "name": "stdout"
        }
      ]
    },
    {
      "cell_type": "code",
      "metadata": {
        "id": "LjuWsyro4I6P",
        "colab_type": "code",
        "colab": {}
      },
      "source": [
        "setEpochNumber     = 100\n",
        "setBatchSizeNumber = 64"
      ],
      "execution_count": 0,
      "outputs": []
    },
    {
      "cell_type": "code",
      "metadata": {
        "id": "UnrHVj0U2Cvt",
        "colab_type": "code",
        "outputId": "9a27e8f3-6c87-426f-8bff-0d7e233bad3f",
        "colab": {
          "base_uri": "https://localhost:8080/",
          "height": 1000
        }
      },
      "source": [
        "# Setting up the model\n",
        "\n",
        "model = Network()\n",
        "model.compile(optimizer=Adam(), # learning_rate=0.005\n",
        "              loss='categorical_crossentropy',\n",
        "              metrics=['accuracy'])\n",
        "\n",
        "\n",
        "# Train the model\n",
        "\n",
        "results = model.fit(x=Xtrain, y=Ytrain,\n",
        "                    validation_split=0.10,\n",
        "                    batch_size=setBatchSizeNumber, epochs=setEpochNumber)"
      ],
      "execution_count": 40,
      "outputs": [
        {
          "output_type": "stream",
          "text": [
            "Epoch 1/100\n",
            "633/633 [==============================] - 8s 13ms/step - loss: 3.3603 - accuracy: 0.0643 - val_loss: 3.0570 - val_accuracy: 0.0711\n",
            "Epoch 2/100\n",
            "633/633 [==============================] - 8s 12ms/step - loss: 3.1052 - accuracy: 0.0759 - val_loss: 3.0775 - val_accuracy: 0.0853\n",
            "Epoch 3/100\n",
            "633/633 [==============================] - 8s 12ms/step - loss: 3.0713 - accuracy: 0.0876 - val_loss: 3.0231 - val_accuracy: 0.1024\n",
            "Epoch 4/100\n",
            "633/633 [==============================] - 8s 13ms/step - loss: 3.0437 - accuracy: 0.0932 - val_loss: 3.0003 - val_accuracy: 0.0960\n",
            "Epoch 5/100\n",
            "633/633 [==============================] - 9s 14ms/step - loss: 3.0155 - accuracy: 0.0997 - val_loss: 3.1440 - val_accuracy: 0.1004\n",
            "Epoch 6/100\n",
            "633/633 [==============================] - 9s 13ms/step - loss: 2.9971 - accuracy: 0.1012 - val_loss: 3.0667 - val_accuracy: 0.1004\n",
            "Epoch 7/100\n",
            "633/633 [==============================] - 9s 14ms/step - loss: 2.9671 - accuracy: 0.1108 - val_loss: 3.0893 - val_accuracy: 0.1153\n",
            "Epoch 8/100\n",
            "633/633 [==============================] - 9s 14ms/step - loss: 2.9458 - accuracy: 0.1147 - val_loss: 3.1078 - val_accuracy: 0.1184\n",
            "Epoch 9/100\n",
            "633/633 [==============================] - 9s 15ms/step - loss: 2.9296 - accuracy: 0.1213 - val_loss: 3.0022 - val_accuracy: 0.1216\n",
            "Epoch 10/100\n",
            "633/633 [==============================] - 9s 14ms/step - loss: 2.9026 - accuracy: 0.1299 - val_loss: 3.0297 - val_accuracy: 0.1189\n",
            "Epoch 11/100\n",
            "633/633 [==============================] - 8s 13ms/step - loss: 2.8769 - accuracy: 0.1317 - val_loss: 2.9612 - val_accuracy: 0.1209\n",
            "Epoch 12/100\n",
            "633/633 [==============================] - 8s 13ms/step - loss: 2.8540 - accuracy: 0.1395 - val_loss: 3.0120 - val_accuracy: 0.1242\n",
            "Epoch 13/100\n",
            "633/633 [==============================] - 8s 13ms/step - loss: 2.8293 - accuracy: 0.1452 - val_loss: 3.0186 - val_accuracy: 0.1149\n",
            "Epoch 14/100\n",
            "633/633 [==============================] - 8s 13ms/step - loss: 2.8025 - accuracy: 0.1510 - val_loss: 2.9856 - val_accuracy: 0.1307\n",
            "Epoch 15/100\n",
            "633/633 [==============================] - 8s 13ms/step - loss: 2.7741 - accuracy: 0.1601 - val_loss: 2.9578 - val_accuracy: 0.1344\n",
            "Epoch 16/100\n",
            "633/633 [==============================] - 8s 13ms/step - loss: 2.7547 - accuracy: 0.1613 - val_loss: 2.9321 - val_accuracy: 0.1280\n",
            "Epoch 17/100\n",
            "633/633 [==============================] - 8s 13ms/step - loss: 2.7324 - accuracy: 0.1676 - val_loss: 2.9087 - val_accuracy: 0.1384\n",
            "Epoch 18/100\n",
            "633/633 [==============================] - 8s 13ms/step - loss: 2.7074 - accuracy: 0.1751 - val_loss: 2.9317 - val_accuracy: 0.1382\n",
            "Epoch 19/100\n",
            "633/633 [==============================] - 8s 13ms/step - loss: 2.6898 - accuracy: 0.1785 - val_loss: 2.9089 - val_accuracy: 0.1420\n",
            "Epoch 20/100\n",
            "633/633 [==============================] - 8s 13ms/step - loss: 2.6745 - accuracy: 0.1848 - val_loss: 2.9068 - val_accuracy: 0.1471\n",
            "Epoch 21/100\n",
            "633/633 [==============================] - 8s 13ms/step - loss: 2.6597 - accuracy: 0.1897 - val_loss: 2.9194 - val_accuracy: 0.1440\n",
            "Epoch 22/100\n",
            "633/633 [==============================] - 8s 13ms/step - loss: 2.6458 - accuracy: 0.1952 - val_loss: 2.9172 - val_accuracy: 0.1436\n",
            "Epoch 23/100\n",
            "633/633 [==============================] - 8s 13ms/step - loss: 2.6263 - accuracy: 0.2011 - val_loss: 2.9313 - val_accuracy: 0.1349\n",
            "Epoch 24/100\n",
            "633/633 [==============================] - 8s 13ms/step - loss: 2.6112 - accuracy: 0.2043 - val_loss: 2.9429 - val_accuracy: 0.1358\n",
            "Epoch 25/100\n",
            "633/633 [==============================] - 8s 13ms/step - loss: 2.5957 - accuracy: 0.2094 - val_loss: 2.9211 - val_accuracy: 0.1424\n",
            "Epoch 26/100\n",
            "633/633 [==============================] - 8s 13ms/step - loss: 2.5830 - accuracy: 0.2152 - val_loss: 2.9441 - val_accuracy: 0.1382\n",
            "Epoch 27/100\n",
            "633/633 [==============================] - 8s 13ms/step - loss: 2.5665 - accuracy: 0.2191 - val_loss: 2.9671 - val_accuracy: 0.1404\n",
            "Epoch 28/100\n",
            "633/633 [==============================] - 8s 13ms/step - loss: 2.5514 - accuracy: 0.2213 - val_loss: 2.9400 - val_accuracy: 0.1502\n",
            "Epoch 29/100\n",
            "633/633 [==============================] - 8s 13ms/step - loss: 2.5362 - accuracy: 0.2268 - val_loss: 2.9715 - val_accuracy: 0.1473\n",
            "Epoch 30/100\n",
            "633/633 [==============================] - 8s 13ms/step - loss: 2.5195 - accuracy: 0.2332 - val_loss: 2.9467 - val_accuracy: 0.1542\n",
            "Epoch 31/100\n",
            "633/633 [==============================] - 9s 14ms/step - loss: 2.5044 - accuracy: 0.2377 - val_loss: 2.9772 - val_accuracy: 0.1513\n",
            "Epoch 32/100\n",
            "633/633 [==============================] - 9s 14ms/step - loss: 2.4945 - accuracy: 0.2384 - val_loss: 2.9916 - val_accuracy: 0.1489\n",
            "Epoch 33/100\n",
            "633/633 [==============================] - 9s 14ms/step - loss: 2.4795 - accuracy: 0.2449 - val_loss: 2.9887 - val_accuracy: 0.1500\n",
            "Epoch 34/100\n",
            "633/633 [==============================] - 9s 14ms/step - loss: 2.4595 - accuracy: 0.2472 - val_loss: 3.0042 - val_accuracy: 0.1591\n",
            "Epoch 35/100\n",
            "633/633 [==============================] - 8s 13ms/step - loss: 2.4529 - accuracy: 0.2531 - val_loss: 2.9923 - val_accuracy: 0.1613\n",
            "Epoch 36/100\n",
            "633/633 [==============================] - 8s 13ms/step - loss: 2.4326 - accuracy: 0.2585 - val_loss: 3.0057 - val_accuracy: 0.1560\n",
            "Epoch 37/100\n",
            "633/633 [==============================] - 8s 13ms/step - loss: 2.4166 - accuracy: 0.2628 - val_loss: 3.0336 - val_accuracy: 0.1593\n",
            "Epoch 38/100\n",
            "633/633 [==============================] - 8s 13ms/step - loss: 2.4077 - accuracy: 0.2671 - val_loss: 3.0147 - val_accuracy: 0.1589\n",
            "Epoch 39/100\n",
            "633/633 [==============================] - 8s 13ms/step - loss: 2.3902 - accuracy: 0.2721 - val_loss: 3.0511 - val_accuracy: 0.1518\n",
            "Epoch 40/100\n",
            "633/633 [==============================] - 8s 13ms/step - loss: 2.3767 - accuracy: 0.2738 - val_loss: 3.0355 - val_accuracy: 0.1607\n",
            "Epoch 41/100\n",
            "633/633 [==============================] - 8s 13ms/step - loss: 2.3607 - accuracy: 0.2778 - val_loss: 3.0721 - val_accuracy: 0.1611\n",
            "Epoch 42/100\n",
            "633/633 [==============================] - 8s 13ms/step - loss: 2.3509 - accuracy: 0.2805 - val_loss: 3.0806 - val_accuracy: 0.1564\n",
            "Epoch 43/100\n",
            "633/633 [==============================] - 8s 13ms/step - loss: 2.3428 - accuracy: 0.2851 - val_loss: 3.0699 - val_accuracy: 0.1604\n",
            "Epoch 44/100\n",
            "633/633 [==============================] - 9s 14ms/step - loss: 2.3252 - accuracy: 0.2877 - val_loss: 3.0892 - val_accuracy: 0.1644\n",
            "Epoch 45/100\n",
            "633/633 [==============================] - 8s 13ms/step - loss: 2.3155 - accuracy: 0.2911 - val_loss: 3.0497 - val_accuracy: 0.1562\n",
            "Epoch 46/100\n",
            "633/633 [==============================] - 9s 15ms/step - loss: 2.2991 - accuracy: 0.2984 - val_loss: 3.0920 - val_accuracy: 0.1604\n",
            "Epoch 47/100\n",
            "633/633 [==============================] - 9s 13ms/step - loss: 2.2841 - accuracy: 0.3023 - val_loss: 3.1109 - val_accuracy: 0.1611\n",
            "Epoch 48/100\n",
            "633/633 [==============================] - 8s 13ms/step - loss: 2.2795 - accuracy: 0.3040 - val_loss: 3.0883 - val_accuracy: 0.1607\n",
            "Epoch 49/100\n",
            "633/633 [==============================] - 8s 13ms/step - loss: 2.2619 - accuracy: 0.3090 - val_loss: 3.1481 - val_accuracy: 0.1611\n",
            "Epoch 50/100\n",
            "633/633 [==============================] - 8s 13ms/step - loss: 2.2509 - accuracy: 0.3109 - val_loss: 3.1382 - val_accuracy: 0.1627\n",
            "Epoch 51/100\n",
            "633/633 [==============================] - 8s 13ms/step - loss: 2.2402 - accuracy: 0.3119 - val_loss: 3.1344 - val_accuracy: 0.1656\n",
            "Epoch 52/100\n",
            "633/633 [==============================] - 8s 13ms/step - loss: 2.2273 - accuracy: 0.3164 - val_loss: 3.1700 - val_accuracy: 0.1631\n",
            "Epoch 53/100\n",
            "633/633 [==============================] - 8s 13ms/step - loss: 2.2104 - accuracy: 0.3244 - val_loss: 3.1544 - val_accuracy: 0.1649\n",
            "Epoch 54/100\n",
            "633/633 [==============================] - 8s 13ms/step - loss: 2.2146 - accuracy: 0.3223 - val_loss: 3.1610 - val_accuracy: 0.1578\n",
            "Epoch 55/100\n",
            "633/633 [==============================] - 8s 13ms/step - loss: 2.1944 - accuracy: 0.3245 - val_loss: 3.1820 - val_accuracy: 0.1589\n",
            "Epoch 56/100\n",
            "633/633 [==============================] - 8s 13ms/step - loss: 2.1897 - accuracy: 0.3274 - val_loss: 3.1838 - val_accuracy: 0.1680\n",
            "Epoch 57/100\n",
            "633/633 [==============================] - 8s 13ms/step - loss: 2.1710 - accuracy: 0.3348 - val_loss: 3.2168 - val_accuracy: 0.1678\n",
            "Epoch 58/100\n",
            "633/633 [==============================] - 8s 12ms/step - loss: 2.1682 - accuracy: 0.3319 - val_loss: 3.1985 - val_accuracy: 0.1691\n",
            "Epoch 59/100\n",
            "633/633 [==============================] - 8s 13ms/step - loss: 2.1632 - accuracy: 0.3375 - val_loss: 3.2091 - val_accuracy: 0.1673\n",
            "Epoch 60/100\n",
            "633/633 [==============================] - 8s 12ms/step - loss: 2.1456 - accuracy: 0.3397 - val_loss: 3.2366 - val_accuracy: 0.1624\n",
            "Epoch 61/100\n",
            "633/633 [==============================] - 8s 13ms/step - loss: 2.1322 - accuracy: 0.3437 - val_loss: 3.2106 - val_accuracy: 0.1638\n",
            "Epoch 62/100\n",
            "633/633 [==============================] - 8s 13ms/step - loss: 2.1245 - accuracy: 0.3468 - val_loss: 3.2741 - val_accuracy: 0.1671\n",
            "Epoch 63/100\n",
            "633/633 [==============================] - 8s 13ms/step - loss: 2.1118 - accuracy: 0.3497 - val_loss: 3.2688 - val_accuracy: 0.1638\n",
            "Epoch 64/100\n",
            "633/633 [==============================] - 8s 13ms/step - loss: 2.1010 - accuracy: 0.3556 - val_loss: 3.2532 - val_accuracy: 0.1693\n",
            "Epoch 65/100\n",
            "633/633 [==============================] - 8s 12ms/step - loss: 2.0909 - accuracy: 0.3583 - val_loss: 3.3015 - val_accuracy: 0.1607\n",
            "Epoch 66/100\n",
            "633/633 [==============================] - 8s 13ms/step - loss: 2.0744 - accuracy: 0.3606 - val_loss: 3.2892 - val_accuracy: 0.1704\n",
            "Epoch 67/100\n",
            "633/633 [==============================] - 8s 13ms/step - loss: 2.0693 - accuracy: 0.3647 - val_loss: 3.3034 - val_accuracy: 0.1653\n",
            "Epoch 68/100\n",
            "633/633 [==============================] - 8s 13ms/step - loss: 2.0652 - accuracy: 0.3632 - val_loss: 3.3025 - val_accuracy: 0.1662\n",
            "Epoch 69/100\n",
            "633/633 [==============================] - 8s 13ms/step - loss: 2.0560 - accuracy: 0.3695 - val_loss: 3.3049 - val_accuracy: 0.1689\n",
            "Epoch 70/100\n",
            "633/633 [==============================] - 8s 13ms/step - loss: 2.0525 - accuracy: 0.3646 - val_loss: 3.3253 - val_accuracy: 0.1720\n",
            "Epoch 71/100\n",
            "633/633 [==============================] - 8s 13ms/step - loss: 2.0387 - accuracy: 0.3740 - val_loss: 3.3388 - val_accuracy: 0.1618\n",
            "Epoch 72/100\n",
            "633/633 [==============================] - 8s 13ms/step - loss: 2.0352 - accuracy: 0.3751 - val_loss: 3.3507 - val_accuracy: 0.1667\n",
            "Epoch 73/100\n",
            "633/633 [==============================] - 8s 13ms/step - loss: 2.0174 - accuracy: 0.3798 - val_loss: 3.3253 - val_accuracy: 0.1702\n",
            "Epoch 74/100\n",
            "633/633 [==============================] - 8s 13ms/step - loss: 2.0175 - accuracy: 0.3796 - val_loss: 3.3191 - val_accuracy: 0.1676\n",
            "Epoch 75/100\n",
            "633/633 [==============================] - 8s 13ms/step - loss: 2.0029 - accuracy: 0.3819 - val_loss: 3.3717 - val_accuracy: 0.1678\n",
            "Epoch 76/100\n",
            "633/633 [==============================] - 8s 13ms/step - loss: 1.9931 - accuracy: 0.3837 - val_loss: 3.3603 - val_accuracy: 0.1647\n",
            "Epoch 77/100\n",
            "633/633 [==============================] - 8s 13ms/step - loss: 1.9872 - accuracy: 0.3900 - val_loss: 3.3570 - val_accuracy: 0.1691\n",
            "Epoch 78/100\n",
            "633/633 [==============================] - 8s 13ms/step - loss: 1.9730 - accuracy: 0.3925 - val_loss: 3.3804 - val_accuracy: 0.1638\n",
            "Epoch 79/100\n",
            "633/633 [==============================] - 8s 13ms/step - loss: 1.9692 - accuracy: 0.3942 - val_loss: 3.3604 - val_accuracy: 0.1691\n",
            "Epoch 80/100\n",
            "633/633 [==============================] - 8s 12ms/step - loss: 1.9573 - accuracy: 0.3960 - val_loss: 3.3715 - val_accuracy: 0.1700\n",
            "Epoch 81/100\n",
            "633/633 [==============================] - 8s 12ms/step - loss: 1.9524 - accuracy: 0.3990 - val_loss: 3.3975 - val_accuracy: 0.1751\n",
            "Epoch 82/100\n",
            "633/633 [==============================] - 8s 12ms/step - loss: 1.9466 - accuracy: 0.4006 - val_loss: 3.4056 - val_accuracy: 0.1667\n",
            "Epoch 83/100\n",
            "633/633 [==============================] - 8s 13ms/step - loss: 1.9393 - accuracy: 0.4022 - val_loss: 3.4321 - val_accuracy: 0.1684\n",
            "Epoch 84/100\n",
            "633/633 [==============================] - 8s 13ms/step - loss: 1.9258 - accuracy: 0.4084 - val_loss: 3.4079 - val_accuracy: 0.1722\n",
            "Epoch 85/100\n",
            "633/633 [==============================] - 8s 13ms/step - loss: 1.9186 - accuracy: 0.4079 - val_loss: 3.4584 - val_accuracy: 0.1711\n",
            "Epoch 86/100\n",
            "633/633 [==============================] - 8s 13ms/step - loss: 1.9163 - accuracy: 0.4057 - val_loss: 3.4233 - val_accuracy: 0.1704\n",
            "Epoch 87/100\n",
            "633/633 [==============================] - 8s 13ms/step - loss: 1.9091 - accuracy: 0.4095 - val_loss: 3.4482 - val_accuracy: 0.1711\n",
            "Epoch 88/100\n",
            "633/633 [==============================] - 8s 13ms/step - loss: 1.8965 - accuracy: 0.4129 - val_loss: 3.4615 - val_accuracy: 0.1740\n",
            "Epoch 89/100\n",
            "633/633 [==============================] - 8s 12ms/step - loss: 1.8930 - accuracy: 0.4139 - val_loss: 3.4241 - val_accuracy: 0.1736\n",
            "Epoch 90/100\n",
            "633/633 [==============================] - 8s 12ms/step - loss: 1.8892 - accuracy: 0.4153 - val_loss: 3.4787 - val_accuracy: 0.1713\n",
            "Epoch 91/100\n",
            "633/633 [==============================] - 8s 13ms/step - loss: 1.8774 - accuracy: 0.4204 - val_loss: 3.4403 - val_accuracy: 0.1742\n",
            "Epoch 92/100\n",
            "633/633 [==============================] - 8s 12ms/step - loss: 1.8681 - accuracy: 0.4188 - val_loss: 3.4854 - val_accuracy: 0.1727\n",
            "Epoch 93/100\n",
            "633/633 [==============================] - 8s 12ms/step - loss: 1.8588 - accuracy: 0.4257 - val_loss: 3.4917 - val_accuracy: 0.1707\n",
            "Epoch 94/100\n",
            "633/633 [==============================] - 8s 12ms/step - loss: 1.8533 - accuracy: 0.4291 - val_loss: 3.4559 - val_accuracy: 0.1738\n",
            "Epoch 95/100\n",
            "633/633 [==============================] - 8s 12ms/step - loss: 1.8417 - accuracy: 0.4302 - val_loss: 3.4744 - val_accuracy: 0.1762\n",
            "Epoch 96/100\n",
            "633/633 [==============================] - 8s 12ms/step - loss: 1.8429 - accuracy: 0.4299 - val_loss: 3.4837 - val_accuracy: 0.1716\n",
            "Epoch 97/100\n",
            "633/633 [==============================] - 8s 12ms/step - loss: 1.8346 - accuracy: 0.4310 - val_loss: 3.5087 - val_accuracy: 0.1771\n",
            "Epoch 98/100\n",
            "633/633 [==============================] - 8s 12ms/step - loss: 1.8184 - accuracy: 0.4337 - val_loss: 3.5283 - val_accuracy: 0.1742\n",
            "Epoch 99/100\n",
            "633/633 [==============================] - 8s 12ms/step - loss: 1.8180 - accuracy: 0.4356 - val_loss: 3.5406 - val_accuracy: 0.1720\n",
            "Epoch 100/100\n",
            "633/633 [==============================] - 8s 12ms/step - loss: 1.8174 - accuracy: 0.4365 - val_loss: 3.5138 - val_accuracy: 0.1727\n"
          ],
          "name": "stdout"
        }
      ]
    },
    {
      "cell_type": "code",
      "metadata": {
        "id": "0-ACDq3k27F0",
        "colab_type": "code",
        "outputId": "eae84be7-6bf7-4c9b-e94a-087cf22f4b19",
        "colab": {
          "base_uri": "https://localhost:8080/",
          "height": 88
        }
      },
      "source": [
        "# Evaluation\n",
        "\n",
        "print('Training Accuracy: {}'.format(model.evaluate(Xtrain, Ytrain)))\n",
        "print('Testing  Accuracy: {}'.format(model.evaluate(Xtest,  Ytest)))"
      ],
      "execution_count": 41,
      "outputs": [
        {
          "output_type": "stream",
          "text": [
            "1407/1407 [==============================] - 3s 2ms/step - loss: 1.3845 - accuracy: 0.6321\n",
            "Training Accuracy: [1.3845127820968628, 0.6321333050727844]\n",
            "157/157 [==============================] - 0s 2ms/step - loss: 3.4858 - accuracy: 0.1812\n",
            "Testing  Accuracy: [3.4857664108276367, 0.18119999766349792]\n"
          ],
          "name": "stdout"
        }
      ]
    },
    {
      "cell_type": "code",
      "metadata": {
        "id": "rEeoGTfm22E4",
        "colab_type": "code",
        "colab": {}
      },
      "source": [
        ""
      ],
      "execution_count": 0,
      "outputs": []
    }
  ]
}