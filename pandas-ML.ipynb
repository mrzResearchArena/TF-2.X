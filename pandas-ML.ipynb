{
  "nbformat": 4,
  "nbformat_minor": 0,
  "metadata": {
    "colab": {
      "name": "pandas-ML.ipynb",
      "provenance": [],
      "authorship_tag": "ABX9TyPFZ3bYNvUOvmWKQIwVYOzh",
      "include_colab_link": true
    },
    "kernelspec": {
      "name": "python3",
      "display_name": "Python 3"
    }
  },
  "cells": [
    {
      "cell_type": "markdown",
      "metadata": {
        "id": "view-in-github",
        "colab_type": "text"
      },
      "source": [
        "<a href=\"https://colab.research.google.com/github/mrzResearchArena/TF-2.X/blob/master/pandas-ML.ipynb\" target=\"_parent\"><img src=\"https://colab.research.google.com/assets/colab-badge.svg\" alt=\"Open In Colab\"/></a>"
      ]
    },
    {
      "cell_type": "code",
      "metadata": {
        "id": "l4xL5ACHOFlr",
        "colab_type": "code",
        "colab": {}
      },
      "source": [
        "import pandas as pd\n",
        "import numpy  as np\n",
        "import matplotlib.pyplot as plt"
      ],
      "execution_count": 0,
      "outputs": []
    },
    {
      "cell_type": "markdown",
      "metadata": {
        "id": "p213tUKqSqag",
        "colab_type": "text"
      },
      "source": [
        "### [1]. Data Frame:"
      ]
    },
    {
      "cell_type": "code",
      "metadata": {
        "id": "imUNQpX6SxJI",
        "colab_type": "code",
        "outputId": "fb9d4222-dd1b-4d37-94c6-7b9a24aa30fd",
        "colab": {
          "base_uri": "https://localhost:8080/",
          "height": 143
        }
      },
      "source": [
        "D = pd.DataFrame(\n",
        "    data={'column-1':[10, 20, 30], 'column-2':[5, 7, 9],}   ### Core Dictionary Type\n",
        ")\n",
        "\n",
        "D"
      ],
      "execution_count": 26,
      "outputs": [
        {
          "output_type": "execute_result",
          "data": {
            "text/html": [
              "<div>\n",
              "<style scoped>\n",
              "    .dataframe tbody tr th:only-of-type {\n",
              "        vertical-align: middle;\n",
              "    }\n",
              "\n",
              "    .dataframe tbody tr th {\n",
              "        vertical-align: top;\n",
              "    }\n",
              "\n",
              "    .dataframe thead th {\n",
              "        text-align: right;\n",
              "    }\n",
              "</style>\n",
              "<table border=\"1\" class=\"dataframe\">\n",
              "  <thead>\n",
              "    <tr style=\"text-align: right;\">\n",
              "      <th></th>\n",
              "      <th>column-1</th>\n",
              "      <th>column-2</th>\n",
              "    </tr>\n",
              "  </thead>\n",
              "  <tbody>\n",
              "    <tr>\n",
              "      <th>0</th>\n",
              "      <td>10</td>\n",
              "      <td>5</td>\n",
              "    </tr>\n",
              "    <tr>\n",
              "      <th>1</th>\n",
              "      <td>20</td>\n",
              "      <td>7</td>\n",
              "    </tr>\n",
              "    <tr>\n",
              "      <th>2</th>\n",
              "      <td>30</td>\n",
              "      <td>9</td>\n",
              "    </tr>\n",
              "  </tbody>\n",
              "</table>\n",
              "</div>"
            ],
            "text/plain": [
              "   column-1  column-2\n",
              "0        10         5\n",
              "1        20         7\n",
              "2        30         9"
            ]
          },
          "metadata": {
            "tags": []
          },
          "execution_count": 26
        }
      ]
    },
    {
      "cell_type": "code",
      "metadata": {
        "id": "qfRiX4L9UkZu",
        "colab_type": "code",
        "outputId": "6b89c479-38d4-4c6f-8d83-d197fdf4d943",
        "colab": {
          "base_uri": "https://localhost:8080/",
          "height": 112
        }
      },
      "source": [
        "D = pd.DataFrame(\n",
        "    data=[[10, 20, 30], [5, 7, 9]],   ### Core Array Type\n",
        "    columns=['column-1', 'column-2', 'column-3'],\n",
        ")\n",
        "\n",
        "D"
      ],
      "execution_count": 27,
      "outputs": [
        {
          "output_type": "execute_result",
          "data": {
            "text/html": [
              "<div>\n",
              "<style scoped>\n",
              "    .dataframe tbody tr th:only-of-type {\n",
              "        vertical-align: middle;\n",
              "    }\n",
              "\n",
              "    .dataframe tbody tr th {\n",
              "        vertical-align: top;\n",
              "    }\n",
              "\n",
              "    .dataframe thead th {\n",
              "        text-align: right;\n",
              "    }\n",
              "</style>\n",
              "<table border=\"1\" class=\"dataframe\">\n",
              "  <thead>\n",
              "    <tr style=\"text-align: right;\">\n",
              "      <th></th>\n",
              "      <th>column-1</th>\n",
              "      <th>column-2</th>\n",
              "      <th>column-3</th>\n",
              "    </tr>\n",
              "  </thead>\n",
              "  <tbody>\n",
              "    <tr>\n",
              "      <th>0</th>\n",
              "      <td>10</td>\n",
              "      <td>20</td>\n",
              "      <td>30</td>\n",
              "    </tr>\n",
              "    <tr>\n",
              "      <th>1</th>\n",
              "      <td>5</td>\n",
              "      <td>7</td>\n",
              "      <td>9</td>\n",
              "    </tr>\n",
              "  </tbody>\n",
              "</table>\n",
              "</div>"
            ],
            "text/plain": [
              "   column-1  column-2  column-3\n",
              "0        10        20        30\n",
              "1         5         7         9"
            ]
          },
          "metadata": {
            "tags": []
          },
          "execution_count": 27
        }
      ]
    },
    {
      "cell_type": "code",
      "metadata": {
        "id": "Ayx1PNdnVRMy",
        "colab_type": "code",
        "outputId": "2bd45c04-1716-4ae7-953a-33eed9fb3acc",
        "colab": {
          "base_uri": "https://localhost:8080/",
          "height": 363
        }
      },
      "source": [
        "D = pd.DataFrame(\n",
        "    data=np.random.randn(10, 3),   ### Core Array Type\n",
        "    columns=['column-1', 'column-2', 'column-3'],\n",
        ")\n",
        "\n",
        "D"
      ],
      "execution_count": 28,
      "outputs": [
        {
          "output_type": "execute_result",
          "data": {
            "text/html": [
              "<div>\n",
              "<style scoped>\n",
              "    .dataframe tbody tr th:only-of-type {\n",
              "        vertical-align: middle;\n",
              "    }\n",
              "\n",
              "    .dataframe tbody tr th {\n",
              "        vertical-align: top;\n",
              "    }\n",
              "\n",
              "    .dataframe thead th {\n",
              "        text-align: right;\n",
              "    }\n",
              "</style>\n",
              "<table border=\"1\" class=\"dataframe\">\n",
              "  <thead>\n",
              "    <tr style=\"text-align: right;\">\n",
              "      <th></th>\n",
              "      <th>column-1</th>\n",
              "      <th>column-2</th>\n",
              "      <th>column-3</th>\n",
              "    </tr>\n",
              "  </thead>\n",
              "  <tbody>\n",
              "    <tr>\n",
              "      <th>0</th>\n",
              "      <td>0.241763</td>\n",
              "      <td>1.812227</td>\n",
              "      <td>-1.682698</td>\n",
              "    </tr>\n",
              "    <tr>\n",
              "      <th>1</th>\n",
              "      <td>-0.515375</td>\n",
              "      <td>-0.655312</td>\n",
              "      <td>-0.326040</td>\n",
              "    </tr>\n",
              "    <tr>\n",
              "      <th>2</th>\n",
              "      <td>0.244457</td>\n",
              "      <td>-0.796213</td>\n",
              "      <td>0.631400</td>\n",
              "    </tr>\n",
              "    <tr>\n",
              "      <th>3</th>\n",
              "      <td>1.563980</td>\n",
              "      <td>-0.965852</td>\n",
              "      <td>0.210338</td>\n",
              "    </tr>\n",
              "    <tr>\n",
              "      <th>4</th>\n",
              "      <td>-1.478983</td>\n",
              "      <td>0.862366</td>\n",
              "      <td>-1.009567</td>\n",
              "    </tr>\n",
              "    <tr>\n",
              "      <th>5</th>\n",
              "      <td>-0.442345</td>\n",
              "      <td>2.034029</td>\n",
              "      <td>-0.785662</td>\n",
              "    </tr>\n",
              "    <tr>\n",
              "      <th>6</th>\n",
              "      <td>0.436978</td>\n",
              "      <td>1.530996</td>\n",
              "      <td>0.209624</td>\n",
              "    </tr>\n",
              "    <tr>\n",
              "      <th>7</th>\n",
              "      <td>-1.136764</td>\n",
              "      <td>0.090453</td>\n",
              "      <td>0.257697</td>\n",
              "    </tr>\n",
              "    <tr>\n",
              "      <th>8</th>\n",
              "      <td>-0.736450</td>\n",
              "      <td>2.150442</td>\n",
              "      <td>0.307616</td>\n",
              "    </tr>\n",
              "    <tr>\n",
              "      <th>9</th>\n",
              "      <td>0.466986</td>\n",
              "      <td>0.131794</td>\n",
              "      <td>-1.505759</td>\n",
              "    </tr>\n",
              "  </tbody>\n",
              "</table>\n",
              "</div>"
            ],
            "text/plain": [
              "   column-1  column-2  column-3\n",
              "0  0.241763  1.812227 -1.682698\n",
              "1 -0.515375 -0.655312 -0.326040\n",
              "2  0.244457 -0.796213  0.631400\n",
              "3  1.563980 -0.965852  0.210338\n",
              "4 -1.478983  0.862366 -1.009567\n",
              "5 -0.442345  2.034029 -0.785662\n",
              "6  0.436978  1.530996  0.209624\n",
              "7 -1.136764  0.090453  0.257697\n",
              "8 -0.736450  2.150442  0.307616\n",
              "9  0.466986  0.131794 -1.505759"
            ]
          },
          "metadata": {
            "tags": []
          },
          "execution_count": 28
        }
      ]
    },
    {
      "cell_type": "markdown",
      "metadata": {
        "id": "opW_DINQY4zd",
        "colab_type": "text"
      },
      "source": [
        "### [2]. Slicing:"
      ]
    },
    {
      "cell_type": "code",
      "metadata": {
        "id": "AqUwBdabXH4_",
        "colab_type": "code",
        "outputId": "374fd5ca-87e6-447a-f6e4-de66e1860e4b",
        "colab": {
          "base_uri": "https://localhost:8080/",
          "height": 218
        }
      },
      "source": [
        "D['column-1']             ### Column-wise\n",
        "# Note: D[['column-1']]   ### Column-wise; it is the same."
      ],
      "execution_count": 37,
      "outputs": [
        {
          "output_type": "execute_result",
          "data": {
            "text/plain": [
              "0    0.241763\n",
              "1   -0.515375\n",
              "2    0.244457\n",
              "3    1.563980\n",
              "4   -1.478983\n",
              "5   -0.442345\n",
              "6    0.436978\n",
              "7   -1.136764\n",
              "8   -0.736450\n",
              "9    0.466986\n",
              "Name: column-1, dtype: float64"
            ]
          },
          "metadata": {
            "tags": []
          },
          "execution_count": 37
        }
      ]
    },
    {
      "cell_type": "code",
      "metadata": {
        "id": "J5VmditBtKGo",
        "colab_type": "code",
        "colab": {
          "base_uri": "https://localhost:8080/",
          "height": 363
        },
        "outputId": "1fcd40c9-9465-4cc8-ccf0-c3a6b8760927"
      },
      "source": [
        "# D['column-1', 'column-3']   ### Column-wise; Error!\n",
        "\n",
        "D[['column-1', 'column-3']]   ### Column-wise; Fixed the error."
      ],
      "execution_count": 39,
      "outputs": [
        {
          "output_type": "execute_result",
          "data": {
            "text/html": [
              "<div>\n",
              "<style scoped>\n",
              "    .dataframe tbody tr th:only-of-type {\n",
              "        vertical-align: middle;\n",
              "    }\n",
              "\n",
              "    .dataframe tbody tr th {\n",
              "        vertical-align: top;\n",
              "    }\n",
              "\n",
              "    .dataframe thead th {\n",
              "        text-align: right;\n",
              "    }\n",
              "</style>\n",
              "<table border=\"1\" class=\"dataframe\">\n",
              "  <thead>\n",
              "    <tr style=\"text-align: right;\">\n",
              "      <th></th>\n",
              "      <th>column-1</th>\n",
              "      <th>column-3</th>\n",
              "    </tr>\n",
              "  </thead>\n",
              "  <tbody>\n",
              "    <tr>\n",
              "      <th>0</th>\n",
              "      <td>0.241763</td>\n",
              "      <td>-1.682698</td>\n",
              "    </tr>\n",
              "    <tr>\n",
              "      <th>1</th>\n",
              "      <td>-0.515375</td>\n",
              "      <td>-0.326040</td>\n",
              "    </tr>\n",
              "    <tr>\n",
              "      <th>2</th>\n",
              "      <td>0.244457</td>\n",
              "      <td>0.631400</td>\n",
              "    </tr>\n",
              "    <tr>\n",
              "      <th>3</th>\n",
              "      <td>1.563980</td>\n",
              "      <td>0.210338</td>\n",
              "    </tr>\n",
              "    <tr>\n",
              "      <th>4</th>\n",
              "      <td>-1.478983</td>\n",
              "      <td>-1.009567</td>\n",
              "    </tr>\n",
              "    <tr>\n",
              "      <th>5</th>\n",
              "      <td>-0.442345</td>\n",
              "      <td>-0.785662</td>\n",
              "    </tr>\n",
              "    <tr>\n",
              "      <th>6</th>\n",
              "      <td>0.436978</td>\n",
              "      <td>0.209624</td>\n",
              "    </tr>\n",
              "    <tr>\n",
              "      <th>7</th>\n",
              "      <td>-1.136764</td>\n",
              "      <td>0.257697</td>\n",
              "    </tr>\n",
              "    <tr>\n",
              "      <th>8</th>\n",
              "      <td>-0.736450</td>\n",
              "      <td>0.307616</td>\n",
              "    </tr>\n",
              "    <tr>\n",
              "      <th>9</th>\n",
              "      <td>0.466986</td>\n",
              "      <td>-1.505759</td>\n",
              "    </tr>\n",
              "  </tbody>\n",
              "</table>\n",
              "</div>"
            ],
            "text/plain": [
              "   column-1  column-3\n",
              "0  0.241763 -1.682698\n",
              "1 -0.515375 -0.326040\n",
              "2  0.244457  0.631400\n",
              "3  1.563980  0.210338\n",
              "4 -1.478983 -1.009567\n",
              "5 -0.442345 -0.785662\n",
              "6  0.436978  0.209624\n",
              "7 -1.136764  0.257697\n",
              "8 -0.736450  0.307616\n",
              "9  0.466986 -1.505759"
            ]
          },
          "metadata": {
            "tags": []
          },
          "execution_count": 39
        }
      ]
    },
    {
      "cell_type": "code",
      "metadata": {
        "id": "aAUNC6SvXFUM",
        "colab_type": "code",
        "outputId": "684e55e5-4e30-4ca8-fe03-2110cebb80ce",
        "colab": {
          "base_uri": "https://localhost:8080/",
          "height": 206
        }
      },
      "source": [
        "D[0:5]                    ### Row-wise or, Sample-wise\n",
        "# Note: D[0:5, 0:1]       ### Error"
      ],
      "execution_count": 43,
      "outputs": [
        {
          "output_type": "execute_result",
          "data": {
            "text/html": [
              "<div>\n",
              "<style scoped>\n",
              "    .dataframe tbody tr th:only-of-type {\n",
              "        vertical-align: middle;\n",
              "    }\n",
              "\n",
              "    .dataframe tbody tr th {\n",
              "        vertical-align: top;\n",
              "    }\n",
              "\n",
              "    .dataframe thead th {\n",
              "        text-align: right;\n",
              "    }\n",
              "</style>\n",
              "<table border=\"1\" class=\"dataframe\">\n",
              "  <thead>\n",
              "    <tr style=\"text-align: right;\">\n",
              "      <th></th>\n",
              "      <th>column-1</th>\n",
              "      <th>column-2</th>\n",
              "      <th>column-3</th>\n",
              "    </tr>\n",
              "  </thead>\n",
              "  <tbody>\n",
              "    <tr>\n",
              "      <th>0</th>\n",
              "      <td>0.241763</td>\n",
              "      <td>1.812227</td>\n",
              "      <td>-1.682698</td>\n",
              "    </tr>\n",
              "    <tr>\n",
              "      <th>1</th>\n",
              "      <td>-0.515375</td>\n",
              "      <td>-0.655312</td>\n",
              "      <td>-0.326040</td>\n",
              "    </tr>\n",
              "    <tr>\n",
              "      <th>2</th>\n",
              "      <td>0.244457</td>\n",
              "      <td>-0.796213</td>\n",
              "      <td>0.631400</td>\n",
              "    </tr>\n",
              "    <tr>\n",
              "      <th>3</th>\n",
              "      <td>1.563980</td>\n",
              "      <td>-0.965852</td>\n",
              "      <td>0.210338</td>\n",
              "    </tr>\n",
              "    <tr>\n",
              "      <th>4</th>\n",
              "      <td>-1.478983</td>\n",
              "      <td>0.862366</td>\n",
              "      <td>-1.009567</td>\n",
              "    </tr>\n",
              "  </tbody>\n",
              "</table>\n",
              "</div>"
            ],
            "text/plain": [
              "   column-1  column-2  column-3\n",
              "0  0.241763  1.812227 -1.682698\n",
              "1 -0.515375 -0.655312 -0.326040\n",
              "2  0.244457 -0.796213  0.631400\n",
              "3  1.563980 -0.965852  0.210338\n",
              "4 -1.478983  0.862366 -1.009567"
            ]
          },
          "metadata": {
            "tags": []
          },
          "execution_count": 43
        }
      ]
    },
    {
      "cell_type": "code",
      "metadata": {
        "id": "sNwsO29EZGL-",
        "colab_type": "code",
        "outputId": "6f832e7f-c8ad-4a86-ad8f-a7dc613fa054",
        "colab": {
          "base_uri": "https://localhost:8080/",
          "height": 237
        }
      },
      "source": [
        "D.loc[0:5, ['column-1','column-2']]   ### Both row-wised and column-wised"
      ],
      "execution_count": 44,
      "outputs": [
        {
          "output_type": "execute_result",
          "data": {
            "text/html": [
              "<div>\n",
              "<style scoped>\n",
              "    .dataframe tbody tr th:only-of-type {\n",
              "        vertical-align: middle;\n",
              "    }\n",
              "\n",
              "    .dataframe tbody tr th {\n",
              "        vertical-align: top;\n",
              "    }\n",
              "\n",
              "    .dataframe thead th {\n",
              "        text-align: right;\n",
              "    }\n",
              "</style>\n",
              "<table border=\"1\" class=\"dataframe\">\n",
              "  <thead>\n",
              "    <tr style=\"text-align: right;\">\n",
              "      <th></th>\n",
              "      <th>column-1</th>\n",
              "      <th>column-2</th>\n",
              "    </tr>\n",
              "  </thead>\n",
              "  <tbody>\n",
              "    <tr>\n",
              "      <th>0</th>\n",
              "      <td>0.241763</td>\n",
              "      <td>1.812227</td>\n",
              "    </tr>\n",
              "    <tr>\n",
              "      <th>1</th>\n",
              "      <td>-0.515375</td>\n",
              "      <td>-0.655312</td>\n",
              "    </tr>\n",
              "    <tr>\n",
              "      <th>2</th>\n",
              "      <td>0.244457</td>\n",
              "      <td>-0.796213</td>\n",
              "    </tr>\n",
              "    <tr>\n",
              "      <th>3</th>\n",
              "      <td>1.563980</td>\n",
              "      <td>-0.965852</td>\n",
              "    </tr>\n",
              "    <tr>\n",
              "      <th>4</th>\n",
              "      <td>-1.478983</td>\n",
              "      <td>0.862366</td>\n",
              "    </tr>\n",
              "    <tr>\n",
              "      <th>5</th>\n",
              "      <td>-0.442345</td>\n",
              "      <td>2.034029</td>\n",
              "    </tr>\n",
              "  </tbody>\n",
              "</table>\n",
              "</div>"
            ],
            "text/plain": [
              "   column-1  column-2\n",
              "0  0.241763  1.812227\n",
              "1 -0.515375 -0.655312\n",
              "2  0.244457 -0.796213\n",
              "3  1.563980 -0.965852\n",
              "4 -1.478983  0.862366\n",
              "5 -0.442345  2.034029"
            ]
          },
          "metadata": {
            "tags": []
          },
          "execution_count": 44
        }
      ]
    },
    {
      "cell_type": "code",
      "metadata": {
        "id": "OmAtZKnoZgRL",
        "colab_type": "code",
        "colab": {}
      },
      "source": [
        "### Note-1: loc  --> MATLAB like indexing, column name should be exact.\n",
        "### Note-2: iloc --> Python like indexing, column name convert into 0, 1, 2, and so on."
      ],
      "execution_count": 0,
      "outputs": []
    },
    {
      "cell_type": "code",
      "metadata": {
        "id": "i2Imx2KcaHM3",
        "colab_type": "code",
        "outputId": "3aefd1c3-03c8-4606-aa4f-38ba8ed24c2d",
        "colab": {
          "base_uri": "https://localhost:8080/",
          "height": 206
        }
      },
      "source": [
        "# D.loc[0:5, 0:1]   ### Error\n",
        "D.iloc[0:5, 0:2]    ### Both row-wised and column-wised"
      ],
      "execution_count": 46,
      "outputs": [
        {
          "output_type": "execute_result",
          "data": {
            "text/html": [
              "<div>\n",
              "<style scoped>\n",
              "    .dataframe tbody tr th:only-of-type {\n",
              "        vertical-align: middle;\n",
              "    }\n",
              "\n",
              "    .dataframe tbody tr th {\n",
              "        vertical-align: top;\n",
              "    }\n",
              "\n",
              "    .dataframe thead th {\n",
              "        text-align: right;\n",
              "    }\n",
              "</style>\n",
              "<table border=\"1\" class=\"dataframe\">\n",
              "  <thead>\n",
              "    <tr style=\"text-align: right;\">\n",
              "      <th></th>\n",
              "      <th>column-1</th>\n",
              "      <th>column-2</th>\n",
              "    </tr>\n",
              "  </thead>\n",
              "  <tbody>\n",
              "    <tr>\n",
              "      <th>0</th>\n",
              "      <td>0.241763</td>\n",
              "      <td>1.812227</td>\n",
              "    </tr>\n",
              "    <tr>\n",
              "      <th>1</th>\n",
              "      <td>-0.515375</td>\n",
              "      <td>-0.655312</td>\n",
              "    </tr>\n",
              "    <tr>\n",
              "      <th>2</th>\n",
              "      <td>0.244457</td>\n",
              "      <td>-0.796213</td>\n",
              "    </tr>\n",
              "    <tr>\n",
              "      <th>3</th>\n",
              "      <td>1.563980</td>\n",
              "      <td>-0.965852</td>\n",
              "    </tr>\n",
              "    <tr>\n",
              "      <th>4</th>\n",
              "      <td>-1.478983</td>\n",
              "      <td>0.862366</td>\n",
              "    </tr>\n",
              "  </tbody>\n",
              "</table>\n",
              "</div>"
            ],
            "text/plain": [
              "   column-1  column-2\n",
              "0  0.241763  1.812227\n",
              "1 -0.515375 -0.655312\n",
              "2  0.244457 -0.796213\n",
              "3  1.563980 -0.965852\n",
              "4 -1.478983  0.862366"
            ]
          },
          "metadata": {
            "tags": []
          },
          "execution_count": 46
        }
      ]
    },
    {
      "cell_type": "code",
      "metadata": {
        "id": "Ou5pGIANvKnK",
        "colab_type": "code",
        "colab": {}
      },
      "source": [
        ""
      ],
      "execution_count": 0,
      "outputs": []
    }
  ]
}