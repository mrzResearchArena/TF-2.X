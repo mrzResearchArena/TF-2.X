{
  "nbformat": 4,
  "nbformat_minor": 0,
  "metadata": {
    "colab": {
      "name": "pandas-ML.ipynb",
      "provenance": [],
      "authorship_tag": "ABX9TyMFQaKu+gJ6Y5hbUY/fU04B",
      "include_colab_link": true
    },
    "kernelspec": {
      "name": "python3",
      "display_name": "Python 3"
    }
  },
  "cells": [
    {
      "cell_type": "markdown",
      "metadata": {
        "id": "view-in-github",
        "colab_type": "text"
      },
      "source": [
        "<a href=\"https://colab.research.google.com/github/mrzResearchArena/TF-2.X/blob/master/pandas-ML.ipynb\" target=\"_parent\"><img src=\"https://colab.research.google.com/assets/colab-badge.svg\" alt=\"Open In Colab\"/></a>"
      ]
    },
    {
      "cell_type": "code",
      "metadata": {
        "id": "l4xL5ACHOFlr",
        "colab_type": "code",
        "colab": {}
      },
      "source": [
        "import pandas as pd\n",
        "import numpy  as np\n",
        "import matplotlib.pyplot as plt"
      ],
      "execution_count": 0,
      "outputs": []
    },
    {
      "cell_type": "markdown",
      "metadata": {
        "id": "p213tUKqSqag",
        "colab_type": "text"
      },
      "source": [
        "### [1]. Data Frame:"
      ]
    },
    {
      "cell_type": "code",
      "metadata": {
        "id": "imUNQpX6SxJI",
        "colab_type": "code",
        "colab": {
          "base_uri": "https://localhost:8080/",
          "height": 143
        },
        "outputId": "ad25bb92-c295-4e49-b106-320c180d4205"
      },
      "source": [
        "D = pd.DataFrame(\n",
        "    data={'column-1':[10, 20, 30], 'column-2':[5, 7, 9],}   ### Core Dictionary Type\n",
        ")\n",
        "\n",
        "D"
      ],
      "execution_count": 14,
      "outputs": [
        {
          "output_type": "execute_result",
          "data": {
            "text/html": [
              "<div>\n",
              "<style scoped>\n",
              "    .dataframe tbody tr th:only-of-type {\n",
              "        vertical-align: middle;\n",
              "    }\n",
              "\n",
              "    .dataframe tbody tr th {\n",
              "        vertical-align: top;\n",
              "    }\n",
              "\n",
              "    .dataframe thead th {\n",
              "        text-align: right;\n",
              "    }\n",
              "</style>\n",
              "<table border=\"1\" class=\"dataframe\">\n",
              "  <thead>\n",
              "    <tr style=\"text-align: right;\">\n",
              "      <th></th>\n",
              "      <th>column-1</th>\n",
              "      <th>column-2</th>\n",
              "    </tr>\n",
              "  </thead>\n",
              "  <tbody>\n",
              "    <tr>\n",
              "      <th>0</th>\n",
              "      <td>10</td>\n",
              "      <td>5</td>\n",
              "    </tr>\n",
              "    <tr>\n",
              "      <th>1</th>\n",
              "      <td>20</td>\n",
              "      <td>7</td>\n",
              "    </tr>\n",
              "    <tr>\n",
              "      <th>2</th>\n",
              "      <td>30</td>\n",
              "      <td>9</td>\n",
              "    </tr>\n",
              "  </tbody>\n",
              "</table>\n",
              "</div>"
            ],
            "text/plain": [
              "   column-1  column-2\n",
              "0        10         5\n",
              "1        20         7\n",
              "2        30         9"
            ]
          },
          "metadata": {
            "tags": []
          },
          "execution_count": 14
        }
      ]
    },
    {
      "cell_type": "code",
      "metadata": {
        "id": "qfRiX4L9UkZu",
        "colab_type": "code",
        "colab": {
          "base_uri": "https://localhost:8080/",
          "height": 112
        },
        "outputId": "14667675-2ade-4693-c1a1-14588aef6c35"
      },
      "source": [
        "D = pd.DataFrame(\n",
        "    data=[[10, 20, 30], [5, 7, 9]],   ### Core Array Type\n",
        "    columns=['column-1', 'column-2', 'column-3'],\n",
        ")\n",
        "\n",
        "D"
      ],
      "execution_count": 21,
      "outputs": [
        {
          "output_type": "execute_result",
          "data": {
            "text/html": [
              "<div>\n",
              "<style scoped>\n",
              "    .dataframe tbody tr th:only-of-type {\n",
              "        vertical-align: middle;\n",
              "    }\n",
              "\n",
              "    .dataframe tbody tr th {\n",
              "        vertical-align: top;\n",
              "    }\n",
              "\n",
              "    .dataframe thead th {\n",
              "        text-align: right;\n",
              "    }\n",
              "</style>\n",
              "<table border=\"1\" class=\"dataframe\">\n",
              "  <thead>\n",
              "    <tr style=\"text-align: right;\">\n",
              "      <th></th>\n",
              "      <th>column-1</th>\n",
              "      <th>column-2</th>\n",
              "      <th>column-3</th>\n",
              "    </tr>\n",
              "  </thead>\n",
              "  <tbody>\n",
              "    <tr>\n",
              "      <th>0</th>\n",
              "      <td>10</td>\n",
              "      <td>20</td>\n",
              "      <td>30</td>\n",
              "    </tr>\n",
              "    <tr>\n",
              "      <th>1</th>\n",
              "      <td>5</td>\n",
              "      <td>7</td>\n",
              "      <td>9</td>\n",
              "    </tr>\n",
              "  </tbody>\n",
              "</table>\n",
              "</div>"
            ],
            "text/plain": [
              "   column-1  column-2  column-3\n",
              "0        10        20        30\n",
              "1         5         7         9"
            ]
          },
          "metadata": {
            "tags": []
          },
          "execution_count": 21
        }
      ]
    },
    {
      "cell_type": "code",
      "metadata": {
        "id": "Ayx1PNdnVRMy",
        "colab_type": "code",
        "colab": {
          "base_uri": "https://localhost:8080/",
          "height": 363
        },
        "outputId": "6000f3c9-edac-48f0-93d8-0aafcf271f24"
      },
      "source": [
        "D = pd.DataFrame(\n",
        "    data=np.random.randn(10, 3),   ### Core Array Type\n",
        "    columns=['column-1', 'column-2', 'column-3'],\n",
        ")\n",
        "\n",
        "D"
      ],
      "execution_count": 60,
      "outputs": [
        {
          "output_type": "execute_result",
          "data": {
            "text/html": [
              "<div>\n",
              "<style scoped>\n",
              "    .dataframe tbody tr th:only-of-type {\n",
              "        vertical-align: middle;\n",
              "    }\n",
              "\n",
              "    .dataframe tbody tr th {\n",
              "        vertical-align: top;\n",
              "    }\n",
              "\n",
              "    .dataframe thead th {\n",
              "        text-align: right;\n",
              "    }\n",
              "</style>\n",
              "<table border=\"1\" class=\"dataframe\">\n",
              "  <thead>\n",
              "    <tr style=\"text-align: right;\">\n",
              "      <th></th>\n",
              "      <th>column-1</th>\n",
              "      <th>column-2</th>\n",
              "      <th>column-3</th>\n",
              "    </tr>\n",
              "  </thead>\n",
              "  <tbody>\n",
              "    <tr>\n",
              "      <th>0</th>\n",
              "      <td>-1.333201</td>\n",
              "      <td>-0.097572</td>\n",
              "      <td>0.907351</td>\n",
              "    </tr>\n",
              "    <tr>\n",
              "      <th>1</th>\n",
              "      <td>0.033548</td>\n",
              "      <td>1.156462</td>\n",
              "      <td>-0.889979</td>\n",
              "    </tr>\n",
              "    <tr>\n",
              "      <th>2</th>\n",
              "      <td>-0.029130</td>\n",
              "      <td>-1.563413</td>\n",
              "      <td>-0.934621</td>\n",
              "    </tr>\n",
              "    <tr>\n",
              "      <th>3</th>\n",
              "      <td>0.809278</td>\n",
              "      <td>1.325084</td>\n",
              "      <td>0.367305</td>\n",
              "    </tr>\n",
              "    <tr>\n",
              "      <th>4</th>\n",
              "      <td>0.289567</td>\n",
              "      <td>1.031046</td>\n",
              "      <td>0.652340</td>\n",
              "    </tr>\n",
              "    <tr>\n",
              "      <th>5</th>\n",
              "      <td>-0.446625</td>\n",
              "      <td>1.219556</td>\n",
              "      <td>0.500452</td>\n",
              "    </tr>\n",
              "    <tr>\n",
              "      <th>6</th>\n",
              "      <td>-0.002617</td>\n",
              "      <td>1.086762</td>\n",
              "      <td>0.132494</td>\n",
              "    </tr>\n",
              "    <tr>\n",
              "      <th>7</th>\n",
              "      <td>-0.089324</td>\n",
              "      <td>-0.552753</td>\n",
              "      <td>0.146106</td>\n",
              "    </tr>\n",
              "    <tr>\n",
              "      <th>8</th>\n",
              "      <td>-0.279178</td>\n",
              "      <td>-1.378341</td>\n",
              "      <td>2.048255</td>\n",
              "    </tr>\n",
              "    <tr>\n",
              "      <th>9</th>\n",
              "      <td>1.068534</td>\n",
              "      <td>-0.433047</td>\n",
              "      <td>-0.216887</td>\n",
              "    </tr>\n",
              "  </tbody>\n",
              "</table>\n",
              "</div>"
            ],
            "text/plain": [
              "   column-1  column-2  column-3\n",
              "0 -1.333201 -0.097572  0.907351\n",
              "1  0.033548  1.156462 -0.889979\n",
              "2 -0.029130 -1.563413 -0.934621\n",
              "3  0.809278  1.325084  0.367305\n",
              "4  0.289567  1.031046  0.652340\n",
              "5 -0.446625  1.219556  0.500452\n",
              "6 -0.002617  1.086762  0.132494\n",
              "7 -0.089324 -0.552753  0.146106\n",
              "8 -0.279178 -1.378341  2.048255\n",
              "9  1.068534 -0.433047 -0.216887"
            ]
          },
          "metadata": {
            "tags": []
          },
          "execution_count": 60
        }
      ]
    },
    {
      "cell_type": "markdown",
      "metadata": {
        "id": "opW_DINQY4zd",
        "colab_type": "text"
      },
      "source": [
        "### [2]. Slicing:"
      ]
    },
    {
      "cell_type": "code",
      "metadata": {
        "id": "AqUwBdabXH4_",
        "colab_type": "code",
        "colab": {
          "base_uri": "https://localhost:8080/",
          "height": 213
        },
        "outputId": "d2f60413-43d1-4362-fd9d-cb70abc50a50"
      },
      "source": [
        "D['column-1']   ### Column-wise"
      ],
      "execution_count": 61,
      "outputs": [
        {
          "output_type": "execute_result",
          "data": {
            "text/plain": [
              "0   -1.333201\n",
              "1    0.033548\n",
              "2   -0.029130\n",
              "3    0.809278\n",
              "4    0.289567\n",
              "5   -0.446625\n",
              "6   -0.002617\n",
              "7   -0.089324\n",
              "8   -0.279178\n",
              "9    1.068534\n",
              "Name: column-1, dtype: float64"
            ]
          },
          "metadata": {
            "tags": []
          },
          "execution_count": 61
        }
      ]
    },
    {
      "cell_type": "code",
      "metadata": {
        "id": "aAUNC6SvXFUM",
        "colab_type": "code",
        "colab": {
          "base_uri": "https://localhost:8080/",
          "height": 206
        },
        "outputId": "164c77ee-ed7b-44c3-ab95-6df49cc72ed0"
      },
      "source": [
        "D[0:5]   ### Row-wise"
      ],
      "execution_count": 62,
      "outputs": [
        {
          "output_type": "execute_result",
          "data": {
            "text/html": [
              "<div>\n",
              "<style scoped>\n",
              "    .dataframe tbody tr th:only-of-type {\n",
              "        vertical-align: middle;\n",
              "    }\n",
              "\n",
              "    .dataframe tbody tr th {\n",
              "        vertical-align: top;\n",
              "    }\n",
              "\n",
              "    .dataframe thead th {\n",
              "        text-align: right;\n",
              "    }\n",
              "</style>\n",
              "<table border=\"1\" class=\"dataframe\">\n",
              "  <thead>\n",
              "    <tr style=\"text-align: right;\">\n",
              "      <th></th>\n",
              "      <th>column-1</th>\n",
              "      <th>column-2</th>\n",
              "      <th>column-3</th>\n",
              "    </tr>\n",
              "  </thead>\n",
              "  <tbody>\n",
              "    <tr>\n",
              "      <th>0</th>\n",
              "      <td>-1.333201</td>\n",
              "      <td>-0.097572</td>\n",
              "      <td>0.907351</td>\n",
              "    </tr>\n",
              "    <tr>\n",
              "      <th>1</th>\n",
              "      <td>0.033548</td>\n",
              "      <td>1.156462</td>\n",
              "      <td>-0.889979</td>\n",
              "    </tr>\n",
              "    <tr>\n",
              "      <th>2</th>\n",
              "      <td>-0.029130</td>\n",
              "      <td>-1.563413</td>\n",
              "      <td>-0.934621</td>\n",
              "    </tr>\n",
              "    <tr>\n",
              "      <th>3</th>\n",
              "      <td>0.809278</td>\n",
              "      <td>1.325084</td>\n",
              "      <td>0.367305</td>\n",
              "    </tr>\n",
              "    <tr>\n",
              "      <th>4</th>\n",
              "      <td>0.289567</td>\n",
              "      <td>1.031046</td>\n",
              "      <td>0.652340</td>\n",
              "    </tr>\n",
              "  </tbody>\n",
              "</table>\n",
              "</div>"
            ],
            "text/plain": [
              "   column-1  column-2  column-3\n",
              "0 -1.333201 -0.097572  0.907351\n",
              "1  0.033548  1.156462 -0.889979\n",
              "2 -0.029130 -1.563413 -0.934621\n",
              "3  0.809278  1.325084  0.367305\n",
              "4  0.289567  1.031046  0.652340"
            ]
          },
          "metadata": {
            "tags": []
          },
          "execution_count": 62
        }
      ]
    },
    {
      "cell_type": "code",
      "metadata": {
        "id": "sNwsO29EZGL-",
        "colab_type": "code",
        "colab": {
          "base_uri": "https://localhost:8080/",
          "height": 237
        },
        "outputId": "20599607-f8e7-40e8-fb5a-84111de7685d"
      },
      "source": [
        "D.loc[0:5, ['column-1','column-2']]   ### Both row and column wised"
      ],
      "execution_count": 63,
      "outputs": [
        {
          "output_type": "execute_result",
          "data": {
            "text/html": [
              "<div>\n",
              "<style scoped>\n",
              "    .dataframe tbody tr th:only-of-type {\n",
              "        vertical-align: middle;\n",
              "    }\n",
              "\n",
              "    .dataframe tbody tr th {\n",
              "        vertical-align: top;\n",
              "    }\n",
              "\n",
              "    .dataframe thead th {\n",
              "        text-align: right;\n",
              "    }\n",
              "</style>\n",
              "<table border=\"1\" class=\"dataframe\">\n",
              "  <thead>\n",
              "    <tr style=\"text-align: right;\">\n",
              "      <th></th>\n",
              "      <th>column-1</th>\n",
              "      <th>column-2</th>\n",
              "    </tr>\n",
              "  </thead>\n",
              "  <tbody>\n",
              "    <tr>\n",
              "      <th>0</th>\n",
              "      <td>-1.333201</td>\n",
              "      <td>-0.097572</td>\n",
              "    </tr>\n",
              "    <tr>\n",
              "      <th>1</th>\n",
              "      <td>0.033548</td>\n",
              "      <td>1.156462</td>\n",
              "    </tr>\n",
              "    <tr>\n",
              "      <th>2</th>\n",
              "      <td>-0.029130</td>\n",
              "      <td>-1.563413</td>\n",
              "    </tr>\n",
              "    <tr>\n",
              "      <th>3</th>\n",
              "      <td>0.809278</td>\n",
              "      <td>1.325084</td>\n",
              "    </tr>\n",
              "    <tr>\n",
              "      <th>4</th>\n",
              "      <td>0.289567</td>\n",
              "      <td>1.031046</td>\n",
              "    </tr>\n",
              "    <tr>\n",
              "      <th>5</th>\n",
              "      <td>-0.446625</td>\n",
              "      <td>1.219556</td>\n",
              "    </tr>\n",
              "  </tbody>\n",
              "</table>\n",
              "</div>"
            ],
            "text/plain": [
              "   column-1  column-2\n",
              "0 -1.333201 -0.097572\n",
              "1  0.033548  1.156462\n",
              "2 -0.029130 -1.563413\n",
              "3  0.809278  1.325084\n",
              "4  0.289567  1.031046\n",
              "5 -0.446625  1.219556"
            ]
          },
          "metadata": {
            "tags": []
          },
          "execution_count": 63
        }
      ]
    },
    {
      "cell_type": "code",
      "metadata": {
        "id": "OmAtZKnoZgRL",
        "colab_type": "code",
        "colab": {}
      },
      "source": [
        "### Note-1: loc  --> MATLAB like indexing, column name should be exact.\n",
        "### Note-2: iloc --> Python like indexing, column name convert into 0, 1, 2, and so on."
      ],
      "execution_count": 0,
      "outputs": []
    },
    {
      "cell_type": "code",
      "metadata": {
        "id": "i2Imx2KcaHM3",
        "colab_type": "code",
        "colab": {
          "base_uri": "https://localhost:8080/",
          "height": 206
        },
        "outputId": "501c972a-d9eb-406d-e793-e9e1eb619fcb"
      },
      "source": [
        "# D.loc[0:5, 0:1]   ### Error\n",
        "D.iloc[0:5, 0:2]    ### Both row and column wised"
      ],
      "execution_count": 75,
      "outputs": [
        {
          "output_type": "execute_result",
          "data": {
            "text/html": [
              "<div>\n",
              "<style scoped>\n",
              "    .dataframe tbody tr th:only-of-type {\n",
              "        vertical-align: middle;\n",
              "    }\n",
              "\n",
              "    .dataframe tbody tr th {\n",
              "        vertical-align: top;\n",
              "    }\n",
              "\n",
              "    .dataframe thead th {\n",
              "        text-align: right;\n",
              "    }\n",
              "</style>\n",
              "<table border=\"1\" class=\"dataframe\">\n",
              "  <thead>\n",
              "    <tr style=\"text-align: right;\">\n",
              "      <th></th>\n",
              "      <th>column-1</th>\n",
              "      <th>column-2</th>\n",
              "    </tr>\n",
              "  </thead>\n",
              "  <tbody>\n",
              "    <tr>\n",
              "      <th>0</th>\n",
              "      <td>-1.333201</td>\n",
              "      <td>-0.097572</td>\n",
              "    </tr>\n",
              "    <tr>\n",
              "      <th>1</th>\n",
              "      <td>0.033548</td>\n",
              "      <td>1.156462</td>\n",
              "    </tr>\n",
              "    <tr>\n",
              "      <th>2</th>\n",
              "      <td>-0.029130</td>\n",
              "      <td>-1.563413</td>\n",
              "    </tr>\n",
              "    <tr>\n",
              "      <th>3</th>\n",
              "      <td>0.809278</td>\n",
              "      <td>1.325084</td>\n",
              "    </tr>\n",
              "    <tr>\n",
              "      <th>4</th>\n",
              "      <td>0.289567</td>\n",
              "      <td>1.031046</td>\n",
              "    </tr>\n",
              "  </tbody>\n",
              "</table>\n",
              "</div>"
            ],
            "text/plain": [
              "   column-1  column-2\n",
              "0 -1.333201 -0.097572\n",
              "1  0.033548  1.156462\n",
              "2 -0.029130 -1.563413\n",
              "3  0.809278  1.325084\n",
              "4  0.289567  1.031046"
            ]
          },
          "metadata": {
            "tags": []
          },
          "execution_count": 75
        }
      ]
    },
    {
      "cell_type": "code",
      "metadata": {
        "id": "PBfhKDqjaWOY",
        "colab_type": "code",
        "colab": {}
      },
      "source": [
        ""
      ],
      "execution_count": 0,
      "outputs": []
    }
  ]
}