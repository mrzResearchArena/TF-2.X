{
  "nbformat": 4,
  "nbformat_minor": 0,
  "metadata": {
    "colab": {
      "name": "pandas-ML.ipynb",
      "provenance": [],
      "authorship_tag": "ABX9TyPhppiS4bhjYmyrYGG7bEdE",
      "include_colab_link": true
    },
    "kernelspec": {
      "name": "python3",
      "display_name": "Python 3"
    }
  },
  "cells": [
    {
      "cell_type": "markdown",
      "metadata": {
        "id": "view-in-github",
        "colab_type": "text"
      },
      "source": [
        "<a href=\"https://colab.research.google.com/github/mrzResearchArena/TF-2.X/blob/master/pandas-ML.ipynb\" target=\"_parent\"><img src=\"https://colab.research.google.com/assets/colab-badge.svg\" alt=\"Open In Colab\"/></a>"
      ]
    },
    {
      "cell_type": "code",
      "metadata": {
        "id": "l4xL5ACHOFlr",
        "colab_type": "code",
        "colab": {}
      },
      "source": [
        "import pandas as pd\n",
        "import numpy  as np\n",
        "import matplotlib.pyplot as plt"
      ],
      "execution_count": 0,
      "outputs": []
    },
    {
      "cell_type": "markdown",
      "metadata": {
        "id": "p213tUKqSqag",
        "colab_type": "text"
      },
      "source": [
        "### [1]. Data Frame:"
      ]
    },
    {
      "cell_type": "code",
      "metadata": {
        "id": "3JEy5xBC6BDt",
        "colab_type": "code",
        "colab": {
          "base_uri": "https://localhost:8080/",
          "height": 112
        },
        "outputId": "6c24bfd9-3a4f-46ad-f6b6-46aa84683289"
      },
      "source": [
        "# Without Column Name(s)\n",
        "\n",
        "D = pd.DataFrame(\n",
        "    data=[[10, 20, 30], [5, 7, 9]]    ### Core Array Type\n",
        ")\n",
        "\n",
        "D"
      ],
      "execution_count": 21,
      "outputs": [
        {
          "output_type": "execute_result",
          "data": {
            "text/html": [
              "<div>\n",
              "<style scoped>\n",
              "    .dataframe tbody tr th:only-of-type {\n",
              "        vertical-align: middle;\n",
              "    }\n",
              "\n",
              "    .dataframe tbody tr th {\n",
              "        vertical-align: top;\n",
              "    }\n",
              "\n",
              "    .dataframe thead th {\n",
              "        text-align: right;\n",
              "    }\n",
              "</style>\n",
              "<table border=\"1\" class=\"dataframe\">\n",
              "  <thead>\n",
              "    <tr style=\"text-align: right;\">\n",
              "      <th></th>\n",
              "      <th>0</th>\n",
              "      <th>1</th>\n",
              "      <th>2</th>\n",
              "    </tr>\n",
              "  </thead>\n",
              "  <tbody>\n",
              "    <tr>\n",
              "      <th>0</th>\n",
              "      <td>10</td>\n",
              "      <td>20</td>\n",
              "      <td>30</td>\n",
              "    </tr>\n",
              "    <tr>\n",
              "      <th>1</th>\n",
              "      <td>5</td>\n",
              "      <td>7</td>\n",
              "      <td>9</td>\n",
              "    </tr>\n",
              "  </tbody>\n",
              "</table>\n",
              "</div>"
            ],
            "text/plain": [
              "    0   1   2\n",
              "0  10  20  30\n",
              "1   5   7   9"
            ]
          },
          "metadata": {
            "tags": []
          },
          "execution_count": 21
        }
      ]
    },
    {
      "cell_type": "code",
      "metadata": {
        "id": "Zxcm_oGh7dAJ",
        "colab_type": "code",
        "colab": {
          "base_uri": "https://localhost:8080/",
          "height": 112
        },
        "outputId": "1e31e6fc-dc13-4396-f25a-ea12405b2351"
      },
      "source": [
        "# With Column Name(s)\n",
        "\n",
        "D = pd.DataFrame(\n",
        "    data=[[10, 20, 30], [5, 7, 9]],   ### Core Array Type\n",
        "    columns=['column-1', 'column-2', 'column-3'],\n",
        ")\n",
        "\n",
        "D"
      ],
      "execution_count": 23,
      "outputs": [
        {
          "output_type": "execute_result",
          "data": {
            "text/html": [
              "<div>\n",
              "<style scoped>\n",
              "    .dataframe tbody tr th:only-of-type {\n",
              "        vertical-align: middle;\n",
              "    }\n",
              "\n",
              "    .dataframe tbody tr th {\n",
              "        vertical-align: top;\n",
              "    }\n",
              "\n",
              "    .dataframe thead th {\n",
              "        text-align: right;\n",
              "    }\n",
              "</style>\n",
              "<table border=\"1\" class=\"dataframe\">\n",
              "  <thead>\n",
              "    <tr style=\"text-align: right;\">\n",
              "      <th></th>\n",
              "      <th>column-1</th>\n",
              "      <th>column-2</th>\n",
              "      <th>column-3</th>\n",
              "    </tr>\n",
              "  </thead>\n",
              "  <tbody>\n",
              "    <tr>\n",
              "      <th>0</th>\n",
              "      <td>10</td>\n",
              "      <td>20</td>\n",
              "      <td>30</td>\n",
              "    </tr>\n",
              "    <tr>\n",
              "      <th>1</th>\n",
              "      <td>5</td>\n",
              "      <td>7</td>\n",
              "      <td>9</td>\n",
              "    </tr>\n",
              "  </tbody>\n",
              "</table>\n",
              "</div>"
            ],
            "text/plain": [
              "   column-1  column-2  column-3\n",
              "0        10        20        30\n",
              "1         5         7         9"
            ]
          },
          "metadata": {
            "tags": []
          },
          "execution_count": 23
        }
      ]
    },
    {
      "cell_type": "code",
      "metadata": {
        "id": "imUNQpX6SxJI",
        "colab_type": "code",
        "outputId": "d267ada2-8262-4b6a-8ec4-2fc5e9609082",
        "colab": {
          "base_uri": "https://localhost:8080/",
          "height": 143
        }
      },
      "source": [
        "# With Column Name(s)\n",
        "\n",
        "D = pd.DataFrame(\n",
        "    data={'column-1':[10, 20, 30], 'column-2':[5, 7, 9],}   ### Core Dictionary Type\n",
        ")\n",
        "\n",
        "D"
      ],
      "execution_count": 24,
      "outputs": [
        {
          "output_type": "execute_result",
          "data": {
            "text/html": [
              "<div>\n",
              "<style scoped>\n",
              "    .dataframe tbody tr th:only-of-type {\n",
              "        vertical-align: middle;\n",
              "    }\n",
              "\n",
              "    .dataframe tbody tr th {\n",
              "        vertical-align: top;\n",
              "    }\n",
              "\n",
              "    .dataframe thead th {\n",
              "        text-align: right;\n",
              "    }\n",
              "</style>\n",
              "<table border=\"1\" class=\"dataframe\">\n",
              "  <thead>\n",
              "    <tr style=\"text-align: right;\">\n",
              "      <th></th>\n",
              "      <th>column-1</th>\n",
              "      <th>column-2</th>\n",
              "    </tr>\n",
              "  </thead>\n",
              "  <tbody>\n",
              "    <tr>\n",
              "      <th>0</th>\n",
              "      <td>10</td>\n",
              "      <td>5</td>\n",
              "    </tr>\n",
              "    <tr>\n",
              "      <th>1</th>\n",
              "      <td>20</td>\n",
              "      <td>7</td>\n",
              "    </tr>\n",
              "    <tr>\n",
              "      <th>2</th>\n",
              "      <td>30</td>\n",
              "      <td>9</td>\n",
              "    </tr>\n",
              "  </tbody>\n",
              "</table>\n",
              "</div>"
            ],
            "text/plain": [
              "   column-1  column-2\n",
              "0        10         5\n",
              "1        20         7\n",
              "2        30         9"
            ]
          },
          "metadata": {
            "tags": []
          },
          "execution_count": 24
        }
      ]
    },
    {
      "cell_type": "code",
      "metadata": {
        "id": "Ayx1PNdnVRMy",
        "colab_type": "code",
        "outputId": "4223381b-2b7e-44f8-b47d-4b92c4b3022b",
        "colab": {
          "base_uri": "https://localhost:8080/",
          "height": 363
        }
      },
      "source": [
        "# With Column Name(s)\n",
        "\n",
        "D = pd.DataFrame(\n",
        "    data=np.random.randn(10, 3),   ### Core Array Type\n",
        "    columns=['column-1', 'column-2', 'column-3'],\n",
        ")\n",
        "\n",
        "D"
      ],
      "execution_count": 25,
      "outputs": [
        {
          "output_type": "execute_result",
          "data": {
            "text/html": [
              "<div>\n",
              "<style scoped>\n",
              "    .dataframe tbody tr th:only-of-type {\n",
              "        vertical-align: middle;\n",
              "    }\n",
              "\n",
              "    .dataframe tbody tr th {\n",
              "        vertical-align: top;\n",
              "    }\n",
              "\n",
              "    .dataframe thead th {\n",
              "        text-align: right;\n",
              "    }\n",
              "</style>\n",
              "<table border=\"1\" class=\"dataframe\">\n",
              "  <thead>\n",
              "    <tr style=\"text-align: right;\">\n",
              "      <th></th>\n",
              "      <th>column-1</th>\n",
              "      <th>column-2</th>\n",
              "      <th>column-3</th>\n",
              "    </tr>\n",
              "  </thead>\n",
              "  <tbody>\n",
              "    <tr>\n",
              "      <th>0</th>\n",
              "      <td>0.948045</td>\n",
              "      <td>-0.167416</td>\n",
              "      <td>-1.086077</td>\n",
              "    </tr>\n",
              "    <tr>\n",
              "      <th>1</th>\n",
              "      <td>0.461851</td>\n",
              "      <td>-0.879486</td>\n",
              "      <td>1.025902</td>\n",
              "    </tr>\n",
              "    <tr>\n",
              "      <th>2</th>\n",
              "      <td>-1.111762</td>\n",
              "      <td>0.641856</td>\n",
              "      <td>1.919885</td>\n",
              "    </tr>\n",
              "    <tr>\n",
              "      <th>3</th>\n",
              "      <td>-1.556832</td>\n",
              "      <td>0.267907</td>\n",
              "      <td>-1.143204</td>\n",
              "    </tr>\n",
              "    <tr>\n",
              "      <th>4</th>\n",
              "      <td>-0.254203</td>\n",
              "      <td>-0.383504</td>\n",
              "      <td>1.095285</td>\n",
              "    </tr>\n",
              "    <tr>\n",
              "      <th>5</th>\n",
              "      <td>0.293832</td>\n",
              "      <td>-0.956400</td>\n",
              "      <td>1.269000</td>\n",
              "    </tr>\n",
              "    <tr>\n",
              "      <th>6</th>\n",
              "      <td>-0.541825</td>\n",
              "      <td>-2.011918</td>\n",
              "      <td>0.237446</td>\n",
              "    </tr>\n",
              "    <tr>\n",
              "      <th>7</th>\n",
              "      <td>-1.656113</td>\n",
              "      <td>-0.892759</td>\n",
              "      <td>-1.590269</td>\n",
              "    </tr>\n",
              "    <tr>\n",
              "      <th>8</th>\n",
              "      <td>0.113843</td>\n",
              "      <td>-1.523813</td>\n",
              "      <td>0.708136</td>\n",
              "    </tr>\n",
              "    <tr>\n",
              "      <th>9</th>\n",
              "      <td>-1.053997</td>\n",
              "      <td>-0.718113</td>\n",
              "      <td>1.454152</td>\n",
              "    </tr>\n",
              "  </tbody>\n",
              "</table>\n",
              "</div>"
            ],
            "text/plain": [
              "   column-1  column-2  column-3\n",
              "0  0.948045 -0.167416 -1.086077\n",
              "1  0.461851 -0.879486  1.025902\n",
              "2 -1.111762  0.641856  1.919885\n",
              "3 -1.556832  0.267907 -1.143204\n",
              "4 -0.254203 -0.383504  1.095285\n",
              "5  0.293832 -0.956400  1.269000\n",
              "6 -0.541825 -2.011918  0.237446\n",
              "7 -1.656113 -0.892759 -1.590269\n",
              "8  0.113843 -1.523813  0.708136\n",
              "9 -1.053997 -0.718113  1.454152"
            ]
          },
          "metadata": {
            "tags": []
          },
          "execution_count": 25
        }
      ]
    },
    {
      "cell_type": "markdown",
      "metadata": {
        "id": "opW_DINQY4zd",
        "colab_type": "text"
      },
      "source": [
        "### [2]. Slicing:"
      ]
    },
    {
      "cell_type": "code",
      "metadata": {
        "id": "AqUwBdabXH4_",
        "colab_type": "code",
        "outputId": "702cd6c4-692d-4da3-8175-51ffacada076",
        "colab": {
          "base_uri": "https://localhost:8080/",
          "height": 218
        }
      },
      "source": [
        "D['column-1']             ### Column-wise\n",
        "# Note: D[['column-1']]   ### Column-wise; it is the same."
      ],
      "execution_count": 26,
      "outputs": [
        {
          "output_type": "execute_result",
          "data": {
            "text/plain": [
              "0    0.948045\n",
              "1    0.461851\n",
              "2   -1.111762\n",
              "3   -1.556832\n",
              "4   -0.254203\n",
              "5    0.293832\n",
              "6   -0.541825\n",
              "7   -1.656113\n",
              "8    0.113843\n",
              "9   -1.053997\n",
              "Name: column-1, dtype: float64"
            ]
          },
          "metadata": {
            "tags": []
          },
          "execution_count": 26
        }
      ]
    },
    {
      "cell_type": "code",
      "metadata": {
        "id": "J5VmditBtKGo",
        "colab_type": "code",
        "outputId": "f2e6261b-b699-4f5c-9b8e-b2cc8c55ed68",
        "colab": {
          "base_uri": "https://localhost:8080/",
          "height": 363
        }
      },
      "source": [
        "# D['column-1', 'column-3']   ### Column-wise; Error!\n",
        "\n",
        "D[['column-1', 'column-3']]   ### Column-wise; Fixed the error."
      ],
      "execution_count": 27,
      "outputs": [
        {
          "output_type": "execute_result",
          "data": {
            "text/html": [
              "<div>\n",
              "<style scoped>\n",
              "    .dataframe tbody tr th:only-of-type {\n",
              "        vertical-align: middle;\n",
              "    }\n",
              "\n",
              "    .dataframe tbody tr th {\n",
              "        vertical-align: top;\n",
              "    }\n",
              "\n",
              "    .dataframe thead th {\n",
              "        text-align: right;\n",
              "    }\n",
              "</style>\n",
              "<table border=\"1\" class=\"dataframe\">\n",
              "  <thead>\n",
              "    <tr style=\"text-align: right;\">\n",
              "      <th></th>\n",
              "      <th>column-1</th>\n",
              "      <th>column-3</th>\n",
              "    </tr>\n",
              "  </thead>\n",
              "  <tbody>\n",
              "    <tr>\n",
              "      <th>0</th>\n",
              "      <td>0.948045</td>\n",
              "      <td>-1.086077</td>\n",
              "    </tr>\n",
              "    <tr>\n",
              "      <th>1</th>\n",
              "      <td>0.461851</td>\n",
              "      <td>1.025902</td>\n",
              "    </tr>\n",
              "    <tr>\n",
              "      <th>2</th>\n",
              "      <td>-1.111762</td>\n",
              "      <td>1.919885</td>\n",
              "    </tr>\n",
              "    <tr>\n",
              "      <th>3</th>\n",
              "      <td>-1.556832</td>\n",
              "      <td>-1.143204</td>\n",
              "    </tr>\n",
              "    <tr>\n",
              "      <th>4</th>\n",
              "      <td>-0.254203</td>\n",
              "      <td>1.095285</td>\n",
              "    </tr>\n",
              "    <tr>\n",
              "      <th>5</th>\n",
              "      <td>0.293832</td>\n",
              "      <td>1.269000</td>\n",
              "    </tr>\n",
              "    <tr>\n",
              "      <th>6</th>\n",
              "      <td>-0.541825</td>\n",
              "      <td>0.237446</td>\n",
              "    </tr>\n",
              "    <tr>\n",
              "      <th>7</th>\n",
              "      <td>-1.656113</td>\n",
              "      <td>-1.590269</td>\n",
              "    </tr>\n",
              "    <tr>\n",
              "      <th>8</th>\n",
              "      <td>0.113843</td>\n",
              "      <td>0.708136</td>\n",
              "    </tr>\n",
              "    <tr>\n",
              "      <th>9</th>\n",
              "      <td>-1.053997</td>\n",
              "      <td>1.454152</td>\n",
              "    </tr>\n",
              "  </tbody>\n",
              "</table>\n",
              "</div>"
            ],
            "text/plain": [
              "   column-1  column-3\n",
              "0  0.948045 -1.086077\n",
              "1  0.461851  1.025902\n",
              "2 -1.111762  1.919885\n",
              "3 -1.556832 -1.143204\n",
              "4 -0.254203  1.095285\n",
              "5  0.293832  1.269000\n",
              "6 -0.541825  0.237446\n",
              "7 -1.656113 -1.590269\n",
              "8  0.113843  0.708136\n",
              "9 -1.053997  1.454152"
            ]
          },
          "metadata": {
            "tags": []
          },
          "execution_count": 27
        }
      ]
    },
    {
      "cell_type": "code",
      "metadata": {
        "id": "aAUNC6SvXFUM",
        "colab_type": "code",
        "outputId": "73c87cc6-959c-4eb0-f4db-d90bceeeb70f",
        "colab": {
          "base_uri": "https://localhost:8080/",
          "height": 206
        }
      },
      "source": [
        "D[0:5]                    ### Row-wise or, Sample-wise\n",
        "# Note: D[0:5, 0:1]       ### Error! (Errors will disappear, if the column names are numerics.)"
      ],
      "execution_count": 30,
      "outputs": [
        {
          "output_type": "execute_result",
          "data": {
            "text/html": [
              "<div>\n",
              "<style scoped>\n",
              "    .dataframe tbody tr th:only-of-type {\n",
              "        vertical-align: middle;\n",
              "    }\n",
              "\n",
              "    .dataframe tbody tr th {\n",
              "        vertical-align: top;\n",
              "    }\n",
              "\n",
              "    .dataframe thead th {\n",
              "        text-align: right;\n",
              "    }\n",
              "</style>\n",
              "<table border=\"1\" class=\"dataframe\">\n",
              "  <thead>\n",
              "    <tr style=\"text-align: right;\">\n",
              "      <th></th>\n",
              "      <th>column-1</th>\n",
              "      <th>column-2</th>\n",
              "      <th>column-3</th>\n",
              "    </tr>\n",
              "  </thead>\n",
              "  <tbody>\n",
              "    <tr>\n",
              "      <th>0</th>\n",
              "      <td>0.948045</td>\n",
              "      <td>-0.167416</td>\n",
              "      <td>-1.086077</td>\n",
              "    </tr>\n",
              "    <tr>\n",
              "      <th>1</th>\n",
              "      <td>0.461851</td>\n",
              "      <td>-0.879486</td>\n",
              "      <td>1.025902</td>\n",
              "    </tr>\n",
              "    <tr>\n",
              "      <th>2</th>\n",
              "      <td>-1.111762</td>\n",
              "      <td>0.641856</td>\n",
              "      <td>1.919885</td>\n",
              "    </tr>\n",
              "    <tr>\n",
              "      <th>3</th>\n",
              "      <td>-1.556832</td>\n",
              "      <td>0.267907</td>\n",
              "      <td>-1.143204</td>\n",
              "    </tr>\n",
              "    <tr>\n",
              "      <th>4</th>\n",
              "      <td>-0.254203</td>\n",
              "      <td>-0.383504</td>\n",
              "      <td>1.095285</td>\n",
              "    </tr>\n",
              "  </tbody>\n",
              "</table>\n",
              "</div>"
            ],
            "text/plain": [
              "   column-1  column-2  column-3\n",
              "0  0.948045 -0.167416 -1.086077\n",
              "1  0.461851 -0.879486  1.025902\n",
              "2 -1.111762  0.641856  1.919885\n",
              "3 -1.556832  0.267907 -1.143204\n",
              "4 -0.254203 -0.383504  1.095285"
            ]
          },
          "metadata": {
            "tags": []
          },
          "execution_count": 30
        }
      ]
    },
    {
      "cell_type": "code",
      "metadata": {
        "id": "sNwsO29EZGL-",
        "colab_type": "code",
        "outputId": "c976693d-678c-41e0-c732-a27b5687bf8e",
        "colab": {
          "base_uri": "https://localhost:8080/",
          "height": 237
        }
      },
      "source": [
        "D.loc[0:5, ['column-1','column-2']]   ### Both row-wised and column-wised"
      ],
      "execution_count": 31,
      "outputs": [
        {
          "output_type": "execute_result",
          "data": {
            "text/html": [
              "<div>\n",
              "<style scoped>\n",
              "    .dataframe tbody tr th:only-of-type {\n",
              "        vertical-align: middle;\n",
              "    }\n",
              "\n",
              "    .dataframe tbody tr th {\n",
              "        vertical-align: top;\n",
              "    }\n",
              "\n",
              "    .dataframe thead th {\n",
              "        text-align: right;\n",
              "    }\n",
              "</style>\n",
              "<table border=\"1\" class=\"dataframe\">\n",
              "  <thead>\n",
              "    <tr style=\"text-align: right;\">\n",
              "      <th></th>\n",
              "      <th>column-1</th>\n",
              "      <th>column-2</th>\n",
              "    </tr>\n",
              "  </thead>\n",
              "  <tbody>\n",
              "    <tr>\n",
              "      <th>0</th>\n",
              "      <td>0.948045</td>\n",
              "      <td>-0.167416</td>\n",
              "    </tr>\n",
              "    <tr>\n",
              "      <th>1</th>\n",
              "      <td>0.461851</td>\n",
              "      <td>-0.879486</td>\n",
              "    </tr>\n",
              "    <tr>\n",
              "      <th>2</th>\n",
              "      <td>-1.111762</td>\n",
              "      <td>0.641856</td>\n",
              "    </tr>\n",
              "    <tr>\n",
              "      <th>3</th>\n",
              "      <td>-1.556832</td>\n",
              "      <td>0.267907</td>\n",
              "    </tr>\n",
              "    <tr>\n",
              "      <th>4</th>\n",
              "      <td>-0.254203</td>\n",
              "      <td>-0.383504</td>\n",
              "    </tr>\n",
              "    <tr>\n",
              "      <th>5</th>\n",
              "      <td>0.293832</td>\n",
              "      <td>-0.956400</td>\n",
              "    </tr>\n",
              "  </tbody>\n",
              "</table>\n",
              "</div>"
            ],
            "text/plain": [
              "   column-1  column-2\n",
              "0  0.948045 -0.167416\n",
              "1  0.461851 -0.879486\n",
              "2 -1.111762  0.641856\n",
              "3 -1.556832  0.267907\n",
              "4 -0.254203 -0.383504\n",
              "5  0.293832 -0.956400"
            ]
          },
          "metadata": {
            "tags": []
          },
          "execution_count": 31
        }
      ]
    },
    {
      "cell_type": "code",
      "metadata": {
        "id": "OmAtZKnoZgRL",
        "colab_type": "code",
        "colab": {}
      },
      "source": [
        "### Note-1: loc  --> MATLAB like indexing, column name should be exact.\n",
        "### Note-2: iloc --> Python like indexing, column name convert into 0, 1, 2, and so on."
      ],
      "execution_count": 0,
      "outputs": []
    },
    {
      "cell_type": "code",
      "metadata": {
        "id": "i2Imx2KcaHM3",
        "colab_type": "code",
        "outputId": "f051012c-c309-47dc-f2d6-605905ad0a04",
        "colab": {
          "base_uri": "https://localhost:8080/",
          "height": 206
        }
      },
      "source": [
        "# D.loc[0:5, 0:1]   ### Error!\n",
        "D.iloc[0:5, 0:2]    ### Both row-wised and column-wised"
      ],
      "execution_count": 35,
      "outputs": [
        {
          "output_type": "execute_result",
          "data": {
            "text/html": [
              "<div>\n",
              "<style scoped>\n",
              "    .dataframe tbody tr th:only-of-type {\n",
              "        vertical-align: middle;\n",
              "    }\n",
              "\n",
              "    .dataframe tbody tr th {\n",
              "        vertical-align: top;\n",
              "    }\n",
              "\n",
              "    .dataframe thead th {\n",
              "        text-align: right;\n",
              "    }\n",
              "</style>\n",
              "<table border=\"1\" class=\"dataframe\">\n",
              "  <thead>\n",
              "    <tr style=\"text-align: right;\">\n",
              "      <th></th>\n",
              "      <th>column-1</th>\n",
              "      <th>column-2</th>\n",
              "    </tr>\n",
              "  </thead>\n",
              "  <tbody>\n",
              "    <tr>\n",
              "      <th>0</th>\n",
              "      <td>0.948045</td>\n",
              "      <td>-0.167416</td>\n",
              "    </tr>\n",
              "    <tr>\n",
              "      <th>1</th>\n",
              "      <td>0.461851</td>\n",
              "      <td>-0.879486</td>\n",
              "    </tr>\n",
              "    <tr>\n",
              "      <th>2</th>\n",
              "      <td>-1.111762</td>\n",
              "      <td>0.641856</td>\n",
              "    </tr>\n",
              "    <tr>\n",
              "      <th>3</th>\n",
              "      <td>-1.556832</td>\n",
              "      <td>0.267907</td>\n",
              "    </tr>\n",
              "    <tr>\n",
              "      <th>4</th>\n",
              "      <td>-0.254203</td>\n",
              "      <td>-0.383504</td>\n",
              "    </tr>\n",
              "  </tbody>\n",
              "</table>\n",
              "</div>"
            ],
            "text/plain": [
              "   column-1  column-2\n",
              "0  0.948045 -0.167416\n",
              "1  0.461851 -0.879486\n",
              "2 -1.111762  0.641856\n",
              "3 -1.556832  0.267907\n",
              "4 -0.254203 -0.383504"
            ]
          },
          "metadata": {
            "tags": []
          },
          "execution_count": 35
        }
      ]
    },
    {
      "cell_type": "code",
      "metadata": {
        "id": "cSvklluv947a",
        "colab_type": "code",
        "colab": {}
      },
      "source": [
        ""
      ],
      "execution_count": 0,
      "outputs": []
    }
  ]
}