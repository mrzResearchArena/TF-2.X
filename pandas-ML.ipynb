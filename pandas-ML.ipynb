{
  "nbformat": 4,
  "nbformat_minor": 0,
  "metadata": {
    "colab": {
      "name": "pandas-ML.ipynb",
      "provenance": [],
      "authorship_tag": "ABX9TyMFQaKu+gJ6Y5hbUY/fU04B",
      "include_colab_link": true
    },
    "kernelspec": {
      "name": "python3",
      "display_name": "Python 3"
    }
  },
  "cells": [
    {
      "cell_type": "markdown",
      "metadata": {
        "id": "view-in-github",
        "colab_type": "text"
      },
      "source": [
        "<a href=\"https://colab.research.google.com/github/mrzResearchArena/TF-2.X/blob/master/pandas-ML.ipynb\" target=\"_parent\"><img src=\"https://colab.research.google.com/assets/colab-badge.svg\" alt=\"Open In Colab\"/></a>"
      ]
    },
    {
      "cell_type": "code",
      "metadata": {
        "id": "l4xL5ACHOFlr",
        "colab_type": "code",
        "colab": {}
      },
      "source": [
        "import pandas as pd\n",
        "import numpy  as np\n",
        "import matplotlib.pyplot as plt"
      ],
      "execution_count": 0,
      "outputs": []
    },
    {
      "cell_type": "markdown",
      "metadata": {
        "id": "p213tUKqSqag",
        "colab_type": "text"
      },
      "source": [
        "### [1]. Data Frame:"
      ]
    },
    {
      "cell_type": "code",
      "metadata": {
        "id": "imUNQpX6SxJI",
        "colab_type": "code",
        "colab": {
          "base_uri": "https://localhost:8080/",
          "height": 143
        },
        "outputId": "3475a6db-76ad-4ff2-f066-0ce5066b4dcf"
      },
      "source": [
        "D = pd.DataFrame(\n",
        "    data={'column-1':[10, 20, 30], 'column-2':[5, 7, 9],}   ### Core Dictionary Type\n",
        ")\n",
        "\n",
        "D"
      ],
      "execution_count": 2,
      "outputs": [
        {
          "output_type": "execute_result",
          "data": {
            "text/html": [
              "<div>\n",
              "<style scoped>\n",
              "    .dataframe tbody tr th:only-of-type {\n",
              "        vertical-align: middle;\n",
              "    }\n",
              "\n",
              "    .dataframe tbody tr th {\n",
              "        vertical-align: top;\n",
              "    }\n",
              "\n",
              "    .dataframe thead th {\n",
              "        text-align: right;\n",
              "    }\n",
              "</style>\n",
              "<table border=\"1\" class=\"dataframe\">\n",
              "  <thead>\n",
              "    <tr style=\"text-align: right;\">\n",
              "      <th></th>\n",
              "      <th>column-1</th>\n",
              "      <th>column-2</th>\n",
              "    </tr>\n",
              "  </thead>\n",
              "  <tbody>\n",
              "    <tr>\n",
              "      <th>0</th>\n",
              "      <td>10</td>\n",
              "      <td>5</td>\n",
              "    </tr>\n",
              "    <tr>\n",
              "      <th>1</th>\n",
              "      <td>20</td>\n",
              "      <td>7</td>\n",
              "    </tr>\n",
              "    <tr>\n",
              "      <th>2</th>\n",
              "      <td>30</td>\n",
              "      <td>9</td>\n",
              "    </tr>\n",
              "  </tbody>\n",
              "</table>\n",
              "</div>"
            ],
            "text/plain": [
              "   column-1  column-2\n",
              "0        10         5\n",
              "1        20         7\n",
              "2        30         9"
            ]
          },
          "metadata": {
            "tags": []
          },
          "execution_count": 2
        }
      ]
    },
    {
      "cell_type": "code",
      "metadata": {
        "id": "qfRiX4L9UkZu",
        "colab_type": "code",
        "colab": {
          "base_uri": "https://localhost:8080/",
          "height": 112
        },
        "outputId": "0c8edf4a-ded9-48b3-c466-d61606de04dd"
      },
      "source": [
        "D = pd.DataFrame(\n",
        "    data=[[10, 20, 30], [5, 7, 9]],   ### Core Array Type\n",
        "    columns=['column-1', 'column-2', 'column-3'],\n",
        ")\n",
        "\n",
        "D"
      ],
      "execution_count": 3,
      "outputs": [
        {
          "output_type": "execute_result",
          "data": {
            "text/html": [
              "<div>\n",
              "<style scoped>\n",
              "    .dataframe tbody tr th:only-of-type {\n",
              "        vertical-align: middle;\n",
              "    }\n",
              "\n",
              "    .dataframe tbody tr th {\n",
              "        vertical-align: top;\n",
              "    }\n",
              "\n",
              "    .dataframe thead th {\n",
              "        text-align: right;\n",
              "    }\n",
              "</style>\n",
              "<table border=\"1\" class=\"dataframe\">\n",
              "  <thead>\n",
              "    <tr style=\"text-align: right;\">\n",
              "      <th></th>\n",
              "      <th>column-1</th>\n",
              "      <th>column-2</th>\n",
              "      <th>column-3</th>\n",
              "    </tr>\n",
              "  </thead>\n",
              "  <tbody>\n",
              "    <tr>\n",
              "      <th>0</th>\n",
              "      <td>10</td>\n",
              "      <td>20</td>\n",
              "      <td>30</td>\n",
              "    </tr>\n",
              "    <tr>\n",
              "      <th>1</th>\n",
              "      <td>5</td>\n",
              "      <td>7</td>\n",
              "      <td>9</td>\n",
              "    </tr>\n",
              "  </tbody>\n",
              "</table>\n",
              "</div>"
            ],
            "text/plain": [
              "   column-1  column-2  column-3\n",
              "0        10        20        30\n",
              "1         5         7         9"
            ]
          },
          "metadata": {
            "tags": []
          },
          "execution_count": 3
        }
      ]
    },
    {
      "cell_type": "code",
      "metadata": {
        "id": "Ayx1PNdnVRMy",
        "colab_type": "code",
        "colab": {
          "base_uri": "https://localhost:8080/",
          "height": 363
        },
        "outputId": "df9f966b-61d2-4752-bff1-085bb431ecb2"
      },
      "source": [
        "D = pd.DataFrame(\n",
        "    data=np.random.randn(10, 3),   ### Core Array Type\n",
        "    columns=['column-1', 'column-2', 'column-3'],\n",
        ")\n",
        "\n",
        "D"
      ],
      "execution_count": 4,
      "outputs": [
        {
          "output_type": "execute_result",
          "data": {
            "text/html": [
              "<div>\n",
              "<style scoped>\n",
              "    .dataframe tbody tr th:only-of-type {\n",
              "        vertical-align: middle;\n",
              "    }\n",
              "\n",
              "    .dataframe tbody tr th {\n",
              "        vertical-align: top;\n",
              "    }\n",
              "\n",
              "    .dataframe thead th {\n",
              "        text-align: right;\n",
              "    }\n",
              "</style>\n",
              "<table border=\"1\" class=\"dataframe\">\n",
              "  <thead>\n",
              "    <tr style=\"text-align: right;\">\n",
              "      <th></th>\n",
              "      <th>column-1</th>\n",
              "      <th>column-2</th>\n",
              "      <th>column-3</th>\n",
              "    </tr>\n",
              "  </thead>\n",
              "  <tbody>\n",
              "    <tr>\n",
              "      <th>0</th>\n",
              "      <td>-0.680350</td>\n",
              "      <td>-0.331211</td>\n",
              "      <td>0.048828</td>\n",
              "    </tr>\n",
              "    <tr>\n",
              "      <th>1</th>\n",
              "      <td>-0.343546</td>\n",
              "      <td>0.936084</td>\n",
              "      <td>-1.159324</td>\n",
              "    </tr>\n",
              "    <tr>\n",
              "      <th>2</th>\n",
              "      <td>-0.350854</td>\n",
              "      <td>-0.336017</td>\n",
              "      <td>-0.748604</td>\n",
              "    </tr>\n",
              "    <tr>\n",
              "      <th>3</th>\n",
              "      <td>0.688585</td>\n",
              "      <td>1.456322</td>\n",
              "      <td>-1.421166</td>\n",
              "    </tr>\n",
              "    <tr>\n",
              "      <th>4</th>\n",
              "      <td>-0.457155</td>\n",
              "      <td>-0.672119</td>\n",
              "      <td>-1.174048</td>\n",
              "    </tr>\n",
              "    <tr>\n",
              "      <th>5</th>\n",
              "      <td>1.473764</td>\n",
              "      <td>-0.370731</td>\n",
              "      <td>-1.029564</td>\n",
              "    </tr>\n",
              "    <tr>\n",
              "      <th>6</th>\n",
              "      <td>0.269184</td>\n",
              "      <td>-0.009179</td>\n",
              "      <td>-0.061488</td>\n",
              "    </tr>\n",
              "    <tr>\n",
              "      <th>7</th>\n",
              "      <td>0.239180</td>\n",
              "      <td>-0.638799</td>\n",
              "      <td>0.039734</td>\n",
              "    </tr>\n",
              "    <tr>\n",
              "      <th>8</th>\n",
              "      <td>0.229143</td>\n",
              "      <td>0.170900</td>\n",
              "      <td>-0.381902</td>\n",
              "    </tr>\n",
              "    <tr>\n",
              "      <th>9</th>\n",
              "      <td>0.849060</td>\n",
              "      <td>-1.067685</td>\n",
              "      <td>-0.729642</td>\n",
              "    </tr>\n",
              "  </tbody>\n",
              "</table>\n",
              "</div>"
            ],
            "text/plain": [
              "   column-1  column-2  column-3\n",
              "0 -0.680350 -0.331211  0.048828\n",
              "1 -0.343546  0.936084 -1.159324\n",
              "2 -0.350854 -0.336017 -0.748604\n",
              "3  0.688585  1.456322 -1.421166\n",
              "4 -0.457155 -0.672119 -1.174048\n",
              "5  1.473764 -0.370731 -1.029564\n",
              "6  0.269184 -0.009179 -0.061488\n",
              "7  0.239180 -0.638799  0.039734\n",
              "8  0.229143  0.170900 -0.381902\n",
              "9  0.849060 -1.067685 -0.729642"
            ]
          },
          "metadata": {
            "tags": []
          },
          "execution_count": 4
        }
      ]
    },
    {
      "cell_type": "markdown",
      "metadata": {
        "id": "opW_DINQY4zd",
        "colab_type": "text"
      },
      "source": [
        "### [2]. Slicing:"
      ]
    },
    {
      "cell_type": "code",
      "metadata": {
        "id": "AqUwBdabXH4_",
        "colab_type": "code",
        "colab": {
          "base_uri": "https://localhost:8080/",
          "height": 213
        },
        "outputId": "dcfa6898-3567-43f1-f203-464da7136734"
      },
      "source": [
        "D['column-1']   ### Column-wise"
      ],
      "execution_count": 5,
      "outputs": [
        {
          "output_type": "execute_result",
          "data": {
            "text/plain": [
              "0   -0.680350\n",
              "1   -0.343546\n",
              "2   -0.350854\n",
              "3    0.688585\n",
              "4   -0.457155\n",
              "5    1.473764\n",
              "6    0.269184\n",
              "7    0.239180\n",
              "8    0.229143\n",
              "9    0.849060\n",
              "Name: column-1, dtype: float64"
            ]
          },
          "metadata": {
            "tags": []
          },
          "execution_count": 5
        }
      ]
    },
    {
      "cell_type": "code",
      "metadata": {
        "id": "aAUNC6SvXFUM",
        "colab_type": "code",
        "colab": {
          "base_uri": "https://localhost:8080/",
          "height": 206
        },
        "outputId": "79ef6d3e-dd03-43e2-9000-0523dc82ef58"
      },
      "source": [
        "D[0:5]   ### Row-wise"
      ],
      "execution_count": 6,
      "outputs": [
        {
          "output_type": "execute_result",
          "data": {
            "text/html": [
              "<div>\n",
              "<style scoped>\n",
              "    .dataframe tbody tr th:only-of-type {\n",
              "        vertical-align: middle;\n",
              "    }\n",
              "\n",
              "    .dataframe tbody tr th {\n",
              "        vertical-align: top;\n",
              "    }\n",
              "\n",
              "    .dataframe thead th {\n",
              "        text-align: right;\n",
              "    }\n",
              "</style>\n",
              "<table border=\"1\" class=\"dataframe\">\n",
              "  <thead>\n",
              "    <tr style=\"text-align: right;\">\n",
              "      <th></th>\n",
              "      <th>column-1</th>\n",
              "      <th>column-2</th>\n",
              "      <th>column-3</th>\n",
              "    </tr>\n",
              "  </thead>\n",
              "  <tbody>\n",
              "    <tr>\n",
              "      <th>0</th>\n",
              "      <td>-0.680350</td>\n",
              "      <td>-0.331211</td>\n",
              "      <td>0.048828</td>\n",
              "    </tr>\n",
              "    <tr>\n",
              "      <th>1</th>\n",
              "      <td>-0.343546</td>\n",
              "      <td>0.936084</td>\n",
              "      <td>-1.159324</td>\n",
              "    </tr>\n",
              "    <tr>\n",
              "      <th>2</th>\n",
              "      <td>-0.350854</td>\n",
              "      <td>-0.336017</td>\n",
              "      <td>-0.748604</td>\n",
              "    </tr>\n",
              "    <tr>\n",
              "      <th>3</th>\n",
              "      <td>0.688585</td>\n",
              "      <td>1.456322</td>\n",
              "      <td>-1.421166</td>\n",
              "    </tr>\n",
              "    <tr>\n",
              "      <th>4</th>\n",
              "      <td>-0.457155</td>\n",
              "      <td>-0.672119</td>\n",
              "      <td>-1.174048</td>\n",
              "    </tr>\n",
              "  </tbody>\n",
              "</table>\n",
              "</div>"
            ],
            "text/plain": [
              "   column-1  column-2  column-3\n",
              "0 -0.680350 -0.331211  0.048828\n",
              "1 -0.343546  0.936084 -1.159324\n",
              "2 -0.350854 -0.336017 -0.748604\n",
              "3  0.688585  1.456322 -1.421166\n",
              "4 -0.457155 -0.672119 -1.174048"
            ]
          },
          "metadata": {
            "tags": []
          },
          "execution_count": 6
        }
      ]
    },
    {
      "cell_type": "code",
      "metadata": {
        "id": "sNwsO29EZGL-",
        "colab_type": "code",
        "colab": {
          "base_uri": "https://localhost:8080/",
          "height": 237
        },
        "outputId": "0dada43e-9913-48e7-eb5b-6affa56c22b0"
      },
      "source": [
        "D.loc[0:5, ['column-1','column-2']]   ### Both row and column wised"
      ],
      "execution_count": 7,
      "outputs": [
        {
          "output_type": "execute_result",
          "data": {
            "text/html": [
              "<div>\n",
              "<style scoped>\n",
              "    .dataframe tbody tr th:only-of-type {\n",
              "        vertical-align: middle;\n",
              "    }\n",
              "\n",
              "    .dataframe tbody tr th {\n",
              "        vertical-align: top;\n",
              "    }\n",
              "\n",
              "    .dataframe thead th {\n",
              "        text-align: right;\n",
              "    }\n",
              "</style>\n",
              "<table border=\"1\" class=\"dataframe\">\n",
              "  <thead>\n",
              "    <tr style=\"text-align: right;\">\n",
              "      <th></th>\n",
              "      <th>column-1</th>\n",
              "      <th>column-2</th>\n",
              "    </tr>\n",
              "  </thead>\n",
              "  <tbody>\n",
              "    <tr>\n",
              "      <th>0</th>\n",
              "      <td>-0.680350</td>\n",
              "      <td>-0.331211</td>\n",
              "    </tr>\n",
              "    <tr>\n",
              "      <th>1</th>\n",
              "      <td>-0.343546</td>\n",
              "      <td>0.936084</td>\n",
              "    </tr>\n",
              "    <tr>\n",
              "      <th>2</th>\n",
              "      <td>-0.350854</td>\n",
              "      <td>-0.336017</td>\n",
              "    </tr>\n",
              "    <tr>\n",
              "      <th>3</th>\n",
              "      <td>0.688585</td>\n",
              "      <td>1.456322</td>\n",
              "    </tr>\n",
              "    <tr>\n",
              "      <th>4</th>\n",
              "      <td>-0.457155</td>\n",
              "      <td>-0.672119</td>\n",
              "    </tr>\n",
              "    <tr>\n",
              "      <th>5</th>\n",
              "      <td>1.473764</td>\n",
              "      <td>-0.370731</td>\n",
              "    </tr>\n",
              "  </tbody>\n",
              "</table>\n",
              "</div>"
            ],
            "text/plain": [
              "   column-1  column-2\n",
              "0 -0.680350 -0.331211\n",
              "1 -0.343546  0.936084\n",
              "2 -0.350854 -0.336017\n",
              "3  0.688585  1.456322\n",
              "4 -0.457155 -0.672119\n",
              "5  1.473764 -0.370731"
            ]
          },
          "metadata": {
            "tags": []
          },
          "execution_count": 7
        }
      ]
    },
    {
      "cell_type": "code",
      "metadata": {
        "id": "OmAtZKnoZgRL",
        "colab_type": "code",
        "colab": {}
      },
      "source": [
        "### Note-1: loc  --> MATLAB like indexing, column name should be exact.\n",
        "### Note-2: iloc --> Python like indexing, column name convert into 0, 1, 2, and so on."
      ],
      "execution_count": 0,
      "outputs": []
    },
    {
      "cell_type": "code",
      "metadata": {
        "id": "i2Imx2KcaHM3",
        "colab_type": "code",
        "colab": {
          "base_uri": "https://localhost:8080/",
          "height": 206
        },
        "outputId": "4123cf10-6091-46f8-a542-06abab1d7ff1"
      },
      "source": [
        "# D.loc[0:5, 0:1]   ### Error\n",
        "D.iloc[0:5, 0:2]    ### Both row and column wised"
      ],
      "execution_count": 9,
      "outputs": [
        {
          "output_type": "execute_result",
          "data": {
            "text/html": [
              "<div>\n",
              "<style scoped>\n",
              "    .dataframe tbody tr th:only-of-type {\n",
              "        vertical-align: middle;\n",
              "    }\n",
              "\n",
              "    .dataframe tbody tr th {\n",
              "        vertical-align: top;\n",
              "    }\n",
              "\n",
              "    .dataframe thead th {\n",
              "        text-align: right;\n",
              "    }\n",
              "</style>\n",
              "<table border=\"1\" class=\"dataframe\">\n",
              "  <thead>\n",
              "    <tr style=\"text-align: right;\">\n",
              "      <th></th>\n",
              "      <th>column-1</th>\n",
              "      <th>column-2</th>\n",
              "    </tr>\n",
              "  </thead>\n",
              "  <tbody>\n",
              "    <tr>\n",
              "      <th>0</th>\n",
              "      <td>-0.680350</td>\n",
              "      <td>-0.331211</td>\n",
              "    </tr>\n",
              "    <tr>\n",
              "      <th>1</th>\n",
              "      <td>-0.343546</td>\n",
              "      <td>0.936084</td>\n",
              "    </tr>\n",
              "    <tr>\n",
              "      <th>2</th>\n",
              "      <td>-0.350854</td>\n",
              "      <td>-0.336017</td>\n",
              "    </tr>\n",
              "    <tr>\n",
              "      <th>3</th>\n",
              "      <td>0.688585</td>\n",
              "      <td>1.456322</td>\n",
              "    </tr>\n",
              "    <tr>\n",
              "      <th>4</th>\n",
              "      <td>-0.457155</td>\n",
              "      <td>-0.672119</td>\n",
              "    </tr>\n",
              "  </tbody>\n",
              "</table>\n",
              "</div>"
            ],
            "text/plain": [
              "   column-1  column-2\n",
              "0 -0.680350 -0.331211\n",
              "1 -0.343546  0.936084\n",
              "2 -0.350854 -0.336017\n",
              "3  0.688585  1.456322\n",
              "4 -0.457155 -0.672119"
            ]
          },
          "metadata": {
            "tags": []
          },
          "execution_count": 9
        }
      ]
    },
    {
      "cell_type": "code",
      "metadata": {
        "id": "PBfhKDqjaWOY",
        "colab_type": "code",
        "colab": {}
      },
      "source": [
        ""
      ],
      "execution_count": 0,
      "outputs": []
    }
  ]
}