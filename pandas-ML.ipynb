{
  "nbformat": 4,
  "nbformat_minor": 0,
  "metadata": {
    "colab": {
      "name": "pandas-ML.ipynb",
      "provenance": [],
      "authorship_tag": "ABX9TyM3qfqvMz67FEwI/JaIIisL",
      "include_colab_link": true
    },
    "kernelspec": {
      "name": "python3",
      "display_name": "Python 3"
    }
  },
  "cells": [
    {
      "cell_type": "markdown",
      "metadata": {
        "id": "view-in-github",
        "colab_type": "text"
      },
      "source": [
        "<a href=\"https://colab.research.google.com/github/mrzResearchArena/TF-2.X/blob/master/pandas-ML.ipynb\" target=\"_parent\"><img src=\"https://colab.research.google.com/assets/colab-badge.svg\" alt=\"Open In Colab\"/></a>"
      ]
    },
    {
      "cell_type": "code",
      "metadata": {
        "id": "l4xL5ACHOFlr",
        "colab_type": "code",
        "colab": {}
      },
      "source": [
        "import pandas as pd\n",
        "import numpy  as np\n",
        "import matplotlib.pyplot as plt"
      ],
      "execution_count": 0,
      "outputs": []
    },
    {
      "cell_type": "markdown",
      "metadata": {
        "id": "p213tUKqSqag",
        "colab_type": "text"
      },
      "source": [
        "### [1]. Data Frame:"
      ]
    },
    {
      "cell_type": "code",
      "metadata": {
        "id": "imUNQpX6SxJI",
        "colab_type": "code",
        "colab": {
          "base_uri": "https://localhost:8080/",
          "height": 143
        },
        "outputId": "ad25bb92-c295-4e49-b106-320c180d4205"
      },
      "source": [
        "D = pd.DataFrame(\n",
        "    data={'column-1':[10, 20, 30], 'column-2':[5, 7, 9],}   ### Core Dictionary Type\n",
        ")\n",
        "\n",
        "D"
      ],
      "execution_count": 14,
      "outputs": [
        {
          "output_type": "execute_result",
          "data": {
            "text/html": [
              "<div>\n",
              "<style scoped>\n",
              "    .dataframe tbody tr th:only-of-type {\n",
              "        vertical-align: middle;\n",
              "    }\n",
              "\n",
              "    .dataframe tbody tr th {\n",
              "        vertical-align: top;\n",
              "    }\n",
              "\n",
              "    .dataframe thead th {\n",
              "        text-align: right;\n",
              "    }\n",
              "</style>\n",
              "<table border=\"1\" class=\"dataframe\">\n",
              "  <thead>\n",
              "    <tr style=\"text-align: right;\">\n",
              "      <th></th>\n",
              "      <th>column-1</th>\n",
              "      <th>column-2</th>\n",
              "    </tr>\n",
              "  </thead>\n",
              "  <tbody>\n",
              "    <tr>\n",
              "      <th>0</th>\n",
              "      <td>10</td>\n",
              "      <td>5</td>\n",
              "    </tr>\n",
              "    <tr>\n",
              "      <th>1</th>\n",
              "      <td>20</td>\n",
              "      <td>7</td>\n",
              "    </tr>\n",
              "    <tr>\n",
              "      <th>2</th>\n",
              "      <td>30</td>\n",
              "      <td>9</td>\n",
              "    </tr>\n",
              "  </tbody>\n",
              "</table>\n",
              "</div>"
            ],
            "text/plain": [
              "   column-1  column-2\n",
              "0        10         5\n",
              "1        20         7\n",
              "2        30         9"
            ]
          },
          "metadata": {
            "tags": []
          },
          "execution_count": 14
        }
      ]
    },
    {
      "cell_type": "code",
      "metadata": {
        "id": "qfRiX4L9UkZu",
        "colab_type": "code",
        "colab": {
          "base_uri": "https://localhost:8080/",
          "height": 112
        },
        "outputId": "14667675-2ade-4693-c1a1-14588aef6c35"
      },
      "source": [
        "D = pd.DataFrame(\n",
        "    data=[[10, 20, 30], [5, 7, 9]],   ### Core Array Type\n",
        "    columns=['column-1', 'column-2', 'column-3'],\n",
        ")\n",
        "\n",
        "D"
      ],
      "execution_count": 21,
      "outputs": [
        {
          "output_type": "execute_result",
          "data": {
            "text/html": [
              "<div>\n",
              "<style scoped>\n",
              "    .dataframe tbody tr th:only-of-type {\n",
              "        vertical-align: middle;\n",
              "    }\n",
              "\n",
              "    .dataframe tbody tr th {\n",
              "        vertical-align: top;\n",
              "    }\n",
              "\n",
              "    .dataframe thead th {\n",
              "        text-align: right;\n",
              "    }\n",
              "</style>\n",
              "<table border=\"1\" class=\"dataframe\">\n",
              "  <thead>\n",
              "    <tr style=\"text-align: right;\">\n",
              "      <th></th>\n",
              "      <th>column-1</th>\n",
              "      <th>column-2</th>\n",
              "      <th>column-3</th>\n",
              "    </tr>\n",
              "  </thead>\n",
              "  <tbody>\n",
              "    <tr>\n",
              "      <th>0</th>\n",
              "      <td>10</td>\n",
              "      <td>20</td>\n",
              "      <td>30</td>\n",
              "    </tr>\n",
              "    <tr>\n",
              "      <th>1</th>\n",
              "      <td>5</td>\n",
              "      <td>7</td>\n",
              "      <td>9</td>\n",
              "    </tr>\n",
              "  </tbody>\n",
              "</table>\n",
              "</div>"
            ],
            "text/plain": [
              "   column-1  column-2  column-3\n",
              "0        10        20        30\n",
              "1         5         7         9"
            ]
          },
          "metadata": {
            "tags": []
          },
          "execution_count": 21
        }
      ]
    },
    {
      "cell_type": "code",
      "metadata": {
        "id": "Ayx1PNdnVRMy",
        "colab_type": "code",
        "colab": {
          "base_uri": "https://localhost:8080/",
          "height": 363
        },
        "outputId": "675796b2-990f-4244-dc9f-56b26daec548"
      },
      "source": [
        "D = pd.DataFrame(\n",
        "    data=np.random.randn(10, 3),   ### Core Array Type\n",
        "    columns=['column-1', 'column-2', 'column-3'],\n",
        ")\n",
        "\n",
        "D"
      ],
      "execution_count": 33,
      "outputs": [
        {
          "output_type": "execute_result",
          "data": {
            "text/html": [
              "<div>\n",
              "<style scoped>\n",
              "    .dataframe tbody tr th:only-of-type {\n",
              "        vertical-align: middle;\n",
              "    }\n",
              "\n",
              "    .dataframe tbody tr th {\n",
              "        vertical-align: top;\n",
              "    }\n",
              "\n",
              "    .dataframe thead th {\n",
              "        text-align: right;\n",
              "    }\n",
              "</style>\n",
              "<table border=\"1\" class=\"dataframe\">\n",
              "  <thead>\n",
              "    <tr style=\"text-align: right;\">\n",
              "      <th></th>\n",
              "      <th>column-1</th>\n",
              "      <th>column-2</th>\n",
              "      <th>column-3</th>\n",
              "    </tr>\n",
              "  </thead>\n",
              "  <tbody>\n",
              "    <tr>\n",
              "      <th>0</th>\n",
              "      <td>-0.017868</td>\n",
              "      <td>0.334203</td>\n",
              "      <td>-0.303441</td>\n",
              "    </tr>\n",
              "    <tr>\n",
              "      <th>1</th>\n",
              "      <td>1.242039</td>\n",
              "      <td>-1.573235</td>\n",
              "      <td>0.398785</td>\n",
              "    </tr>\n",
              "    <tr>\n",
              "      <th>2</th>\n",
              "      <td>2.299197</td>\n",
              "      <td>-0.584404</td>\n",
              "      <td>-1.446606</td>\n",
              "    </tr>\n",
              "    <tr>\n",
              "      <th>3</th>\n",
              "      <td>-2.080829</td>\n",
              "      <td>-0.829801</td>\n",
              "      <td>-0.833087</td>\n",
              "    </tr>\n",
              "    <tr>\n",
              "      <th>4</th>\n",
              "      <td>1.011048</td>\n",
              "      <td>-2.788340</td>\n",
              "      <td>0.171589</td>\n",
              "    </tr>\n",
              "    <tr>\n",
              "      <th>5</th>\n",
              "      <td>0.178460</td>\n",
              "      <td>0.422057</td>\n",
              "      <td>1.011606</td>\n",
              "    </tr>\n",
              "    <tr>\n",
              "      <th>6</th>\n",
              "      <td>-0.855109</td>\n",
              "      <td>-0.873845</td>\n",
              "      <td>0.615361</td>\n",
              "    </tr>\n",
              "    <tr>\n",
              "      <th>7</th>\n",
              "      <td>-0.046085</td>\n",
              "      <td>0.936224</td>\n",
              "      <td>-0.854065</td>\n",
              "    </tr>\n",
              "    <tr>\n",
              "      <th>8</th>\n",
              "      <td>0.242511</td>\n",
              "      <td>0.482887</td>\n",
              "      <td>-0.572309</td>\n",
              "    </tr>\n",
              "    <tr>\n",
              "      <th>9</th>\n",
              "      <td>1.739438</td>\n",
              "      <td>-2.675770</td>\n",
              "      <td>-1.538339</td>\n",
              "    </tr>\n",
              "  </tbody>\n",
              "</table>\n",
              "</div>"
            ],
            "text/plain": [
              "   column-1  column-2  column-3\n",
              "0 -0.017868  0.334203 -0.303441\n",
              "1  1.242039 -1.573235  0.398785\n",
              "2  2.299197 -0.584404 -1.446606\n",
              "3 -2.080829 -0.829801 -0.833087\n",
              "4  1.011048 -2.788340  0.171589\n",
              "5  0.178460  0.422057  1.011606\n",
              "6 -0.855109 -0.873845  0.615361\n",
              "7 -0.046085  0.936224 -0.854065\n",
              "8  0.242511  0.482887 -0.572309\n",
              "9  1.739438 -2.675770 -1.538339"
            ]
          },
          "metadata": {
            "tags": []
          },
          "execution_count": 33
        }
      ]
    },
    {
      "cell_type": "markdown",
      "metadata": {
        "id": "opW_DINQY4zd",
        "colab_type": "text"
      },
      "source": [
        "### [2]. Slicing:"
      ]
    },
    {
      "cell_type": "code",
      "metadata": {
        "id": "AqUwBdabXH4_",
        "colab_type": "code",
        "colab": {
          "base_uri": "https://localhost:8080/",
          "height": 213
        },
        "outputId": "13f34a86-32fe-4993-94c9-f77879bed0b5"
      },
      "source": [
        "D['column-1']   ### Column-wise"
      ],
      "execution_count": 41,
      "outputs": [
        {
          "output_type": "execute_result",
          "data": {
            "text/plain": [
              "0   -0.017868\n",
              "1    1.242039\n",
              "2    2.299197\n",
              "3   -2.080829\n",
              "4    1.011048\n",
              "5    0.178460\n",
              "6   -0.855109\n",
              "7   -0.046085\n",
              "8    0.242511\n",
              "9    1.739438\n",
              "Name: column-1, dtype: float64"
            ]
          },
          "metadata": {
            "tags": []
          },
          "execution_count": 41
        }
      ]
    },
    {
      "cell_type": "code",
      "metadata": {
        "id": "aAUNC6SvXFUM",
        "colab_type": "code",
        "colab": {
          "base_uri": "https://localhost:8080/",
          "height": 206
        },
        "outputId": "c113765a-e09b-48c5-c9f9-d24c452af4f1"
      },
      "source": [
        "D[0:5]   ### Row-wise"
      ],
      "execution_count": 46,
      "outputs": [
        {
          "output_type": "execute_result",
          "data": {
            "text/html": [
              "<div>\n",
              "<style scoped>\n",
              "    .dataframe tbody tr th:only-of-type {\n",
              "        vertical-align: middle;\n",
              "    }\n",
              "\n",
              "    .dataframe tbody tr th {\n",
              "        vertical-align: top;\n",
              "    }\n",
              "\n",
              "    .dataframe thead th {\n",
              "        text-align: right;\n",
              "    }\n",
              "</style>\n",
              "<table border=\"1\" class=\"dataframe\">\n",
              "  <thead>\n",
              "    <tr style=\"text-align: right;\">\n",
              "      <th></th>\n",
              "      <th>column-1</th>\n",
              "      <th>column-2</th>\n",
              "      <th>column-3</th>\n",
              "    </tr>\n",
              "  </thead>\n",
              "  <tbody>\n",
              "    <tr>\n",
              "      <th>0</th>\n",
              "      <td>-0.017868</td>\n",
              "      <td>0.334203</td>\n",
              "      <td>-0.303441</td>\n",
              "    </tr>\n",
              "    <tr>\n",
              "      <th>1</th>\n",
              "      <td>1.242039</td>\n",
              "      <td>-1.573235</td>\n",
              "      <td>0.398785</td>\n",
              "    </tr>\n",
              "    <tr>\n",
              "      <th>2</th>\n",
              "      <td>2.299197</td>\n",
              "      <td>-0.584404</td>\n",
              "      <td>-1.446606</td>\n",
              "    </tr>\n",
              "    <tr>\n",
              "      <th>3</th>\n",
              "      <td>-2.080829</td>\n",
              "      <td>-0.829801</td>\n",
              "      <td>-0.833087</td>\n",
              "    </tr>\n",
              "    <tr>\n",
              "      <th>4</th>\n",
              "      <td>1.011048</td>\n",
              "      <td>-2.788340</td>\n",
              "      <td>0.171589</td>\n",
              "    </tr>\n",
              "  </tbody>\n",
              "</table>\n",
              "</div>"
            ],
            "text/plain": [
              "   column-1  column-2  column-3\n",
              "0 -0.017868  0.334203 -0.303441\n",
              "1  1.242039 -1.573235  0.398785\n",
              "2  2.299197 -0.584404 -1.446606\n",
              "3 -2.080829 -0.829801 -0.833087\n",
              "4  1.011048 -2.788340  0.171589"
            ]
          },
          "metadata": {
            "tags": []
          },
          "execution_count": 46
        }
      ]
    },
    {
      "cell_type": "code",
      "metadata": {
        "id": "sNwsO29EZGL-",
        "colab_type": "code",
        "colab": {
          "base_uri": "https://localhost:8080/",
          "height": 237
        },
        "outputId": "2246880a-1122-453f-ba37-f3097aa81ca1"
      },
      "source": [
        "D.loc[0:5, ['column-1','column-2']]   ### Both row and column wised"
      ],
      "execution_count": 51,
      "outputs": [
        {
          "output_type": "execute_result",
          "data": {
            "text/html": [
              "<div>\n",
              "<style scoped>\n",
              "    .dataframe tbody tr th:only-of-type {\n",
              "        vertical-align: middle;\n",
              "    }\n",
              "\n",
              "    .dataframe tbody tr th {\n",
              "        vertical-align: top;\n",
              "    }\n",
              "\n",
              "    .dataframe thead th {\n",
              "        text-align: right;\n",
              "    }\n",
              "</style>\n",
              "<table border=\"1\" class=\"dataframe\">\n",
              "  <thead>\n",
              "    <tr style=\"text-align: right;\">\n",
              "      <th></th>\n",
              "      <th>column-1</th>\n",
              "      <th>column-2</th>\n",
              "    </tr>\n",
              "  </thead>\n",
              "  <tbody>\n",
              "    <tr>\n",
              "      <th>0</th>\n",
              "      <td>-0.017868</td>\n",
              "      <td>0.334203</td>\n",
              "    </tr>\n",
              "    <tr>\n",
              "      <th>1</th>\n",
              "      <td>1.242039</td>\n",
              "      <td>-1.573235</td>\n",
              "    </tr>\n",
              "    <tr>\n",
              "      <th>2</th>\n",
              "      <td>2.299197</td>\n",
              "      <td>-0.584404</td>\n",
              "    </tr>\n",
              "    <tr>\n",
              "      <th>3</th>\n",
              "      <td>-2.080829</td>\n",
              "      <td>-0.829801</td>\n",
              "    </tr>\n",
              "    <tr>\n",
              "      <th>4</th>\n",
              "      <td>1.011048</td>\n",
              "      <td>-2.788340</td>\n",
              "    </tr>\n",
              "    <tr>\n",
              "      <th>5</th>\n",
              "      <td>0.178460</td>\n",
              "      <td>0.422057</td>\n",
              "    </tr>\n",
              "  </tbody>\n",
              "</table>\n",
              "</div>"
            ],
            "text/plain": [
              "   column-1  column-2\n",
              "0 -0.017868  0.334203\n",
              "1  1.242039 -1.573235\n",
              "2  2.299197 -0.584404\n",
              "3 -2.080829 -0.829801\n",
              "4  1.011048 -2.788340\n",
              "5  0.178460  0.422057"
            ]
          },
          "metadata": {
            "tags": []
          },
          "execution_count": 51
        }
      ]
    },
    {
      "cell_type": "code",
      "metadata": {
        "id": "OmAtZKnoZgRL",
        "colab_type": "code",
        "colab": {
          "base_uri": "https://localhost:8080/",
          "height": 363
        },
        "outputId": "8b4242d7-68cd-4bdf-99bf-9b4a24cd31ca"
      },
      "source": [
        "D = pd.DataFrame(\n",
        "    data=np.random.randn(10, 3),   ### Core Array Type\n",
        ")\n",
        "\n",
        "D"
      ],
      "execution_count": 55,
      "outputs": [
        {
          "output_type": "execute_result",
          "data": {
            "text/html": [
              "<div>\n",
              "<style scoped>\n",
              "    .dataframe tbody tr th:only-of-type {\n",
              "        vertical-align: middle;\n",
              "    }\n",
              "\n",
              "    .dataframe tbody tr th {\n",
              "        vertical-align: top;\n",
              "    }\n",
              "\n",
              "    .dataframe thead th {\n",
              "        text-align: right;\n",
              "    }\n",
              "</style>\n",
              "<table border=\"1\" class=\"dataframe\">\n",
              "  <thead>\n",
              "    <tr style=\"text-align: right;\">\n",
              "      <th></th>\n",
              "      <th>0</th>\n",
              "      <th>1</th>\n",
              "      <th>2</th>\n",
              "    </tr>\n",
              "  </thead>\n",
              "  <tbody>\n",
              "    <tr>\n",
              "      <th>0</th>\n",
              "      <td>0.010509</td>\n",
              "      <td>0.445063</td>\n",
              "      <td>-0.523584</td>\n",
              "    </tr>\n",
              "    <tr>\n",
              "      <th>1</th>\n",
              "      <td>-1.339999</td>\n",
              "      <td>0.563242</td>\n",
              "      <td>-2.272761</td>\n",
              "    </tr>\n",
              "    <tr>\n",
              "      <th>2</th>\n",
              "      <td>-0.729984</td>\n",
              "      <td>1.187311</td>\n",
              "      <td>-0.457001</td>\n",
              "    </tr>\n",
              "    <tr>\n",
              "      <th>3</th>\n",
              "      <td>-0.966826</td>\n",
              "      <td>-0.165017</td>\n",
              "      <td>0.193191</td>\n",
              "    </tr>\n",
              "    <tr>\n",
              "      <th>4</th>\n",
              "      <td>0.460967</td>\n",
              "      <td>1.121088</td>\n",
              "      <td>-0.631655</td>\n",
              "    </tr>\n",
              "    <tr>\n",
              "      <th>5</th>\n",
              "      <td>0.931976</td>\n",
              "      <td>1.015918</td>\n",
              "      <td>-1.574367</td>\n",
              "    </tr>\n",
              "    <tr>\n",
              "      <th>6</th>\n",
              "      <td>-0.641913</td>\n",
              "      <td>0.950028</td>\n",
              "      <td>-0.897199</td>\n",
              "    </tr>\n",
              "    <tr>\n",
              "      <th>7</th>\n",
              "      <td>0.803434</td>\n",
              "      <td>-0.780186</td>\n",
              "      <td>0.509246</td>\n",
              "    </tr>\n",
              "    <tr>\n",
              "      <th>8</th>\n",
              "      <td>-1.779504</td>\n",
              "      <td>0.433843</td>\n",
              "      <td>1.426580</td>\n",
              "    </tr>\n",
              "    <tr>\n",
              "      <th>9</th>\n",
              "      <td>-0.826318</td>\n",
              "      <td>0.583453</td>\n",
              "      <td>-0.348962</td>\n",
              "    </tr>\n",
              "  </tbody>\n",
              "</table>\n",
              "</div>"
            ],
            "text/plain": [
              "          0         1         2\n",
              "0  0.010509  0.445063 -0.523584\n",
              "1 -1.339999  0.563242 -2.272761\n",
              "2 -0.729984  1.187311 -0.457001\n",
              "3 -0.966826 -0.165017  0.193191\n",
              "4  0.460967  1.121088 -0.631655\n",
              "5  0.931976  1.015918 -1.574367\n",
              "6 -0.641913  0.950028 -0.897199\n",
              "7  0.803434 -0.780186  0.509246\n",
              "8 -1.779504  0.433843  1.426580\n",
              "9 -0.826318  0.583453 -0.348962"
            ]
          },
          "metadata": {
            "tags": []
          },
          "execution_count": 55
        }
      ]
    },
    {
      "cell_type": "code",
      "metadata": {
        "id": "i2Imx2KcaHM3",
        "colab_type": "code",
        "colab": {
          "base_uri": "https://localhost:8080/",
          "height": 206
        },
        "outputId": "67486f65-df43-4d0a-9ade-6cdab67c292d"
      },
      "source": [
        "D.iloc[0:5, 0:1]   ### Both row and column wised\n"
      ],
      "execution_count": 59,
      "outputs": [
        {
          "output_type": "execute_result",
          "data": {
            "text/html": [
              "<div>\n",
              "<style scoped>\n",
              "    .dataframe tbody tr th:only-of-type {\n",
              "        vertical-align: middle;\n",
              "    }\n",
              "\n",
              "    .dataframe tbody tr th {\n",
              "        vertical-align: top;\n",
              "    }\n",
              "\n",
              "    .dataframe thead th {\n",
              "        text-align: right;\n",
              "    }\n",
              "</style>\n",
              "<table border=\"1\" class=\"dataframe\">\n",
              "  <thead>\n",
              "    <tr style=\"text-align: right;\">\n",
              "      <th></th>\n",
              "      <th>0</th>\n",
              "    </tr>\n",
              "  </thead>\n",
              "  <tbody>\n",
              "    <tr>\n",
              "      <th>0</th>\n",
              "      <td>0.010509</td>\n",
              "    </tr>\n",
              "    <tr>\n",
              "      <th>1</th>\n",
              "      <td>-1.339999</td>\n",
              "    </tr>\n",
              "    <tr>\n",
              "      <th>2</th>\n",
              "      <td>-0.729984</td>\n",
              "    </tr>\n",
              "    <tr>\n",
              "      <th>3</th>\n",
              "      <td>-0.966826</td>\n",
              "    </tr>\n",
              "    <tr>\n",
              "      <th>4</th>\n",
              "      <td>0.460967</td>\n",
              "    </tr>\n",
              "  </tbody>\n",
              "</table>\n",
              "</div>"
            ],
            "text/plain": [
              "          0\n",
              "0  0.010509\n",
              "1 -1.339999\n",
              "2 -0.729984\n",
              "3 -0.966826\n",
              "4  0.460967"
            ]
          },
          "metadata": {
            "tags": []
          },
          "execution_count": 59
        }
      ]
    },
    {
      "cell_type": "code",
      "metadata": {
        "id": "PBfhKDqjaWOY",
        "colab_type": "code",
        "colab": {}
      },
      "source": [
        ""
      ],
      "execution_count": 0,
      "outputs": []
    }
  ]
}