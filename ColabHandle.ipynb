{
  "nbformat": 4,
  "nbformat_minor": 0,
  "metadata": {
    "colab": {
      "name": "ColabHandle.ipynb",
      "provenance": [],
      "include_colab_link": true
    },
    "kernelspec": {
      "name": "python3",
      "display_name": "Python 3"
    }
  },
  "cells": [
    {
      "cell_type": "markdown",
      "metadata": {
        "id": "view-in-github",
        "colab_type": "text"
      },
      "source": [
        "<a href=\"https://colab.research.google.com/github/mrzResearchArena/TF-2.X/blob/master/ColabHandle.ipynb\" target=\"_parent\"><img src=\"https://colab.research.google.com/assets/colab-badge.svg\" alt=\"Open In Colab\"/></a>"
      ]
    },
    {
      "cell_type": "code",
      "metadata": {
        "id": "Y_pYISL7Y0X3",
        "colab_type": "code",
        "colab": {}
      },
      "source": [
        "import sklearn\n",
        "import torch"
      ],
      "execution_count": 0,
      "outputs": []
    },
    {
      "cell_type": "code",
      "metadata": {
        "id": "kaGw_eeAZIe5",
        "colab_type": "code",
        "outputId": "803f6791-02f0-4259-991b-915244479922",
        "colab": {
          "base_uri": "https://localhost:8080/",
          "height": 53
        }
      },
      "source": [
        "print(sklearn.__version__)\n",
        "print(torch.__version__)"
      ],
      "execution_count": 0,
      "outputs": [
        {
          "output_type": "stream",
          "text": [
            "0.21.3\n",
            "1.3.1\n"
          ],
          "name": "stdout"
        }
      ]
    },
    {
      "cell_type": "code",
      "metadata": {
        "id": "D3vNNFOlZNNE",
        "colab_type": "code",
        "outputId": "4b7b7b0c-b832-44bb-f401-22b44864e4f1",
        "colab": {
          "base_uri": "https://localhost:8080/",
          "height": 35
        }
      },
      "source": [
        "torch.cuda.is_available()"
      ],
      "execution_count": 0,
      "outputs": [
        {
          "output_type": "execute_result",
          "data": {
            "text/plain": [
              "False"
            ]
          },
          "metadata": {
            "tags": []
          },
          "execution_count": 4
        }
      ]
    },
    {
      "cell_type": "code",
      "metadata": {
        "id": "PGW-uA70Zjnb",
        "colab_type": "code",
        "outputId": "585626b3-2f62-4e11-a957-d661488cb144",
        "colab": {
          "base_uri": "https://localhost:8080/",
          "height": 73
        }
      },
      "source": [
        "!nvidia-smi"
      ],
      "execution_count": 0,
      "outputs": [
        {
          "output_type": "stream",
          "text": [
            "NVIDIA-SMI has failed because it couldn't communicate with the NVIDIA driver. Make sure that the latest NVIDIA driver is installed and running.\n",
            "\n"
          ],
          "name": "stdout"
        }
      ]
    },
    {
      "cell_type": "code",
      "metadata": {
        "id": "wMEcXtHxZ5vD",
        "colab_type": "code",
        "outputId": "17dee424-7046-43ce-bfcf-819b222c4fc8",
        "colab": {
          "base_uri": "https://localhost:8080/",
          "height": 88
        }
      },
      "source": [
        "!nvcc --version"
      ],
      "execution_count": 0,
      "outputs": [
        {
          "output_type": "stream",
          "text": [
            "nvcc: NVIDIA (R) Cuda compiler driver\n",
            "Copyright (c) 2005-2019 NVIDIA Corporation\n",
            "Built on Sun_Jul_28_19:07:16_PDT_2019\n",
            "Cuda compilation tools, release 10.1, V10.1.243\n"
          ],
          "name": "stdout"
        }
      ]
    },
    {
      "cell_type": "code",
      "metadata": {
        "id": "Zu5NGHbOaMN1",
        "colab_type": "code",
        "outputId": "b90c705c-2e9c-4745-f26c-2da4443ed668",
        "colab": {
          "base_uri": "https://localhost:8080/",
          "height": 35
        }
      },
      "source": [
        "!uname -a"
      ],
      "execution_count": 0,
      "outputs": [
        {
          "output_type": "stream",
          "text": [
            "Linux 5ef38735a71d 4.14.137+ #1 SMP Thu Aug 8 02:47:02 PDT 2019 x86_64 x86_64 x86_64 GNU/Linux\n"
          ],
          "name": "stdout"
        }
      ]
    },
    {
      "cell_type": "code",
      "metadata": {
        "id": "t4B-IdYJacOC",
        "colab_type": "code",
        "outputId": "d12e71aa-8c6c-4146-965b-10a9727bfa28",
        "colab": {
          "base_uri": "https://localhost:8080/",
          "height": 106
        }
      },
      "source": [
        "!lsb_release -a"
      ],
      "execution_count": 0,
      "outputs": [
        {
          "output_type": "stream",
          "text": [
            "No LSB modules are available.\n",
            "Distributor ID:\tUbuntu\n",
            "Description:\tUbuntu 18.04.3 LTS\n",
            "Release:\t18.04\n",
            "Codename:\tbionic\n"
          ],
          "name": "stdout"
        }
      ]
    },
    {
      "cell_type": "code",
      "metadata": {
        "id": "fXKv6_wyax6t",
        "colab_type": "code",
        "outputId": "aac76b99-615f-4fd2-d15d-f2822cc2e755",
        "colab": {
          "base_uri": "https://localhost:8080/",
          "height": 789
        }
      },
      "source": [
        "!pip install tensorflow-gpu==2.0"
      ],
      "execution_count": 0,
      "outputs": [
        {
          "output_type": "stream",
          "text": [
            "Collecting tensorflow-gpu==2.0\n",
            "\u001b[?25l  Downloading https://files.pythonhosted.org/packages/25/44/47f0722aea081697143fbcf5d2aa60d1aee4aaacb5869aee2b568974777b/tensorflow_gpu-2.0.0-cp36-cp36m-manylinux2010_x86_64.whl (380.8MB)\n",
            "\u001b[K     |████████████████████████████████| 380.8MB 76kB/s \n",
            "\u001b[?25hRequirement already satisfied: grpcio>=1.8.6 in /usr/local/lib/python3.6/dist-packages (from tensorflow-gpu==2.0) (1.15.0)\n",
            "Requirement already satisfied: numpy<2.0,>=1.16.0 in /usr/local/lib/python3.6/dist-packages (from tensorflow-gpu==2.0) (1.16.5)\n",
            "Collecting tensorboard<2.1.0,>=2.0.0 (from tensorflow-gpu==2.0)\n",
            "\u001b[?25l  Downloading https://files.pythonhosted.org/packages/9b/a6/e8ffa4e2ddb216449d34cfcb825ebb38206bee5c4553d69e7bc8bc2c5d64/tensorboard-2.0.0-py3-none-any.whl (3.8MB)\n",
            "\u001b[K     |████████████████████████████████| 3.8MB 21.2MB/s \n",
            "\u001b[?25hRequirement already satisfied: wrapt>=1.11.1 in /usr/local/lib/python3.6/dist-packages (from tensorflow-gpu==2.0) (1.11.2)\n",
            "Requirement already satisfied: keras-applications>=1.0.8 in /usr/local/lib/python3.6/dist-packages (from tensorflow-gpu==2.0) (1.0.8)\n",
            "Requirement already satisfied: wheel>=0.26 in /usr/local/lib/python3.6/dist-packages (from tensorflow-gpu==2.0) (0.33.6)\n",
            "Requirement already satisfied: gast==0.2.2 in /usr/local/lib/python3.6/dist-packages (from tensorflow-gpu==2.0) (0.2.2)\n",
            "Requirement already satisfied: google-pasta>=0.1.6 in /usr/local/lib/python3.6/dist-packages (from tensorflow-gpu==2.0) (0.1.7)\n",
            "Requirement already satisfied: absl-py>=0.7.0 in /usr/local/lib/python3.6/dist-packages (from tensorflow-gpu==2.0) (0.8.0)\n",
            "Requirement already satisfied: six>=1.10.0 in /usr/local/lib/python3.6/dist-packages (from tensorflow-gpu==2.0) (1.12.0)\n",
            "Requirement already satisfied: protobuf>=3.6.1 in /usr/local/lib/python3.6/dist-packages (from tensorflow-gpu==2.0) (3.7.1)\n",
            "Requirement already satisfied: keras-preprocessing>=1.0.5 in /usr/local/lib/python3.6/dist-packages (from tensorflow-gpu==2.0) (1.1.0)\n",
            "Requirement already satisfied: astor>=0.6.0 in /usr/local/lib/python3.6/dist-packages (from tensorflow-gpu==2.0) (0.8.0)\n",
            "Collecting tensorflow-estimator<2.1.0,>=2.0.0 (from tensorflow-gpu==2.0)\n",
            "\u001b[?25l  Downloading https://files.pythonhosted.org/packages/95/00/5e6cdf86190a70d7382d320b2b04e4ff0f8191a37d90a422a2f8ff0705bb/tensorflow_estimator-2.0.0-py2.py3-none-any.whl (449kB)\n",
            "\u001b[K     |████████████████████████████████| 450kB 37.0MB/s \n",
            "\u001b[?25hRequirement already satisfied: opt-einsum>=2.3.2 in /usr/local/lib/python3.6/dist-packages (from tensorflow-gpu==2.0) (3.1.0)\n",
            "Requirement already satisfied: termcolor>=1.1.0 in /usr/local/lib/python3.6/dist-packages (from tensorflow-gpu==2.0) (1.1.0)\n",
            "Requirement already satisfied: werkzeug>=0.11.15 in /usr/local/lib/python3.6/dist-packages (from tensorboard<2.1.0,>=2.0.0->tensorflow-gpu==2.0) (0.16.0)\n",
            "Requirement already satisfied: markdown>=2.6.8 in /usr/local/lib/python3.6/dist-packages (from tensorboard<2.1.0,>=2.0.0->tensorflow-gpu==2.0) (3.1.1)\n",
            "Requirement already satisfied: setuptools>=41.0.0 in /usr/local/lib/python3.6/dist-packages (from tensorboard<2.1.0,>=2.0.0->tensorflow-gpu==2.0) (41.2.0)\n",
            "Requirement already satisfied: h5py in /usr/local/lib/python3.6/dist-packages (from keras-applications>=1.0.8->tensorflow-gpu==2.0) (2.8.0)\n",
            "\u001b[31mERROR: tensorflow 1.15.0rc3 has requirement tensorboard<1.16.0,>=1.15.0, but you'll have tensorboard 2.0.0 which is incompatible.\u001b[0m\n",
            "\u001b[31mERROR: tensorflow 1.15.0rc3 has requirement tensorflow-estimator==1.15.1, but you'll have tensorflow-estimator 2.0.0 which is incompatible.\u001b[0m\n",
            "Installing collected packages: tensorboard, tensorflow-estimator, tensorflow-gpu\n",
            "  Found existing installation: tensorboard 1.15.0\n",
            "    Uninstalling tensorboard-1.15.0:\n",
            "      Successfully uninstalled tensorboard-1.15.0\n",
            "  Found existing installation: tensorflow-estimator 1.15.1\n",
            "    Uninstalling tensorflow-estimator-1.15.1:\n",
            "      Successfully uninstalled tensorflow-estimator-1.15.1\n",
            "Successfully installed tensorboard-2.0.0 tensorflow-estimator-2.0.0 tensorflow-gpu-2.0.0\n"
          ],
          "name": "stdout"
        },
        {
          "output_type": "display_data",
          "data": {
            "application/vnd.colab-display-data+json": {
              "pip_warning": {
                "packages": [
                  "tensorboard",
                  "tensorflow",
                  "tensorflow_core",
                  "tensorflow_estimator"
                ]
              }
            }
          },
          "metadata": {
            "tags": []
          }
        }
      ]
    },
    {
      "cell_type": "code",
      "metadata": {
        "id": "iw8j2zhycgU0",
        "colab_type": "code",
        "outputId": "012e2f26-94b2-49c2-d5ed-4587f27cbac6",
        "colab": {
          "base_uri": "https://localhost:8080/",
          "height": 64
        }
      },
      "source": [
        "import tensorflow as tf"
      ],
      "execution_count": 0,
      "outputs": [
        {
          "output_type": "display_data",
          "data": {
            "text/html": [
              "<p style=\"color: red;\">\n",
              "The default version of TensorFlow in Colab will soon switch to TensorFlow 2.x.<br>\n",
              "We recommend you <a href=\"https://www.tensorflow.org/guide/migrate\" target=\"_blank\">upgrade</a> now \n",
              "or ensure your notebook will continue to use TensorFlow 1.x via the <code>%tensorflow_version 1.x</code> magic:\n",
              "<a href=\"https://colab.research.google.com/notebooks/tensorflow_version.ipynb\" target=\"_blank\">more info</a>.</p>\n"
            ],
            "text/plain": [
              "<IPython.core.display.HTML object>"
            ]
          },
          "metadata": {
            "tags": []
          }
        }
      ]
    },
    {
      "cell_type": "code",
      "metadata": {
        "id": "Sor905iudOGr",
        "colab_type": "code",
        "outputId": "f1924289-d990-47aa-ac08-9db02cf2cf5f",
        "colab": {
          "base_uri": "https://localhost:8080/",
          "height": 35
        }
      },
      "source": [
        "tf.__version__"
      ],
      "execution_count": 0,
      "outputs": [
        {
          "output_type": "execute_result",
          "data": {
            "text/plain": [
              "'1.15.0'"
            ]
          },
          "metadata": {
            "tags": []
          },
          "execution_count": 8
        }
      ]
    },
    {
      "cell_type": "markdown",
      "metadata": {
        "id": "P8qrNYDKL63T",
        "colab_type": "text"
      },
      "source": [
        "# Hi\n",
        "This is regular test\n",
        "``` python\n",
        "for i in range(10):\n",
        "    print(i)\n",
        "    \n",
        "```\n"
      ]
    },
    {
      "cell_type": "code",
      "metadata": {
        "id": "NOWl-O8VPJim",
        "colab_type": "code",
        "outputId": "4ab2e603-642b-4dc1-fe1d-7058f9d06cb4",
        "colab": {
          "base_uri": "https://localhost:8080/",
          "height": 124
        }
      },
      "source": [
        "!pwd\n",
        "!lsb_release -a "
      ],
      "execution_count": 0,
      "outputs": [
        {
          "output_type": "stream",
          "text": [
            "/content\n",
            "No LSB modules are available.\n",
            "Distributor ID:\tUbuntu\n",
            "Description:\tUbuntu 18.04.3 LTS\n",
            "Release:\t18.04\n",
            "Codename:\tbionic\n"
          ],
          "name": "stdout"
        }
      ]
    },
    {
      "cell_type": "code",
      "metadata": {
        "id": "AwMVBdMePhqf",
        "colab_type": "code",
        "outputId": "102c9799-d9d7-478d-8d32-7e28ecef82ef",
        "colab": {
          "base_uri": "https://localhost:8080/",
          "height": 231
        }
      },
      "source": [
        "!cat /etc/os-release"
      ],
      "execution_count": 0,
      "outputs": [
        {
          "output_type": "stream",
          "text": [
            "NAME=\"Ubuntu\"\n",
            "VERSION=\"18.04.3 LTS (Bionic Beaver)\"\n",
            "ID=ubuntu\n",
            "ID_LIKE=debian\n",
            "PRETTY_NAME=\"Ubuntu 18.04.3 LTS\"\n",
            "VERSION_ID=\"18.04\"\n",
            "HOME_URL=\"https://www.ubuntu.com/\"\n",
            "SUPPORT_URL=\"https://help.ubuntu.com/\"\n",
            "BUG_REPORT_URL=\"https://bugs.launchpad.net/ubuntu/\"\n",
            "PRIVACY_POLICY_URL=\"https://www.ubuntu.com/legal/terms-and-policies/privacy-policy\"\n",
            "VERSION_CODENAME=bionic\n",
            "UBUNTU_CODENAME=bionic\n"
          ],
          "name": "stdout"
        }
      ]
    },
    {
      "cell_type": "markdown",
      "metadata": {
        "id": "Zx4209s9dnoc",
        "colab_type": "text"
      },
      "source": [
        "\n"
      ]
    },
    {
      "cell_type": "code",
      "metadata": {
        "id": "cJj-nhXCPrIg",
        "colab_type": "code",
        "outputId": "d4262312-eb60-44f4-d421-b7468b330e82",
        "colab": {
          "base_uri": "https://localhost:8080/",
          "height": 71
        }
      },
      "source": [
        "!free -h"
      ],
      "execution_count": 0,
      "outputs": [
        {
          "output_type": "stream",
          "text": [
            "              total        used        free      shared  buff/cache   available\n",
            "Mem:            12G        641M        9.9G        848K        2.1G         11G\n",
            "Swap:            0B          0B          0B\n"
          ],
          "name": "stdout"
        }
      ]
    },
    {
      "cell_type": "code",
      "metadata": {
        "id": "UrlZkrDCPsja",
        "colab_type": "code",
        "outputId": "f5017b89-d1f1-4805-e662-303eb1d926b0",
        "colab": {
          "base_uri": "https://localhost:8080/",
          "height": 196
        }
      },
      "source": [
        "!df -h"
      ],
      "execution_count": 0,
      "outputs": [
        {
          "output_type": "stream",
          "text": [
            "Filesystem      Size  Used Avail Use% Mounted on\n",
            "overlay          49G   28G   19G  60% /\n",
            "tmpfs            64M     0   64M   0% /dev\n",
            "tmpfs           6.4G     0  6.4G   0% /sys/fs/cgroup\n",
            "tmpfs           6.4G  8.0K  6.4G   1% /var/colab\n",
            "/dev/sda1        55G   29G   27G  53% /etc/hosts\n",
            "shm             6.0G  4.0K  6.0G   1% /dev/shm\n",
            "tmpfs           6.4G     0  6.4G   0% /proc/acpi\n",
            "tmpfs           6.4G     0  6.4G   0% /proc/scsi\n",
            "tmpfs           6.4G     0  6.4G   0% /sys/firmware\n"
          ],
          "name": "stdout"
        }
      ]
    },
    {
      "cell_type": "code",
      "metadata": {
        "id": "oih2nf0TQJ9c",
        "colab_type": "code",
        "outputId": "07c54a29-6d78-4c87-93cb-9d9eb584f922",
        "colab": {
          "base_uri": "https://localhost:8080/",
          "height": 35
        }
      },
      "source": [
        "import gym\n",
        "gym.__version__"
      ],
      "execution_count": 0,
      "outputs": [
        {
          "output_type": "execute_result",
          "data": {
            "text/plain": [
              "'0.15.4'"
            ]
          },
          "metadata": {
            "tags": []
          },
          "execution_count": 14
        }
      ]
    },
    {
      "cell_type": "code",
      "metadata": {
        "id": "hyLqHyhuQtpd",
        "colab_type": "code",
        "outputId": "993e00c7-0267-44e4-ae10-51878fb2ba6a",
        "colab": {
          "base_uri": "https://localhost:8080/",
          "height": 1000
        }
      },
      "source": [
        "!pip install --upgrade tensorflow"
      ],
      "execution_count": 0,
      "outputs": [
        {
          "output_type": "stream",
          "text": [
            "Collecting tensorflow\n",
            "\u001b[?25l  Downloading https://files.pythonhosted.org/packages/46/0f/7bd55361168bb32796b360ad15a25de6966c9c1beb58a8e30c01c8279862/tensorflow-2.0.0-cp36-cp36m-manylinux2010_x86_64.whl (86.3MB)\n",
            "\u001b[K     |████████████████████████████████| 86.3MB 40kB/s \n",
            "\u001b[?25hRequirement already satisfied, skipping upgrade: termcolor>=1.1.0 in /usr/local/lib/python3.6/dist-packages (from tensorflow) (1.1.0)\n",
            "Requirement already satisfied, skipping upgrade: wrapt>=1.11.1 in /usr/local/lib/python3.6/dist-packages (from tensorflow) (1.11.2)\n",
            "Requirement already satisfied, skipping upgrade: numpy<2.0,>=1.16.0 in /usr/local/lib/python3.6/dist-packages (from tensorflow) (1.17.4)\n",
            "Requirement already satisfied, skipping upgrade: keras-preprocessing>=1.0.5 in /usr/local/lib/python3.6/dist-packages (from tensorflow) (1.1.0)\n",
            "Requirement already satisfied, skipping upgrade: opt-einsum>=2.3.2 in /usr/local/lib/python3.6/dist-packages (from tensorflow) (3.1.0)\n",
            "Requirement already satisfied, skipping upgrade: wheel>=0.26 in /usr/local/lib/python3.6/dist-packages (from tensorflow) (0.33.6)\n",
            "Requirement already satisfied, skipping upgrade: google-pasta>=0.1.6 in /usr/local/lib/python3.6/dist-packages (from tensorflow) (0.1.8)\n",
            "Requirement already satisfied, skipping upgrade: grpcio>=1.8.6 in /usr/local/lib/python3.6/dist-packages (from tensorflow) (1.15.0)\n",
            "Requirement already satisfied, skipping upgrade: absl-py>=0.7.0 in /usr/local/lib/python3.6/dist-packages (from tensorflow) (0.8.1)\n",
            "Requirement already satisfied, skipping upgrade: gast==0.2.2 in /usr/local/lib/python3.6/dist-packages (from tensorflow) (0.2.2)\n",
            "Requirement already satisfied, skipping upgrade: six>=1.10.0 in /usr/local/lib/python3.6/dist-packages (from tensorflow) (1.12.0)\n",
            "Requirement already satisfied, skipping upgrade: protobuf>=3.6.1 in /usr/local/lib/python3.6/dist-packages (from tensorflow) (3.10.0)\n",
            "Requirement already satisfied, skipping upgrade: keras-applications>=1.0.8 in /usr/local/lib/python3.6/dist-packages (from tensorflow) (1.0.8)\n",
            "Collecting tensorflow-estimator<2.1.0,>=2.0.0\n",
            "\u001b[?25l  Downloading https://files.pythonhosted.org/packages/fc/08/8b927337b7019c374719145d1dceba21a8bb909b93b1ad6f8fb7d22c1ca1/tensorflow_estimator-2.0.1-py2.py3-none-any.whl (449kB)\n",
            "\u001b[K     |████████████████████████████████| 450kB 39.6MB/s \n",
            "\u001b[?25hCollecting tensorboard<2.1.0,>=2.0.0\n",
            "\u001b[?25l  Downloading https://files.pythonhosted.org/packages/76/54/99b9d5d52d5cb732f099baaaf7740403e83fe6b0cedde940fabd2b13d75a/tensorboard-2.0.2-py3-none-any.whl (3.8MB)\n",
            "\u001b[K     |████████████████████████████████| 3.8MB 49.7MB/s \n",
            "\u001b[?25hRequirement already satisfied, skipping upgrade: astor>=0.6.0 in /usr/local/lib/python3.6/dist-packages (from tensorflow) (0.8.1)\n",
            "Requirement already satisfied, skipping upgrade: setuptools in /usr/local/lib/python3.6/dist-packages (from protobuf>=3.6.1->tensorflow) (42.0.2)\n",
            "Requirement already satisfied, skipping upgrade: h5py in /usr/local/lib/python3.6/dist-packages (from keras-applications>=1.0.8->tensorflow) (2.8.0)\n",
            "Requirement already satisfied, skipping upgrade: requests<3,>=2.21.0 in /usr/local/lib/python3.6/dist-packages (from tensorboard<2.1.0,>=2.0.0->tensorflow) (2.21.0)\n",
            "Requirement already satisfied, skipping upgrade: google-auth-oauthlib<0.5,>=0.4.1 in /usr/local/lib/python3.6/dist-packages (from tensorboard<2.1.0,>=2.0.0->tensorflow) (0.4.1)\n",
            "Requirement already satisfied, skipping upgrade: werkzeug>=0.11.15 in /usr/local/lib/python3.6/dist-packages (from tensorboard<2.1.0,>=2.0.0->tensorflow) (0.16.0)\n",
            "Collecting google-auth<2,>=1.6.3\n",
            "\u001b[?25l  Downloading https://files.pythonhosted.org/packages/54/31/f944cbd5bdbcc90d5b36f0615036308c8ec1e41b4788da5b55d4900f6803/google_auth-1.8.2-py2.py3-none-any.whl (75kB)\n",
            "\u001b[K     |████████████████████████████████| 81kB 11.5MB/s \n",
            "\u001b[?25hRequirement already satisfied, skipping upgrade: markdown>=2.6.8 in /usr/local/lib/python3.6/dist-packages (from tensorboard<2.1.0,>=2.0.0->tensorflow) (3.1.1)\n",
            "Requirement already satisfied, skipping upgrade: chardet<3.1.0,>=3.0.2 in /usr/local/lib/python3.6/dist-packages (from requests<3,>=2.21.0->tensorboard<2.1.0,>=2.0.0->tensorflow) (3.0.4)\n",
            "Requirement already satisfied, skipping upgrade: urllib3<1.25,>=1.21.1 in /usr/local/lib/python3.6/dist-packages (from requests<3,>=2.21.0->tensorboard<2.1.0,>=2.0.0->tensorflow) (1.24.3)\n",
            "Requirement already satisfied, skipping upgrade: idna<2.9,>=2.5 in /usr/local/lib/python3.6/dist-packages (from requests<3,>=2.21.0->tensorboard<2.1.0,>=2.0.0->tensorflow) (2.8)\n",
            "Requirement already satisfied, skipping upgrade: certifi>=2017.4.17 in /usr/local/lib/python3.6/dist-packages (from requests<3,>=2.21.0->tensorboard<2.1.0,>=2.0.0->tensorflow) (2019.11.28)\n",
            "Requirement already satisfied, skipping upgrade: requests-oauthlib>=0.7.0 in /usr/local/lib/python3.6/dist-packages (from google-auth-oauthlib<0.5,>=0.4.1->tensorboard<2.1.0,>=2.0.0->tensorflow) (1.3.0)\n",
            "Requirement already satisfied, skipping upgrade: pyasn1-modules>=0.2.1 in /usr/local/lib/python3.6/dist-packages (from google-auth<2,>=1.6.3->tensorboard<2.1.0,>=2.0.0->tensorflow) (0.2.7)\n",
            "Requirement already satisfied, skipping upgrade: cachetools<3.2,>=2.0.0 in /usr/local/lib/python3.6/dist-packages (from google-auth<2,>=1.6.3->tensorboard<2.1.0,>=2.0.0->tensorflow) (3.1.1)\n",
            "Requirement already satisfied, skipping upgrade: rsa<4.1,>=3.1.4 in /usr/local/lib/python3.6/dist-packages (from google-auth<2,>=1.6.3->tensorboard<2.1.0,>=2.0.0->tensorflow) (4.0)\n",
            "Requirement already satisfied, skipping upgrade: oauthlib>=3.0.0 in /usr/local/lib/python3.6/dist-packages (from requests-oauthlib>=0.7.0->google-auth-oauthlib<0.5,>=0.4.1->tensorboard<2.1.0,>=2.0.0->tensorflow) (3.1.0)\n",
            "Requirement already satisfied, skipping upgrade: pyasn1<0.5.0,>=0.4.6 in /usr/local/lib/python3.6/dist-packages (from pyasn1-modules>=0.2.1->google-auth<2,>=1.6.3->tensorboard<2.1.0,>=2.0.0->tensorflow) (0.4.8)\n",
            "\u001b[31mERROR: tensorboard 2.0.2 has requirement grpcio>=1.24.3, but you'll have grpcio 1.15.0 which is incompatible.\u001b[0m\n",
            "\u001b[31mERROR: google-colab 1.0.0 has requirement google-auth~=1.4.0, but you'll have google-auth 1.8.2 which is incompatible.\u001b[0m\n",
            "Installing collected packages: tensorflow-estimator, google-auth, tensorboard, tensorflow\n",
            "  Found existing installation: tensorflow-estimator 1.15.1\n",
            "    Uninstalling tensorflow-estimator-1.15.1:\n",
            "      Successfully uninstalled tensorflow-estimator-1.15.1\n",
            "  Found existing installation: google-auth 1.4.2\n",
            "    Uninstalling google-auth-1.4.2:\n",
            "      Successfully uninstalled google-auth-1.4.2\n",
            "  Found existing installation: tensorboard 1.15.0\n",
            "    Uninstalling tensorboard-1.15.0:\n",
            "      Successfully uninstalled tensorboard-1.15.0\n",
            "  Found existing installation: tensorflow 1.15.0\n",
            "    Uninstalling tensorflow-1.15.0:\n",
            "      Successfully uninstalled tensorflow-1.15.0\n",
            "Successfully installed google-auth-1.8.2 tensorboard-2.0.2 tensorflow-2.0.0 tensorflow-estimator-2.0.1\n"
          ],
          "name": "stdout"
        },
        {
          "output_type": "display_data",
          "data": {
            "application/vnd.colab-display-data+json": {
              "pip_warning": {
                "packages": [
                  "google",
                  "tensorboard",
                  "tensorflow",
                  "tensorflow_core",
                  "tensorflow_estimator"
                ]
              }
            }
          },
          "metadata": {
            "tags": []
          }
        }
      ]
    },
    {
      "cell_type": "code",
      "metadata": {
        "id": "_49HCZTCSlAF",
        "colab_type": "code",
        "outputId": "7a7d8f13-c2dc-40ed-f6f0-57a06f894032",
        "colab": {
          "base_uri": "https://localhost:8080/",
          "height": 35
        }
      },
      "source": [
        "import tensorflow as tf\n",
        "tf.__version__"
      ],
      "execution_count": 0,
      "outputs": [
        {
          "output_type": "execute_result",
          "data": {
            "text/plain": [
              "'2.0.0'"
            ]
          },
          "metadata": {
            "tags": []
          },
          "execution_count": 2
        }
      ]
    },
    {
      "cell_type": "code",
      "metadata": {
        "id": "xLzMx0cLS8vG",
        "colab_type": "code",
        "outputId": "36f60b8b-f948-4392-9293-476f219b2f2b",
        "colab": {
          "base_uri": "https://localhost:8080/",
          "height": 35
        }
      },
      "source": [
        "!ls"
      ],
      "execution_count": 0,
      "outputs": [
        {
          "output_type": "stream",
          "text": [
            "sample_data\n"
          ],
          "name": "stdout"
        }
      ]
    },
    {
      "cell_type": "code",
      "metadata": {
        "id": "Ew7L7lvuUpRb",
        "colab_type": "code",
        "outputId": "600a9ee2-c0ab-4fdd-c5c8-9e6ec28d57a5",
        "colab": {
          "base_uri": "https://localhost:8080/",
          "height": 35
        }
      },
      "source": [
        "!cat sample_data"
      ],
      "execution_count": 0,
      "outputs": [
        {
          "output_type": "stream",
          "text": [
            "cat: sample_data: Is a directory\n"
          ],
          "name": "stdout"
        }
      ]
    },
    {
      "cell_type": "code",
      "metadata": {
        "id": "TxenkmDFUvLV",
        "colab_type": "code",
        "colab": {}
      },
      "source": [
        "!cd sample_data"
      ],
      "execution_count": 0,
      "outputs": []
    },
    {
      "cell_type": "code",
      "metadata": {
        "id": "Hp_exil9U1Wb",
        "colab_type": "code",
        "outputId": "d47b83cb-d2f7-4d75-cd54-49f15604d2ec",
        "colab": {
          "base_uri": "https://localhost:8080/",
          "height": 35
        }
      },
      "source": [
        "!pwd"
      ],
      "execution_count": 0,
      "outputs": [
        {
          "output_type": "stream",
          "text": [
            "/content\n"
          ],
          "name": "stdout"
        }
      ]
    },
    {
      "cell_type": "code",
      "metadata": {
        "id": "gJCVtRZnU3wc",
        "colab_type": "code",
        "outputId": "9c838faa-001a-4af7-ad03-01bcd47906f9",
        "colab": {
          "base_uri": "https://localhost:8080/",
          "height": 35
        }
      },
      "source": [
        "!ls"
      ],
      "execution_count": 0,
      "outputs": [
        {
          "output_type": "stream",
          "text": [
            "sample_data\n"
          ],
          "name": "stdout"
        }
      ]
    },
    {
      "cell_type": "code",
      "metadata": {
        "id": "X7HL918_U6F6",
        "colab_type": "code",
        "outputId": "62d84f62-b62a-4e0f-a999-cabc830637c5",
        "colab": {
          "base_uri": "https://localhost:8080/",
          "height": 71
        }
      },
      "source": [
        "!ls sample_data"
      ],
      "execution_count": 0,
      "outputs": [
        {
          "output_type": "stream",
          "text": [
            "anscombe.json\t\t      mnist_test.csv\n",
            "california_housing_test.csv   mnist_train_small.csv\n",
            "california_housing_train.csv  README.md\n"
          ],
          "name": "stdout"
        }
      ]
    },
    {
      "cell_type": "code",
      "metadata": {
        "id": "FX1vbg16VAZ9",
        "colab_type": "code",
        "outputId": "eeed7bec-3114-4890-935b-7132ecf17b46",
        "colab": {
          "base_uri": "https://localhost:8080/",
          "height": 35
        }
      },
      "source": [
        "!ls"
      ],
      "execution_count": 0,
      "outputs": [
        {
          "output_type": "stream",
          "text": [
            "sample_data\n"
          ],
          "name": "stdout"
        }
      ]
    },
    {
      "cell_type": "code",
      "metadata": {
        "id": "qCdETCLUgSgs",
        "colab_type": "code",
        "outputId": "7211069e-e96e-4625-c07c-20f3181d108d",
        "colab": {
          "base_uri": "https://localhost:8080/",
          "height": 53
        }
      },
      "source": [
        "!ls -l"
      ],
      "execution_count": 0,
      "outputs": [
        {
          "output_type": "stream",
          "text": [
            "total 4\n",
            "drwxr-xr-x 1 root root 4096 Dec 12 16:48 sample_data\n"
          ],
          "name": "stdout"
        }
      ]
    },
    {
      "cell_type": "code",
      "metadata": {
        "id": "Bie6ObEbgVo2",
        "colab_type": "code",
        "outputId": "87c15446-93f3-4745-8094-b23df217b1f9",
        "colab": {
          "base_uri": "https://localhost:8080/",
          "height": 35
        }
      },
      "source": [
        "!pwd"
      ],
      "execution_count": 0,
      "outputs": [
        {
          "output_type": "stream",
          "text": [
            "/content\n"
          ],
          "name": "stdout"
        }
      ]
    },
    {
      "cell_type": "code",
      "metadata": {
        "id": "SlWE2xgwhQNN",
        "colab_type": "code",
        "outputId": "9ea80159-22c4-4410-8bfd-cc513b55a7ea",
        "colab": {
          "base_uri": "https://localhost:8080/",
          "height": 214
        }
      },
      "source": [
        "!wget https://archive.ics.uci.edu/ml/machine-learning-databases/iris/iris.data"
      ],
      "execution_count": 0,
      "outputs": [
        {
          "output_type": "stream",
          "text": [
            "--2019-12-16 02:24:16--  https://archive.ics.uci.edu/ml/machine-learning-databases/iris/iris.data\n",
            "Resolving archive.ics.uci.edu (archive.ics.uci.edu)... 128.195.10.252\n",
            "Connecting to archive.ics.uci.edu (archive.ics.uci.edu)|128.195.10.252|:443... connected.\n",
            "HTTP request sent, awaiting response... 200 OK\n",
            "Length: 4551 (4.4K) [application/x-httpd-php]\n",
            "Saving to: ‘iris.data’\n",
            "\n",
            "\riris.data             0%[                    ]       0  --.-KB/s               \riris.data           100%[===================>]   4.44K  --.-KB/s    in 0s      \n",
            "\n",
            "2019-12-16 02:24:17 (106 MB/s) - ‘iris.data’ saved [4551/4551]\n",
            "\n"
          ],
          "name": "stdout"
        }
      ]
    },
    {
      "cell_type": "code",
      "metadata": {
        "id": "wUbTcXj8hTfs",
        "colab_type": "code",
        "outputId": "dd946454-98ef-48d9-fd6c-37b66d67cec4",
        "colab": {
          "base_uri": "https://localhost:8080/",
          "height": 35
        }
      },
      "source": [
        "!ls"
      ],
      "execution_count": 0,
      "outputs": [
        {
          "output_type": "stream",
          "text": [
            "iris.data  sample_data\n"
          ],
          "name": "stdout"
        }
      ]
    },
    {
      "cell_type": "code",
      "metadata": {
        "id": "u2yAoLOlhWys",
        "colab_type": "code",
        "outputId": "fd63e631-89b6-4ef3-ce1e-ec79ab616984",
        "colab": {
          "base_uri": "https://localhost:8080/",
          "height": 196
        }
      },
      "source": [
        "!head iris.data"
      ],
      "execution_count": 0,
      "outputs": [
        {
          "output_type": "stream",
          "text": [
            "5.1,3.5,1.4,0.2,Iris-setosa\n",
            "4.9,3.0,1.4,0.2,Iris-setosa\n",
            "4.7,3.2,1.3,0.2,Iris-setosa\n",
            "4.6,3.1,1.5,0.2,Iris-setosa\n",
            "5.0,3.6,1.4,0.2,Iris-setosa\n",
            "5.4,3.9,1.7,0.4,Iris-setosa\n",
            "4.6,3.4,1.4,0.3,Iris-setosa\n",
            "5.0,3.4,1.5,0.2,Iris-setosa\n",
            "4.4,2.9,1.4,0.2,Iris-setosa\n",
            "4.9,3.1,1.5,0.1,Iris-setosa\n"
          ],
          "name": "stdout"
        }
      ]
    },
    {
      "cell_type": "code",
      "metadata": {
        "id": "D_lsLUknhhi-",
        "colab_type": "code",
        "colab": {}
      },
      "source": [
        "!ls /home"
      ],
      "execution_count": 0,
      "outputs": []
    },
    {
      "cell_type": "code",
      "metadata": {
        "id": "sNJtMFZpjVMb",
        "colab_type": "code",
        "outputId": "75c65d8b-830a-45ad-ead4-f80306dbd889",
        "colab": {
          "resources": {
            "http://localhost:8080/nbextensions/google.colab/files.js": {
              "data": "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",
              "ok": true,
              "headers": [
                [
                  "content-type",
                  "application/javascript"
                ]
              ],
              "status": 200,
              "status_text": "OK"
            }
          },
          "base_uri": "https://localhost:8080/",
          "height": 121
        }
      },
      "source": [
        "from google.colab import files\n",
        "files.upload()"
      ],
      "execution_count": 0,
      "outputs": [
        {
          "output_type": "display_data",
          "data": {
            "text/html": [
              "\n",
              "     <input type=\"file\" id=\"files-60e63f2e-7368-4dfa-8122-2fcee60eb4e9\" name=\"files[]\" multiple disabled />\n",
              "     <output id=\"result-60e63f2e-7368-4dfa-8122-2fcee60eb4e9\">\n",
              "      Upload widget is only available when the cell has been executed in the\n",
              "      current browser session. Please rerun this cell to enable.\n",
              "      </output>\n",
              "      <script src=\"/nbextensions/google.colab/files.js\"></script> "
            ],
            "text/plain": [
              "<IPython.core.display.HTML object>"
            ]
          },
          "metadata": {
            "tags": []
          }
        },
        {
          "output_type": "stream",
          "text": [
            "Saving pima.csv to pima.csv\n"
          ],
          "name": "stdout"
        },
        {
          "output_type": "execute_result",
          "data": {
            "text/plain": [
              "{'pima.csv': b'6,148,72,35,0,33.6,0.627,50,1\\n1,85,66,29,0,26.6,0.351,31,0\\n8,183,64,0,0,23.3,0.672,32,1\\n1,89,66,23,94,28.1,0.167,21,0\\n0,137,40,35,168,43.1,2.288,33,1\\n5,116,74,0,0,25.6,0.201,30,0\\n3,78,50,32,88,31.0,0.248,26,1\\n10,115,0,0,0,35.3,0.134,29,0\\n2,197,70,45,543,30.5,0.158,53,1\\n8,125,96,0,0,0.0,0.232,54,1\\n4,110,92,0,0,37.6,0.191,30,0\\n10,168,74,0,0,38.0,0.537,34,1\\n10,139,80,0,0,27.1,1.441,57,0\\n1,189,60,23,846,30.1,0.398,59,1\\n5,166,72,19,175,25.8,0.587,51,1\\n7,100,0,0,0,30.0,0.484,32,1\\n0,118,84,47,230,45.8,0.551,31,1\\n7,107,74,0,0,29.6,0.254,31,1\\n1,103,30,38,83,43.3,0.183,33,0\\n1,115,70,30,96,34.6,0.529,32,1\\n3,126,88,41,235,39.3,0.704,27,0\\n8,99,84,0,0,35.4,0.388,50,0\\n7,196,90,0,0,39.8,0.451,41,1\\n9,119,80,35,0,29.0,0.263,29,1\\n11,143,94,33,146,36.6,0.254,51,1\\n10,125,70,26,115,31.1,0.205,41,1\\n7,147,76,0,0,39.4,0.257,43,1\\n1,97,66,15,140,23.2,0.487,22,0\\n13,145,82,19,110,22.2,0.245,57,0\\n5,117,92,0,0,34.1,0.337,38,0\\n5,109,75,26,0,36.0,0.546,60,0\\n3,158,76,36,245,31.6,0.851,28,1\\n3,88,58,11,54,24.8,0.267,22,0\\n6,92,92,0,0,19.9,0.188,28,0\\n10,122,78,31,0,27.6,0.512,45,0\\n4,103,60,33,192,24.0,0.966,33,0\\n11,138,76,0,0,33.2,0.420,35,0\\n9,102,76,37,0,32.9,0.665,46,1\\n2,90,68,42,0,38.2,0.503,27,1\\n4,111,72,47,207,37.1,1.390,56,1\\n3,180,64,25,70,34.0,0.271,26,0\\n7,133,84,0,0,40.2,0.696,37,0\\n7,106,92,18,0,22.7,0.235,48,0\\n9,171,110,24,240,45.4,0.721,54,1\\n7,159,64,0,0,27.4,0.294,40,0\\n0,180,66,39,0,42.0,1.893,25,1\\n1,146,56,0,0,29.7,0.564,29,0\\n2,71,70,27,0,28.0,0.586,22,0\\n7,103,66,32,0,39.1,0.344,31,1\\n7,105,0,0,0,0.0,0.305,24,0\\n1,103,80,11,82,19.4,0.491,22,0\\n1,101,50,15,36,24.2,0.526,26,0\\n5,88,66,21,23,24.4,0.342,30,0\\n8,176,90,34,300,33.7,0.467,58,1\\n7,150,66,42,342,34.7,0.718,42,0\\n1,73,50,10,0,23.0,0.248,21,0\\n7,187,68,39,304,37.7,0.254,41,1\\n0,100,88,60,110,46.8,0.962,31,0\\n0,146,82,0,0,40.5,1.781,44,0\\n0,105,64,41,142,41.5,0.173,22,0\\n2,84,0,0,0,0.0,0.304,21,0\\n8,133,72,0,0,32.9,0.270,39,1\\n5,44,62,0,0,25.0,0.587,36,0\\n2,141,58,34,128,25.4,0.699,24,0\\n7,114,66,0,0,32.8,0.258,42,1\\n5,99,74,27,0,29.0,0.203,32,0\\n0,109,88,30,0,32.5,0.855,38,1\\n2,109,92,0,0,42.7,0.845,54,0\\n1,95,66,13,38,19.6,0.334,25,0\\n4,146,85,27,100,28.9,0.189,27,0\\n2,100,66,20,90,32.9,0.867,28,1\\n5,139,64,35,140,28.6,0.411,26,0\\n13,126,90,0,0,43.4,0.583,42,1\\n4,129,86,20,270,35.1,0.231,23,0\\n1,79,75,30,0,32.0,0.396,22,0\\n1,0,48,20,0,24.7,0.140,22,0\\n7,62,78,0,0,32.6,0.391,41,0\\n5,95,72,33,0,37.7,0.370,27,0\\n0,131,0,0,0,43.2,0.270,26,1\\n2,112,66,22,0,25.0,0.307,24,0\\n3,113,44,13,0,22.4,0.140,22,0\\n2,74,0,0,0,0.0,0.102,22,0\\n7,83,78,26,71,29.3,0.767,36,0\\n0,101,65,28,0,24.6,0.237,22,0\\n5,137,108,0,0,48.8,0.227,37,1\\n2,110,74,29,125,32.4,0.698,27,0\\n13,106,72,54,0,36.6,0.178,45,0\\n2,100,68,25,71,38.5,0.324,26,0\\n15,136,70,32,110,37.1,0.153,43,1\\n1,107,68,19,0,26.5,0.165,24,0\\n1,80,55,0,0,19.1,0.258,21,0\\n4,123,80,15,176,32.0,0.443,34,0\\n7,81,78,40,48,46.7,0.261,42,0\\n4,134,72,0,0,23.8,0.277,60,1\\n2,142,82,18,64,24.7,0.761,21,0\\n6,144,72,27,228,33.9,0.255,40,0\\n2,92,62,28,0,31.6,0.130,24,0\\n1,71,48,18,76,20.4,0.323,22,0\\n6,93,50,30,64,28.7,0.356,23,0\\n1,122,90,51,220,49.7,0.325,31,1\\n1,163,72,0,0,39.0,1.222,33,1\\n1,151,60,0,0,26.1,0.179,22,0\\n0,125,96,0,0,22.5,0.262,21,0\\n1,81,72,18,40,26.6,0.283,24,0\\n2,85,65,0,0,39.6,0.930,27,0\\n1,126,56,29,152,28.7,0.801,21,0\\n1,96,122,0,0,22.4,0.207,27,0\\n4,144,58,28,140,29.5,0.287,37,0\\n3,83,58,31,18,34.3,0.336,25,0\\n0,95,85,25,36,37.4,0.247,24,1\\n3,171,72,33,135,33.3,0.199,24,1\\n8,155,62,26,495,34.0,0.543,46,1\\n1,89,76,34,37,31.2,0.192,23,0\\n4,76,62,0,0,34.0,0.391,25,0\\n7,160,54,32,175,30.5,0.588,39,1\\n4,146,92,0,0,31.2,0.539,61,1\\n5,124,74,0,0,34.0,0.220,38,1\\n5,78,48,0,0,33.7,0.654,25,0\\n4,97,60,23,0,28.2,0.443,22,0\\n4,99,76,15,51,23.2,0.223,21,0\\n0,162,76,56,100,53.2,0.759,25,1\\n6,111,64,39,0,34.2,0.260,24,0\\n2,107,74,30,100,33.6,0.404,23,0\\n5,132,80,0,0,26.8,0.186,69,0\\n0,113,76,0,0,33.3,0.278,23,1\\n1,88,30,42,99,55.0,0.496,26,1\\n3,120,70,30,135,42.9,0.452,30,0\\n1,118,58,36,94,33.3,0.261,23,0\\n1,117,88,24,145,34.5,0.403,40,1\\n0,105,84,0,0,27.9,0.741,62,1\\n4,173,70,14,168,29.7,0.361,33,1\\n9,122,56,0,0,33.3,1.114,33,1\\n3,170,64,37,225,34.5,0.356,30,1\\n8,84,74,31,0,38.3,0.457,39,0\\n2,96,68,13,49,21.1,0.647,26,0\\n2,125,60,20,140,33.8,0.088,31,0\\n0,100,70,26,50,30.8,0.597,21,0\\n0,93,60,25,92,28.7,0.532,22,0\\n0,129,80,0,0,31.2,0.703,29,0\\n5,105,72,29,325,36.9,0.159,28,0\\n3,128,78,0,0,21.1,0.268,55,0\\n5,106,82,30,0,39.5,0.286,38,0\\n2,108,52,26,63,32.5,0.318,22,0\\n10,108,66,0,0,32.4,0.272,42,1\\n4,154,62,31,284,32.8,0.237,23,0\\n0,102,75,23,0,0.0,0.572,21,0\\n9,57,80,37,0,32.8,0.096,41,0\\n2,106,64,35,119,30.5,1.400,34,0\\n5,147,78,0,0,33.7,0.218,65,0\\n2,90,70,17,0,27.3,0.085,22,0\\n1,136,74,50,204,37.4,0.399,24,0\\n4,114,65,0,0,21.9,0.432,37,0\\n9,156,86,28,155,34.3,1.189,42,1\\n1,153,82,42,485,40.6,0.687,23,0\\n8,188,78,0,0,47.9,0.137,43,1\\n7,152,88,44,0,50.0,0.337,36,1\\n2,99,52,15,94,24.6,0.637,21,0\\n1,109,56,21,135,25.2,0.833,23,0\\n2,88,74,19,53,29.0,0.229,22,0\\n17,163,72,41,114,40.9,0.817,47,1\\n4,151,90,38,0,29.7,0.294,36,0\\n7,102,74,40,105,37.2,0.204,45,0\\n0,114,80,34,285,44.2,0.167,27,0\\n2,100,64,23,0,29.7,0.368,21,0\\n0,131,88,0,0,31.6,0.743,32,1\\n6,104,74,18,156,29.9,0.722,41,1\\n3,148,66,25,0,32.5,0.256,22,0\\n4,120,68,0,0,29.6,0.709,34,0\\n4,110,66,0,0,31.9,0.471,29,0\\n3,111,90,12,78,28.4,0.495,29,0\\n6,102,82,0,0,30.8,0.180,36,1\\n6,134,70,23,130,35.4,0.542,29,1\\n2,87,0,23,0,28.9,0.773,25,0\\n1,79,60,42,48,43.5,0.678,23,0\\n2,75,64,24,55,29.7,0.370,33,0\\n8,179,72,42,130,32.7,0.719,36,1\\n6,85,78,0,0,31.2,0.382,42,0\\n0,129,110,46,130,67.1,0.319,26,1\\n5,143,78,0,0,45.0,0.190,47,0\\n5,130,82,0,0,39.1,0.956,37,1\\n6,87,80,0,0,23.2,0.084,32,0\\n0,119,64,18,92,34.9,0.725,23,0\\n1,0,74,20,23,27.7,0.299,21,0\\n5,73,60,0,0,26.8,0.268,27,0\\n4,141,74,0,0,27.6,0.244,40,0\\n7,194,68,28,0,35.9,0.745,41,1\\n8,181,68,36,495,30.1,0.615,60,1\\n1,128,98,41,58,32.0,1.321,33,1\\n8,109,76,39,114,27.9,0.640,31,1\\n5,139,80,35,160,31.6,0.361,25,1\\n3,111,62,0,0,22.6,0.142,21,0\\n9,123,70,44,94,33.1,0.374,40,0\\n7,159,66,0,0,30.4,0.383,36,1\\n11,135,0,0,0,52.3,0.578,40,1\\n8,85,55,20,0,24.4,0.136,42,0\\n5,158,84,41,210,39.4,0.395,29,1\\n1,105,58,0,0,24.3,0.187,21,0\\n3,107,62,13,48,22.9,0.678,23,1\\n4,109,64,44,99,34.8,0.905,26,1\\n4,148,60,27,318,30.9,0.150,29,1\\n0,113,80,16,0,31.0,0.874,21,0\\n1,138,82,0,0,40.1,0.236,28,0\\n0,108,68,20,0,27.3,0.787,32,0\\n2,99,70,16,44,20.4,0.235,27,0\\n6,103,72,32,190,37.7,0.324,55,0\\n5,111,72,28,0,23.9,0.407,27,0\\n8,196,76,29,280,37.5,0.605,57,1\\n5,162,104,0,0,37.7,0.151,52,1\\n1,96,64,27,87,33.2,0.289,21,0\\n7,184,84,33,0,35.5,0.355,41,1\\n2,81,60,22,0,27.7,0.290,25,0\\n0,147,85,54,0,42.8,0.375,24,0\\n7,179,95,31,0,34.2,0.164,60,0\\n0,140,65,26,130,42.6,0.431,24,1\\n9,112,82,32,175,34.2,0.260,36,1\\n12,151,70,40,271,41.8,0.742,38,1\\n5,109,62,41,129,35.8,0.514,25,1\\n6,125,68,30,120,30.0,0.464,32,0\\n5,85,74,22,0,29.0,1.224,32,1\\n5,112,66,0,0,37.8,0.261,41,1\\n0,177,60,29,478,34.6,1.072,21,1\\n2,158,90,0,0,31.6,0.805,66,1\\n7,119,0,0,0,25.2,0.209,37,0\\n7,142,60,33,190,28.8,0.687,61,0\\n1,100,66,15,56,23.6,0.666,26,0\\n1,87,78,27,32,34.6,0.101,22,0\\n0,101,76,0,0,35.7,0.198,26,0\\n3,162,52,38,0,37.2,0.652,24,1\\n4,197,70,39,744,36.7,2.329,31,0\\n0,117,80,31,53,45.2,0.089,24,0\\n4,142,86,0,0,44.0,0.645,22,1\\n6,134,80,37,370,46.2,0.238,46,1\\n1,79,80,25,37,25.4,0.583,22,0\\n4,122,68,0,0,35.0,0.394,29,0\\n3,74,68,28,45,29.7,0.293,23,0\\n4,171,72,0,0,43.6,0.479,26,1\\n7,181,84,21,192,35.9,0.586,51,1\\n0,179,90,27,0,44.1,0.686,23,1\\n9,164,84,21,0,30.8,0.831,32,1\\n0,104,76,0,0,18.4,0.582,27,0\\n1,91,64,24,0,29.2,0.192,21,0\\n4,91,70,32,88,33.1,0.446,22,0\\n3,139,54,0,0,25.6,0.402,22,1\\n6,119,50,22,176,27.1,1.318,33,1\\n2,146,76,35,194,38.2,0.329,29,0\\n9,184,85,15,0,30.0,1.213,49,1\\n10,122,68,0,0,31.2,0.258,41,0\\n0,165,90,33,680,52.3,0.427,23,0\\n9,124,70,33,402,35.4,0.282,34,0\\n1,111,86,19,0,30.1,0.143,23,0\\n9,106,52,0,0,31.2,0.380,42,0\\n2,129,84,0,0,28.0,0.284,27,0\\n2,90,80,14,55,24.4,0.249,24,0\\n0,86,68,32,0,35.8,0.238,25,0\\n12,92,62,7,258,27.6,0.926,44,1\\n1,113,64,35,0,33.6,0.543,21,1\\n3,111,56,39,0,30.1,0.557,30,0\\n2,114,68,22,0,28.7,0.092,25,0\\n1,193,50,16,375,25.9,0.655,24,0\\n11,155,76,28,150,33.3,1.353,51,1\\n3,191,68,15,130,30.9,0.299,34,0\\n3,141,0,0,0,30.0,0.761,27,1\\n4,95,70,32,0,32.1,0.612,24,0\\n3,142,80,15,0,32.4,0.200,63,0\\n4,123,62,0,0,32.0,0.226,35,1\\n5,96,74,18,67,33.6,0.997,43,0\\n0,138,0,0,0,36.3,0.933,25,1\\n2,128,64,42,0,40.0,1.101,24,0\\n0,102,52,0,0,25.1,0.078,21,0\\n2,146,0,0,0,27.5,0.240,28,1\\n10,101,86,37,0,45.6,1.136,38,1\\n2,108,62,32,56,25.2,0.128,21,0\\n3,122,78,0,0,23.0,0.254,40,0\\n1,71,78,50,45,33.2,0.422,21,0\\n13,106,70,0,0,34.2,0.251,52,0\\n2,100,70,52,57,40.5,0.677,25,0\\n7,106,60,24,0,26.5,0.296,29,1\\n0,104,64,23,116,27.8,0.454,23,0\\n5,114,74,0,0,24.9,0.744,57,0\\n2,108,62,10,278,25.3,0.881,22,0\\n0,146,70,0,0,37.9,0.334,28,1\\n10,129,76,28,122,35.9,0.280,39,0\\n7,133,88,15,155,32.4,0.262,37,0\\n7,161,86,0,0,30.4,0.165,47,1\\n2,108,80,0,0,27.0,0.259,52,1\\n7,136,74,26,135,26.0,0.647,51,0\\n5,155,84,44,545,38.7,0.619,34,0\\n1,119,86,39,220,45.6,0.808,29,1\\n4,96,56,17,49,20.8,0.340,26,0\\n5,108,72,43,75,36.1,0.263,33,0\\n0,78,88,29,40,36.9,0.434,21,0\\n0,107,62,30,74,36.6,0.757,25,1\\n2,128,78,37,182,43.3,1.224,31,1\\n1,128,48,45,194,40.5,0.613,24,1\\n0,161,50,0,0,21.9,0.254,65,0\\n6,151,62,31,120,35.5,0.692,28,0\\n2,146,70,38,360,28.0,0.337,29,1\\n0,126,84,29,215,30.7,0.520,24,0\\n14,100,78,25,184,36.6,0.412,46,1\\n8,112,72,0,0,23.6,0.840,58,0\\n0,167,0,0,0,32.3,0.839,30,1\\n2,144,58,33,135,31.6,0.422,25,1\\n5,77,82,41,42,35.8,0.156,35,0\\n5,115,98,0,0,52.9,0.209,28,1\\n3,150,76,0,0,21.0,0.207,37,0\\n2,120,76,37,105,39.7,0.215,29,0\\n10,161,68,23,132,25.5,0.326,47,1\\n0,137,68,14,148,24.8,0.143,21,0\\n0,128,68,19,180,30.5,1.391,25,1\\n2,124,68,28,205,32.9,0.875,30,1\\n6,80,66,30,0,26.2,0.313,41,0\\n0,106,70,37,148,39.4,0.605,22,0\\n2,155,74,17,96,26.6,0.433,27,1\\n3,113,50,10,85,29.5,0.626,25,0\\n7,109,80,31,0,35.9,1.127,43,1\\n2,112,68,22,94,34.1,0.315,26,0\\n3,99,80,11,64,19.3,0.284,30,0\\n3,182,74,0,0,30.5,0.345,29,1\\n3,115,66,39,140,38.1,0.150,28,0\\n6,194,78,0,0,23.5,0.129,59,1\\n4,129,60,12,231,27.5,0.527,31,0\\n3,112,74,30,0,31.6,0.197,25,1\\n0,124,70,20,0,27.4,0.254,36,1\\n13,152,90,33,29,26.8,0.731,43,1\\n2,112,75,32,0,35.7,0.148,21,0\\n1,157,72,21,168,25.6,0.123,24,0\\n1,122,64,32,156,35.1,0.692,30,1\\n10,179,70,0,0,35.1,0.200,37,0\\n2,102,86,36,120,45.5,0.127,23,1\\n6,105,70,32,68,30.8,0.122,37,0\\n8,118,72,19,0,23.1,1.476,46,0\\n2,87,58,16,52,32.7,0.166,25,0\\n1,180,0,0,0,43.3,0.282,41,1\\n12,106,80,0,0,23.6,0.137,44,0\\n1,95,60,18,58,23.9,0.260,22,0\\n0,165,76,43,255,47.9,0.259,26,0\\n0,117,0,0,0,33.8,0.932,44,0\\n5,115,76,0,0,31.2,0.343,44,1\\n9,152,78,34,171,34.2,0.893,33,1\\n7,178,84,0,0,39.9,0.331,41,1\\n1,130,70,13,105,25.9,0.472,22,0\\n1,95,74,21,73,25.9,0.673,36,0\\n1,0,68,35,0,32.0,0.389,22,0\\n5,122,86,0,0,34.7,0.290,33,0\\n8,95,72,0,0,36.8,0.485,57,0\\n8,126,88,36,108,38.5,0.349,49,0\\n1,139,46,19,83,28.7,0.654,22,0\\n3,116,0,0,0,23.5,0.187,23,0\\n3,99,62,19,74,21.8,0.279,26,0\\n5,0,80,32,0,41.0,0.346,37,1\\n4,92,80,0,0,42.2,0.237,29,0\\n4,137,84,0,0,31.2,0.252,30,0\\n3,61,82,28,0,34.4,0.243,46,0\\n1,90,62,12,43,27.2,0.580,24,0\\n3,90,78,0,0,42.7,0.559,21,0\\n9,165,88,0,0,30.4,0.302,49,1\\n1,125,50,40,167,33.3,0.962,28,1\\n13,129,0,30,0,39.9,0.569,44,1\\n12,88,74,40,54,35.3,0.378,48,0\\n1,196,76,36,249,36.5,0.875,29,1\\n5,189,64,33,325,31.2,0.583,29,1\\n5,158,70,0,0,29.8,0.207,63,0\\n5,103,108,37,0,39.2,0.305,65,0\\n4,146,78,0,0,38.5,0.520,67,1\\n4,147,74,25,293,34.9,0.385,30,0\\n5,99,54,28,83,34.0,0.499,30,0\\n6,124,72,0,0,27.6,0.368,29,1\\n0,101,64,17,0,21.0,0.252,21,0\\n3,81,86,16,66,27.5,0.306,22,0\\n1,133,102,28,140,32.8,0.234,45,1\\n3,173,82,48,465,38.4,2.137,25,1\\n0,118,64,23,89,0.0,1.731,21,0\\n0,84,64,22,66,35.8,0.545,21,0\\n2,105,58,40,94,34.9,0.225,25,0\\n2,122,52,43,158,36.2,0.816,28,0\\n12,140,82,43,325,39.2,0.528,58,1\\n0,98,82,15,84,25.2,0.299,22,0\\n1,87,60,37,75,37.2,0.509,22,0\\n4,156,75,0,0,48.3,0.238,32,1\\n0,93,100,39,72,43.4,1.021,35,0\\n1,107,72,30,82,30.8,0.821,24,0\\n0,105,68,22,0,20.0,0.236,22,0\\n1,109,60,8,182,25.4,0.947,21,0\\n1,90,62,18,59,25.1,1.268,25,0\\n1,125,70,24,110,24.3,0.221,25,0\\n1,119,54,13,50,22.3,0.205,24,0\\n5,116,74,29,0,32.3,0.660,35,1\\n8,105,100,36,0,43.3,0.239,45,1\\n5,144,82,26,285,32.0,0.452,58,1\\n3,100,68,23,81,31.6,0.949,28,0\\n1,100,66,29,196,32.0,0.444,42,0\\n5,166,76,0,0,45.7,0.340,27,1\\n1,131,64,14,415,23.7,0.389,21,0\\n4,116,72,12,87,22.1,0.463,37,0\\n4,158,78,0,0,32.9,0.803,31,1\\n2,127,58,24,275,27.7,1.600,25,0\\n3,96,56,34,115,24.7,0.944,39,0\\n0,131,66,40,0,34.3,0.196,22,1\\n3,82,70,0,0,21.1,0.389,25,0\\n3,193,70,31,0,34.9,0.241,25,1\\n4,95,64,0,0,32.0,0.161,31,1\\n6,137,61,0,0,24.2,0.151,55,0\\n5,136,84,41,88,35.0,0.286,35,1\\n9,72,78,25,0,31.6,0.280,38,0\\n5,168,64,0,0,32.9,0.135,41,1\\n2,123,48,32,165,42.1,0.520,26,0\\n4,115,72,0,0,28.9,0.376,46,1\\n0,101,62,0,0,21.9,0.336,25,0\\n8,197,74,0,0,25.9,1.191,39,1\\n1,172,68,49,579,42.4,0.702,28,1\\n6,102,90,39,0,35.7,0.674,28,0\\n1,112,72,30,176,34.4,0.528,25,0\\n1,143,84,23,310,42.4,1.076,22,0\\n1,143,74,22,61,26.2,0.256,21,0\\n0,138,60,35,167,34.6,0.534,21,1\\n3,173,84,33,474,35.7,0.258,22,1\\n1,97,68,21,0,27.2,1.095,22,0\\n4,144,82,32,0,38.5,0.554,37,1\\n1,83,68,0,0,18.2,0.624,27,0\\n3,129,64,29,115,26.4,0.219,28,1\\n1,119,88,41,170,45.3,0.507,26,0\\n2,94,68,18,76,26.0,0.561,21,0\\n0,102,64,46,78,40.6,0.496,21,0\\n2,115,64,22,0,30.8,0.421,21,0\\n8,151,78,32,210,42.9,0.516,36,1\\n4,184,78,39,277,37.0,0.264,31,1\\n0,94,0,0,0,0.0,0.256,25,0\\n1,181,64,30,180,34.1,0.328,38,1\\n0,135,94,46,145,40.6,0.284,26,0\\n1,95,82,25,180,35.0,0.233,43,1\\n2,99,0,0,0,22.2,0.108,23,0\\n3,89,74,16,85,30.4,0.551,38,0\\n1,80,74,11,60,30.0,0.527,22,0\\n2,139,75,0,0,25.6,0.167,29,0\\n1,90,68,8,0,24.5,1.138,36,0\\n0,141,0,0,0,42.4,0.205,29,1\\n12,140,85,33,0,37.4,0.244,41,0\\n5,147,75,0,0,29.9,0.434,28,0\\n1,97,70,15,0,18.2,0.147,21,0\\n6,107,88,0,0,36.8,0.727,31,0\\n0,189,104,25,0,34.3,0.435,41,1\\n2,83,66,23,50,32.2,0.497,22,0\\n4,117,64,27,120,33.2,0.230,24,0\\n8,108,70,0,0,30.5,0.955,33,1\\n4,117,62,12,0,29.7,0.380,30,1\\n0,180,78,63,14,59.4,2.420,25,1\\n1,100,72,12,70,25.3,0.658,28,0\\n0,95,80,45,92,36.5,0.330,26,0\\n0,104,64,37,64,33.6,0.510,22,1\\n0,120,74,18,63,30.5,0.285,26,0\\n1,82,64,13,95,21.2,0.415,23,0\\n2,134,70,0,0,28.9,0.542,23,1\\n0,91,68,32,210,39.9,0.381,25,0\\n2,119,0,0,0,19.6,0.832,72,0\\n2,100,54,28,105,37.8,0.498,24,0\\n14,175,62,30,0,33.6,0.212,38,1\\n1,135,54,0,0,26.7,0.687,62,0\\n5,86,68,28,71,30.2,0.364,24,0\\n10,148,84,48,237,37.6,1.001,51,1\\n9,134,74,33,60,25.9,0.460,81,0\\n9,120,72,22,56,20.8,0.733,48,0\\n1,71,62,0,0,21.8,0.416,26,0\\n8,74,70,40,49,35.3,0.705,39,0\\n5,88,78,30,0,27.6,0.258,37,0\\n10,115,98,0,0,24.0,1.022,34,0\\n0,124,56,13,105,21.8,0.452,21,0\\n0,74,52,10,36,27.8,0.269,22,0\\n0,97,64,36,100,36.8,0.600,25,0\\n8,120,0,0,0,30.0,0.183,38,1\\n6,154,78,41,140,46.1,0.571,27,0\\n1,144,82,40,0,41.3,0.607,28,0\\n0,137,70,38,0,33.2,0.170,22,0\\n0,119,66,27,0,38.8,0.259,22,0\\n7,136,90,0,0,29.9,0.210,50,0\\n4,114,64,0,0,28.9,0.126,24,0\\n0,137,84,27,0,27.3,0.231,59,0\\n2,105,80,45,191,33.7,0.711,29,1\\n7,114,76,17,110,23.8,0.466,31,0\\n8,126,74,38,75,25.9,0.162,39,0\\n4,132,86,31,0,28.0,0.419,63,0\\n3,158,70,30,328,35.5,0.344,35,1\\n0,123,88,37,0,35.2,0.197,29,0\\n4,85,58,22,49,27.8,0.306,28,0\\n0,84,82,31,125,38.2,0.233,23,0\\n0,145,0,0,0,44.2,0.630,31,1\\n0,135,68,42,250,42.3,0.365,24,1\\n1,139,62,41,480,40.7,0.536,21,0\\n0,173,78,32,265,46.5,1.159,58,0\\n4,99,72,17,0,25.6,0.294,28,0\\n8,194,80,0,0,26.1,0.551,67,0\\n2,83,65,28,66,36.8,0.629,24,0\\n2,89,90,30,0,33.5,0.292,42,0\\n4,99,68,38,0,32.8,0.145,33,0\\n4,125,70,18,122,28.9,1.144,45,1\\n3,80,0,0,0,0.0,0.174,22,0\\n6,166,74,0,0,26.6,0.304,66,0\\n5,110,68,0,0,26.0,0.292,30,0\\n2,81,72,15,76,30.1,0.547,25,0\\n7,195,70,33,145,25.1,0.163,55,1\\n6,154,74,32,193,29.3,0.839,39,0\\n2,117,90,19,71,25.2,0.313,21,0\\n3,84,72,32,0,37.2,0.267,28,0\\n6,0,68,41,0,39.0,0.727,41,1\\n7,94,64,25,79,33.3,0.738,41,0\\n3,96,78,39,0,37.3,0.238,40,0\\n10,75,82,0,0,33.3,0.263,38,0\\n0,180,90,26,90,36.5,0.314,35,1\\n1,130,60,23,170,28.6,0.692,21,0\\n2,84,50,23,76,30.4,0.968,21,0\\n8,120,78,0,0,25.0,0.409,64,0\\n12,84,72,31,0,29.7,0.297,46,1\\n0,139,62,17,210,22.1,0.207,21,0\\n9,91,68,0,0,24.2,0.200,58,0\\n2,91,62,0,0,27.3,0.525,22,0\\n3,99,54,19,86,25.6,0.154,24,0\\n3,163,70,18,105,31.6,0.268,28,1\\n9,145,88,34,165,30.3,0.771,53,1\\n7,125,86,0,0,37.6,0.304,51,0\\n13,76,60,0,0,32.8,0.180,41,0\\n6,129,90,7,326,19.6,0.582,60,0\\n2,68,70,32,66,25.0,0.187,25,0\\n3,124,80,33,130,33.2,0.305,26,0\\n6,114,0,0,0,0.0,0.189,26,0\\n9,130,70,0,0,34.2,0.652,45,1\\n3,125,58,0,0,31.6,0.151,24,0\\n3,87,60,18,0,21.8,0.444,21,0\\n1,97,64,19,82,18.2,0.299,21,0\\n3,116,74,15,105,26.3,0.107,24,0\\n0,117,66,31,188,30.8,0.493,22,0\\n0,111,65,0,0,24.6,0.660,31,0\\n2,122,60,18,106,29.8,0.717,22,0\\n0,107,76,0,0,45.3,0.686,24,0\\n1,86,66,52,65,41.3,0.917,29,0\\n6,91,0,0,0,29.8,0.501,31,0\\n1,77,56,30,56,33.3,1.251,24,0\\n4,132,0,0,0,32.9,0.302,23,1\\n0,105,90,0,0,29.6,0.197,46,0\\n0,57,60,0,0,21.7,0.735,67,0\\n0,127,80,37,210,36.3,0.804,23,0\\n3,129,92,49,155,36.4,0.968,32,1\\n8,100,74,40,215,39.4,0.661,43,1\\n3,128,72,25,190,32.4,0.549,27,1\\n10,90,85,32,0,34.9,0.825,56,1\\n4,84,90,23,56,39.5,0.159,25,0\\n1,88,78,29,76,32.0,0.365,29,0\\n8,186,90,35,225,34.5,0.423,37,1\\n5,187,76,27,207,43.6,1.034,53,1\\n4,131,68,21,166,33.1,0.160,28,0\\n1,164,82,43,67,32.8,0.341,50,0\\n4,189,110,31,0,28.5,0.680,37,0\\n1,116,70,28,0,27.4,0.204,21,0\\n3,84,68,30,106,31.9,0.591,25,0\\n6,114,88,0,0,27.8,0.247,66,0\\n1,88,62,24,44,29.9,0.422,23,0\\n1,84,64,23,115,36.9,0.471,28,0\\n7,124,70,33,215,25.5,0.161,37,0\\n1,97,70,40,0,38.1,0.218,30,0\\n8,110,76,0,0,27.8,0.237,58,0\\n11,103,68,40,0,46.2,0.126,42,0\\n11,85,74,0,0,30.1,0.300,35,0\\n6,125,76,0,0,33.8,0.121,54,1\\n0,198,66,32,274,41.3,0.502,28,1\\n1,87,68,34,77,37.6,0.401,24,0\\n6,99,60,19,54,26.9,0.497,32,0\\n0,91,80,0,0,32.4,0.601,27,0\\n2,95,54,14,88,26.1,0.748,22,0\\n1,99,72,30,18,38.6,0.412,21,0\\n6,92,62,32,126,32.0,0.085,46,0\\n4,154,72,29,126,31.3,0.338,37,0\\n0,121,66,30,165,34.3,0.203,33,1\\n3,78,70,0,0,32.5,0.270,39,0\\n2,130,96,0,0,22.6,0.268,21,0\\n3,111,58,31,44,29.5,0.430,22,0\\n2,98,60,17,120,34.7,0.198,22,0\\n1,143,86,30,330,30.1,0.892,23,0\\n1,119,44,47,63,35.5,0.280,25,0\\n6,108,44,20,130,24.0,0.813,35,0\\n2,118,80,0,0,42.9,0.693,21,1\\n10,133,68,0,0,27.0,0.245,36,0\\n2,197,70,99,0,34.7,0.575,62,1\\n0,151,90,46,0,42.1,0.371,21,1\\n6,109,60,27,0,25.0,0.206,27,0\\n12,121,78,17,0,26.5,0.259,62,0\\n8,100,76,0,0,38.7,0.190,42,0\\n8,124,76,24,600,28.7,0.687,52,1\\n1,93,56,11,0,22.5,0.417,22,0\\n8,143,66,0,0,34.9,0.129,41,1\\n6,103,66,0,0,24.3,0.249,29,0\\n3,176,86,27,156,33.3,1.154,52,1\\n0,73,0,0,0,21.1,0.342,25,0\\n11,111,84,40,0,46.8,0.925,45,1\\n2,112,78,50,140,39.4,0.175,24,0\\n3,132,80,0,0,34.4,0.402,44,1\\n2,82,52,22,115,28.5,1.699,25,0\\n6,123,72,45,230,33.6,0.733,34,0\\n0,188,82,14,185,32.0,0.682,22,1\\n0,67,76,0,0,45.3,0.194,46,0\\n1,89,24,19,25,27.8,0.559,21,0\\n1,173,74,0,0,36.8,0.088,38,1\\n1,109,38,18,120,23.1,0.407,26,0\\n1,108,88,19,0,27.1,0.400,24,0\\n6,96,0,0,0,23.7,0.190,28,0\\n1,124,74,36,0,27.8,0.100,30,0\\n7,150,78,29,126,35.2,0.692,54,1\\n4,183,0,0,0,28.4,0.212,36,1\\n1,124,60,32,0,35.8,0.514,21,0\\n1,181,78,42,293,40.0,1.258,22,1\\n1,92,62,25,41,19.5,0.482,25,0\\n0,152,82,39,272,41.5,0.270,27,0\\n1,111,62,13,182,24.0,0.138,23,0\\n3,106,54,21,158,30.9,0.292,24,0\\n3,174,58,22,194,32.9,0.593,36,1\\n7,168,88,42,321,38.2,0.787,40,1\\n6,105,80,28,0,32.5,0.878,26,0\\n11,138,74,26,144,36.1,0.557,50,1\\n3,106,72,0,0,25.8,0.207,27,0\\n6,117,96,0,0,28.7,0.157,30,0\\n2,68,62,13,15,20.1,0.257,23,0\\n9,112,82,24,0,28.2,1.282,50,1\\n0,119,0,0,0,32.4,0.141,24,1\\n2,112,86,42,160,38.4,0.246,28,0\\n2,92,76,20,0,24.2,1.698,28,0\\n6,183,94,0,0,40.8,1.461,45,0\\n0,94,70,27,115,43.5,0.347,21,0\\n2,108,64,0,0,30.8,0.158,21,0\\n4,90,88,47,54,37.7,0.362,29,0\\n0,125,68,0,0,24.7,0.206,21,0\\n0,132,78,0,0,32.4,0.393,21,0\\n5,128,80,0,0,34.6,0.144,45,0\\n4,94,65,22,0,24.7,0.148,21,0\\n7,114,64,0,0,27.4,0.732,34,1\\n0,102,78,40,90,34.5,0.238,24,0\\n2,111,60,0,0,26.2,0.343,23,0\\n1,128,82,17,183,27.5,0.115,22,0\\n10,92,62,0,0,25.9,0.167,31,0\\n13,104,72,0,0,31.2,0.465,38,1\\n5,104,74,0,0,28.8,0.153,48,0\\n2,94,76,18,66,31.6,0.649,23,0\\n7,97,76,32,91,40.9,0.871,32,1\\n1,100,74,12,46,19.5,0.149,28,0\\n0,102,86,17,105,29.3,0.695,27,0\\n4,128,70,0,0,34.3,0.303,24,0\\n6,147,80,0,0,29.5,0.178,50,1\\n4,90,0,0,0,28.0,0.610,31,0\\n3,103,72,30,152,27.6,0.730,27,0\\n2,157,74,35,440,39.4,0.134,30,0\\n1,167,74,17,144,23.4,0.447,33,1\\n0,179,50,36,159,37.8,0.455,22,1\\n11,136,84,35,130,28.3,0.260,42,1\\n0,107,60,25,0,26.4,0.133,23,0\\n1,91,54,25,100,25.2,0.234,23,0\\n1,117,60,23,106,33.8,0.466,27,0\\n5,123,74,40,77,34.1,0.269,28,0\\n2,120,54,0,0,26.8,0.455,27,0\\n1,106,70,28,135,34.2,0.142,22,0\\n2,155,52,27,540,38.7,0.240,25,1\\n2,101,58,35,90,21.8,0.155,22,0\\n1,120,80,48,200,38.9,1.162,41,0\\n11,127,106,0,0,39.0,0.190,51,0\\n3,80,82,31,70,34.2,1.292,27,1\\n10,162,84,0,0,27.7,0.182,54,0\\n1,199,76,43,0,42.9,1.394,22,1\\n8,167,106,46,231,37.6,0.165,43,1\\n9,145,80,46,130,37.9,0.637,40,1\\n6,115,60,39,0,33.7,0.245,40,1\\n1,112,80,45,132,34.8,0.217,24,0\\n4,145,82,18,0,32.5,0.235,70,1\\n10,111,70,27,0,27.5,0.141,40,1\\n6,98,58,33,190,34.0,0.430,43,0\\n9,154,78,30,100,30.9,0.164,45,0\\n6,165,68,26,168,33.6,0.631,49,0\\n1,99,58,10,0,25.4,0.551,21,0\\n10,68,106,23,49,35.5,0.285,47,0\\n3,123,100,35,240,57.3,0.880,22,0\\n8,91,82,0,0,35.6,0.587,68,0\\n6,195,70,0,0,30.9,0.328,31,1\\n9,156,86,0,0,24.8,0.230,53,1\\n0,93,60,0,0,35.3,0.263,25,0\\n3,121,52,0,0,36.0,0.127,25,1\\n2,101,58,17,265,24.2,0.614,23,0\\n2,56,56,28,45,24.2,0.332,22,0\\n0,162,76,36,0,49.6,0.364,26,1\\n0,95,64,39,105,44.6,0.366,22,0\\n4,125,80,0,0,32.3,0.536,27,1\\n5,136,82,0,0,0.0,0.640,69,0\\n2,129,74,26,205,33.2,0.591,25,0\\n3,130,64,0,0,23.1,0.314,22,0\\n1,107,50,19,0,28.3,0.181,29,0\\n1,140,74,26,180,24.1,0.828,23,0\\n1,144,82,46,180,46.1,0.335,46,1\\n8,107,80,0,0,24.6,0.856,34,0\\n13,158,114,0,0,42.3,0.257,44,1\\n2,121,70,32,95,39.1,0.886,23,0\\n7,129,68,49,125,38.5,0.439,43,1\\n2,90,60,0,0,23.5,0.191,25,0\\n7,142,90,24,480,30.4,0.128,43,1\\n3,169,74,19,125,29.9,0.268,31,1\\n0,99,0,0,0,25.0,0.253,22,0\\n4,127,88,11,155,34.5,0.598,28,0\\n4,118,70,0,0,44.5,0.904,26,0\\n2,122,76,27,200,35.9,0.483,26,0\\n6,125,78,31,0,27.6,0.565,49,1\\n1,168,88,29,0,35.0,0.905,52,1\\n2,129,0,0,0,38.5,0.304,41,0\\n4,110,76,20,100,28.4,0.118,27,0\\n6,80,80,36,0,39.8,0.177,28,0\\n10,115,0,0,0,0.0,0.261,30,1\\n2,127,46,21,335,34.4,0.176,22,0\\n9,164,78,0,0,32.8,0.148,45,1\\n2,93,64,32,160,38.0,0.674,23,1\\n3,158,64,13,387,31.2,0.295,24,0\\n5,126,78,27,22,29.6,0.439,40,0\\n10,129,62,36,0,41.2,0.441,38,1\\n0,134,58,20,291,26.4,0.352,21,0\\n3,102,74,0,0,29.5,0.121,32,0\\n7,187,50,33,392,33.9,0.826,34,1\\n3,173,78,39,185,33.8,0.970,31,1\\n10,94,72,18,0,23.1,0.595,56,0\\n1,108,60,46,178,35.5,0.415,24,0\\n5,97,76,27,0,35.6,0.378,52,1\\n4,83,86,19,0,29.3,0.317,34,0\\n1,114,66,36,200,38.1,0.289,21,0\\n1,149,68,29,127,29.3,0.349,42,1\\n5,117,86,30,105,39.1,0.251,42,0\\n1,111,94,0,0,32.8,0.265,45,0\\n4,112,78,40,0,39.4,0.236,38,0\\n1,116,78,29,180,36.1,0.496,25,0\\n0,141,84,26,0,32.4,0.433,22,0\\n2,175,88,0,0,22.9,0.326,22,0\\n2,92,52,0,0,30.1,0.141,22,0\\n3,130,78,23,79,28.4,0.323,34,1\\n8,120,86,0,0,28.4,0.259,22,1\\n2,174,88,37,120,44.5,0.646,24,1\\n2,106,56,27,165,29.0,0.426,22,0\\n2,105,75,0,0,23.3,0.560,53,0\\n4,95,60,32,0,35.4,0.284,28,0\\n0,126,86,27,120,27.4,0.515,21,0\\n8,65,72,23,0,32.0,0.600,42,0\\n2,99,60,17,160,36.6,0.453,21,0\\n1,102,74,0,0,39.5,0.293,42,1\\n11,120,80,37,150,42.3,0.785,48,1\\n3,102,44,20,94,30.8,0.400,26,0\\n1,109,58,18,116,28.5,0.219,22,0\\n9,140,94,0,0,32.7,0.734,45,1\\n13,153,88,37,140,40.6,1.174,39,0\\n12,100,84,33,105,30.0,0.488,46,0\\n1,147,94,41,0,49.3,0.358,27,1\\n1,81,74,41,57,46.3,1.096,32,0\\n3,187,70,22,200,36.4,0.408,36,1\\n6,162,62,0,0,24.3,0.178,50,1\\n4,136,70,0,0,31.2,1.182,22,1\\n1,121,78,39,74,39.0,0.261,28,0\\n3,108,62,24,0,26.0,0.223,25,0\\n0,181,88,44,510,43.3,0.222,26,1\\n8,154,78,32,0,32.4,0.443,45,1\\n1,128,88,39,110,36.5,1.057,37,1\\n7,137,90,41,0,32.0,0.391,39,0\\n0,123,72,0,0,36.3,0.258,52,1\\n1,106,76,0,0,37.5,0.197,26,0\\n6,190,92,0,0,35.5,0.278,66,1\\n2,88,58,26,16,28.4,0.766,22,0\\n9,170,74,31,0,44.0,0.403,43,1\\n9,89,62,0,0,22.5,0.142,33,0\\n10,101,76,48,180,32.9,0.171,63,0\\n2,122,70,27,0,36.8,0.340,27,0\\n5,121,72,23,112,26.2,0.245,30,0\\n1,126,60,0,0,30.1,0.349,47,1\\n1,93,70,31,0,30.4,0.315,23,0\\n\\n'}"
            ]
          },
          "metadata": {
            "tags": []
          },
          "execution_count": 24
        }
      ]
    },
    {
      "cell_type": "code",
      "metadata": {
        "id": "hailTN8wkToL",
        "colab_type": "code",
        "outputId": "9aabde9e-19ad-41b7-a3f7-eb44726d3663",
        "colab": {
          "base_uri": "https://localhost:8080/",
          "height": 35
        }
      },
      "source": [
        "!ls"
      ],
      "execution_count": 0,
      "outputs": [
        {
          "output_type": "stream",
          "text": [
            "iris.data  pima.csv  sample_data\n"
          ],
          "name": "stdout"
        }
      ]
    },
    {
      "cell_type": "code",
      "metadata": {
        "id": "SI_SWPL0keZL",
        "colab_type": "code",
        "colab": {}
      },
      "source": [
        "import pandas as pd\n",
        "D = pd.read_csv('pima.csv', header=None)"
      ],
      "execution_count": 0,
      "outputs": []
    },
    {
      "cell_type": "code",
      "metadata": {
        "id": "CQKeYr1AksBp",
        "colab_type": "code",
        "outputId": "824d7c48-9b9f-4488-f4a9-377eb06e35d5",
        "colab": {
          "base_uri": "https://localhost:8080/",
          "height": 424
        }
      },
      "source": [
        "D"
      ],
      "execution_count": 0,
      "outputs": [
        {
          "output_type": "execute_result",
          "data": {
            "text/html": [
              "<div>\n",
              "<style scoped>\n",
              "    .dataframe tbody tr th:only-of-type {\n",
              "        vertical-align: middle;\n",
              "    }\n",
              "\n",
              "    .dataframe tbody tr th {\n",
              "        vertical-align: top;\n",
              "    }\n",
              "\n",
              "    .dataframe thead th {\n",
              "        text-align: right;\n",
              "    }\n",
              "</style>\n",
              "<table border=\"1\" class=\"dataframe\">\n",
              "  <thead>\n",
              "    <tr style=\"text-align: right;\">\n",
              "      <th></th>\n",
              "      <th>0</th>\n",
              "      <th>1</th>\n",
              "      <th>2</th>\n",
              "      <th>3</th>\n",
              "      <th>4</th>\n",
              "      <th>5</th>\n",
              "      <th>6</th>\n",
              "      <th>7</th>\n",
              "      <th>8</th>\n",
              "    </tr>\n",
              "  </thead>\n",
              "  <tbody>\n",
              "    <tr>\n",
              "      <th>0</th>\n",
              "      <td>6</td>\n",
              "      <td>148</td>\n",
              "      <td>72</td>\n",
              "      <td>35</td>\n",
              "      <td>0</td>\n",
              "      <td>33.6</td>\n",
              "      <td>0.627</td>\n",
              "      <td>50</td>\n",
              "      <td>1</td>\n",
              "    </tr>\n",
              "    <tr>\n",
              "      <th>1</th>\n",
              "      <td>1</td>\n",
              "      <td>85</td>\n",
              "      <td>66</td>\n",
              "      <td>29</td>\n",
              "      <td>0</td>\n",
              "      <td>26.6</td>\n",
              "      <td>0.351</td>\n",
              "      <td>31</td>\n",
              "      <td>0</td>\n",
              "    </tr>\n",
              "    <tr>\n",
              "      <th>2</th>\n",
              "      <td>8</td>\n",
              "      <td>183</td>\n",
              "      <td>64</td>\n",
              "      <td>0</td>\n",
              "      <td>0</td>\n",
              "      <td>23.3</td>\n",
              "      <td>0.672</td>\n",
              "      <td>32</td>\n",
              "      <td>1</td>\n",
              "    </tr>\n",
              "    <tr>\n",
              "      <th>3</th>\n",
              "      <td>1</td>\n",
              "      <td>89</td>\n",
              "      <td>66</td>\n",
              "      <td>23</td>\n",
              "      <td>94</td>\n",
              "      <td>28.1</td>\n",
              "      <td>0.167</td>\n",
              "      <td>21</td>\n",
              "      <td>0</td>\n",
              "    </tr>\n",
              "    <tr>\n",
              "      <th>4</th>\n",
              "      <td>0</td>\n",
              "      <td>137</td>\n",
              "      <td>40</td>\n",
              "      <td>35</td>\n",
              "      <td>168</td>\n",
              "      <td>43.1</td>\n",
              "      <td>2.288</td>\n",
              "      <td>33</td>\n",
              "      <td>1</td>\n",
              "    </tr>\n",
              "    <tr>\n",
              "      <th>...</th>\n",
              "      <td>...</td>\n",
              "      <td>...</td>\n",
              "      <td>...</td>\n",
              "      <td>...</td>\n",
              "      <td>...</td>\n",
              "      <td>...</td>\n",
              "      <td>...</td>\n",
              "      <td>...</td>\n",
              "      <td>...</td>\n",
              "    </tr>\n",
              "    <tr>\n",
              "      <th>763</th>\n",
              "      <td>10</td>\n",
              "      <td>101</td>\n",
              "      <td>76</td>\n",
              "      <td>48</td>\n",
              "      <td>180</td>\n",
              "      <td>32.9</td>\n",
              "      <td>0.171</td>\n",
              "      <td>63</td>\n",
              "      <td>0</td>\n",
              "    </tr>\n",
              "    <tr>\n",
              "      <th>764</th>\n",
              "      <td>2</td>\n",
              "      <td>122</td>\n",
              "      <td>70</td>\n",
              "      <td>27</td>\n",
              "      <td>0</td>\n",
              "      <td>36.8</td>\n",
              "      <td>0.340</td>\n",
              "      <td>27</td>\n",
              "      <td>0</td>\n",
              "    </tr>\n",
              "    <tr>\n",
              "      <th>765</th>\n",
              "      <td>5</td>\n",
              "      <td>121</td>\n",
              "      <td>72</td>\n",
              "      <td>23</td>\n",
              "      <td>112</td>\n",
              "      <td>26.2</td>\n",
              "      <td>0.245</td>\n",
              "      <td>30</td>\n",
              "      <td>0</td>\n",
              "    </tr>\n",
              "    <tr>\n",
              "      <th>766</th>\n",
              "      <td>1</td>\n",
              "      <td>126</td>\n",
              "      <td>60</td>\n",
              "      <td>0</td>\n",
              "      <td>0</td>\n",
              "      <td>30.1</td>\n",
              "      <td>0.349</td>\n",
              "      <td>47</td>\n",
              "      <td>1</td>\n",
              "    </tr>\n",
              "    <tr>\n",
              "      <th>767</th>\n",
              "      <td>1</td>\n",
              "      <td>93</td>\n",
              "      <td>70</td>\n",
              "      <td>31</td>\n",
              "      <td>0</td>\n",
              "      <td>30.4</td>\n",
              "      <td>0.315</td>\n",
              "      <td>23</td>\n",
              "      <td>0</td>\n",
              "    </tr>\n",
              "  </tbody>\n",
              "</table>\n",
              "<p>768 rows × 9 columns</p>\n",
              "</div>"
            ],
            "text/plain": [
              "      0    1   2   3    4     5      6   7  8\n",
              "0     6  148  72  35    0  33.6  0.627  50  1\n",
              "1     1   85  66  29    0  26.6  0.351  31  0\n",
              "2     8  183  64   0    0  23.3  0.672  32  1\n",
              "3     1   89  66  23   94  28.1  0.167  21  0\n",
              "4     0  137  40  35  168  43.1  2.288  33  1\n",
              "..   ..  ...  ..  ..  ...   ...    ...  .. ..\n",
              "763  10  101  76  48  180  32.9  0.171  63  0\n",
              "764   2  122  70  27    0  36.8  0.340  27  0\n",
              "765   5  121  72  23  112  26.2  0.245  30  0\n",
              "766   1  126  60   0    0  30.1  0.349  47  1\n",
              "767   1   93  70  31    0  30.4  0.315  23  0\n",
              "\n",
              "[768 rows x 9 columns]"
            ]
          },
          "metadata": {
            "tags": []
          },
          "execution_count": 29
        }
      ]
    },
    {
      "cell_type": "code",
      "metadata": {
        "id": "3-fmKyhlkswr",
        "colab_type": "code",
        "outputId": "cea43065-7fa7-4f6b-b9da-bc466fdee4fc",
        "colab": {
          "resources": {
            "http://localhost:8080/nbextensions/google.colab/files.js": {
              "data": "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",
              "ok": true,
              "headers": [
                [
                  "content-type",
                  "application/javascript"
                ]
              ],
              "status": 200,
              "status_text": "OK"
            }
          },
          "base_uri": "https://localhost:8080/",
          "height": 121
        }
      },
      "source": [
        "from google.colab import files\n",
        "files.upload()"
      ],
      "execution_count": 0,
      "outputs": [
        {
          "output_type": "display_data",
          "data": {
            "text/html": [
              "\n",
              "     <input type=\"file\" id=\"files-59fd7be8-43c9-46fe-bc6e-4f5153d8ee77\" name=\"files[]\" multiple disabled />\n",
              "     <output id=\"result-59fd7be8-43c9-46fe-bc6e-4f5153d8ee77\">\n",
              "      Upload widget is only available when the cell has been executed in the\n",
              "      current browser session. Please rerun this cell to enable.\n",
              "      </output>\n",
              "      <script src=\"/nbextensions/google.colab/files.js\"></script> "
            ],
            "text/plain": [
              "<IPython.core.display.HTML object>"
            ]
          },
          "metadata": {
            "tags": []
          }
        },
        {
          "output_type": "stream",
          "text": [
            "Saving dxf.py to dxf.py\n"
          ],
          "name": "stdout"
        },
        {
          "output_type": "execute_result",
          "data": {
            "text/plain": [
              "{'dxf.py': b'def dx(x, alpha):\\n\\tfor i in range(1, 10):\\n\\t\\tdx = (2*x) - 6\\n\\t\\tx = x - (alpha * dx)\\n\\n\\t\\t# print(dx, xNext, x)\\n\\n\\t#end for\\n\\treturn x\\n\\n\\n# def f(x):\\n#     return (x**2) - (6*x) + 5\\n#\\n# import numpy as np\\n# v = np.array(range(-5, 10))\\n#\\n# print(f(v))\\n'}"
            ]
          },
          "metadata": {
            "tags": []
          },
          "execution_count": 31
        }
      ]
    },
    {
      "cell_type": "code",
      "metadata": {
        "id": "ljYIX5pYnIAN",
        "colab_type": "code",
        "outputId": "a957ec5c-049a-4624-80db-e2830ac4a193",
        "colab": {
          "base_uri": "https://localhost:8080/",
          "height": 314
        }
      },
      "source": [
        "from dxf import dx"
      ],
      "execution_count": 0,
      "outputs": [
        {
          "output_type": "error",
          "ename": "ModuleNotFoundError",
          "evalue": "ignored",
          "traceback": [
            "\u001b[0;31m---------------------------------------------------------------------------\u001b[0m",
            "\u001b[0;31mModuleNotFoundError\u001b[0m                       Traceback (most recent call last)",
            "\u001b[0;32m<ipython-input-2-4551f3c12ca1>\u001b[0m in \u001b[0;36m<module>\u001b[0;34m()\u001b[0m\n\u001b[0;32m----> 1\u001b[0;31m \u001b[0;32mfrom\u001b[0m \u001b[0mdxf\u001b[0m \u001b[0;32mimport\u001b[0m \u001b[0mdx\u001b[0m\u001b[0;34m\u001b[0m\u001b[0;34m\u001b[0m\u001b[0m\n\u001b[0m",
            "\u001b[0;31mModuleNotFoundError\u001b[0m: No module named 'dxf'",
            "",
            "\u001b[0;31m---------------------------------------------------------------------------\u001b[0;32m\nNOTE: If your import is failing due to a missing package, you can\nmanually install dependencies using either !pip or !apt.\n\nTo view examples of installing some common dependencies, click the\n\"Open Examples\" button below.\n\u001b[0;31m---------------------------------------------------------------------------\u001b[0m\n"
          ]
        }
      ]
    },
    {
      "cell_type": "code",
      "metadata": {
        "id": "3o9KUyU7nVbw",
        "colab_type": "code",
        "outputId": "446abfd2-a70d-47f0-a6bc-9069b0a64461",
        "colab": {
          "base_uri": "https://localhost:8080/",
          "height": 35
        }
      },
      "source": [
        "dx(10, 0.01)"
      ],
      "execution_count": 0,
      "outputs": [
        {
          "output_type": "execute_result",
          "data": {
            "text/plain": [
              "8.836234334911047"
            ]
          },
          "metadata": {
            "tags": []
          },
          "execution_count": 34
        }
      ]
    },
    {
      "cell_type": "code",
      "metadata": {
        "id": "JwCs2QDwnbTO",
        "colab_type": "code",
        "colab": {}
      },
      "source": [
        ""
      ],
      "execution_count": 0,
      "outputs": []
    },
    {
      "cell_type": "markdown",
      "metadata": {
        "id": "LYoeHFpx5oUh",
        "colab_type": "text"
      },
      "source": [
        "## Accessing from Google Drive"
      ]
    },
    {
      "cell_type": "code",
      "metadata": {
        "id": "DdfkjJgp5swN",
        "colab_type": "code",
        "outputId": "8c3a4111-97de-4a91-d736-2ded3eb2e6d1",
        "colab": {
          "base_uri": "https://localhost:8080/",
          "height": 35
        }
      },
      "source": [
        "!ls /content/gdrive"
      ],
      "execution_count": 0,
      "outputs": [
        {
          "output_type": "stream",
          "text": [
            "ls: cannot access '/content/gdrive': No such file or directory\n"
          ],
          "name": "stdout"
        }
      ]
    },
    {
      "cell_type": "code",
      "metadata": {
        "id": "KgYVKiDN6FCU",
        "colab_type": "code",
        "outputId": "ec5540ef-f0f9-4434-ffdb-90471a1e45d6",
        "colab": {
          "base_uri": "https://localhost:8080/",
          "height": 126
        }
      },
      "source": [
        "from google.colab import drive\n",
        "drive.mount('/content/gdrive')"
      ],
      "execution_count": 0,
      "outputs": [
        {
          "output_type": "stream",
          "text": [
            "Go to this URL in a browser: https://accounts.google.com/o/oauth2/auth?client_id=947318989803-6bn6qk8qdgf4n4g3pfee6491hc0brc4i.apps.googleusercontent.com&redirect_uri=urn%3aietf%3awg%3aoauth%3a2.0%3aoob&response_type=code&scope=email%20https%3a%2f%2fwww.googleapis.com%2fauth%2fdocs.test%20https%3a%2f%2fwww.googleapis.com%2fauth%2fdrive%20https%3a%2f%2fwww.googleapis.com%2fauth%2fdrive.photos.readonly%20https%3a%2f%2fwww.googleapis.com%2fauth%2fpeopleapi.readonly\n",
            "\n",
            "Enter your authorization code:\n",
            "··········\n",
            "Mounted at /content/gdrive\n"
          ],
          "name": "stdout"
        }
      ]
    },
    {
      "cell_type": "code",
      "metadata": {
        "id": "6y0I-iT86o3x",
        "colab_type": "code",
        "outputId": "456cf1cb-b66f-496b-83ff-9cc188020276",
        "colab": {
          "base_uri": "https://localhost:8080/",
          "height": 35
        }
      },
      "source": [
        "!pwd"
      ],
      "execution_count": 0,
      "outputs": [
        {
          "output_type": "stream",
          "text": [
            "/content\n"
          ],
          "name": "stdout"
        }
      ]
    },
    {
      "cell_type": "code",
      "metadata": {
        "id": "HSEqFOGl61--",
        "colab_type": "code",
        "outputId": "adb39119-d310-476d-9206-0e40728935fe",
        "colab": {
          "base_uri": "https://localhost:8080/",
          "height": 35
        }
      },
      "source": [
        "!ls"
      ],
      "execution_count": 0,
      "outputs": [
        {
          "output_type": "stream",
          "text": [
            "gdrive\tsample_data\n"
          ],
          "name": "stdout"
        }
      ]
    },
    {
      "cell_type": "code",
      "metadata": {
        "id": "7MTiy5WG66cj",
        "colab_type": "code",
        "outputId": "3cae77c9-60be-4292-e034-919673b49c99",
        "colab": {
          "base_uri": "https://localhost:8080/",
          "height": 35
        }
      },
      "source": [
        "!ls gdrive/"
      ],
      "execution_count": 0,
      "outputs": [
        {
          "output_type": "stream",
          "text": [
            "'My Drive'\n"
          ],
          "name": "stdout"
        }
      ]
    },
    {
      "cell_type": "code",
      "metadata": {
        "id": "WR6SqUcx6-9C",
        "colab_type": "code",
        "outputId": "2135f6ec-d0c5-4e4d-ecf4-d01c378b0cfa",
        "colab": {
          "base_uri": "https://localhost:8080/",
          "height": 1000
        }
      },
      "source": [
        "!ls /content/gdrive/My\\ Drive"
      ],
      "execution_count": 0,
      "outputs": [
        {
          "output_type": "stream",
          "text": [
            " 011-141-144.gdoc\n",
            "'1 intro.pptx'\n",
            " 5d242a18d36f5614.pdf\n",
            " Abril2014.arff\n",
            "'account page.pdf'\n",
            " ACP-DL.gdoc\n",
            " ACT_111.pdf\n",
            " American_English.gdoc\n",
            "'Andreas Müller-Introduction to Machine Learning with Python A Guide for Data Scientists.pdf'\n",
            " AntiCancerPeptides.gdoc\n",
            "'Attendee 6 (Rafsanjani Muhammod)'\n",
            " Backup\n",
            " backup-TUD.gdoc\n",
            "'bacteriophage proteins.gdoc'\n",
            "'Badda Home Calculation:.gdoc'\n",
            " bangla_digits\n",
            "'Baysian AI.gdoc'\n",
            " b.csv\n",
            " b.csv.gsheet\n",
            "'Big Data with Python-1.gslides'\n",
            "'Big Data with Python-2.gslides'\n",
            "'Big Data with Python-3.gslides'\n",
            "'Big Data with Python-4.gslides'\n",
            "'bioinformatics ( CSE 493 )'\n",
            "'Bioinformatics Current Research Topics.gdoc'\n",
            "'Bioinformatics Dictionary.gdoc'\n",
            "'Bioinformatics Papers Writing Techniques with Toha.gdoc'\n",
            " BioTool.gdoc\n",
            " Bk.zip\n",
            " BlackLists.gdoc\n",
            "'Body Lotion.gslides'\n",
            "'Book report (1).gdoc'\n",
            "'Book report.gdoc'\n",
            "'BSc_Official_Transcript (1).pdf'\n",
            " BSc_Official_Transcript.pdf\n",
            " ClassLectures\n",
            " Code.gsheet\n",
            "'Colab Notebooks'\n",
            " ColorManuscript.zip\n",
            "'Comparing!.gdoc'\n",
            " Copy.gdoc\n",
            "'Copy of Magoosh GRE: 90 Day GRE Study Plan for Beginners [V3 June 2015].gdoc'\n",
            " Courses-173.gdoc\n",
            " CRISPR.gdoc\n",
            " CSE-425\n",
            "'CSI 416_Mid_SA (1).doc.gdoc'\n",
            "'CSI 416_Mid_SA.doc'\n",
            "'CSI 416_Mid_SA.doc.gdoc'\n",
            " CT#03.gdoc\n",
            " CT-1.gdoc\n",
            " CT-2.gdoc\n",
            " CT-3.gdoc\n",
            "'Dan Schrider: UNCarolina.tar.gz'\n",
            "'Data Science using Python.gdoc'\n",
            " dataset.csv\n",
            "'Deep Learning Concepts.gdoc'\n",
            "'Deep Learning in Biology.gdoc'\n",
            " DL-Protein.gdoc\n",
            " DNA_bind.gdoc\n",
            "'Dr. Mofrad-Interview.gdoc'\n",
            " eCom_Tourism.zip\n",
            "'Efficient Feature Selection and Classification of Protein Sequence Data in Bioinformatics.gdoc'\n",
            " EnergyPredictionDatasets.gdoc\n",
            " Extension_iRec.gdoc\n",
            " FinalDataset\n",
            "'Final-Excel VBA Programming.gdoc'\n",
            "'First CMB Revision.gdoc'\n",
            " Flask-Email.gdoc\n",
            "'Frequent Operations.gdoc'\n",
            " Genetics.gdoc\n",
            " Germany_interview.gsheet\n",
            "'Getting started.pdf'\n",
            " GitHub_Projects.gdoc\n",
            " GitHub_Projects.pdf\n",
            " Glossary.gdoc\n",
            " Grades.gsheet\n",
            " Grades_MyBackup.gsheet\n",
            " GRE_Grammar.gdoc\n",
            " GRE.gsheet\n",
            " GRE_Mathematics.gdoc\n",
            "'GRE & TOELF Planning.gsheet'\n",
            "'How to Write A Bioinformatics Research Paper.gdoc'\n",
            " HTML-CSS-JS-Final.gdoc\n",
            " icddrb.gdoc\n",
            " iD.csv\n",
            " iDNAPro-PseAAC.gdoc\n",
            "'IEEE VIP Cup.gdoc'\n",
            " image003.png\n",
            "'Introduction to competitive programming.gslides'\n",
            "'iPro70‐FMWin (1).pdf'\n",
            " iPro70‐FMWin.pdf\n",
            " iPro70-PseZNC.gdoc\n",
            " iPromoter-FSEn.pdf\n",
            " iPromoters.gdoc\n",
            " iRecAdding.gdoc\n",
            " iRecSpot_Datasets\n",
            "'iRecSpot-EF (1).pdf'\n",
            " iRecSpot-EF.pdf\n",
            " iRSpot-EL.gdoc\n",
            " iRSpot-SPI.gdoc\n",
            " jeeon\n",
            " K425.gdoc\n",
            "'Keyboard Layout.gdoc'\n",
            " lab.gdoc\n",
            "'Laptop Market Analysis.gsheet'\n",
            " Learn.gsheet\n",
            " LoR-Rafsanjani.gdoc\n",
            " Machine_Learning_in_Action.pdf\n",
            " MagooshMathematics.gdoc\n",
            " Mal-Lys.gdoc\n",
            " MDNs.gdoc\n",
            "'Meiler Lab.gdoc'\n",
            " micro_01.gdoc\n",
            " Miracle_Morning.gdoc\n",
            " ML.gslides\n",
            " ML_interview.gdoc\n",
            "'Monthly budget.gsheet'\n",
            "'Motivational Letter.gdoc'\n",
            " mrz.jpg\n",
            "'New Doc 2018-04-27.pdf'\n",
            " NewReview_iRec\n",
            "'No-GRE Ph. D..gdoc'\n",
            "'Nov 12.gdoc'\n",
            "'NSTU images'\n",
            "'OOP Python.gslides'\n",
            " output.pdf\n",
            " PapersReview.gdoc\n",
            "'Personal History Statement (Bk).gdoc'\n",
            "'PhD Apply (University List).gdoc'\n",
            "'Ph. D. Interview.gdoc'\n",
            " PID4799913.pdf\n",
            " Portfolio.zip\n",
            "'Presentation Resources .gdoc'\n",
            "'Prime 1 to 200.gdoc'\n",
            "'Professors [Rafsanjani].gdoc'\n",
            "'Professors [Sajid & Rafsanjani].gdoc'\n",
            "'Project Management Tools.gslides'\n",
            "'Project proposal.gdoc'\n",
            "'Protein Attribute Prediction.gdoc'\n",
            "'Protein in R.gdoc'\n",
            "'Protein Structure Prediction.gdoc'\n",
            "'psi-blast [Paper].gdoc'\n",
            "'PSSM (1).zip'\n",
            " pssm.py\n",
            " PSSM.zip\n",
            " PV.gdoc\n",
            " PyFeat\n",
            "'PyFeat (1).pdf'\n",
            " PyFeat_Draft.pdf\n",
            " PyFeat.gdoc\n",
            " PyFeat.pdf\n",
            " PyFest_Manual.zip\n",
            " Python-Final.gdoc\n",
            "'Python Function.gslides'\n",
            "'Python String.gslides'\n",
            " PyTorch_Doc.gdoc\n",
            " Quran.com.gdoc\n",
            " rafsanjani_CV.pdf\n",
            "'Rafsanjani Muhammod (1).gsite'\n",
            "'Rafsanjani Muhammod.gsite'\n",
            "'Recombination Hotspot Coldspot Identification via an EL.gdoc'\n",
            "'Recommendation Letter.gdoc'\n",
            " RejectedBioReview.gdoc\n",
            " Report.gdoc\n",
            "'Research Interests, Motivation.gdoc'\n",
            " Response_Reviewers_Comment_AS_AD.docx\n",
            " Response_Reviewers_Comment.gdoc\n",
            "'resume (1).pdf'\n",
            "'resume (2).pdf'\n",
            "'resume (3).pdf'\n",
            "'resume (4).pdf'\n",
            "'resume (5).pdf'\n",
            " Resume.gdoc\n",
            " resume.pdf\n",
            " reviewerReplay.gdoc\n",
            " reviewerReplay.odt\n",
            " rosalind.gdoc\n",
            " Rosalind.gdoc\n",
            " SA.gdoc\n",
            " SB.gdoc\n",
            "'Shahin cv.html.html'\n",
            " sigma70_arrayCalculation.gdoc\n",
            " SigmaNotes.gdoc\n",
            " SigmaPromoters.gdoc\n",
            " SmallVersionAmericanEnglish.gdoc\n",
            "'Software E..gdoc'\n",
            "'SoP - UC Berkeley.gdoc'\n",
            "'SoP - US Universities [Sajid].gdoc'\n",
            "'SoP Words Count!.gdoc'\n",
            " Splitting_Train_Set_70_train_30_test_Results.txt\n",
            " SquaresCubesRoots.gdoc\n",
            "'SSH Linux.gdoc'\n",
            " Stammer.gdoc\n",
            "'Statement of Purpose (SoP).gdoc'\n",
            " TalkMind.gdoc\n",
            " tf2.0.ipynb\n",
            "'TOEFL Code.gdoc'\n",
            " TOEFL.gdoc\n",
            "'Top Bioinformarics Conferences.gdoc'\n",
            "'Typing Practice.gdoc'\n",
            " UCB-myWork.gdoc\n",
            "'UCB-Question?.gdoc'\n",
            " UITS.gdoc\n",
            "'UIU CGPA Distribution.gdoc'\n",
            "'University Apply Deadline.gsheet'\n",
            "'Untitled document (1).gdoc'\n",
            "'Untitled document (2).gdoc'\n",
            "'Untitled document (3).gdoc'\n",
            "'Untitled document.gdoc'\n",
            "'Untitled drawing.gdraw'\n",
            "'Untitled presentation (1).gslides'\n",
            "'Untitled presentation.gslides'\n",
            "'Untitled Site.gsite'\n",
            "'Untitled spreadsheet (1).gsheet'\n",
            "'Untitled spreadsheet (2).gsheet'\n",
            "'Untitled spreadsheet.gsheet'\n",
            " upWork.mp4\n",
            "'US Quiz.gdoc'\n",
            " UVA-Nathan.gdoc\n",
            " VBA_Macro.gdoc\n",
            " VBA_Macro.gslides\n",
            " vibrio.zip\n",
            " Web_and_Scraping.gdoc\n",
            " Web.gdoc\n",
            " Web.gslides\n",
            "'What is Recombination Hotspot?.gdoc'\n",
            " Wireshark.gdoc\n",
            " WordSuffix.gdoc\n"
          ],
          "name": "stdout"
        }
      ]
    },
    {
      "cell_type": "code",
      "metadata": {
        "id": "CerzTiw-7bbi",
        "colab_type": "code",
        "colab": {}
      },
      "source": [
        "import pandas as pd\n",
        "data = pd.read_csv('/content/gdrive/My Drive/pima.csv')"
      ],
      "execution_count": 0,
      "outputs": []
    },
    {
      "cell_type": "code",
      "metadata": {
        "id": "x3N47LvC8vG_",
        "colab_type": "code",
        "outputId": "28238f18-34d5-44dd-8741-750691ec44d3",
        "colab": {
          "base_uri": "https://localhost:8080/",
          "height": 424
        }
      },
      "source": [
        "data"
      ],
      "execution_count": 0,
      "outputs": [
        {
          "output_type": "execute_result",
          "data": {
            "text/html": [
              "<div>\n",
              "<style scoped>\n",
              "    .dataframe tbody tr th:only-of-type {\n",
              "        vertical-align: middle;\n",
              "    }\n",
              "\n",
              "    .dataframe tbody tr th {\n",
              "        vertical-align: top;\n",
              "    }\n",
              "\n",
              "    .dataframe thead th {\n",
              "        text-align: right;\n",
              "    }\n",
              "</style>\n",
              "<table border=\"1\" class=\"dataframe\">\n",
              "  <thead>\n",
              "    <tr style=\"text-align: right;\">\n",
              "      <th></th>\n",
              "      <th>5.1</th>\n",
              "      <th>3.5</th>\n",
              "      <th>1.4</th>\n",
              "      <th>0.2</th>\n",
              "      <th>Iris-setosa</th>\n",
              "    </tr>\n",
              "  </thead>\n",
              "  <tbody>\n",
              "    <tr>\n",
              "      <th>0</th>\n",
              "      <td>4.9</td>\n",
              "      <td>3.0</td>\n",
              "      <td>1.4</td>\n",
              "      <td>0.2</td>\n",
              "      <td>Iris-setosa</td>\n",
              "    </tr>\n",
              "    <tr>\n",
              "      <th>1</th>\n",
              "      <td>4.7</td>\n",
              "      <td>3.2</td>\n",
              "      <td>1.3</td>\n",
              "      <td>0.2</td>\n",
              "      <td>Iris-setosa</td>\n",
              "    </tr>\n",
              "    <tr>\n",
              "      <th>2</th>\n",
              "      <td>4.6</td>\n",
              "      <td>3.1</td>\n",
              "      <td>1.5</td>\n",
              "      <td>0.2</td>\n",
              "      <td>Iris-setosa</td>\n",
              "    </tr>\n",
              "    <tr>\n",
              "      <th>3</th>\n",
              "      <td>5.0</td>\n",
              "      <td>3.6</td>\n",
              "      <td>1.4</td>\n",
              "      <td>0.2</td>\n",
              "      <td>Iris-setosa</td>\n",
              "    </tr>\n",
              "    <tr>\n",
              "      <th>4</th>\n",
              "      <td>5.4</td>\n",
              "      <td>3.9</td>\n",
              "      <td>1.7</td>\n",
              "      <td>0.4</td>\n",
              "      <td>Iris-setosa</td>\n",
              "    </tr>\n",
              "    <tr>\n",
              "      <th>...</th>\n",
              "      <td>...</td>\n",
              "      <td>...</td>\n",
              "      <td>...</td>\n",
              "      <td>...</td>\n",
              "      <td>...</td>\n",
              "    </tr>\n",
              "    <tr>\n",
              "      <th>144</th>\n",
              "      <td>6.7</td>\n",
              "      <td>3.0</td>\n",
              "      <td>5.2</td>\n",
              "      <td>2.3</td>\n",
              "      <td>Iris-virginica</td>\n",
              "    </tr>\n",
              "    <tr>\n",
              "      <th>145</th>\n",
              "      <td>6.3</td>\n",
              "      <td>2.5</td>\n",
              "      <td>5.0</td>\n",
              "      <td>1.9</td>\n",
              "      <td>Iris-virginica</td>\n",
              "    </tr>\n",
              "    <tr>\n",
              "      <th>146</th>\n",
              "      <td>6.5</td>\n",
              "      <td>3.0</td>\n",
              "      <td>5.2</td>\n",
              "      <td>2.0</td>\n",
              "      <td>Iris-virginica</td>\n",
              "    </tr>\n",
              "    <tr>\n",
              "      <th>147</th>\n",
              "      <td>6.2</td>\n",
              "      <td>3.4</td>\n",
              "      <td>5.4</td>\n",
              "      <td>2.3</td>\n",
              "      <td>Iris-virginica</td>\n",
              "    </tr>\n",
              "    <tr>\n",
              "      <th>148</th>\n",
              "      <td>5.9</td>\n",
              "      <td>3.0</td>\n",
              "      <td>5.1</td>\n",
              "      <td>1.8</td>\n",
              "      <td>Iris-virginica</td>\n",
              "    </tr>\n",
              "  </tbody>\n",
              "</table>\n",
              "<p>149 rows × 5 columns</p>\n",
              "</div>"
            ],
            "text/plain": [
              "     5.1  3.5  1.4  0.2     Iris-setosa\n",
              "0    4.9  3.0  1.4  0.2     Iris-setosa\n",
              "1    4.7  3.2  1.3  0.2     Iris-setosa\n",
              "2    4.6  3.1  1.5  0.2     Iris-setosa\n",
              "3    5.0  3.6  1.4  0.2     Iris-setosa\n",
              "4    5.4  3.9  1.7  0.4     Iris-setosa\n",
              "..   ...  ...  ...  ...             ...\n",
              "144  6.7  3.0  5.2  2.3  Iris-virginica\n",
              "145  6.3  2.5  5.0  1.9  Iris-virginica\n",
              "146  6.5  3.0  5.2  2.0  Iris-virginica\n",
              "147  6.2  3.4  5.4  2.3  Iris-virginica\n",
              "148  5.9  3.0  5.1  1.8  Iris-virginica\n",
              "\n",
              "[149 rows x 5 columns]"
            ]
          },
          "metadata": {
            "tags": []
          },
          "execution_count": 21
        }
      ]
    },
    {
      "cell_type": "markdown",
      "metadata": {
        "id": "A1RLn_2rC0Gi",
        "colab_type": "text"
      },
      "source": [
        "# Matrix Multiplication\n",
        "### inner product, outer product, dot product, element-wesed product"
      ]
    },
    {
      "cell_type": "code",
      "metadata": {
        "id": "wYcLW4WL-brt",
        "colab_type": "code",
        "colab": {}
      },
      "source": [
        "import numpy as np\n",
        "a = np.array([[1,2], [3,4]])\n",
        "b = np.array([[11, 12], [13, 14]])"
      ],
      "execution_count": 0,
      "outputs": []
    },
    {
      "cell_type": "code",
      "metadata": {
        "id": "rF660AQlBRfX",
        "colab_type": "code",
        "outputId": "dd8a2100-e54a-4b47-e428-e7505f96fca8",
        "colab": {
          "base_uri": "https://localhost:8080/",
          "height": 53
        }
      },
      "source": [
        "a * b"
      ],
      "execution_count": 0,
      "outputs": [
        {
          "output_type": "execute_result",
          "data": {
            "text/plain": [
              "array([[11, 24],\n",
              "       [39, 56]])"
            ]
          },
          "metadata": {
            "tags": []
          },
          "execution_count": 24
        }
      ]
    },
    {
      "cell_type": "code",
      "metadata": {
        "id": "hkjNI4dzBTG_",
        "colab_type": "code",
        "outputId": "348c926b-1bf2-43b0-bcc6-f612ba2e64a7",
        "colab": {
          "base_uri": "https://localhost:8080/",
          "height": 53
        }
      },
      "source": [
        "np.dot(a, b)"
      ],
      "execution_count": 0,
      "outputs": [
        {
          "output_type": "execute_result",
          "data": {
            "text/plain": [
              "array([[37, 40],\n",
              "       [85, 92]])"
            ]
          },
          "metadata": {
            "tags": []
          },
          "execution_count": 25
        }
      ]
    },
    {
      "cell_type": "code",
      "metadata": {
        "id": "te5tL-LYBW6V",
        "colab_type": "code",
        "outputId": "25cb488c-a2fa-44e0-f232-99ba3a80a075",
        "colab": {
          "base_uri": "https://localhost:8080/",
          "height": 53
        }
      },
      "source": [
        "a @ b"
      ],
      "execution_count": 0,
      "outputs": [
        {
          "output_type": "execute_result",
          "data": {
            "text/plain": [
              "array([[37, 40],\n",
              "       [85, 92]])"
            ]
          },
          "metadata": {
            "tags": []
          },
          "execution_count": 26
        }
      ]
    },
    {
      "cell_type": "code",
      "metadata": {
        "id": "8SLtf7sSBcqV",
        "colab_type": "code",
        "outputId": "4bdc88e5-1829-465a-fcdf-d1a95f974e88",
        "colab": {
          "base_uri": "https://localhost:8080/",
          "height": 53
        }
      },
      "source": [
        "np.inner(a, b)"
      ],
      "execution_count": 0,
      "outputs": [
        {
          "output_type": "execute_result",
          "data": {
            "text/plain": [
              "array([[35, 41],\n",
              "       [81, 95]])"
            ]
          },
          "metadata": {
            "tags": []
          },
          "execution_count": 27
        }
      ]
    },
    {
      "cell_type": "code",
      "metadata": {
        "id": "7TX7DXtkBiC0",
        "colab_type": "code",
        "outputId": "7c262156-d55b-48e7-9664-89466f4b5b6e",
        "colab": {
          "base_uri": "https://localhost:8080/",
          "height": 88
        }
      },
      "source": [
        "np.outer(a, b)"
      ],
      "execution_count": 0,
      "outputs": [
        {
          "output_type": "execute_result",
          "data": {
            "text/plain": [
              "array([[11, 12, 13, 14],\n",
              "       [22, 24, 26, 28],\n",
              "       [33, 36, 39, 42],\n",
              "       [44, 48, 52, 56]])"
            ]
          },
          "metadata": {
            "tags": []
          },
          "execution_count": 28
        }
      ]
    },
    {
      "cell_type": "code",
      "metadata": {
        "id": "LS4x4R_fBkgF",
        "colab_type": "code",
        "colab": {}
      },
      "source": [
        ""
      ],
      "execution_count": 0,
      "outputs": []
    }
  ]
}