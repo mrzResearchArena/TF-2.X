{
  "nbformat": 4,
  "nbformat_minor": 0,
  "metadata": {
    "colab": {
      "name": "tf2.x-Linear-Classification.ipynb",
      "provenance": [],
      "include_colab_link": true
    },
    "kernelspec": {
      "name": "python3",
      "display_name": "Python 3"
    },
    "accelerator": "GPU"
  },
  "cells": [
    {
      "cell_type": "markdown",
      "metadata": {
        "id": "view-in-github",
        "colab_type": "text"
      },
      "source": [
        "<a href=\"https://colab.research.google.com/github/mrzResearchArena/TF-2.X/blob/master/Linear-Classification.ipynb\" target=\"_parent\"><img src=\"https://colab.research.google.com/assets/colab-badge.svg\" alt=\"Open In Colab\"/></a>"
      ]
    },
    {
      "cell_type": "code",
      "metadata": {
        "id": "51CB8bMaQG3t",
        "colab_type": "code",
        "colab": {
          "base_uri": "https://localhost:8080/",
          "height": 124
        },
        "outputId": "5bbd1989-55fb-455d-e462-0356a811adc2"
      },
      "source": [
        "try:\n",
        "    %tensorflow_version 2.x  # Colab only.\n",
        "except Exception:\n",
        "    pass\n",
        "\n",
        "import tensorflow as tf\n",
        "import sklearn\n",
        "import numpy as np\n",
        "print(tf.__version__)"
      ],
      "execution_count": 17,
      "outputs": [
        {
          "output_type": "stream",
          "text": [
            "`%tensorflow_version` only switches the major version: `1.x` or `2.x`.\n",
            "You set: `2.x  # Colab only.`. This will be interpreted as: `2.x`.\n",
            "\n",
            "\n",
            "TensorFlow is already loaded. Please restart the runtime to change versions.\n",
            "2.1.0-rc1\n"
          ],
          "name": "stdout"
        }
      ]
    },
    {
      "cell_type": "code",
      "metadata": {
        "id": "iYfAz4yvQcMV",
        "colab_type": "code",
        "colab": {}
      },
      "source": [
        "from sklearn.datasets import load_breast_cancer \n",
        "D = load_breast_cancer()"
      ],
      "execution_count": 0,
      "outputs": []
    },
    {
      "cell_type": "code",
      "metadata": {
        "id": "IhKGwF7cRaEH",
        "colab_type": "code",
        "colab": {
          "base_uri": "https://localhost:8080/",
          "height": 35
        },
        "outputId": "7276e6bf-e280-4166-b6aa-b4a72778a7e2"
      },
      "source": [
        "D.keys()"
      ],
      "execution_count": 19,
      "outputs": [
        {
          "output_type": "execute_result",
          "data": {
            "text/plain": [
              "dict_keys(['data', 'target', 'target_names', 'DESCR', 'feature_names', 'filename'])"
            ]
          },
          "metadata": {
            "tags": []
          },
          "execution_count": 19
        }
      ]
    },
    {
      "cell_type": "code",
      "metadata": {
        "id": "Cc9gTDtsRiUW",
        "colab_type": "code",
        "colab": {
          "base_uri": "https://localhost:8080/",
          "height": 249
        },
        "outputId": "fa838775-57f2-4f1f-df5b-0151f0c05a39"
      },
      "source": [
        "X = D['data']\n",
        "# X.shape # --> (569, 30)\n",
        "X"
      ],
      "execution_count": 20,
      "outputs": [
        {
          "output_type": "execute_result",
          "data": {
            "text/plain": [
              "array([[1.799e+01, 1.038e+01, 1.228e+02, ..., 2.654e-01, 4.601e-01,\n",
              "        1.189e-01],\n",
              "       [2.057e+01, 1.777e+01, 1.329e+02, ..., 1.860e-01, 2.750e-01,\n",
              "        8.902e-02],\n",
              "       [1.969e+01, 2.125e+01, 1.300e+02, ..., 2.430e-01, 3.613e-01,\n",
              "        8.758e-02],\n",
              "       ...,\n",
              "       [1.660e+01, 2.808e+01, 1.083e+02, ..., 1.418e-01, 2.218e-01,\n",
              "        7.820e-02],\n",
              "       [2.060e+01, 2.933e+01, 1.401e+02, ..., 2.650e-01, 4.087e-01,\n",
              "        1.240e-01],\n",
              "       [7.760e+00, 2.454e+01, 4.792e+01, ..., 0.000e+00, 2.871e-01,\n",
              "        7.039e-02]])"
            ]
          },
          "metadata": {
            "tags": []
          },
          "execution_count": 20
        }
      ]
    },
    {
      "cell_type": "code",
      "metadata": {
        "id": "_Xq9_NzRRofW",
        "colab_type": "code",
        "colab": {
          "base_uri": "https://localhost:8080/",
          "height": 482
        },
        "outputId": "020862ec-bce5-4cd2-ace4-82ae834432c2"
      },
      "source": [
        "Y = D['target']\n",
        "# Y.shape # --> (569,)\n",
        "Y"
      ],
      "execution_count": 21,
      "outputs": [
        {
          "output_type": "execute_result",
          "data": {
            "text/plain": [
              "array([0, 0, 0, 0, 0, 0, 0, 0, 0, 0, 0, 0, 0, 0, 0, 0, 0, 0, 0, 1, 1, 1,\n",
              "       0, 0, 0, 0, 0, 0, 0, 0, 0, 0, 0, 0, 0, 0, 0, 1, 0, 0, 0, 0, 0, 0,\n",
              "       0, 0, 1, 0, 1, 1, 1, 1, 1, 0, 0, 1, 0, 0, 1, 1, 1, 1, 0, 1, 0, 0,\n",
              "       1, 1, 1, 1, 0, 1, 0, 0, 1, 0, 1, 0, 0, 1, 1, 1, 0, 0, 1, 0, 0, 0,\n",
              "       1, 1, 1, 0, 1, 1, 0, 0, 1, 1, 1, 0, 0, 1, 1, 1, 1, 0, 1, 1, 0, 1,\n",
              "       1, 1, 1, 1, 1, 1, 1, 0, 0, 0, 1, 0, 0, 1, 1, 1, 0, 0, 1, 0, 1, 0,\n",
              "       0, 1, 0, 0, 1, 1, 0, 1, 1, 0, 1, 1, 1, 1, 0, 1, 1, 1, 1, 1, 1, 1,\n",
              "       1, 1, 0, 1, 1, 1, 1, 0, 0, 1, 0, 1, 1, 0, 0, 1, 1, 0, 0, 1, 1, 1,\n",
              "       1, 0, 1, 1, 0, 0, 0, 1, 0, 1, 0, 1, 1, 1, 0, 1, 1, 0, 0, 1, 0, 0,\n",
              "       0, 0, 1, 0, 0, 0, 1, 0, 1, 0, 1, 1, 0, 1, 0, 0, 0, 0, 1, 1, 0, 0,\n",
              "       1, 1, 1, 0, 1, 1, 1, 1, 1, 0, 0, 1, 1, 0, 1, 1, 0, 0, 1, 0, 1, 1,\n",
              "       1, 1, 0, 1, 1, 1, 1, 1, 0, 1, 0, 0, 0, 0, 0, 0, 0, 0, 0, 0, 0, 0,\n",
              "       0, 0, 1, 1, 1, 1, 1, 1, 0, 1, 0, 1, 1, 0, 1, 1, 0, 1, 0, 0, 1, 1,\n",
              "       1, 1, 1, 1, 1, 1, 1, 1, 1, 1, 1, 0, 1, 1, 0, 1, 0, 1, 1, 1, 1, 1,\n",
              "       1, 1, 1, 1, 1, 1, 1, 1, 1, 0, 1, 1, 1, 0, 1, 0, 1, 1, 1, 1, 0, 0,\n",
              "       0, 1, 1, 1, 1, 0, 1, 0, 1, 0, 1, 1, 1, 0, 1, 1, 1, 1, 1, 1, 1, 0,\n",
              "       0, 0, 1, 1, 1, 1, 1, 1, 1, 1, 1, 1, 1, 0, 0, 1, 0, 0, 0, 1, 0, 0,\n",
              "       1, 1, 1, 1, 1, 0, 1, 1, 1, 1, 1, 0, 1, 1, 1, 0, 1, 1, 0, 0, 1, 1,\n",
              "       1, 1, 1, 1, 0, 1, 1, 1, 1, 1, 1, 1, 0, 1, 1, 1, 1, 1, 0, 1, 1, 0,\n",
              "       1, 1, 1, 1, 1, 1, 1, 1, 1, 1, 1, 1, 0, 1, 0, 0, 1, 0, 1, 1, 1, 1,\n",
              "       1, 0, 1, 1, 0, 1, 0, 1, 1, 0, 1, 0, 1, 1, 1, 1, 1, 1, 1, 1, 0, 0,\n",
              "       1, 1, 1, 1, 1, 1, 0, 1, 1, 1, 1, 1, 1, 1, 1, 1, 1, 0, 1, 1, 1, 1,\n",
              "       1, 1, 1, 0, 1, 0, 1, 1, 0, 1, 1, 1, 1, 1, 0, 0, 1, 0, 1, 0, 1, 1,\n",
              "       1, 1, 1, 0, 1, 1, 0, 1, 0, 1, 0, 0, 1, 1, 1, 0, 1, 1, 1, 1, 1, 1,\n",
              "       1, 1, 1, 1, 1, 0, 1, 0, 0, 1, 1, 1, 1, 1, 1, 1, 1, 1, 1, 1, 1, 1,\n",
              "       1, 1, 1, 1, 1, 1, 1, 1, 1, 1, 1, 1, 0, 0, 0, 0, 0, 0, 1])"
            ]
          },
          "metadata": {
            "tags": []
          },
          "execution_count": 21
        }
      ]
    },
    {
      "cell_type": "code",
      "metadata": {
        "id": "TZX_ohg1TBLC",
        "colab_type": "code",
        "colab": {}
      },
      "source": [
        "# from sklearn.utils import shuffle\n",
        "X, Y = sklearn.utils.shuffle(X, Y)"
      ],
      "execution_count": 0,
      "outputs": []
    },
    {
      "cell_type": "code",
      "metadata": {
        "id": "TdUls1VhR2l4",
        "colab_type": "code",
        "colab": {
          "base_uri": "https://localhost:8080/",
          "height": 35
        },
        "outputId": "97072263-437a-4fab-ebff-8328fff9de2f"
      },
      "source": [
        "D['target_names'] # malignant --> 0 and benign --> 1"
      ],
      "execution_count": 23,
      "outputs": [
        {
          "output_type": "execute_result",
          "data": {
            "text/plain": [
              "array(['malignant', 'benign'], dtype='<U9')"
            ]
          },
          "metadata": {
            "tags": []
          },
          "execution_count": 23
        }
      ]
    },
    {
      "cell_type": "code",
      "metadata": {
        "id": "cLGXSnbRSQJ5",
        "colab_type": "code",
        "colab": {}
      },
      "source": [
        "from sklearn.model_selection import train_test_split\n",
        "\n",
        "X_train, X_test, Y_train, Y_test = train_test_split(X, Y, test_size=0.33, random_state=0)"
      ],
      "execution_count": 0,
      "outputs": []
    },
    {
      "cell_type": "code",
      "metadata": {
        "id": "VpJktftRa9Sy",
        "colab_type": "code",
        "colab": {}
      },
      "source": [
        "from sklearn.preprocessing import StandardScaler\n",
        "z = StandardScaler()\n",
        "\n",
        "X_train = z.fit_transform(X_train)\n",
        "X_test = z.transform(X_test)"
      ],
      "execution_count": 0,
      "outputs": []
    },
    {
      "cell_type": "code",
      "metadata": {
        "id": "jtoMxc-WSrDG",
        "colab_type": "code",
        "colab": {
          "base_uri": "https://localhost:8080/",
          "height": 35
        },
        "outputId": "4a33f697-cb02-44b1-de98-6271fb819eee"
      },
      "source": [
        "N, D = X_train.shape\n",
        "print(N, D)"
      ],
      "execution_count": 26,
      "outputs": [
        {
          "output_type": "stream",
          "text": [
            "381 30\n"
          ],
          "name": "stdout"
        }
      ]
    },
    {
      "cell_type": "code",
      "metadata": {
        "id": "JYA6tUGcS7Mo",
        "colab_type": "code",
        "colab": {}
      },
      "source": [
        "model = tf.keras.models.Sequential([\n",
        "    tf.keras.layers.Input(shape=(D)),\n",
        "    tf.keras.layers.Dense(units=1, activation='sigmoid')                             \n",
        "])"
      ],
      "execution_count": 0,
      "outputs": []
    },
    {
      "cell_type": "code",
      "metadata": {
        "id": "p9pVoxcGUS3Z",
        "colab_type": "code",
        "colab": {}
      },
      "source": [
        "model.compile(optimizer='adam',\n",
        "              loss='binary_crossentropy',\n",
        "              metrics=['accuracy'],\n",
        ")"
      ],
      "execution_count": 0,
      "outputs": []
    },
    {
      "cell_type": "code",
      "metadata": {
        "id": "Q4_888LkU31C",
        "colab_type": "code",
        "colab": {
          "base_uri": "https://localhost:8080/",
          "height": 1000
        },
        "outputId": "c5c64280-22e5-4836-ad10-2fab53ac854d"
      },
      "source": [
        "result = model.fit(X_train, Y_train, validation_data=(X_test, Y_test), epochs=100)"
      ],
      "execution_count": 29,
      "outputs": [
        {
          "output_type": "stream",
          "text": [
            "Train on 381 samples, validate on 188 samples\n",
            "Epoch 1/100\n",
            "381/381 [==============================] - 0s 849us/sample - loss: 0.5159 - accuracy: 0.7507 - val_loss: 0.5115 - val_accuracy: 0.7979\n",
            "Epoch 2/100\n",
            "381/381 [==============================] - 0s 125us/sample - loss: 0.4700 - accuracy: 0.8031 - val_loss: 0.4709 - val_accuracy: 0.8351\n",
            "Epoch 3/100\n",
            "381/381 [==============================] - 0s 118us/sample - loss: 0.4326 - accuracy: 0.8268 - val_loss: 0.4364 - val_accuracy: 0.8404\n",
            "Epoch 4/100\n",
            "381/381 [==============================] - 0s 131us/sample - loss: 0.3991 - accuracy: 0.8530 - val_loss: 0.4082 - val_accuracy: 0.8511\n",
            "Epoch 5/100\n",
            "381/381 [==============================] - 0s 135us/sample - loss: 0.3721 - accuracy: 0.8688 - val_loss: 0.3838 - val_accuracy: 0.8670\n",
            "Epoch 6/100\n",
            "381/381 [==============================] - 0s 142us/sample - loss: 0.3489 - accuracy: 0.8766 - val_loss: 0.3628 - val_accuracy: 0.8670\n",
            "Epoch 7/100\n",
            "381/381 [==============================] - 0s 118us/sample - loss: 0.3292 - accuracy: 0.8871 - val_loss: 0.3442 - val_accuracy: 0.8670\n",
            "Epoch 8/100\n",
            "381/381 [==============================] - 0s 119us/sample - loss: 0.3116 - accuracy: 0.9055 - val_loss: 0.3280 - val_accuracy: 0.8670\n",
            "Epoch 9/100\n",
            "381/381 [==============================] - 0s 125us/sample - loss: 0.2968 - accuracy: 0.9108 - val_loss: 0.3132 - val_accuracy: 0.8883\n",
            "Epoch 10/100\n",
            "381/381 [==============================] - 0s 128us/sample - loss: 0.2834 - accuracy: 0.9160 - val_loss: 0.3002 - val_accuracy: 0.8936\n",
            "Epoch 11/100\n",
            "381/381 [==============================] - 0s 120us/sample - loss: 0.2717 - accuracy: 0.9239 - val_loss: 0.2884 - val_accuracy: 0.8936\n",
            "Epoch 12/100\n",
            "381/381 [==============================] - 0s 124us/sample - loss: 0.2610 - accuracy: 0.9239 - val_loss: 0.2776 - val_accuracy: 0.8883\n",
            "Epoch 13/100\n",
            "381/381 [==============================] - 0s 127us/sample - loss: 0.2514 - accuracy: 0.9291 - val_loss: 0.2679 - val_accuracy: 0.8989\n",
            "Epoch 14/100\n",
            "381/381 [==============================] - 0s 120us/sample - loss: 0.2426 - accuracy: 0.9291 - val_loss: 0.2587 - val_accuracy: 0.9043\n",
            "Epoch 15/100\n",
            "381/381 [==============================] - 0s 120us/sample - loss: 0.2348 - accuracy: 0.9344 - val_loss: 0.2498 - val_accuracy: 0.9202\n",
            "Epoch 16/100\n",
            "381/381 [==============================] - 0s 114us/sample - loss: 0.2275 - accuracy: 0.9344 - val_loss: 0.2419 - val_accuracy: 0.9202\n",
            "Epoch 17/100\n",
            "381/381 [==============================] - 0s 123us/sample - loss: 0.2209 - accuracy: 0.9396 - val_loss: 0.2343 - val_accuracy: 0.9202\n",
            "Epoch 18/100\n",
            "381/381 [==============================] - 0s 126us/sample - loss: 0.2145 - accuracy: 0.9423 - val_loss: 0.2276 - val_accuracy: 0.9255\n",
            "Epoch 19/100\n",
            "381/381 [==============================] - 0s 115us/sample - loss: 0.2089 - accuracy: 0.9423 - val_loss: 0.2212 - val_accuracy: 0.9309\n",
            "Epoch 20/100\n",
            "381/381 [==============================] - 0s 121us/sample - loss: 0.2036 - accuracy: 0.9449 - val_loss: 0.2150 - val_accuracy: 0.9309\n",
            "Epoch 21/100\n",
            "381/381 [==============================] - 0s 143us/sample - loss: 0.1987 - accuracy: 0.9449 - val_loss: 0.2094 - val_accuracy: 0.9362\n",
            "Epoch 22/100\n",
            "381/381 [==============================] - 0s 144us/sample - loss: 0.1940 - accuracy: 0.9449 - val_loss: 0.2040 - val_accuracy: 0.9362\n",
            "Epoch 23/100\n",
            "381/381 [==============================] - 0s 130us/sample - loss: 0.1898 - accuracy: 0.9449 - val_loss: 0.1989 - val_accuracy: 0.9362\n",
            "Epoch 24/100\n",
            "381/381 [==============================] - 0s 123us/sample - loss: 0.1857 - accuracy: 0.9475 - val_loss: 0.1942 - val_accuracy: 0.9362\n",
            "Epoch 25/100\n",
            "381/381 [==============================] - 0s 118us/sample - loss: 0.1818 - accuracy: 0.9475 - val_loss: 0.1895 - val_accuracy: 0.9362\n",
            "Epoch 26/100\n",
            "381/381 [==============================] - 0s 113us/sample - loss: 0.1782 - accuracy: 0.9475 - val_loss: 0.1852 - val_accuracy: 0.9415\n",
            "Epoch 27/100\n",
            "381/381 [==============================] - 0s 137us/sample - loss: 0.1749 - accuracy: 0.9475 - val_loss: 0.1810 - val_accuracy: 0.9468\n",
            "Epoch 28/100\n",
            "381/381 [==============================] - 0s 140us/sample - loss: 0.1716 - accuracy: 0.9475 - val_loss: 0.1773 - val_accuracy: 0.9521\n",
            "Epoch 29/100\n",
            "381/381 [==============================] - 0s 129us/sample - loss: 0.1685 - accuracy: 0.9475 - val_loss: 0.1736 - val_accuracy: 0.9574\n",
            "Epoch 30/100\n",
            "381/381 [==============================] - 0s 114us/sample - loss: 0.1657 - accuracy: 0.9475 - val_loss: 0.1700 - val_accuracy: 0.9574\n",
            "Epoch 31/100\n",
            "381/381 [==============================] - 0s 120us/sample - loss: 0.1629 - accuracy: 0.9501 - val_loss: 0.1669 - val_accuracy: 0.9574\n",
            "Epoch 32/100\n",
            "381/381 [==============================] - 0s 118us/sample - loss: 0.1603 - accuracy: 0.9501 - val_loss: 0.1638 - val_accuracy: 0.9628\n",
            "Epoch 33/100\n",
            "381/381 [==============================] - 0s 121us/sample - loss: 0.1578 - accuracy: 0.9528 - val_loss: 0.1606 - val_accuracy: 0.9628\n",
            "Epoch 34/100\n",
            "381/381 [==============================] - 0s 114us/sample - loss: 0.1554 - accuracy: 0.9528 - val_loss: 0.1578 - val_accuracy: 0.9628\n",
            "Epoch 35/100\n",
            "381/381 [==============================] - 0s 108us/sample - loss: 0.1532 - accuracy: 0.9528 - val_loss: 0.1548 - val_accuracy: 0.9628\n",
            "Epoch 36/100\n",
            "381/381 [==============================] - 0s 113us/sample - loss: 0.1511 - accuracy: 0.9528 - val_loss: 0.1524 - val_accuracy: 0.9628\n",
            "Epoch 37/100\n",
            "381/381 [==============================] - 0s 118us/sample - loss: 0.1490 - accuracy: 0.9528 - val_loss: 0.1498 - val_accuracy: 0.9681\n",
            "Epoch 38/100\n",
            "381/381 [==============================] - 0s 118us/sample - loss: 0.1470 - accuracy: 0.9528 - val_loss: 0.1473 - val_accuracy: 0.9681\n",
            "Epoch 39/100\n",
            "381/381 [==============================] - 0s 118us/sample - loss: 0.1450 - accuracy: 0.9528 - val_loss: 0.1450 - val_accuracy: 0.9681\n",
            "Epoch 40/100\n",
            "381/381 [==============================] - 0s 120us/sample - loss: 0.1432 - accuracy: 0.9528 - val_loss: 0.1425 - val_accuracy: 0.9681\n",
            "Epoch 41/100\n",
            "381/381 [==============================] - 0s 114us/sample - loss: 0.1415 - accuracy: 0.9528 - val_loss: 0.1403 - val_accuracy: 0.9681\n",
            "Epoch 42/100\n",
            "381/381 [==============================] - 0s 142us/sample - loss: 0.1397 - accuracy: 0.9528 - val_loss: 0.1384 - val_accuracy: 0.9681\n",
            "Epoch 43/100\n",
            "381/381 [==============================] - 0s 122us/sample - loss: 0.1381 - accuracy: 0.9528 - val_loss: 0.1363 - val_accuracy: 0.9681\n",
            "Epoch 44/100\n",
            "381/381 [==============================] - 0s 129us/sample - loss: 0.1366 - accuracy: 0.9528 - val_loss: 0.1343 - val_accuracy: 0.9681\n",
            "Epoch 45/100\n",
            "381/381 [==============================] - 0s 119us/sample - loss: 0.1350 - accuracy: 0.9528 - val_loss: 0.1324 - val_accuracy: 0.9681\n",
            "Epoch 46/100\n",
            "381/381 [==============================] - 0s 123us/sample - loss: 0.1336 - accuracy: 0.9528 - val_loss: 0.1305 - val_accuracy: 0.9681\n",
            "Epoch 47/100\n",
            "381/381 [==============================] - 0s 117us/sample - loss: 0.1323 - accuracy: 0.9528 - val_loss: 0.1288 - val_accuracy: 0.9681\n",
            "Epoch 48/100\n",
            "381/381 [==============================] - 0s 115us/sample - loss: 0.1309 - accuracy: 0.9528 - val_loss: 0.1271 - val_accuracy: 0.9681\n",
            "Epoch 49/100\n",
            "381/381 [==============================] - 0s 109us/sample - loss: 0.1295 - accuracy: 0.9554 - val_loss: 0.1257 - val_accuracy: 0.9681\n",
            "Epoch 50/100\n",
            "381/381 [==============================] - 0s 124us/sample - loss: 0.1283 - accuracy: 0.9554 - val_loss: 0.1240 - val_accuracy: 0.9681\n",
            "Epoch 51/100\n",
            "381/381 [==============================] - 0s 111us/sample - loss: 0.1270 - accuracy: 0.9554 - val_loss: 0.1225 - val_accuracy: 0.9681\n",
            "Epoch 52/100\n",
            "381/381 [==============================] - 0s 114us/sample - loss: 0.1259 - accuracy: 0.9554 - val_loss: 0.1209 - val_accuracy: 0.9681\n",
            "Epoch 53/100\n",
            "381/381 [==============================] - 0s 115us/sample - loss: 0.1247 - accuracy: 0.9554 - val_loss: 0.1195 - val_accuracy: 0.9681\n",
            "Epoch 54/100\n",
            "381/381 [==============================] - 0s 116us/sample - loss: 0.1236 - accuracy: 0.9554 - val_loss: 0.1182 - val_accuracy: 0.9681\n",
            "Epoch 55/100\n",
            "381/381 [==============================] - 0s 123us/sample - loss: 0.1225 - accuracy: 0.9554 - val_loss: 0.1168 - val_accuracy: 0.9681\n",
            "Epoch 56/100\n",
            "381/381 [==============================] - 0s 117us/sample - loss: 0.1214 - accuracy: 0.9580 - val_loss: 0.1155 - val_accuracy: 0.9681\n",
            "Epoch 57/100\n",
            "381/381 [==============================] - 0s 120us/sample - loss: 0.1204 - accuracy: 0.9606 - val_loss: 0.1142 - val_accuracy: 0.9681\n",
            "Epoch 58/100\n",
            "381/381 [==============================] - 0s 141us/sample - loss: 0.1194 - accuracy: 0.9606 - val_loss: 0.1128 - val_accuracy: 0.9681\n",
            "Epoch 59/100\n",
            "381/381 [==============================] - 0s 128us/sample - loss: 0.1184 - accuracy: 0.9606 - val_loss: 0.1116 - val_accuracy: 0.9681\n",
            "Epoch 60/100\n",
            "381/381 [==============================] - 0s 121us/sample - loss: 0.1175 - accuracy: 0.9633 - val_loss: 0.1105 - val_accuracy: 0.9681\n",
            "Epoch 61/100\n",
            "381/381 [==============================] - 0s 121us/sample - loss: 0.1166 - accuracy: 0.9659 - val_loss: 0.1095 - val_accuracy: 0.9681\n",
            "Epoch 62/100\n",
            "381/381 [==============================] - 0s 122us/sample - loss: 0.1157 - accuracy: 0.9659 - val_loss: 0.1082 - val_accuracy: 0.9681\n",
            "Epoch 63/100\n",
            "381/381 [==============================] - 0s 138us/sample - loss: 0.1148 - accuracy: 0.9659 - val_loss: 0.1070 - val_accuracy: 0.9681\n",
            "Epoch 64/100\n",
            "381/381 [==============================] - 0s 151us/sample - loss: 0.1140 - accuracy: 0.9659 - val_loss: 0.1060 - val_accuracy: 0.9681\n",
            "Epoch 65/100\n",
            "381/381 [==============================] - 0s 124us/sample - loss: 0.1132 - accuracy: 0.9659 - val_loss: 0.1049 - val_accuracy: 0.9681\n",
            "Epoch 66/100\n",
            "381/381 [==============================] - 0s 109us/sample - loss: 0.1123 - accuracy: 0.9659 - val_loss: 0.1040 - val_accuracy: 0.9681\n",
            "Epoch 67/100\n",
            "381/381 [==============================] - 0s 138us/sample - loss: 0.1115 - accuracy: 0.9659 - val_loss: 0.1030 - val_accuracy: 0.9681\n",
            "Epoch 68/100\n",
            "381/381 [==============================] - 0s 146us/sample - loss: 0.1108 - accuracy: 0.9659 - val_loss: 0.1021 - val_accuracy: 0.9681\n",
            "Epoch 69/100\n",
            "381/381 [==============================] - 0s 121us/sample - loss: 0.1101 - accuracy: 0.9659 - val_loss: 0.1013 - val_accuracy: 0.9734\n",
            "Epoch 70/100\n",
            "381/381 [==============================] - 0s 117us/sample - loss: 0.1093 - accuracy: 0.9659 - val_loss: 0.1004 - val_accuracy: 0.9734\n",
            "Epoch 71/100\n",
            "381/381 [==============================] - 0s 110us/sample - loss: 0.1086 - accuracy: 0.9659 - val_loss: 0.0994 - val_accuracy: 0.9734\n",
            "Epoch 72/100\n",
            "381/381 [==============================] - 0s 112us/sample - loss: 0.1079 - accuracy: 0.9659 - val_loss: 0.0986 - val_accuracy: 0.9734\n",
            "Epoch 73/100\n",
            "381/381 [==============================] - 0s 119us/sample - loss: 0.1072 - accuracy: 0.9659 - val_loss: 0.0978 - val_accuracy: 0.9734\n",
            "Epoch 74/100\n",
            "381/381 [==============================] - 0s 134us/sample - loss: 0.1066 - accuracy: 0.9659 - val_loss: 0.0970 - val_accuracy: 0.9734\n",
            "Epoch 75/100\n",
            "381/381 [==============================] - 0s 130us/sample - loss: 0.1060 - accuracy: 0.9659 - val_loss: 0.0962 - val_accuracy: 0.9734\n",
            "Epoch 76/100\n",
            "381/381 [==============================] - 0s 124us/sample - loss: 0.1053 - accuracy: 0.9659 - val_loss: 0.0954 - val_accuracy: 0.9734\n",
            "Epoch 77/100\n",
            "381/381 [==============================] - 0s 131us/sample - loss: 0.1047 - accuracy: 0.9659 - val_loss: 0.0946 - val_accuracy: 0.9787\n",
            "Epoch 78/100\n",
            "381/381 [==============================] - 0s 118us/sample - loss: 0.1040 - accuracy: 0.9685 - val_loss: 0.0939 - val_accuracy: 0.9734\n",
            "Epoch 79/100\n",
            "381/381 [==============================] - 0s 121us/sample - loss: 0.1035 - accuracy: 0.9711 - val_loss: 0.0932 - val_accuracy: 0.9787\n",
            "Epoch 80/100\n",
            "381/381 [==============================] - 0s 116us/sample - loss: 0.1029 - accuracy: 0.9711 - val_loss: 0.0925 - val_accuracy: 0.9787\n",
            "Epoch 81/100\n",
            "381/381 [==============================] - 0s 136us/sample - loss: 0.1023 - accuracy: 0.9711 - val_loss: 0.0918 - val_accuracy: 0.9787\n",
            "Epoch 82/100\n",
            "381/381 [==============================] - 0s 132us/sample - loss: 0.1018 - accuracy: 0.9711 - val_loss: 0.0911 - val_accuracy: 0.9840\n",
            "Epoch 83/100\n",
            "381/381 [==============================] - 0s 159us/sample - loss: 0.1013 - accuracy: 0.9711 - val_loss: 0.0905 - val_accuracy: 0.9787\n",
            "Epoch 84/100\n",
            "381/381 [==============================] - 0s 150us/sample - loss: 0.1007 - accuracy: 0.9738 - val_loss: 0.0899 - val_accuracy: 0.9840\n",
            "Epoch 85/100\n",
            "381/381 [==============================] - 0s 141us/sample - loss: 0.1002 - accuracy: 0.9738 - val_loss: 0.0892 - val_accuracy: 0.9840\n",
            "Epoch 86/100\n",
            "381/381 [==============================] - 0s 127us/sample - loss: 0.0996 - accuracy: 0.9738 - val_loss: 0.0886 - val_accuracy: 0.9840\n",
            "Epoch 87/100\n",
            "381/381 [==============================] - 0s 116us/sample - loss: 0.0991 - accuracy: 0.9738 - val_loss: 0.0880 - val_accuracy: 0.9840\n",
            "Epoch 88/100\n",
            "381/381 [==============================] - 0s 123us/sample - loss: 0.0986 - accuracy: 0.9738 - val_loss: 0.0874 - val_accuracy: 0.9840\n",
            "Epoch 89/100\n",
            "381/381 [==============================] - 0s 126us/sample - loss: 0.0982 - accuracy: 0.9738 - val_loss: 0.0868 - val_accuracy: 0.9840\n",
            "Epoch 90/100\n",
            "381/381 [==============================] - 0s 133us/sample - loss: 0.0977 - accuracy: 0.9738 - val_loss: 0.0863 - val_accuracy: 0.9840\n",
            "Epoch 91/100\n",
            "381/381 [==============================] - 0s 137us/sample - loss: 0.0972 - accuracy: 0.9738 - val_loss: 0.0857 - val_accuracy: 0.9840\n",
            "Epoch 92/100\n",
            "381/381 [==============================] - 0s 126us/sample - loss: 0.0967 - accuracy: 0.9738 - val_loss: 0.0852 - val_accuracy: 0.9840\n",
            "Epoch 93/100\n",
            "381/381 [==============================] - 0s 118us/sample - loss: 0.0963 - accuracy: 0.9738 - val_loss: 0.0846 - val_accuracy: 0.9840\n",
            "Epoch 94/100\n",
            "381/381 [==============================] - 0s 121us/sample - loss: 0.0958 - accuracy: 0.9738 - val_loss: 0.0842 - val_accuracy: 0.9840\n",
            "Epoch 95/100\n",
            "381/381 [==============================] - 0s 130us/sample - loss: 0.0954 - accuracy: 0.9738 - val_loss: 0.0837 - val_accuracy: 0.9840\n",
            "Epoch 96/100\n",
            "381/381 [==============================] - 0s 122us/sample - loss: 0.0950 - accuracy: 0.9764 - val_loss: 0.0833 - val_accuracy: 0.9840\n",
            "Epoch 97/100\n",
            "381/381 [==============================] - 0s 126us/sample - loss: 0.0946 - accuracy: 0.9764 - val_loss: 0.0827 - val_accuracy: 0.9840\n",
            "Epoch 98/100\n",
            "381/381 [==============================] - 0s 118us/sample - loss: 0.0941 - accuracy: 0.9764 - val_loss: 0.0823 - val_accuracy: 0.9840\n",
            "Epoch 99/100\n",
            "381/381 [==============================] - 0s 110us/sample - loss: 0.0937 - accuracy: 0.9764 - val_loss: 0.0818 - val_accuracy: 0.9840\n",
            "Epoch 100/100\n",
            "381/381 [==============================] - 0s 115us/sample - loss: 0.0933 - accuracy: 0.9764 - val_loss: 0.0814 - val_accuracy: 0.9840\n"
          ],
          "name": "stdout"
        }
      ]
    },
    {
      "cell_type": "code",
      "metadata": {
        "id": "Nl7GVx7ZVxa-",
        "colab_type": "code",
        "colab": {
          "base_uri": "https://localhost:8080/",
          "height": 88
        },
        "outputId": "d54ab806-589a-4659-9d94-ec56d64a13fb"
      },
      "source": [
        "print('Training Accuracy: {}'.format(model.evaluate(X_train, Y_train)))\n",
        "print('Testing Accuracy: {}'.format(model.evaluate(X_test, Y_test)))\n",
        "\n",
        "# # Evaluate the model - evaluate() returns loss and accuracy\n",
        "# print(\"Train score:\", model.evaluate(X_train, Y_train))\n",
        "# print(\"Test score:\", model.evaluate(X_test, Y_test))"
      ],
      "execution_count": 30,
      "outputs": [
        {
          "output_type": "stream",
          "text": [
            "381/381 [==============================] - 0s 61us/sample - loss: 0.0931 - accuracy: 0.9764\n",
            "Training Accuracy: [0.09308168888483148, 0.97637796]\n",
            "188/188 [==============================] - 0s 68us/sample - loss: 0.0814 - accuracy: 0.9840\n",
            "Testing Accuracy: [0.08135286877129941, 0.9840425]\n"
          ],
          "name": "stdout"
        }
      ]
    },
    {
      "cell_type": "code",
      "metadata": {
        "id": "7D0VaZNrXev0",
        "colab_type": "code",
        "colab": {
          "base_uri": "https://localhost:8080/",
          "height": 279
        },
        "outputId": "ec7653ba-78d4-459b-94f1-205dcf71ed4e"
      },
      "source": [
        "import matplotlib.pyplot as plt\n",
        "plt.plot(result.history['loss'], label='loss')\n",
        "plt.plot(result.history['val_loss'], label='val_loss')\n",
        "plt.xlabel('Epoch')\n",
        "plt.ylabel('Loss')\n",
        "plt.legend()\n",
        "plt.show()"
      ],
      "execution_count": 36,
      "outputs": [
        {
          "output_type": "display_data",
          "data": {
            "image/png": "[encoded data removed]",
            "text/plain": [
              "<Figure size 432x288 with 1 Axes>"
            ]
          },
          "metadata": {
            "tags": []
          }
        }
      ]
    },
    {
      "cell_type": "code",
      "metadata": {
        "id": "RyhFsUefcjxh",
        "colab_type": "code",
        "colab": {
          "base_uri": "https://localhost:8080/",
          "height": 279
        },
        "outputId": "9984469f-9294-44dc-886a-6e04fca6ec74"
      },
      "source": [
        "import matplotlib.pyplot as plt\n",
        "plt.plot(result.history['accuracy'], label='accuracy')\n",
        "plt.plot(result.history['val_accuracy'], label='val_accuracy')\n",
        "plt.xlabel('Epoch')\n",
        "plt.ylabel('Accuracy')\n",
        "plt.legend()\n",
        "plt.show()"
      ],
      "execution_count": 35,
      "outputs": [
        {
          "output_type": "display_data",
          "data": {
            "image/png": "[encoded data removed]",
            "text/plain": [
              "<Figure size 432x288 with 1 Axes>"
            ]
          },
          "metadata": {
            "tags": []
          }
        }
      ]
    },
    {
      "cell_type": "code",
      "metadata": {
        "id": "MoxHh_Exctpx",
        "colab_type": "code",
        "colab": {}
      },
      "source": [
        ""
      ],
      "execution_count": 0,
      "outputs": []
    }
  ]
}