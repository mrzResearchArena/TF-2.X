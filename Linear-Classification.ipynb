{
  "nbformat": 4,
  "nbformat_minor": 0,
  "metadata": {
    "colab": {
      "name": "Linear-Classification.ipynb",
      "provenance": [],
      "toc_visible": true,
      "include_colab_link": true
    },
    "kernelspec": {
      "name": "python3",
      "display_name": "Python 3"
    },
    "accelerator": "GPU"
  },
  "cells": [
    {
      "cell_type": "markdown",
      "metadata": {
        "id": "view-in-github",
        "colab_type": "text"
      },
      "source": [
        "<a href=\"https://colab.research.google.com/github/mrzResearchArena/TF-2.X/blob/master/Linear-Classification.ipynb\" target=\"_parent\"><img src=\"https://colab.research.google.com/assets/colab-badge.svg\" alt=\"Open In Colab\"/></a>"
      ]
    },
    {
      "cell_type": "code",
      "metadata": {
        "id": "51CB8bMaQG3t",
        "colab_type": "code",
        "outputId": "31d8be53-f59f-4e5b-eece-995207083558",
        "colab": {
          "base_uri": "https://localhost:8080/",
          "height": 124
        }
      },
      "source": [
        "try:\n",
        "    %tensorflow_version 2.x  # Colab only.\n",
        "except Exception:\n",
        "    pass\n",
        "\n",
        "import tensorflow as tf\n",
        "import sklearn\n",
        "import numpy as np\n",
        "print(tf.__version__)"
      ],
      "execution_count": 31,
      "outputs": [
        {
          "output_type": "stream",
          "text": [
            "`%tensorflow_version` only switches the major version: `1.x` or `2.x`.\n",
            "You set: `2.x  # Colab only.`. This will be interpreted as: `2.x`.\n",
            "\n",
            "\n",
            "TensorFlow is already loaded. Please restart the runtime to change versions.\n",
            "2.1.0-rc1\n"
          ],
          "name": "stdout"
        }
      ]
    },
    {
      "cell_type": "code",
      "metadata": {
        "id": "iYfAz4yvQcMV",
        "colab_type": "code",
        "colab": {}
      },
      "source": [
        "from sklearn.datasets import load_breast_cancer \n",
        "D = load_breast_cancer()"
      ],
      "execution_count": 0,
      "outputs": []
    },
    {
      "cell_type": "code",
      "metadata": {
        "id": "IhKGwF7cRaEH",
        "colab_type": "code",
        "outputId": "b2c297e6-d880-4abb-9632-4e0a4e8e662a",
        "colab": {
          "base_uri": "https://localhost:8080/",
          "height": 35
        }
      },
      "source": [
        "D.keys()"
      ],
      "execution_count": 33,
      "outputs": [
        {
          "output_type": "execute_result",
          "data": {
            "text/plain": [
              "dict_keys(['data', 'target', 'target_names', 'DESCR', 'feature_names', 'filename'])"
            ]
          },
          "metadata": {
            "tags": []
          },
          "execution_count": 33
        }
      ]
    },
    {
      "cell_type": "code",
      "metadata": {
        "id": "Cc9gTDtsRiUW",
        "colab_type": "code",
        "outputId": "e6c82951-379b-4191-f844-7ac5fcd5d6ec",
        "colab": {
          "base_uri": "https://localhost:8080/",
          "height": 249
        }
      },
      "source": [
        "X = D['data']\n",
        "# X.shape # --> (569, 30)\n",
        "X"
      ],
      "execution_count": 34,
      "outputs": [
        {
          "output_type": "execute_result",
          "data": {
            "text/plain": [
              "array([[1.799e+01, 1.038e+01, 1.228e+02, ..., 2.654e-01, 4.601e-01,\n",
              "        1.189e-01],\n",
              "       [2.057e+01, 1.777e+01, 1.329e+02, ..., 1.860e-01, 2.750e-01,\n",
              "        8.902e-02],\n",
              "       [1.969e+01, 2.125e+01, 1.300e+02, ..., 2.430e-01, 3.613e-01,\n",
              "        8.758e-02],\n",
              "       ...,\n",
              "       [1.660e+01, 2.808e+01, 1.083e+02, ..., 1.418e-01, 2.218e-01,\n",
              "        7.820e-02],\n",
              "       [2.060e+01, 2.933e+01, 1.401e+02, ..., 2.650e-01, 4.087e-01,\n",
              "        1.240e-01],\n",
              "       [7.760e+00, 2.454e+01, 4.792e+01, ..., 0.000e+00, 2.871e-01,\n",
              "        7.039e-02]])"
            ]
          },
          "metadata": {
            "tags": []
          },
          "execution_count": 34
        }
      ]
    },
    {
      "cell_type": "code",
      "metadata": {
        "id": "_Xq9_NzRRofW",
        "colab_type": "code",
        "outputId": "c064983e-1751-4b3b-da46-cc5bff099195",
        "colab": {
          "base_uri": "https://localhost:8080/",
          "height": 482
        }
      },
      "source": [
        "Y = D['target']\n",
        "# Y.shape # --> (569,)\n",
        "Y"
      ],
      "execution_count": 35,
      "outputs": [
        {
          "output_type": "execute_result",
          "data": {
            "text/plain": [
              "array([0, 0, 0, 0, 0, 0, 0, 0, 0, 0, 0, 0, 0, 0, 0, 0, 0, 0, 0, 1, 1, 1,\n",
              "       0, 0, 0, 0, 0, 0, 0, 0, 0, 0, 0, 0, 0, 0, 0, 1, 0, 0, 0, 0, 0, 0,\n",
              "       0, 0, 1, 0, 1, 1, 1, 1, 1, 0, 0, 1, 0, 0, 1, 1, 1, 1, 0, 1, 0, 0,\n",
              "       1, 1, 1, 1, 0, 1, 0, 0, 1, 0, 1, 0, 0, 1, 1, 1, 0, 0, 1, 0, 0, 0,\n",
              "       1, 1, 1, 0, 1, 1, 0, 0, 1, 1, 1, 0, 0, 1, 1, 1, 1, 0, 1, 1, 0, 1,\n",
              "       1, 1, 1, 1, 1, 1, 1, 0, 0, 0, 1, 0, 0, 1, 1, 1, 0, 0, 1, 0, 1, 0,\n",
              "       0, 1, 0, 0, 1, 1, 0, 1, 1, 0, 1, 1, 1, 1, 0, 1, 1, 1, 1, 1, 1, 1,\n",
              "       1, 1, 0, 1, 1, 1, 1, 0, 0, 1, 0, 1, 1, 0, 0, 1, 1, 0, 0, 1, 1, 1,\n",
              "       1, 0, 1, 1, 0, 0, 0, 1, 0, 1, 0, 1, 1, 1, 0, 1, 1, 0, 0, 1, 0, 0,\n",
              "       0, 0, 1, 0, 0, 0, 1, 0, 1, 0, 1, 1, 0, 1, 0, 0, 0, 0, 1, 1, 0, 0,\n",
              "       1, 1, 1, 0, 1, 1, 1, 1, 1, 0, 0, 1, 1, 0, 1, 1, 0, 0, 1, 0, 1, 1,\n",
              "       1, 1, 0, 1, 1, 1, 1, 1, 0, 1, 0, 0, 0, 0, 0, 0, 0, 0, 0, 0, 0, 0,\n",
              "       0, 0, 1, 1, 1, 1, 1, 1, 0, 1, 0, 1, 1, 0, 1, 1, 0, 1, 0, 0, 1, 1,\n",
              "       1, 1, 1, 1, 1, 1, 1, 1, 1, 1, 1, 0, 1, 1, 0, 1, 0, 1, 1, 1, 1, 1,\n",
              "       1, 1, 1, 1, 1, 1, 1, 1, 1, 0, 1, 1, 1, 0, 1, 0, 1, 1, 1, 1, 0, 0,\n",
              "       0, 1, 1, 1, 1, 0, 1, 0, 1, 0, 1, 1, 1, 0, 1, 1, 1, 1, 1, 1, 1, 0,\n",
              "       0, 0, 1, 1, 1, 1, 1, 1, 1, 1, 1, 1, 1, 0, 0, 1, 0, 0, 0, 1, 0, 0,\n",
              "       1, 1, 1, 1, 1, 0, 1, 1, 1, 1, 1, 0, 1, 1, 1, 0, 1, 1, 0, 0, 1, 1,\n",
              "       1, 1, 1, 1, 0, 1, 1, 1, 1, 1, 1, 1, 0, 1, 1, 1, 1, 1, 0, 1, 1, 0,\n",
              "       1, 1, 1, 1, 1, 1, 1, 1, 1, 1, 1, 1, 0, 1, 0, 0, 1, 0, 1, 1, 1, 1,\n",
              "       1, 0, 1, 1, 0, 1, 0, 1, 1, 0, 1, 0, 1, 1, 1, 1, 1, 1, 1, 1, 0, 0,\n",
              "       1, 1, 1, 1, 1, 1, 0, 1, 1, 1, 1, 1, 1, 1, 1, 1, 1, 0, 1, 1, 1, 1,\n",
              "       1, 1, 1, 0, 1, 0, 1, 1, 0, 1, 1, 1, 1, 1, 0, 0, 1, 0, 1, 0, 1, 1,\n",
              "       1, 1, 1, 0, 1, 1, 0, 1, 0, 1, 0, 0, 1, 1, 1, 0, 1, 1, 1, 1, 1, 1,\n",
              "       1, 1, 1, 1, 1, 0, 1, 0, 0, 1, 1, 1, 1, 1, 1, 1, 1, 1, 1, 1, 1, 1,\n",
              "       1, 1, 1, 1, 1, 1, 1, 1, 1, 1, 1, 1, 0, 0, 0, 0, 0, 0, 1])"
            ]
          },
          "metadata": {
            "tags": []
          },
          "execution_count": 35
        }
      ]
    },
    {
      "cell_type": "code",
      "metadata": {
        "id": "TZX_ohg1TBLC",
        "colab_type": "code",
        "outputId": "45eeaf25-ee35-498d-9a79-04b03ca5753c",
        "colab": {
          "base_uri": "https://localhost:8080/",
          "height": 482
        }
      },
      "source": [
        "# from sklearn.utils import shuffle\n",
        "X, Y = sklearn.utils.shuffle(X, Y)\n",
        "Y"
      ],
      "execution_count": 36,
      "outputs": [
        {
          "output_type": "execute_result",
          "data": {
            "text/plain": [
              "array([1, 1, 1, 0, 1, 1, 0, 1, 0, 1, 1, 0, 0, 1, 1, 1, 1, 1, 0, 0, 1, 0,\n",
              "       1, 0, 1, 1, 1, 0, 1, 1, 0, 1, 1, 1, 1, 1, 1, 0, 1, 1, 1, 1, 0, 0,\n",
              "       0, 1, 1, 0, 1, 1, 0, 1, 1, 0, 0, 1, 0, 0, 0, 0, 1, 1, 1, 0, 1, 1,\n",
              "       1, 0, 1, 1, 1, 1, 0, 1, 0, 1, 1, 0, 1, 1, 0, 1, 0, 0, 1, 0, 0, 1,\n",
              "       0, 0, 1, 0, 1, 1, 0, 0, 1, 1, 0, 1, 1, 1, 1, 1, 0, 0, 0, 1, 1, 1,\n",
              "       1, 1, 0, 1, 1, 1, 1, 1, 1, 0, 1, 0, 1, 1, 0, 0, 1, 1, 1, 0, 0, 1,\n",
              "       1, 0, 0, 0, 1, 0, 1, 0, 1, 1, 1, 0, 1, 0, 0, 1, 1, 1, 1, 1, 1, 1,\n",
              "       0, 1, 1, 1, 1, 1, 0, 1, 1, 1, 1, 0, 0, 0, 1, 1, 1, 0, 1, 1, 0, 0,\n",
              "       1, 0, 1, 0, 1, 1, 0, 0, 1, 1, 1, 0, 0, 1, 1, 1, 0, 1, 1, 0, 0, 1,\n",
              "       0, 0, 1, 1, 0, 1, 1, 0, 0, 1, 0, 0, 0, 1, 0, 0, 1, 1, 1, 1, 0, 0,\n",
              "       1, 1, 1, 1, 1, 1, 0, 1, 0, 0, 1, 1, 1, 1, 1, 1, 0, 1, 0, 1, 1, 1,\n",
              "       0, 1, 1, 1, 1, 0, 0, 1, 1, 1, 1, 0, 1, 1, 0, 1, 0, 0, 1, 1, 1, 0,\n",
              "       1, 1, 0, 0, 1, 1, 1, 1, 1, 1, 1, 0, 0, 0, 1, 1, 0, 1, 1, 0, 1, 1,\n",
              "       0, 0, 0, 1, 1, 1, 1, 1, 0, 1, 0, 1, 1, 1, 1, 1, 1, 0, 1, 1, 1, 0,\n",
              "       1, 1, 1, 0, 1, 1, 1, 1, 0, 1, 1, 0, 1, 0, 0, 0, 0, 1, 0, 1, 1, 1,\n",
              "       0, 1, 0, 1, 0, 0, 1, 1, 1, 0, 1, 1, 1, 0, 1, 0, 0, 0, 1, 1, 1, 0,\n",
              "       1, 0, 0, 1, 0, 0, 1, 0, 0, 0, 1, 1, 0, 1, 1, 1, 1, 1, 1, 0, 1, 1,\n",
              "       1, 1, 0, 0, 0, 0, 1, 0, 0, 0, 0, 0, 1, 0, 1, 0, 1, 1, 1, 1, 1, 1,\n",
              "       1, 1, 1, 1, 0, 0, 1, 1, 1, 1, 1, 1, 1, 0, 1, 1, 0, 0, 0, 0, 1, 1,\n",
              "       1, 0, 0, 0, 0, 1, 0, 1, 1, 0, 1, 1, 0, 1, 1, 1, 1, 1, 1, 0, 1, 1,\n",
              "       1, 0, 1, 1, 0, 1, 1, 1, 1, 0, 1, 1, 0, 1, 1, 0, 1, 1, 1, 1, 1, 0,\n",
              "       1, 0, 0, 1, 0, 0, 1, 1, 0, 1, 0, 1, 1, 1, 1, 1, 1, 1, 1, 0, 1, 1,\n",
              "       0, 1, 1, 1, 1, 0, 1, 0, 0, 1, 0, 0, 1, 1, 1, 1, 0, 0, 1, 1, 0, 0,\n",
              "       1, 1, 1, 1, 0, 0, 1, 0, 1, 1, 1, 1, 0, 0, 1, 1, 1, 1, 0, 1, 1, 0,\n",
              "       1, 1, 1, 0, 0, 1, 0, 1, 1, 1, 1, 1, 0, 1, 0, 1, 1, 0, 1, 1, 1, 0,\n",
              "       1, 0, 0, 1, 1, 1, 0, 1, 1, 1, 0, 0, 0, 1, 1, 0, 0, 0, 1])"
            ]
          },
          "metadata": {
            "tags": []
          },
          "execution_count": 36
        }
      ]
    },
    {
      "cell_type": "code",
      "metadata": {
        "id": "FOJASsacjolG",
        "colab_type": "code",
        "colab": {}
      },
      "source": [
        "def Label(Y):\n",
        "    v = np.zeros(shape=(len(Y), len(set(Y))))\n",
        "    for i in range(len(Y)):\n",
        "        v[i, Y[i]] = 1\n",
        "    \n",
        "    return v\n"
      ],
      "execution_count": 0,
      "outputs": []
    },
    {
      "cell_type": "code",
      "metadata": {
        "id": "ayO54lWzlHDh",
        "colab_type": "code",
        "outputId": "fe919d78-ca7d-4743-b911-22c02ac012e7",
        "colab": {
          "base_uri": "https://localhost:8080/",
          "height": 142
        }
      },
      "source": [
        "Y = Label(Y)\n",
        "Y"
      ],
      "execution_count": 38,
      "outputs": [
        {
          "output_type": "execute_result",
          "data": {
            "text/plain": [
              "array([[0., 1.],\n",
              "       [0., 1.],\n",
              "       [0., 1.],\n",
              "       ...,\n",
              "       [1., 0.],\n",
              "       [1., 0.],\n",
              "       [0., 1.]])"
            ]
          },
          "metadata": {
            "tags": []
          },
          "execution_count": 38
        }
      ]
    },
    {
      "cell_type": "code",
      "metadata": {
        "id": "TdUls1VhR2l4",
        "colab_type": "code",
        "outputId": "707e1f2e-6ac6-4591-fdf7-3ca36845c46b",
        "colab": {
          "base_uri": "https://localhost:8080/",
          "height": 35
        }
      },
      "source": [
        "D['target_names'] # malignant --> 0 and benign --> 1"
      ],
      "execution_count": 39,
      "outputs": [
        {
          "output_type": "execute_result",
          "data": {
            "text/plain": [
              "array(['malignant', 'benign'], dtype='<U9')"
            ]
          },
          "metadata": {
            "tags": []
          },
          "execution_count": 39
        }
      ]
    },
    {
      "cell_type": "code",
      "metadata": {
        "id": "cLGXSnbRSQJ5",
        "colab_type": "code",
        "colab": {}
      },
      "source": [
        "from sklearn.model_selection import train_test_split\n",
        "\n",
        "X_train, X_test, Y_train, Y_test = train_test_split(X, Y, test_size=0.33, random_state=0)"
      ],
      "execution_count": 0,
      "outputs": []
    },
    {
      "cell_type": "code",
      "metadata": {
        "id": "VpJktftRa9Sy",
        "colab_type": "code",
        "colab": {}
      },
      "source": [
        "from sklearn.preprocessing import StandardScaler\n",
        "z = StandardScaler()\n",
        "\n",
        "X_train = z.fit_transform(X_train)\n",
        "X_test = z.transform(X_test)"
      ],
      "execution_count": 0,
      "outputs": []
    },
    {
      "cell_type": "code",
      "metadata": {
        "id": "jtoMxc-WSrDG",
        "colab_type": "code",
        "outputId": "98494343-4e62-4b57-baa7-334e4b3097c2",
        "colab": {
          "base_uri": "https://localhost:8080/",
          "height": 35
        }
      },
      "source": [
        "N, D = X_train.shape\n",
        "print(N, D)"
      ],
      "execution_count": 42,
      "outputs": [
        {
          "output_type": "stream",
          "text": [
            "381 30\n"
          ],
          "name": "stdout"
        }
      ]
    },
    {
      "cell_type": "code",
      "metadata": {
        "id": "JYA6tUGcS7Mo",
        "colab_type": "code",
        "colab": {}
      },
      "source": [
        "model = tf.keras.models.Sequential([\n",
        "    tf.keras.layers.Input(shape=(D)),\n",
        "    tf.keras.layers.Dense(units=2, activation='softmax')                             \n",
        "])"
      ],
      "execution_count": 0,
      "outputs": []
    },
    {
      "cell_type": "code",
      "metadata": {
        "id": "p9pVoxcGUS3Z",
        "colab_type": "code",
        "colab": {}
      },
      "source": [
        "model.compile(optimizer=tf.keras.optimizers.Adam(),\n",
        "              loss='categorical_crossentropy',\n",
        "              metrics=['accuracy'],\n",
        ")\n",
        "# 'adam'"
      ],
      "execution_count": 0,
      "outputs": []
    },
    {
      "cell_type": "code",
      "metadata": {
        "id": "Q4_888LkU31C",
        "colab_type": "code",
        "outputId": "348725cf-da3e-4d3c-d1e7-d25de9115196",
        "colab": {
          "base_uri": "https://localhost:8080/",
          "height": 1000
        }
      },
      "source": [
        "result = model.fit(X_train, Y_train, validation_data=(X_test, Y_test), epochs=200)"
      ],
      "execution_count": 45,
      "outputs": [
        {
          "output_type": "stream",
          "text": [
            "Train on 381 samples, validate on 188 samples\n",
            "Epoch 1/200\n",
            "381/381 [==============================] - 1s 1ms/sample - loss: 0.7554 - accuracy: 0.5932 - val_loss: 0.6116 - val_accuracy: 0.6649\n",
            "Epoch 2/200\n",
            "381/381 [==============================] - 0s 161us/sample - loss: 0.6422 - accuracy: 0.6877 - val_loss: 0.5125 - val_accuracy: 0.7606\n",
            "Epoch 3/200\n",
            "381/381 [==============================] - 0s 168us/sample - loss: 0.5532 - accuracy: 0.7585 - val_loss: 0.4392 - val_accuracy: 0.7979\n",
            "Epoch 4/200\n",
            "381/381 [==============================] - 0s 163us/sample - loss: 0.4874 - accuracy: 0.7848 - val_loss: 0.3828 - val_accuracy: 0.8298\n",
            "Epoch 5/200\n",
            "381/381 [==============================] - 0s 165us/sample - loss: 0.4371 - accuracy: 0.8215 - val_loss: 0.3385 - val_accuracy: 0.8564\n",
            "Epoch 6/200\n",
            "381/381 [==============================] - 0s 203us/sample - loss: 0.3956 - accuracy: 0.8425 - val_loss: 0.3049 - val_accuracy: 0.8936\n",
            "Epoch 7/200\n",
            "381/381 [==============================] - 0s 162us/sample - loss: 0.3625 - accuracy: 0.8609 - val_loss: 0.2788 - val_accuracy: 0.9096\n",
            "Epoch 8/200\n",
            "381/381 [==============================] - 0s 158us/sample - loss: 0.3360 - accuracy: 0.8714 - val_loss: 0.2572 - val_accuracy: 0.9202\n",
            "Epoch 9/200\n",
            "381/381 [==============================] - 0s 161us/sample - loss: 0.3129 - accuracy: 0.8819 - val_loss: 0.2394 - val_accuracy: 0.9309\n",
            "Epoch 10/200\n",
            "381/381 [==============================] - 0s 150us/sample - loss: 0.2934 - accuracy: 0.8976 - val_loss: 0.2244 - val_accuracy: 0.9468\n",
            "Epoch 11/200\n",
            "381/381 [==============================] - 0s 154us/sample - loss: 0.2772 - accuracy: 0.8976 - val_loss: 0.2121 - val_accuracy: 0.9415\n",
            "Epoch 12/200\n",
            "381/381 [==============================] - 0s 160us/sample - loss: 0.2616 - accuracy: 0.8976 - val_loss: 0.2012 - val_accuracy: 0.9574\n",
            "Epoch 13/200\n",
            "381/381 [==============================] - 0s 166us/sample - loss: 0.2491 - accuracy: 0.9029 - val_loss: 0.1916 - val_accuracy: 0.9574\n",
            "Epoch 14/200\n",
            "381/381 [==============================] - 0s 177us/sample - loss: 0.2372 - accuracy: 0.9029 - val_loss: 0.1836 - val_accuracy: 0.9574\n",
            "Epoch 15/200\n",
            "381/381 [==============================] - 0s 168us/sample - loss: 0.2274 - accuracy: 0.9029 - val_loss: 0.1763 - val_accuracy: 0.9521\n",
            "Epoch 16/200\n",
            "381/381 [==============================] - 0s 176us/sample - loss: 0.2179 - accuracy: 0.9055 - val_loss: 0.1696 - val_accuracy: 0.9521\n",
            "Epoch 17/200\n",
            "381/381 [==============================] - 0s 158us/sample - loss: 0.2098 - accuracy: 0.9055 - val_loss: 0.1637 - val_accuracy: 0.9521\n",
            "Epoch 18/200\n",
            "381/381 [==============================] - 0s 165us/sample - loss: 0.2020 - accuracy: 0.9108 - val_loss: 0.1586 - val_accuracy: 0.9574\n",
            "Epoch 19/200\n",
            "381/381 [==============================] - 0s 165us/sample - loss: 0.1951 - accuracy: 0.9134 - val_loss: 0.1535 - val_accuracy: 0.9628\n",
            "Epoch 20/200\n",
            "381/381 [==============================] - 0s 154us/sample - loss: 0.1891 - accuracy: 0.9134 - val_loss: 0.1493 - val_accuracy: 0.9681\n",
            "Epoch 21/200\n",
            "381/381 [==============================] - 0s 154us/sample - loss: 0.1832 - accuracy: 0.9186 - val_loss: 0.1447 - val_accuracy: 0.9681\n",
            "Epoch 22/200\n",
            "381/381 [==============================] - 0s 183us/sample - loss: 0.1779 - accuracy: 0.9186 - val_loss: 0.1410 - val_accuracy: 0.9681\n",
            "Epoch 23/200\n",
            "381/381 [==============================] - 0s 177us/sample - loss: 0.1733 - accuracy: 0.9186 - val_loss: 0.1376 - val_accuracy: 0.9734\n",
            "Epoch 24/200\n",
            "381/381 [==============================] - 0s 155us/sample - loss: 0.1688 - accuracy: 0.9239 - val_loss: 0.1341 - val_accuracy: 0.9734\n",
            "Epoch 25/200\n",
            "381/381 [==============================] - 0s 155us/sample - loss: 0.1645 - accuracy: 0.9239 - val_loss: 0.1311 - val_accuracy: 0.9787\n",
            "Epoch 26/200\n",
            "381/381 [==============================] - 0s 155us/sample - loss: 0.1608 - accuracy: 0.9239 - val_loss: 0.1282 - val_accuracy: 0.9840\n",
            "Epoch 27/200\n",
            "381/381 [==============================] - 0s 158us/sample - loss: 0.1572 - accuracy: 0.9265 - val_loss: 0.1253 - val_accuracy: 0.9840\n",
            "Epoch 28/200\n",
            "381/381 [==============================] - 0s 154us/sample - loss: 0.1539 - accuracy: 0.9291 - val_loss: 0.1231 - val_accuracy: 0.9840\n",
            "Epoch 29/200\n",
            "381/381 [==============================] - 0s 159us/sample - loss: 0.1507 - accuracy: 0.9370 - val_loss: 0.1204 - val_accuracy: 0.9840\n",
            "Epoch 30/200\n",
            "381/381 [==============================] - 0s 154us/sample - loss: 0.1477 - accuracy: 0.9396 - val_loss: 0.1182 - val_accuracy: 0.9840\n",
            "Epoch 31/200\n",
            "381/381 [==============================] - 0s 164us/sample - loss: 0.1449 - accuracy: 0.9396 - val_loss: 0.1161 - val_accuracy: 0.9840\n",
            "Epoch 32/200\n",
            "381/381 [==============================] - 0s 167us/sample - loss: 0.1424 - accuracy: 0.9396 - val_loss: 0.1143 - val_accuracy: 0.9840\n",
            "Epoch 33/200\n",
            "381/381 [==============================] - 0s 159us/sample - loss: 0.1398 - accuracy: 0.9396 - val_loss: 0.1126 - val_accuracy: 0.9787\n",
            "Epoch 34/200\n",
            "381/381 [==============================] - 0s 171us/sample - loss: 0.1374 - accuracy: 0.9475 - val_loss: 0.1107 - val_accuracy: 0.9787\n",
            "Epoch 35/200\n",
            "381/381 [==============================] - 0s 168us/sample - loss: 0.1353 - accuracy: 0.9475 - val_loss: 0.1089 - val_accuracy: 0.9787\n",
            "Epoch 36/200\n",
            "381/381 [==============================] - 0s 164us/sample - loss: 0.1331 - accuracy: 0.9475 - val_loss: 0.1075 - val_accuracy: 0.9787\n",
            "Epoch 37/200\n",
            "381/381 [==============================] - 0s 161us/sample - loss: 0.1312 - accuracy: 0.9501 - val_loss: 0.1060 - val_accuracy: 0.9787\n",
            "Epoch 38/200\n",
            "381/381 [==============================] - 0s 190us/sample - loss: 0.1291 - accuracy: 0.9528 - val_loss: 0.1048 - val_accuracy: 0.9787\n",
            "Epoch 39/200\n",
            "381/381 [==============================] - 0s 169us/sample - loss: 0.1274 - accuracy: 0.9528 - val_loss: 0.1032 - val_accuracy: 0.9787\n",
            "Epoch 40/200\n",
            "381/381 [==============================] - 0s 160us/sample - loss: 0.1257 - accuracy: 0.9528 - val_loss: 0.1019 - val_accuracy: 0.9787\n",
            "Epoch 41/200\n",
            "381/381 [==============================] - 0s 168us/sample - loss: 0.1238 - accuracy: 0.9528 - val_loss: 0.1008 - val_accuracy: 0.9787\n",
            "Epoch 42/200\n",
            "381/381 [==============================] - 0s 166us/sample - loss: 0.1224 - accuracy: 0.9528 - val_loss: 0.0996 - val_accuracy: 0.9787\n",
            "Epoch 43/200\n",
            "381/381 [==============================] - 0s 167us/sample - loss: 0.1208 - accuracy: 0.9528 - val_loss: 0.0987 - val_accuracy: 0.9787\n",
            "Epoch 44/200\n",
            "381/381 [==============================] - 0s 170us/sample - loss: 0.1192 - accuracy: 0.9580 - val_loss: 0.0976 - val_accuracy: 0.9787\n",
            "Epoch 45/200\n",
            "381/381 [==============================] - 0s 180us/sample - loss: 0.1179 - accuracy: 0.9606 - val_loss: 0.0965 - val_accuracy: 0.9787\n",
            "Epoch 46/200\n",
            "381/381 [==============================] - 0s 171us/sample - loss: 0.1164 - accuracy: 0.9606 - val_loss: 0.0956 - val_accuracy: 0.9787\n",
            "Epoch 47/200\n",
            "381/381 [==============================] - 0s 165us/sample - loss: 0.1152 - accuracy: 0.9606 - val_loss: 0.0949 - val_accuracy: 0.9787\n",
            "Epoch 48/200\n",
            "381/381 [==============================] - 0s 165us/sample - loss: 0.1140 - accuracy: 0.9606 - val_loss: 0.0943 - val_accuracy: 0.9787\n",
            "Epoch 49/200\n",
            "381/381 [==============================] - 0s 172us/sample - loss: 0.1127 - accuracy: 0.9633 - val_loss: 0.0931 - val_accuracy: 0.9787\n",
            "Epoch 50/200\n",
            "381/381 [==============================] - 0s 184us/sample - loss: 0.1115 - accuracy: 0.9659 - val_loss: 0.0922 - val_accuracy: 0.9787\n",
            "Epoch 51/200\n",
            "381/381 [==============================] - 0s 163us/sample - loss: 0.1104 - accuracy: 0.9685 - val_loss: 0.0913 - val_accuracy: 0.9787\n",
            "Epoch 52/200\n",
            "381/381 [==============================] - 0s 172us/sample - loss: 0.1093 - accuracy: 0.9685 - val_loss: 0.0907 - val_accuracy: 0.9787\n",
            "Epoch 53/200\n",
            "381/381 [==============================] - 0s 165us/sample - loss: 0.1082 - accuracy: 0.9659 - val_loss: 0.0901 - val_accuracy: 0.9787\n",
            "Epoch 54/200\n",
            "381/381 [==============================] - 0s 173us/sample - loss: 0.1072 - accuracy: 0.9659 - val_loss: 0.0895 - val_accuracy: 0.9787\n",
            "Epoch 55/200\n",
            "381/381 [==============================] - 0s 162us/sample - loss: 0.1062 - accuracy: 0.9659 - val_loss: 0.0887 - val_accuracy: 0.9787\n",
            "Epoch 56/200\n",
            "381/381 [==============================] - 0s 168us/sample - loss: 0.1053 - accuracy: 0.9659 - val_loss: 0.0884 - val_accuracy: 0.9787\n",
            "Epoch 57/200\n",
            "381/381 [==============================] - 0s 161us/sample - loss: 0.1044 - accuracy: 0.9659 - val_loss: 0.0875 - val_accuracy: 0.9787\n",
            "Epoch 58/200\n",
            "381/381 [==============================] - 0s 154us/sample - loss: 0.1035 - accuracy: 0.9659 - val_loss: 0.0872 - val_accuracy: 0.9787\n",
            "Epoch 59/200\n",
            "381/381 [==============================] - 0s 163us/sample - loss: 0.1026 - accuracy: 0.9659 - val_loss: 0.0865 - val_accuracy: 0.9787\n",
            "Epoch 60/200\n",
            "381/381 [==============================] - 0s 162us/sample - loss: 0.1018 - accuracy: 0.9659 - val_loss: 0.0860 - val_accuracy: 0.9787\n",
            "Epoch 61/200\n",
            "381/381 [==============================] - 0s 163us/sample - loss: 0.1010 - accuracy: 0.9685 - val_loss: 0.0855 - val_accuracy: 0.9787\n",
            "Epoch 62/200\n",
            "381/381 [==============================] - 0s 160us/sample - loss: 0.1003 - accuracy: 0.9685 - val_loss: 0.0850 - val_accuracy: 0.9787\n",
            "Epoch 63/200\n",
            "381/381 [==============================] - 0s 158us/sample - loss: 0.0994 - accuracy: 0.9711 - val_loss: 0.0844 - val_accuracy: 0.9787\n",
            "Epoch 64/200\n",
            "381/381 [==============================] - 0s 157us/sample - loss: 0.0987 - accuracy: 0.9711 - val_loss: 0.0841 - val_accuracy: 0.9787\n",
            "Epoch 65/200\n",
            "381/381 [==============================] - 0s 160us/sample - loss: 0.0980 - accuracy: 0.9738 - val_loss: 0.0838 - val_accuracy: 0.9787\n",
            "Epoch 66/200\n",
            "381/381 [==============================] - 0s 162us/sample - loss: 0.0973 - accuracy: 0.9738 - val_loss: 0.0831 - val_accuracy: 0.9787\n",
            "Epoch 67/200\n",
            "381/381 [==============================] - 0s 161us/sample - loss: 0.0966 - accuracy: 0.9738 - val_loss: 0.0827 - val_accuracy: 0.9787\n",
            "Epoch 68/200\n",
            "381/381 [==============================] - 0s 156us/sample - loss: 0.0960 - accuracy: 0.9738 - val_loss: 0.0823 - val_accuracy: 0.9787\n",
            "Epoch 69/200\n",
            "381/381 [==============================] - 0s 178us/sample - loss: 0.0953 - accuracy: 0.9738 - val_loss: 0.0820 - val_accuracy: 0.9787\n",
            "Epoch 70/200\n",
            "381/381 [==============================] - 0s 189us/sample - loss: 0.0947 - accuracy: 0.9764 - val_loss: 0.0819 - val_accuracy: 0.9787\n",
            "Epoch 71/200\n",
            "381/381 [==============================] - 0s 158us/sample - loss: 0.0941 - accuracy: 0.9764 - val_loss: 0.0816 - val_accuracy: 0.9787\n",
            "Epoch 72/200\n",
            "381/381 [==============================] - 0s 149us/sample - loss: 0.0936 - accuracy: 0.9764 - val_loss: 0.0812 - val_accuracy: 0.9787\n",
            "Epoch 73/200\n",
            "381/381 [==============================] - 0s 159us/sample - loss: 0.0930 - accuracy: 0.9764 - val_loss: 0.0809 - val_accuracy: 0.9787\n",
            "Epoch 74/200\n",
            "381/381 [==============================] - 0s 171us/sample - loss: 0.0925 - accuracy: 0.9764 - val_loss: 0.0808 - val_accuracy: 0.9787\n",
            "Epoch 75/200\n",
            "381/381 [==============================] - 0s 166us/sample - loss: 0.0919 - accuracy: 0.9764 - val_loss: 0.0804 - val_accuracy: 0.9787\n",
            "Epoch 76/200\n",
            "381/381 [==============================] - 0s 167us/sample - loss: 0.0914 - accuracy: 0.9764 - val_loss: 0.0799 - val_accuracy: 0.9787\n",
            "Epoch 77/200\n",
            "381/381 [==============================] - 0s 176us/sample - loss: 0.0908 - accuracy: 0.9764 - val_loss: 0.0796 - val_accuracy: 0.9787\n",
            "Epoch 78/200\n",
            "381/381 [==============================] - 0s 154us/sample - loss: 0.0903 - accuracy: 0.9764 - val_loss: 0.0792 - val_accuracy: 0.9787\n",
            "Epoch 79/200\n",
            "381/381 [==============================] - 0s 170us/sample - loss: 0.0898 - accuracy: 0.9764 - val_loss: 0.0792 - val_accuracy: 0.9787\n",
            "Epoch 80/200\n",
            "381/381 [==============================] - 0s 168us/sample - loss: 0.0894 - accuracy: 0.9764 - val_loss: 0.0789 - val_accuracy: 0.9787\n",
            "Epoch 81/200\n",
            "381/381 [==============================] - 0s 160us/sample - loss: 0.0889 - accuracy: 0.9764 - val_loss: 0.0788 - val_accuracy: 0.9840\n",
            "Epoch 82/200\n",
            "381/381 [==============================] - 0s 220us/sample - loss: 0.0885 - accuracy: 0.9764 - val_loss: 0.0782 - val_accuracy: 0.9840\n",
            "Epoch 83/200\n",
            "381/381 [==============================] - 0s 164us/sample - loss: 0.0881 - accuracy: 0.9764 - val_loss: 0.0783 - val_accuracy: 0.9787\n",
            "Epoch 84/200\n",
            "381/381 [==============================] - 0s 200us/sample - loss: 0.0875 - accuracy: 0.9764 - val_loss: 0.0779 - val_accuracy: 0.9840\n",
            "Epoch 85/200\n",
            "381/381 [==============================] - 0s 176us/sample - loss: 0.0872 - accuracy: 0.9764 - val_loss: 0.0778 - val_accuracy: 0.9787\n",
            "Epoch 86/200\n",
            "381/381 [==============================] - 0s 164us/sample - loss: 0.0867 - accuracy: 0.9764 - val_loss: 0.0773 - val_accuracy: 0.9840\n",
            "Epoch 87/200\n",
            "381/381 [==============================] - 0s 164us/sample - loss: 0.0863 - accuracy: 0.9764 - val_loss: 0.0771 - val_accuracy: 0.9840\n",
            "Epoch 88/200\n",
            "381/381 [==============================] - 0s 177us/sample - loss: 0.0859 - accuracy: 0.9764 - val_loss: 0.0772 - val_accuracy: 0.9840\n",
            "Epoch 89/200\n",
            "381/381 [==============================] - 0s 166us/sample - loss: 0.0855 - accuracy: 0.9764 - val_loss: 0.0767 - val_accuracy: 0.9840\n",
            "Epoch 90/200\n",
            "381/381 [==============================] - 0s 164us/sample - loss: 0.0852 - accuracy: 0.9764 - val_loss: 0.0769 - val_accuracy: 0.9787\n",
            "Epoch 91/200\n",
            "381/381 [==============================] - 0s 165us/sample - loss: 0.0848 - accuracy: 0.9764 - val_loss: 0.0765 - val_accuracy: 0.9840\n",
            "Epoch 92/200\n",
            "381/381 [==============================] - 0s 154us/sample - loss: 0.0844 - accuracy: 0.9764 - val_loss: 0.0763 - val_accuracy: 0.9787\n",
            "Epoch 93/200\n",
            "381/381 [==============================] - 0s 158us/sample - loss: 0.0841 - accuracy: 0.9764 - val_loss: 0.0761 - val_accuracy: 0.9787\n",
            "Epoch 94/200\n",
            "381/381 [==============================] - 0s 170us/sample - loss: 0.0837 - accuracy: 0.9764 - val_loss: 0.0761 - val_accuracy: 0.9787\n",
            "Epoch 95/200\n",
            "381/381 [==============================] - 0s 166us/sample - loss: 0.0834 - accuracy: 0.9764 - val_loss: 0.0759 - val_accuracy: 0.9787\n",
            "Epoch 96/200\n",
            "381/381 [==============================] - 0s 160us/sample - loss: 0.0830 - accuracy: 0.9764 - val_loss: 0.0756 - val_accuracy: 0.9787\n",
            "Epoch 97/200\n",
            "381/381 [==============================] - 0s 173us/sample - loss: 0.0828 - accuracy: 0.9764 - val_loss: 0.0751 - val_accuracy: 0.9787\n",
            "Epoch 98/200\n",
            "381/381 [==============================] - 0s 166us/sample - loss: 0.0824 - accuracy: 0.9764 - val_loss: 0.0752 - val_accuracy: 0.9787\n",
            "Epoch 99/200\n",
            "381/381 [==============================] - 0s 154us/sample - loss: 0.0820 - accuracy: 0.9764 - val_loss: 0.0751 - val_accuracy: 0.9787\n",
            "Epoch 100/200\n",
            "381/381 [==============================] - 0s 210us/sample - loss: 0.0818 - accuracy: 0.9764 - val_loss: 0.0752 - val_accuracy: 0.9787\n",
            "Epoch 101/200\n",
            "381/381 [==============================] - 0s 158us/sample - loss: 0.0815 - accuracy: 0.9764 - val_loss: 0.0753 - val_accuracy: 0.9787\n",
            "Epoch 102/200\n",
            "381/381 [==============================] - 0s 158us/sample - loss: 0.0812 - accuracy: 0.9764 - val_loss: 0.0748 - val_accuracy: 0.9787\n",
            "Epoch 103/200\n",
            "381/381 [==============================] - 0s 163us/sample - loss: 0.0809 - accuracy: 0.9764 - val_loss: 0.0747 - val_accuracy: 0.9787\n",
            "Epoch 104/200\n",
            "381/381 [==============================] - 0s 166us/sample - loss: 0.0806 - accuracy: 0.9764 - val_loss: 0.0749 - val_accuracy: 0.9787\n",
            "Epoch 105/200\n",
            "381/381 [==============================] - 0s 159us/sample - loss: 0.0803 - accuracy: 0.9764 - val_loss: 0.0745 - val_accuracy: 0.9787\n",
            "Epoch 106/200\n",
            "381/381 [==============================] - 0s 156us/sample - loss: 0.0800 - accuracy: 0.9764 - val_loss: 0.0745 - val_accuracy: 0.9787\n",
            "Epoch 107/200\n",
            "381/381 [==============================] - 0s 175us/sample - loss: 0.0798 - accuracy: 0.9764 - val_loss: 0.0740 - val_accuracy: 0.9787\n",
            "Epoch 108/200\n",
            "381/381 [==============================] - 0s 156us/sample - loss: 0.0795 - accuracy: 0.9764 - val_loss: 0.0740 - val_accuracy: 0.9787\n",
            "Epoch 109/200\n",
            "381/381 [==============================] - 0s 155us/sample - loss: 0.0793 - accuracy: 0.9764 - val_loss: 0.0741 - val_accuracy: 0.9787\n",
            "Epoch 110/200\n",
            "381/381 [==============================] - 0s 165us/sample - loss: 0.0790 - accuracy: 0.9764 - val_loss: 0.0739 - val_accuracy: 0.9787\n",
            "Epoch 111/200\n",
            "381/381 [==============================] - 0s 161us/sample - loss: 0.0787 - accuracy: 0.9764 - val_loss: 0.0740 - val_accuracy: 0.9787\n",
            "Epoch 112/200\n",
            "381/381 [==============================] - 0s 156us/sample - loss: 0.0785 - accuracy: 0.9764 - val_loss: 0.0736 - val_accuracy: 0.9787\n",
            "Epoch 113/200\n",
            "381/381 [==============================] - 0s 162us/sample - loss: 0.0782 - accuracy: 0.9764 - val_loss: 0.0734 - val_accuracy: 0.9787\n",
            "Epoch 114/200\n",
            "381/381 [==============================] - 0s 168us/sample - loss: 0.0781 - accuracy: 0.9764 - val_loss: 0.0734 - val_accuracy: 0.9787\n",
            "Epoch 115/200\n",
            "381/381 [==============================] - 0s 173us/sample - loss: 0.0778 - accuracy: 0.9764 - val_loss: 0.0736 - val_accuracy: 0.9787\n",
            "Epoch 116/200\n",
            "381/381 [==============================] - 0s 200us/sample - loss: 0.0776 - accuracy: 0.9764 - val_loss: 0.0736 - val_accuracy: 0.9787\n",
            "Epoch 117/200\n",
            "381/381 [==============================] - 0s 157us/sample - loss: 0.0773 - accuracy: 0.9764 - val_loss: 0.0736 - val_accuracy: 0.9787\n",
            "Epoch 118/200\n",
            "381/381 [==============================] - 0s 163us/sample - loss: 0.0771 - accuracy: 0.9790 - val_loss: 0.0735 - val_accuracy: 0.9787\n",
            "Epoch 119/200\n",
            "381/381 [==============================] - 0s 161us/sample - loss: 0.0769 - accuracy: 0.9790 - val_loss: 0.0734 - val_accuracy: 0.9787\n",
            "Epoch 120/200\n",
            "381/381 [==============================] - 0s 155us/sample - loss: 0.0766 - accuracy: 0.9790 - val_loss: 0.0731 - val_accuracy: 0.9787\n",
            "Epoch 121/200\n",
            "381/381 [==============================] - 0s 158us/sample - loss: 0.0765 - accuracy: 0.9790 - val_loss: 0.0729 - val_accuracy: 0.9787\n",
            "Epoch 122/200\n",
            "381/381 [==============================] - 0s 162us/sample - loss: 0.0762 - accuracy: 0.9790 - val_loss: 0.0726 - val_accuracy: 0.9787\n",
            "Epoch 123/200\n",
            "381/381 [==============================] - 0s 181us/sample - loss: 0.0760 - accuracy: 0.9790 - val_loss: 0.0728 - val_accuracy: 0.9787\n",
            "Epoch 124/200\n",
            "381/381 [==============================] - 0s 159us/sample - loss: 0.0759 - accuracy: 0.9790 - val_loss: 0.0727 - val_accuracy: 0.9787\n",
            "Epoch 125/200\n",
            "381/381 [==============================] - 0s 175us/sample - loss: 0.0757 - accuracy: 0.9790 - val_loss: 0.0724 - val_accuracy: 0.9787\n",
            "Epoch 126/200\n",
            "381/381 [==============================] - 0s 170us/sample - loss: 0.0754 - accuracy: 0.9790 - val_loss: 0.0725 - val_accuracy: 0.9787\n",
            "Epoch 127/200\n",
            "381/381 [==============================] - 0s 165us/sample - loss: 0.0753 - accuracy: 0.9790 - val_loss: 0.0724 - val_accuracy: 0.9787\n",
            "Epoch 128/200\n",
            "381/381 [==============================] - 0s 172us/sample - loss: 0.0750 - accuracy: 0.9790 - val_loss: 0.0724 - val_accuracy: 0.9787\n",
            "Epoch 129/200\n",
            "381/381 [==============================] - 0s 152us/sample - loss: 0.0749 - accuracy: 0.9790 - val_loss: 0.0723 - val_accuracy: 0.9787\n",
            "Epoch 130/200\n",
            "381/381 [==============================] - 0s 174us/sample - loss: 0.0747 - accuracy: 0.9790 - val_loss: 0.0723 - val_accuracy: 0.9787\n",
            "Epoch 131/200\n",
            "381/381 [==============================] - 0s 196us/sample - loss: 0.0745 - accuracy: 0.9790 - val_loss: 0.0723 - val_accuracy: 0.9787\n",
            "Epoch 132/200\n",
            "381/381 [==============================] - 0s 172us/sample - loss: 0.0743 - accuracy: 0.9790 - val_loss: 0.0722 - val_accuracy: 0.9787\n",
            "Epoch 133/200\n",
            "381/381 [==============================] - 0s 166us/sample - loss: 0.0741 - accuracy: 0.9790 - val_loss: 0.0722 - val_accuracy: 0.9787\n",
            "Epoch 134/200\n",
            "381/381 [==============================] - 0s 171us/sample - loss: 0.0740 - accuracy: 0.9790 - val_loss: 0.0721 - val_accuracy: 0.9787\n",
            "Epoch 135/200\n",
            "381/381 [==============================] - 0s 171us/sample - loss: 0.0738 - accuracy: 0.9790 - val_loss: 0.0722 - val_accuracy: 0.9787\n",
            "Epoch 136/200\n",
            "381/381 [==============================] - 0s 149us/sample - loss: 0.0737 - accuracy: 0.9790 - val_loss: 0.0717 - val_accuracy: 0.9787\n",
            "Epoch 137/200\n",
            "381/381 [==============================] - 0s 180us/sample - loss: 0.0735 - accuracy: 0.9790 - val_loss: 0.0716 - val_accuracy: 0.9787\n",
            "Epoch 138/200\n",
            "381/381 [==============================] - 0s 164us/sample - loss: 0.0733 - accuracy: 0.9790 - val_loss: 0.0716 - val_accuracy: 0.9787\n",
            "Epoch 139/200\n",
            "381/381 [==============================] - 0s 182us/sample - loss: 0.0731 - accuracy: 0.9790 - val_loss: 0.0717 - val_accuracy: 0.9787\n",
            "Epoch 140/200\n",
            "381/381 [==============================] - 0s 182us/sample - loss: 0.0730 - accuracy: 0.9790 - val_loss: 0.0719 - val_accuracy: 0.9787\n",
            "Epoch 141/200\n",
            "381/381 [==============================] - 0s 163us/sample - loss: 0.0728 - accuracy: 0.9790 - val_loss: 0.0721 - val_accuracy: 0.9787\n",
            "Epoch 142/200\n",
            "381/381 [==============================] - 0s 165us/sample - loss: 0.0727 - accuracy: 0.9790 - val_loss: 0.0717 - val_accuracy: 0.9787\n",
            "Epoch 143/200\n",
            "381/381 [==============================] - 0s 166us/sample - loss: 0.0726 - accuracy: 0.9790 - val_loss: 0.0720 - val_accuracy: 0.9787\n",
            "Epoch 144/200\n",
            "381/381 [==============================] - 0s 154us/sample - loss: 0.0723 - accuracy: 0.9790 - val_loss: 0.0717 - val_accuracy: 0.9787\n",
            "Epoch 145/200\n",
            "381/381 [==============================] - 0s 164us/sample - loss: 0.0722 - accuracy: 0.9790 - val_loss: 0.0713 - val_accuracy: 0.9787\n",
            "Epoch 146/200\n",
            "381/381 [==============================] - 0s 206us/sample - loss: 0.0720 - accuracy: 0.9790 - val_loss: 0.0714 - val_accuracy: 0.9787\n",
            "Epoch 147/200\n",
            "381/381 [==============================] - 0s 160us/sample - loss: 0.0719 - accuracy: 0.9790 - val_loss: 0.0714 - val_accuracy: 0.9787\n",
            "Epoch 148/200\n",
            "381/381 [==============================] - 0s 177us/sample - loss: 0.0718 - accuracy: 0.9790 - val_loss: 0.0717 - val_accuracy: 0.9787\n",
            "Epoch 149/200\n",
            "381/381 [==============================] - 0s 158us/sample - loss: 0.0716 - accuracy: 0.9790 - val_loss: 0.0717 - val_accuracy: 0.9787\n",
            "Epoch 150/200\n",
            "381/381 [==============================] - 0s 166us/sample - loss: 0.0715 - accuracy: 0.9790 - val_loss: 0.0717 - val_accuracy: 0.9787\n",
            "Epoch 151/200\n",
            "381/381 [==============================] - 0s 159us/sample - loss: 0.0714 - accuracy: 0.9790 - val_loss: 0.0712 - val_accuracy: 0.9787\n",
            "Epoch 152/200\n",
            "381/381 [==============================] - 0s 160us/sample - loss: 0.0712 - accuracy: 0.9790 - val_loss: 0.0714 - val_accuracy: 0.9787\n",
            "Epoch 153/200\n",
            "381/381 [==============================] - 0s 170us/sample - loss: 0.0710 - accuracy: 0.9790 - val_loss: 0.0713 - val_accuracy: 0.9787\n",
            "Epoch 154/200\n",
            "381/381 [==============================] - 0s 159us/sample - loss: 0.0710 - accuracy: 0.9790 - val_loss: 0.0715 - val_accuracy: 0.9787\n",
            "Epoch 155/200\n",
            "381/381 [==============================] - 0s 167us/sample - loss: 0.0708 - accuracy: 0.9790 - val_loss: 0.0715 - val_accuracy: 0.9787\n",
            "Epoch 156/200\n",
            "381/381 [==============================] - 0s 171us/sample - loss: 0.0708 - accuracy: 0.9790 - val_loss: 0.0712 - val_accuracy: 0.9787\n",
            "Epoch 157/200\n",
            "381/381 [==============================] - 0s 173us/sample - loss: 0.0706 - accuracy: 0.9790 - val_loss: 0.0713 - val_accuracy: 0.9787\n",
            "Epoch 158/200\n",
            "381/381 [==============================] - 0s 154us/sample - loss: 0.0705 - accuracy: 0.9790 - val_loss: 0.0712 - val_accuracy: 0.9787\n",
            "Epoch 159/200\n",
            "381/381 [==============================] - 0s 164us/sample - loss: 0.0703 - accuracy: 0.9790 - val_loss: 0.0713 - val_accuracy: 0.9787\n",
            "Epoch 160/200\n",
            "381/381 [==============================] - 0s 170us/sample - loss: 0.0702 - accuracy: 0.9790 - val_loss: 0.0715 - val_accuracy: 0.9787\n",
            "Epoch 161/200\n",
            "381/381 [==============================] - 0s 163us/sample - loss: 0.0700 - accuracy: 0.9790 - val_loss: 0.0715 - val_accuracy: 0.9787\n",
            "Epoch 162/200\n",
            "381/381 [==============================] - 0s 198us/sample - loss: 0.0700 - accuracy: 0.9790 - val_loss: 0.0715 - val_accuracy: 0.9787\n",
            "Epoch 163/200\n",
            "381/381 [==============================] - 0s 171us/sample - loss: 0.0698 - accuracy: 0.9790 - val_loss: 0.0715 - val_accuracy: 0.9787\n",
            "Epoch 164/200\n",
            "381/381 [==============================] - 0s 173us/sample - loss: 0.0697 - accuracy: 0.9790 - val_loss: 0.0713 - val_accuracy: 0.9787\n",
            "Epoch 165/200\n",
            "381/381 [==============================] - 0s 159us/sample - loss: 0.0696 - accuracy: 0.9790 - val_loss: 0.0712 - val_accuracy: 0.9787\n",
            "Epoch 166/200\n",
            "381/381 [==============================] - 0s 170us/sample - loss: 0.0695 - accuracy: 0.9790 - val_loss: 0.0713 - val_accuracy: 0.9787\n",
            "Epoch 167/200\n",
            "381/381 [==============================] - 0s 205us/sample - loss: 0.0693 - accuracy: 0.9790 - val_loss: 0.0714 - val_accuracy: 0.9787\n",
            "Epoch 168/200\n",
            "381/381 [==============================] - 0s 159us/sample - loss: 0.0692 - accuracy: 0.9790 - val_loss: 0.0712 - val_accuracy: 0.9787\n",
            "Epoch 169/200\n",
            "381/381 [==============================] - 0s 162us/sample - loss: 0.0692 - accuracy: 0.9790 - val_loss: 0.0714 - val_accuracy: 0.9787\n",
            "Epoch 170/200\n",
            "381/381 [==============================] - 0s 199us/sample - loss: 0.0690 - accuracy: 0.9790 - val_loss: 0.0711 - val_accuracy: 0.9787\n",
            "Epoch 171/200\n",
            "381/381 [==============================] - 0s 179us/sample - loss: 0.0689 - accuracy: 0.9790 - val_loss: 0.0710 - val_accuracy: 0.9787\n",
            "Epoch 172/200\n",
            "381/381 [==============================] - 0s 157us/sample - loss: 0.0688 - accuracy: 0.9790 - val_loss: 0.0711 - val_accuracy: 0.9787\n",
            "Epoch 173/200\n",
            "381/381 [==============================] - 0s 153us/sample - loss: 0.0687 - accuracy: 0.9790 - val_loss: 0.0710 - val_accuracy: 0.9787\n",
            "Epoch 174/200\n",
            "381/381 [==============================] - 0s 163us/sample - loss: 0.0685 - accuracy: 0.9790 - val_loss: 0.0710 - val_accuracy: 0.9787\n",
            "Epoch 175/200\n",
            "381/381 [==============================] - 0s 158us/sample - loss: 0.0685 - accuracy: 0.9790 - val_loss: 0.0707 - val_accuracy: 0.9787\n",
            "Epoch 176/200\n",
            "381/381 [==============================] - 0s 163us/sample - loss: 0.0685 - accuracy: 0.9790 - val_loss: 0.0708 - val_accuracy: 0.9787\n",
            "Epoch 177/200\n",
            "381/381 [==============================] - 0s 171us/sample - loss: 0.0683 - accuracy: 0.9790 - val_loss: 0.0711 - val_accuracy: 0.9787\n",
            "Epoch 178/200\n",
            "381/381 [==============================] - 0s 176us/sample - loss: 0.0682 - accuracy: 0.9790 - val_loss: 0.0711 - val_accuracy: 0.9787\n",
            "Epoch 179/200\n",
            "381/381 [==============================] - 0s 178us/sample - loss: 0.0681 - accuracy: 0.9790 - val_loss: 0.0710 - val_accuracy: 0.9787\n",
            "Epoch 180/200\n",
            "381/381 [==============================] - 0s 163us/sample - loss: 0.0680 - accuracy: 0.9790 - val_loss: 0.0713 - val_accuracy: 0.9787\n",
            "Epoch 181/200\n",
            "381/381 [==============================] - 0s 174us/sample - loss: 0.0679 - accuracy: 0.9790 - val_loss: 0.0711 - val_accuracy: 0.9787\n",
            "Epoch 182/200\n",
            "381/381 [==============================] - 0s 163us/sample - loss: 0.0678 - accuracy: 0.9790 - val_loss: 0.0708 - val_accuracy: 0.9787\n",
            "Epoch 183/200\n",
            "381/381 [==============================] - 0s 165us/sample - loss: 0.0677 - accuracy: 0.9790 - val_loss: 0.0710 - val_accuracy: 0.9787\n",
            "Epoch 184/200\n",
            "381/381 [==============================] - 0s 168us/sample - loss: 0.0676 - accuracy: 0.9790 - val_loss: 0.0711 - val_accuracy: 0.9787\n",
            "Epoch 185/200\n",
            "381/381 [==============================] - 0s 174us/sample - loss: 0.0675 - accuracy: 0.9790 - val_loss: 0.0712 - val_accuracy: 0.9787\n",
            "Epoch 186/200\n",
            "381/381 [==============================] - 0s 177us/sample - loss: 0.0674 - accuracy: 0.9790 - val_loss: 0.0710 - val_accuracy: 0.9787\n",
            "Epoch 187/200\n",
            "381/381 [==============================] - 0s 170us/sample - loss: 0.0673 - accuracy: 0.9790 - val_loss: 0.0710 - val_accuracy: 0.9787\n",
            "Epoch 188/200\n",
            "381/381 [==============================] - 0s 161us/sample - loss: 0.0673 - accuracy: 0.9790 - val_loss: 0.0710 - val_accuracy: 0.9787\n",
            "Epoch 189/200\n",
            "381/381 [==============================] - 0s 158us/sample - loss: 0.0671 - accuracy: 0.9790 - val_loss: 0.0710 - val_accuracy: 0.9787\n",
            "Epoch 190/200\n",
            "381/381 [==============================] - 0s 152us/sample - loss: 0.0671 - accuracy: 0.9790 - val_loss: 0.0713 - val_accuracy: 0.9787\n",
            "Epoch 191/200\n",
            "381/381 [==============================] - 0s 161us/sample - loss: 0.0669 - accuracy: 0.9790 - val_loss: 0.0712 - val_accuracy: 0.9787\n",
            "Epoch 192/200\n",
            "381/381 [==============================] - 0s 187us/sample - loss: 0.0669 - accuracy: 0.9790 - val_loss: 0.0711 - val_accuracy: 0.9787\n",
            "Epoch 193/200\n",
            "381/381 [==============================] - 0s 175us/sample - loss: 0.0668 - accuracy: 0.9790 - val_loss: 0.0711 - val_accuracy: 0.9787\n",
            "Epoch 194/200\n",
            "381/381 [==============================] - 0s 164us/sample - loss: 0.0667 - accuracy: 0.9816 - val_loss: 0.0709 - val_accuracy: 0.9787\n",
            "Epoch 195/200\n",
            "381/381 [==============================] - 0s 154us/sample - loss: 0.0667 - accuracy: 0.9816 - val_loss: 0.0711 - val_accuracy: 0.9787\n",
            "Epoch 196/200\n",
            "381/381 [==============================] - 0s 166us/sample - loss: 0.0666 - accuracy: 0.9816 - val_loss: 0.0709 - val_accuracy: 0.9787\n",
            "Epoch 197/200\n",
            "381/381 [==============================] - 0s 167us/sample - loss: 0.0664 - accuracy: 0.9816 - val_loss: 0.0711 - val_accuracy: 0.9787\n",
            "Epoch 198/200\n",
            "381/381 [==============================] - 0s 167us/sample - loss: 0.0664 - accuracy: 0.9816 - val_loss: 0.0709 - val_accuracy: 0.9787\n",
            "Epoch 199/200\n",
            "381/381 [==============================] - 0s 179us/sample - loss: 0.0663 - accuracy: 0.9816 - val_loss: 0.0709 - val_accuracy: 0.9787\n",
            "Epoch 200/200\n",
            "381/381 [==============================] - 0s 186us/sample - loss: 0.0662 - accuracy: 0.9816 - val_loss: 0.0711 - val_accuracy: 0.9787\n"
          ],
          "name": "stdout"
        }
      ]
    },
    {
      "cell_type": "code",
      "metadata": {
        "id": "0uHbUJa36vhT",
        "colab_type": "code",
        "colab": {}
      },
      "source": [
        "Yp = model.predict(X_test)"
      ],
      "execution_count": 0,
      "outputs": []
    },
    {
      "cell_type": "code",
      "metadata": {
        "id": "Nl7GVx7ZVxa-",
        "colab_type": "code",
        "outputId": "c9c0f567-144e-4ec4-bce3-6c2d3f5bae23",
        "colab": {
          "base_uri": "https://localhost:8080/",
          "height": 88
        }
      },
      "source": [
        "print('Training Accuracy: {}'.format(model.evaluate(X_train, Y_train)))\n",
        "print('Testing Accuracy: {}'.format(model.evaluate(X_test, Y_test)))\n",
        "\n",
        "# # Evaluate the model - evaluate() returns loss and accuracy\n",
        "# print(\"Train score:\", model.evaluate(X_train, Y_train))\n",
        "# print(\"Test score:\", model.evaluate(X_test, Y_test))"
      ],
      "execution_count": 47,
      "outputs": [
        {
          "output_type": "stream",
          "text": [
            "381/381 [==============================] - 0s 98us/sample - loss: 0.0661 - accuracy: 0.9816\n",
            "Training Accuracy: [0.06607305052203769, 0.9816273]\n",
            "188/188 [==============================] - 0s 102us/sample - loss: 0.0711 - accuracy: 0.9787\n",
            "Testing Accuracy: [0.0711331824038891, 0.9787234]\n"
          ],
          "name": "stdout"
        }
      ]
    },
    {
      "cell_type": "code",
      "metadata": {
        "id": "7D0VaZNrXev0",
        "colab_type": "code",
        "outputId": "46d9f0fa-78c6-4480-9b2c-026a0ffeba31",
        "colab": {
          "base_uri": "https://localhost:8080/",
          "height": 279
        }
      },
      "source": [
        "import matplotlib.pyplot as plt\n",
        "plt.plot(result.history['loss'], label='loss')\n",
        "plt.plot(result.history['val_loss'], label='val_loss')\n",
        "plt.xlabel('Epoch')\n",
        "plt.ylabel('Loss')\n",
        "plt.legend()\n",
        "plt.show()"
      ],
      "execution_count": 48,
      "outputs": [
        {
          "output_type": "display_data",
          "data": {
            "image/png": "[encoded data removed]",
            "text/plain": [
              "<Figure size 432x288 with 1 Axes>"
            ]
          },
          "metadata": {
            "tags": []
          }
        }
      ]
    },
    {
      "cell_type": "code",
      "metadata": {
        "id": "RyhFsUefcjxh",
        "colab_type": "code",
        "outputId": "b771d9ec-9cd9-415f-bc6b-29483341f107",
        "colab": {
          "base_uri": "https://localhost:8080/",
          "height": 282
        }
      },
      "source": [
        "import matplotlib.pyplot as plt\n",
        "plt.plot(result.history['accuracy'], label='accuracy')\n",
        "plt.plot(result.history['val_accuracy'], label='val_accuracy')\n",
        "plt.xlabel('Epoch')\n",
        "plt.ylabel('Accuracy')\n",
        "plt.legend()\n",
        "plt.show()"
      ],
      "execution_count": 49,
      "outputs": [
        {
          "output_type": "display_data",
          "data": {
            "image/png": "[encoded data removed]",
            "text/plain": [
              "<Figure size 432x288 with 1 Axes>"
            ]
          },
          "metadata": {
            "tags": []
          }
        }
      ]
    },
    {
      "cell_type": "code",
      "metadata": {
        "id": "MoxHh_Exctpx",
        "colab_type": "code",
        "outputId": "4fbac3b6-0453-40a9-d99f-1841ecab01af",
        "colab": {
          "base_uri": "https://localhost:8080/",
          "height": 196
        }
      },
      "source": [
        "model.summary()"
      ],
      "execution_count": 50,
      "outputs": [
        {
          "output_type": "stream",
          "text": [
            "Model: \"sequential_1\"\n",
            "_________________________________________________________________\n",
            "Layer (type)                 Output Shape              Param #   \n",
            "=================================================================\n",
            "dense_1 (Dense)              (None, 2)                 62        \n",
            "=================================================================\n",
            "Total params: 62\n",
            "Trainable params: 62\n",
            "Non-trainable params: 0\n",
            "_________________________________________________________________\n"
          ],
          "name": "stdout"
        }
      ]
    },
    {
      "cell_type": "code",
      "metadata": {
        "id": "p9tb6nKuoSKu",
        "colab_type": "code",
        "outputId": "c449c2c4-d62f-4985-eb9b-f172770282d0",
        "colab": {
          "base_uri": "https://localhost:8080/",
          "height": 1000
        }
      },
      "source": [
        "Yp"
      ],
      "execution_count": 51,
      "outputs": [
        {
          "output_type": "execute_result",
          "data": {
            "text/plain": [
              "array([[1.18993353e-02, 9.88100648e-01],\n",
              "       [3.88544708e-09, 1.00000000e+00],\n",
              "       [5.51108951e-06, 9.99994516e-01],\n",
              "       [3.17995756e-07, 9.99999642e-01],\n",
              "       [9.99997735e-01, 2.26001794e-06],\n",
              "       [2.77268373e-05, 9.99972224e-01],\n",
              "       [1.00000000e+00, 1.47703583e-08],\n",
              "       [4.18233797e-02, 9.58176613e-01],\n",
              "       [3.14084231e-03, 9.96859193e-01],\n",
              "       [9.71837640e-01, 2.81623155e-02],\n",
              "       [9.93236482e-01, 6.76356908e-03],\n",
              "       [7.98630845e-06, 9.99992013e-01],\n",
              "       [1.00000000e+00, 1.92650496e-09],\n",
              "       [9.16164427e-04, 9.99083877e-01],\n",
              "       [9.92620945e-01, 7.37905782e-03],\n",
              "       [4.69635037e-04, 9.99530435e-01],\n",
              "       [2.25887983e-03, 9.97741103e-01],\n",
              "       [6.04628678e-03, 9.93953764e-01],\n",
              "       [9.99999881e-01, 9.53833776e-08],\n",
              "       [1.86217930e-02, 9.81378198e-01],\n",
              "       [1.91946831e-02, 9.80805278e-01],\n",
              "       [9.91410434e-01, 8.58962256e-03],\n",
              "       [7.76267052e-02, 9.22373295e-01],\n",
              "       [3.73110324e-02, 9.62688982e-01],\n",
              "       [1.01529020e-06, 9.99998927e-01],\n",
              "       [9.99967337e-01, 3.26562695e-05],\n",
              "       [1.68522063e-04, 9.99831438e-01],\n",
              "       [3.20723921e-04, 9.99679327e-01],\n",
              "       [5.53038597e-01, 4.46961403e-01],\n",
              "       [1.36367772e-02, 9.86363232e-01],\n",
              "       [9.99996185e-01, 3.77068613e-06],\n",
              "       [5.30373305e-04, 9.99469697e-01],\n",
              "       [9.99904513e-01, 9.54276547e-05],\n",
              "       [1.72447378e-03, 9.98275518e-01],\n",
              "       [9.83411912e-04, 9.99016523e-01],\n",
              "       [3.46733548e-04, 9.99653220e-01],\n",
              "       [1.83878432e-03, 9.98161256e-01],\n",
              "       [3.27541073e-07, 9.99999642e-01],\n",
              "       [2.37847101e-02, 9.76215243e-01],\n",
              "       [9.99994993e-01, 5.03775300e-06],\n",
              "       [1.00000000e+00, 9.71702102e-13],\n",
              "       [1.62246346e-03, 9.98377562e-01],\n",
              "       [3.20498912e-05, 9.99967933e-01],\n",
              "       [6.96290692e-04, 9.99303699e-01],\n",
              "       [1.39336078e-03, 9.98606622e-01],\n",
              "       [8.23489157e-04, 9.99176443e-01],\n",
              "       [7.99004510e-02, 9.20099497e-01],\n",
              "       [7.73227122e-03, 9.92267787e-01],\n",
              "       [9.98217762e-01, 1.78224558e-03],\n",
              "       [5.11978418e-02, 9.48802233e-01],\n",
              "       [1.00000000e+00, 2.63813682e-09],\n",
              "       [1.05165695e-04, 9.99894857e-01],\n",
              "       [9.99997258e-01, 2.70411761e-06],\n",
              "       [8.74975145e-01, 1.25024840e-01],\n",
              "       [1.21137389e-04, 9.99878883e-01],\n",
              "       [6.93828275e-04, 9.99306202e-01],\n",
              "       [4.11815068e-04, 9.99588192e-01],\n",
              "       [9.24387496e-05, 9.99907494e-01],\n",
              "       [3.44703719e-02, 9.65529621e-01],\n",
              "       [2.65192124e-04, 9.99734819e-01],\n",
              "       [1.00000000e+00, 2.52783023e-21],\n",
              "       [1.90597132e-03, 9.98094022e-01],\n",
              "       [9.87662435e-01, 1.23375878e-02],\n",
              "       [3.16838268e-05, 9.99968290e-01],\n",
              "       [3.21554206e-02, 9.67844546e-01],\n",
              "       [1.00450106e-02, 9.89954948e-01],\n",
              "       [3.35625882e-05, 9.99966383e-01],\n",
              "       [1.76656558e-05, 9.99982357e-01],\n",
              "       [9.99383926e-01, 6.16053760e-04],\n",
              "       [5.56947100e-07, 9.99999404e-01],\n",
              "       [1.69577717e-07, 9.99999881e-01],\n",
              "       [5.59772141e-02, 9.44022775e-01],\n",
              "       [7.21718534e-05, 9.99927878e-01],\n",
              "       [9.99816000e-01, 1.84023040e-04],\n",
              "       [1.71052248e-04, 9.99828935e-01],\n",
              "       [3.55941971e-04, 9.99644041e-01],\n",
              "       [1.25045627e-01, 8.74954402e-01],\n",
              "       [9.98197854e-01, 1.80220557e-03],\n",
              "       [1.48148538e-05, 9.99985218e-01],\n",
              "       [2.74832860e-06, 9.99997258e-01],\n",
              "       [9.92071092e-01, 7.92894978e-03],\n",
              "       [2.09458591e-03, 9.97905374e-01],\n",
              "       [8.65759386e-04, 9.99134243e-01],\n",
              "       [1.00000000e+00, 8.09580376e-13],\n",
              "       [9.93507624e-01, 6.49236189e-03],\n",
              "       [1.42764775e-02, 9.85723555e-01],\n",
              "       [2.27032051e-05, 9.99977350e-01],\n",
              "       [5.04256168e-04, 9.99495745e-01],\n",
              "       [7.33472873e-03, 9.92665231e-01],\n",
              "       [9.43749487e-01, 5.62505163e-02],\n",
              "       [1.00000000e+00, 1.06947562e-09],\n",
              "       [9.98183548e-01, 1.81642186e-03],\n",
              "       [2.01275125e-02, 9.79872465e-01],\n",
              "       [9.99740660e-01, 2.59339955e-04],\n",
              "       [7.43430946e-03, 9.92565632e-01],\n",
              "       [2.24479136e-05, 9.99977589e-01],\n",
              "       [3.24359075e-06, 9.99996781e-01],\n",
              "       [9.99996543e-01, 3.50882647e-06],\n",
              "       [9.71729577e-01, 2.82704011e-02],\n",
              "       [1.30580723e-01, 8.69419336e-01],\n",
              "       [2.05335277e-03, 9.97946680e-01],\n",
              "       [4.29977775e-02, 9.57002223e-01],\n",
              "       [9.99886036e-01, 1.13928516e-04],\n",
              "       [9.70072210e-01, 2.99277715e-02],\n",
              "       [9.96148705e-01, 3.85125610e-03],\n",
              "       [9.99999523e-01, 5.21949062e-07],\n",
              "       [9.05922830e-01, 9.40771475e-02],\n",
              "       [7.65088797e-01, 2.34911233e-01],\n",
              "       [9.99995589e-01, 4.43991030e-06],\n",
              "       [9.99999642e-01, 3.51287042e-07],\n",
              "       [9.99992609e-01, 7.38212520e-06],\n",
              "       [7.87140355e-02, 9.21285927e-01],\n",
              "       [2.07189325e-04, 9.99792874e-01],\n",
              "       [9.99993324e-01, 6.73102613e-06],\n",
              "       [2.77555810e-04, 9.99722421e-01],\n",
              "       [9.99993324e-01, 6.69445308e-06],\n",
              "       [3.30046727e-03, 9.96699512e-01],\n",
              "       [4.57841717e-03, 9.95421588e-01],\n",
              "       [1.41805246e-01, 8.58194709e-01],\n",
              "       [9.93768454e-01, 6.23155385e-03],\n",
              "       [4.61506017e-04, 9.99538541e-01],\n",
              "       [2.16517612e-04, 9.99783456e-01],\n",
              "       [5.58506921e-02, 9.44149315e-01],\n",
              "       [1.37429461e-02, 9.86257017e-01],\n",
              "       [1.00761172e-04, 9.99899268e-01],\n",
              "       [1.37658969e-01, 8.62341046e-01],\n",
              "       [4.57003247e-04, 9.99543071e-01],\n",
              "       [9.02335718e-03, 9.90976572e-01],\n",
              "       [8.76127251e-06, 9.99991298e-01],\n",
              "       [9.96916369e-03, 9.90030766e-01],\n",
              "       [9.99999523e-01, 4.87401167e-07],\n",
              "       [1.93616361e-05, 9.99980688e-01],\n",
              "       [4.38600034e-02, 9.56139982e-01],\n",
              "       [4.83710796e-01, 5.16289175e-01],\n",
              "       [9.96582329e-01, 3.41770286e-03],\n",
              "       [3.11185746e-03, 9.96888101e-01],\n",
              "       [9.99990821e-01, 9.12274481e-06],\n",
              "       [1.10016391e-03, 9.98899817e-01],\n",
              "       [9.99744236e-01, 2.55698804e-04],\n",
              "       [3.14209820e-03, 9.96857882e-01],\n",
              "       [9.99726236e-01, 2.73745420e-04],\n",
              "       [4.62709628e-02, 9.53729093e-01],\n",
              "       [2.80746445e-03, 9.97192562e-01],\n",
              "       [4.16343450e-04, 9.99583662e-01],\n",
              "       [9.99943972e-01, 5.60031403e-05],\n",
              "       [9.99999166e-01, 8.92822811e-07],\n",
              "       [9.20418464e-03, 9.90795791e-01],\n",
              "       [9.99972343e-01, 2.76701503e-05],\n",
              "       [9.99975085e-01, 2.49283567e-05],\n",
              "       [9.99932885e-01, 6.70892332e-05],\n",
              "       [8.16825777e-05, 9.99918342e-01],\n",
              "       [9.99999881e-01, 1.52172973e-07],\n",
              "       [4.96060997e-01, 5.03939033e-01],\n",
              "       [3.07928361e-02, 9.69207168e-01],\n",
              "       [9.93275285e-01, 6.72473758e-03],\n",
              "       [6.36183321e-02, 9.36381698e-01],\n",
              "       [9.94957268e-01, 5.04275504e-03],\n",
              "       [2.34534722e-02, 9.76546526e-01],\n",
              "       [5.23874296e-05, 9.99947667e-01],\n",
              "       [2.66755261e-02, 9.73324537e-01],\n",
              "       [9.99491453e-01, 5.08470228e-04],\n",
              "       [9.14635420e-01, 8.53645504e-02],\n",
              "       [4.00266707e-01, 5.99733353e-01],\n",
              "       [9.99999046e-01, 9.61389674e-07],\n",
              "       [2.33909920e-01, 7.66090035e-01],\n",
              "       [5.77839673e-05, 9.99942183e-01],\n",
              "       [1.90220010e-02, 9.80978012e-01],\n",
              "       [4.90636518e-03, 9.95093703e-01],\n",
              "       [3.52498406e-04, 9.99647498e-01],\n",
              "       [9.71285164e-01, 2.87148282e-02],\n",
              "       [3.73725384e-03, 9.96262729e-01],\n",
              "       [1.07004894e-02, 9.89299536e-01],\n",
              "       [9.99998569e-01, 1.47164440e-06],\n",
              "       [4.06872714e-03, 9.95931327e-01],\n",
              "       [8.38046020e-04, 9.99161959e-01],\n",
              "       [1.05731869e-02, 9.89426851e-01],\n",
              "       [6.42007620e-08, 9.99999881e-01],\n",
              "       [1.05172396e-03, 9.98948276e-01],\n",
              "       [6.59965794e-04, 9.99339998e-01],\n",
              "       [9.99571979e-01, 4.27985011e-04],\n",
              "       [9.90070403e-01, 9.92957223e-03],\n",
              "       [9.99872923e-01, 1.27114297e-04],\n",
              "       [2.95897722e-01, 7.04102278e-01],\n",
              "       [5.34806983e-04, 9.99465168e-01],\n",
              "       [8.22060406e-02, 9.17793930e-01],\n",
              "       [1.83316022e-02, 9.81668413e-01],\n",
              "       [9.73289251e-01, 2.67106686e-02],\n",
              "       [7.55697256e-03, 9.92443025e-01]], dtype=float32)"
            ]
          },
          "metadata": {
            "tags": []
          },
          "execution_count": 51
        }
      ]
    },
    {
      "cell_type": "code",
      "metadata": {
        "id": "XhBP5d3To-m8",
        "colab_type": "code",
        "outputId": "36c4add8-ba73-4362-d7cd-8bf0e8c18c5d",
        "colab": {
          "base_uri": "https://localhost:8080/",
          "height": 35
        }
      },
      "source": [
        "# v = np.argmax(Yp, axis=1, keepdims=True)\n",
        "# v\n",
        "v = np.round(Yp)\n",
        "\n",
        "C = 0\n",
        "for real, pred in zip(Y_test, v):\n",
        "    if real[0] == pred[0] and real[1] == pred[1]:\n",
        "        C += 1\n",
        "\n",
        "print(C/len(v)) "
      ],
      "execution_count": 52,
      "outputs": [
        {
          "output_type": "stream",
          "text": [
            "0.9787234042553191\n"
          ],
          "name": "stdout"
        }
      ]
    },
    {
      "cell_type": "code",
      "metadata": {
        "id": "IijlByZO9fu_",
        "colab_type": "code",
        "colab": {
          "base_uri": "https://localhost:8080/",
          "height": 1000
        },
        "outputId": "bdc1eda2-8761-4072-f63b-fd523332af0c"
      },
      "source": [
        "Yproba = model.predict_proba(X_test)\n",
        "Yproba"
      ],
      "execution_count": 53,
      "outputs": [
        {
          "output_type": "execute_result",
          "data": {
            "text/plain": [
              "array([[1.18993353e-02, 9.88100648e-01],\n",
              "       [3.88544708e-09, 1.00000000e+00],\n",
              "       [5.51108951e-06, 9.99994516e-01],\n",
              "       [3.17995756e-07, 9.99999642e-01],\n",
              "       [9.99997735e-01, 2.26001794e-06],\n",
              "       [2.77268373e-05, 9.99972224e-01],\n",
              "       [1.00000000e+00, 1.47703583e-08],\n",
              "       [4.18233797e-02, 9.58176613e-01],\n",
              "       [3.14084231e-03, 9.96859193e-01],\n",
              "       [9.71837640e-01, 2.81623155e-02],\n",
              "       [9.93236482e-01, 6.76356908e-03],\n",
              "       [7.98630845e-06, 9.99992013e-01],\n",
              "       [1.00000000e+00, 1.92650496e-09],\n",
              "       [9.16164427e-04, 9.99083877e-01],\n",
              "       [9.92620945e-01, 7.37905782e-03],\n",
              "       [4.69635037e-04, 9.99530435e-01],\n",
              "       [2.25887983e-03, 9.97741103e-01],\n",
              "       [6.04628678e-03, 9.93953764e-01],\n",
              "       [9.99999881e-01, 9.53833776e-08],\n",
              "       [1.86217930e-02, 9.81378198e-01],\n",
              "       [1.91946831e-02, 9.80805278e-01],\n",
              "       [9.91410434e-01, 8.58962256e-03],\n",
              "       [7.76267052e-02, 9.22373295e-01],\n",
              "       [3.73110324e-02, 9.62688982e-01],\n",
              "       [1.01529020e-06, 9.99998927e-01],\n",
              "       [9.99967337e-01, 3.26562695e-05],\n",
              "       [1.68522063e-04, 9.99831438e-01],\n",
              "       [3.20723921e-04, 9.99679327e-01],\n",
              "       [5.53038597e-01, 4.46961403e-01],\n",
              "       [1.36367772e-02, 9.86363232e-01],\n",
              "       [9.99996185e-01, 3.77068613e-06],\n",
              "       [5.30373305e-04, 9.99469697e-01],\n",
              "       [9.99904513e-01, 9.54276547e-05],\n",
              "       [1.72447378e-03, 9.98275518e-01],\n",
              "       [9.83411912e-04, 9.99016523e-01],\n",
              "       [3.46733548e-04, 9.99653220e-01],\n",
              "       [1.83878432e-03, 9.98161256e-01],\n",
              "       [3.27541073e-07, 9.99999642e-01],\n",
              "       [2.37847101e-02, 9.76215243e-01],\n",
              "       [9.99994993e-01, 5.03775300e-06],\n",
              "       [1.00000000e+00, 9.71702102e-13],\n",
              "       [1.62246346e-03, 9.98377562e-01],\n",
              "       [3.20498912e-05, 9.99967933e-01],\n",
              "       [6.96290692e-04, 9.99303699e-01],\n",
              "       [1.39336078e-03, 9.98606622e-01],\n",
              "       [8.23489157e-04, 9.99176443e-01],\n",
              "       [7.99004510e-02, 9.20099497e-01],\n",
              "       [7.73227122e-03, 9.92267787e-01],\n",
              "       [9.98217762e-01, 1.78224558e-03],\n",
              "       [5.11978418e-02, 9.48802233e-01],\n",
              "       [1.00000000e+00, 2.63813682e-09],\n",
              "       [1.05165695e-04, 9.99894857e-01],\n",
              "       [9.99997258e-01, 2.70411761e-06],\n",
              "       [8.74975145e-01, 1.25024840e-01],\n",
              "       [1.21137389e-04, 9.99878883e-01],\n",
              "       [6.93828275e-04, 9.99306202e-01],\n",
              "       [4.11815068e-04, 9.99588192e-01],\n",
              "       [9.24387496e-05, 9.99907494e-01],\n",
              "       [3.44703719e-02, 9.65529621e-01],\n",
              "       [2.65192124e-04, 9.99734819e-01],\n",
              "       [1.00000000e+00, 2.52783023e-21],\n",
              "       [1.90597132e-03, 9.98094022e-01],\n",
              "       [9.87662435e-01, 1.23375878e-02],\n",
              "       [3.16838268e-05, 9.99968290e-01],\n",
              "       [3.21554206e-02, 9.67844546e-01],\n",
              "       [1.00450106e-02, 9.89954948e-01],\n",
              "       [3.35625882e-05, 9.99966383e-01],\n",
              "       [1.76656558e-05, 9.99982357e-01],\n",
              "       [9.99383926e-01, 6.16053760e-04],\n",
              "       [5.56947100e-07, 9.99999404e-01],\n",
              "       [1.69577717e-07, 9.99999881e-01],\n",
              "       [5.59772141e-02, 9.44022775e-01],\n",
              "       [7.21718534e-05, 9.99927878e-01],\n",
              "       [9.99816000e-01, 1.84023040e-04],\n",
              "       [1.71052248e-04, 9.99828935e-01],\n",
              "       [3.55941971e-04, 9.99644041e-01],\n",
              "       [1.25045627e-01, 8.74954402e-01],\n",
              "       [9.98197854e-01, 1.80220557e-03],\n",
              "       [1.48148538e-05, 9.99985218e-01],\n",
              "       [2.74832860e-06, 9.99997258e-01],\n",
              "       [9.92071092e-01, 7.92894978e-03],\n",
              "       [2.09458591e-03, 9.97905374e-01],\n",
              "       [8.65759386e-04, 9.99134243e-01],\n",
              "       [1.00000000e+00, 8.09580376e-13],\n",
              "       [9.93507624e-01, 6.49236189e-03],\n",
              "       [1.42764775e-02, 9.85723555e-01],\n",
              "       [2.27032051e-05, 9.99977350e-01],\n",
              "       [5.04256168e-04, 9.99495745e-01],\n",
              "       [7.33472873e-03, 9.92665231e-01],\n",
              "       [9.43749487e-01, 5.62505163e-02],\n",
              "       [1.00000000e+00, 1.06947562e-09],\n",
              "       [9.98183548e-01, 1.81642186e-03],\n",
              "       [2.01275125e-02, 9.79872465e-01],\n",
              "       [9.99740660e-01, 2.59339955e-04],\n",
              "       [7.43430946e-03, 9.92565632e-01],\n",
              "       [2.24479136e-05, 9.99977589e-01],\n",
              "       [3.24359075e-06, 9.99996781e-01],\n",
              "       [9.99996543e-01, 3.50882647e-06],\n",
              "       [9.71729577e-01, 2.82704011e-02],\n",
              "       [1.30580723e-01, 8.69419336e-01],\n",
              "       [2.05335277e-03, 9.97946680e-01],\n",
              "       [4.29977775e-02, 9.57002223e-01],\n",
              "       [9.99886036e-01, 1.13928516e-04],\n",
              "       [9.70072210e-01, 2.99277715e-02],\n",
              "       [9.96148705e-01, 3.85125610e-03],\n",
              "       [9.99999523e-01, 5.21949062e-07],\n",
              "       [9.05922830e-01, 9.40771475e-02],\n",
              "       [7.65088797e-01, 2.34911233e-01],\n",
              "       [9.99995589e-01, 4.43991030e-06],\n",
              "       [9.99999642e-01, 3.51287042e-07],\n",
              "       [9.99992609e-01, 7.38212520e-06],\n",
              "       [7.87140355e-02, 9.21285927e-01],\n",
              "       [2.07189325e-04, 9.99792874e-01],\n",
              "       [9.99993324e-01, 6.73102613e-06],\n",
              "       [2.77555810e-04, 9.99722421e-01],\n",
              "       [9.99993324e-01, 6.69445308e-06],\n",
              "       [3.30046727e-03, 9.96699512e-01],\n",
              "       [4.57841717e-03, 9.95421588e-01],\n",
              "       [1.41805246e-01, 8.58194709e-01],\n",
              "       [9.93768454e-01, 6.23155385e-03],\n",
              "       [4.61506017e-04, 9.99538541e-01],\n",
              "       [2.16517612e-04, 9.99783456e-01],\n",
              "       [5.58506921e-02, 9.44149315e-01],\n",
              "       [1.37429461e-02, 9.86257017e-01],\n",
              "       [1.00761172e-04, 9.99899268e-01],\n",
              "       [1.37658969e-01, 8.62341046e-01],\n",
              "       [4.57003247e-04, 9.99543071e-01],\n",
              "       [9.02335718e-03, 9.90976572e-01],\n",
              "       [8.76127251e-06, 9.99991298e-01],\n",
              "       [9.96916369e-03, 9.90030766e-01],\n",
              "       [9.99999523e-01, 4.87401167e-07],\n",
              "       [1.93616361e-05, 9.99980688e-01],\n",
              "       [4.38600034e-02, 9.56139982e-01],\n",
              "       [4.83710796e-01, 5.16289175e-01],\n",
              "       [9.96582329e-01, 3.41770286e-03],\n",
              "       [3.11185746e-03, 9.96888101e-01],\n",
              "       [9.99990821e-01, 9.12274481e-06],\n",
              "       [1.10016391e-03, 9.98899817e-01],\n",
              "       [9.99744236e-01, 2.55698804e-04],\n",
              "       [3.14209820e-03, 9.96857882e-01],\n",
              "       [9.99726236e-01, 2.73745420e-04],\n",
              "       [4.62709628e-02, 9.53729093e-01],\n",
              "       [2.80746445e-03, 9.97192562e-01],\n",
              "       [4.16343450e-04, 9.99583662e-01],\n",
              "       [9.99943972e-01, 5.60031403e-05],\n",
              "       [9.99999166e-01, 8.92822811e-07],\n",
              "       [9.20418464e-03, 9.90795791e-01],\n",
              "       [9.99972343e-01, 2.76701503e-05],\n",
              "       [9.99975085e-01, 2.49283567e-05],\n",
              "       [9.99932885e-01, 6.70892332e-05],\n",
              "       [8.16825777e-05, 9.99918342e-01],\n",
              "       [9.99999881e-01, 1.52172973e-07],\n",
              "       [4.96060997e-01, 5.03939033e-01],\n",
              "       [3.07928361e-02, 9.69207168e-01],\n",
              "       [9.93275285e-01, 6.72473758e-03],\n",
              "       [6.36183321e-02, 9.36381698e-01],\n",
              "       [9.94957268e-01, 5.04275504e-03],\n",
              "       [2.34534722e-02, 9.76546526e-01],\n",
              "       [5.23874296e-05, 9.99947667e-01],\n",
              "       [2.66755261e-02, 9.73324537e-01],\n",
              "       [9.99491453e-01, 5.08470228e-04],\n",
              "       [9.14635420e-01, 8.53645504e-02],\n",
              "       [4.00266707e-01, 5.99733353e-01],\n",
              "       [9.99999046e-01, 9.61389674e-07],\n",
              "       [2.33909920e-01, 7.66090035e-01],\n",
              "       [5.77839673e-05, 9.99942183e-01],\n",
              "       [1.90220010e-02, 9.80978012e-01],\n",
              "       [4.90636518e-03, 9.95093703e-01],\n",
              "       [3.52498406e-04, 9.99647498e-01],\n",
              "       [9.71285164e-01, 2.87148282e-02],\n",
              "       [3.73725384e-03, 9.96262729e-01],\n",
              "       [1.07004894e-02, 9.89299536e-01],\n",
              "       [9.99998569e-01, 1.47164440e-06],\n",
              "       [4.06872714e-03, 9.95931327e-01],\n",
              "       [8.38046020e-04, 9.99161959e-01],\n",
              "       [1.05731869e-02, 9.89426851e-01],\n",
              "       [6.42007620e-08, 9.99999881e-01],\n",
              "       [1.05172396e-03, 9.98948276e-01],\n",
              "       [6.59965794e-04, 9.99339998e-01],\n",
              "       [9.99571979e-01, 4.27985011e-04],\n",
              "       [9.90070403e-01, 9.92957223e-03],\n",
              "       [9.99872923e-01, 1.27114297e-04],\n",
              "       [2.95897722e-01, 7.04102278e-01],\n",
              "       [5.34806983e-04, 9.99465168e-01],\n",
              "       [8.22060406e-02, 9.17793930e-01],\n",
              "       [1.83316022e-02, 9.81668413e-01],\n",
              "       [9.73289251e-01, 2.67106686e-02],\n",
              "       [7.55697256e-03, 9.92443025e-01]], dtype=float32)"
            ]
          },
          "metadata": {
            "tags": []
          },
          "execution_count": 53
        }
      ]
    },
    {
      "cell_type": "code",
      "metadata": {
        "id": "amT6hAAyxRXS",
        "colab_type": "code",
        "colab": {}
      },
      "source": [
        ""
      ],
      "execution_count": 0,
      "outputs": []
    },
    {
      "cell_type": "markdown",
      "metadata": {
        "id": "He_rrDCgyhMS",
        "colab_type": "text"
      },
      "source": [
        "## Model Save and Load"
      ]
    },
    {
      "cell_type": "code",
      "metadata": {
        "id": "reXTc6l4yk4l",
        "colab_type": "code",
        "colab": {}
      },
      "source": [
        "model.save('LR.h5')"
      ],
      "execution_count": 0,
      "outputs": []
    },
    {
      "cell_type": "code",
      "metadata": {
        "id": "gtwlXNmIyy3Y",
        "colab_type": "code",
        "colab": {}
      },
      "source": [
        "modelLR = tf.keras.models.load_model('LR.h5')"
      ],
      "execution_count": 0,
      "outputs": []
    },
    {
      "cell_type": "code",
      "metadata": {
        "id": "yCdZ5ZVUzAAO",
        "colab_type": "code",
        "colab": {
          "base_uri": "https://localhost:8080/",
          "height": 53
        },
        "outputId": "67bdc2e9-3176-46ba-8a4c-6a356492b64b"
      },
      "source": [
        "modelLR.evaluate(X_test, Y_test)"
      ],
      "execution_count": 57,
      "outputs": [
        {
          "output_type": "stream",
          "text": [
            "188/188 [==============================] - 0s 540us/sample - loss: 0.0711 - accuracy: 0.9787\n"
          ],
          "name": "stdout"
        },
        {
          "output_type": "execute_result",
          "data": {
            "text/plain": [
              "[0.0711331824038891, 0.9787234]"
            ]
          },
          "metadata": {
            "tags": []
          },
          "execution_count": 57
        }
      ]
    },
    {
      "cell_type": "code",
      "metadata": {
        "id": "YhTPzah6zCgu",
        "colab_type": "code",
        "colab": {
          "base_uri": "https://localhost:8080/",
          "height": 196
        },
        "outputId": "7880b7fc-1b4a-4939-e21d-f3e972737bce"
      },
      "source": [
        "model.summary()"
      ],
      "execution_count": 58,
      "outputs": [
        {
          "output_type": "stream",
          "text": [
            "Model: \"sequential_1\"\n",
            "_________________________________________________________________\n",
            "Layer (type)                 Output Shape              Param #   \n",
            "=================================================================\n",
            "dense_1 (Dense)              (None, 2)                 62        \n",
            "=================================================================\n",
            "Total params: 62\n",
            "Trainable params: 62\n",
            "Non-trainable params: 0\n",
            "_________________________________________________________________\n"
          ],
          "name": "stdout"
        }
      ]
    },
    {
      "cell_type": "code",
      "metadata": {
        "id": "ccy2VVCi0LHi",
        "colab_type": "code",
        "colab": {
          "base_uri": "https://localhost:8080/",
          "height": 196
        },
        "outputId": "afae4bf5-7bd6-4fa5-aafb-c69c833fcf46"
      },
      "source": [
        "modelLR.summary()"
      ],
      "execution_count": 60,
      "outputs": [
        {
          "output_type": "stream",
          "text": [
            "Model: \"sequential_1\"\n",
            "_________________________________________________________________\n",
            "Layer (type)                 Output Shape              Param #   \n",
            "=================================================================\n",
            "dense_1 (Dense)              (None, 2)                 62        \n",
            "=================================================================\n",
            "Total params: 62\n",
            "Trainable params: 62\n",
            "Non-trainable params: 0\n",
            "_________________________________________________________________\n"
          ],
          "name": "stdout"
        }
      ]
    },
    {
      "cell_type": "code",
      "metadata": {
        "id": "Ii0wTPm00kmz",
        "colab_type": "code",
        "colab": {
          "base_uri": "https://localhost:8080/",
          "height": 35
        },
        "outputId": "7d3c8283-65ab-4283-c41b-e8220aa62ba6"
      },
      "source": [
        "!ls"
      ],
      "execution_count": 61,
      "outputs": [
        {
          "output_type": "stream",
          "text": [
            "LR.f5  LR.h5  sample_data\n"
          ],
          "name": "stdout"
        }
      ]
    },
    {
      "cell_type": "code",
      "metadata": {
        "id": "i8KY4hCO0lHf",
        "colab_type": "code",
        "colab": {
          "base_uri": "https://localhost:8080/",
          "height": 126
        },
        "outputId": "5e42f170-f731-4f47-f423-a0efeb65fd46"
      },
      "source": [
        "from google.colab import drive\n",
        "drive.mount('/content/drive')"
      ],
      "execution_count": 62,
      "outputs": [
        {
          "output_type": "stream",
          "text": [
            "Go to this URL in a browser: https://accounts.google.com/o/oauth2/auth?client_id=947318989803-6bn6qk8qdgf4n4g3pfee6491hc0brc4i.apps.googleusercontent.com&redirect_uri=urn%3aietf%3awg%3aoauth%3a2.0%3aoob&response_type=code&scope=email%20https%3a%2f%2fwww.googleapis.com%2fauth%2fdocs.test%20https%3a%2f%2fwww.googleapis.com%2fauth%2fdrive%20https%3a%2f%2fwww.googleapis.com%2fauth%2fdrive.photos.readonly%20https%3a%2f%2fwww.googleapis.com%2fauth%2fpeopleapi.readonly\n",
            "\n",
            "Enter your authorization code:\n",
            "··········\n",
            "Mounted at /content/drive\n"
          ],
          "name": "stdout"
        }
      ]
    },
    {
      "cell_type": "code",
      "metadata": {
        "id": "NYTju-w20p60",
        "colab_type": "code",
        "colab": {
          "base_uri": "https://localhost:8080/",
          "height": 35
        },
        "outputId": "40294282-edc9-44ca-91c8-1f93457e72aa"
      },
      "source": [
        "!pwd"
      ],
      "execution_count": 63,
      "outputs": [
        {
          "output_type": "stream",
          "text": [
            "/content\n"
          ],
          "name": "stdout"
        }
      ]
    },
    {
      "cell_type": "code",
      "metadata": {
        "id": "ufoliN4b02Ti",
        "colab_type": "code",
        "colab": {
          "base_uri": "https://localhost:8080/",
          "height": 35
        },
        "outputId": "b9dc8915-acc3-44d2-e966-308c3b90547f"
      },
      "source": [
        "!ls"
      ],
      "execution_count": 64,
      "outputs": [
        {
          "output_type": "stream",
          "text": [
            "drive  LR.f5  LR.h5  sample_data\n"
          ],
          "name": "stdout"
        }
      ]
    },
    {
      "cell_type": "code",
      "metadata": {
        "id": "7PoZTSfc04dU",
        "colab_type": "code",
        "colab": {}
      },
      "source": [
        "!cd drive"
      ],
      "execution_count": 0,
      "outputs": []
    },
    {
      "cell_type": "code",
      "metadata": {
        "id": "VuSiSPZb1Agk",
        "colab_type": "code",
        "colab": {
          "base_uri": "https://localhost:8080/",
          "height": 35
        },
        "outputId": "9e34bc21-0450-4f0b-c92d-7fc844072a5f"
      },
      "source": [
        "!ls"
      ],
      "execution_count": 66,
      "outputs": [
        {
          "output_type": "stream",
          "text": [
            "drive  LR.f5  LR.h5  sample_data\n"
          ],
          "name": "stdout"
        }
      ]
    },
    {
      "cell_type": "code",
      "metadata": {
        "id": "d0bI0tUN1C8E",
        "colab_type": "code",
        "colab": {
          "base_uri": "https://localhost:8080/",
          "height": 1000
        },
        "outputId": "e62ca808-71b1-4f75-f1ac-cfcf9a9a385c"
      },
      "source": [
        "!ls drive/My\\ Drive"
      ],
      "execution_count": 69,
      "outputs": [
        {
          "output_type": "stream",
          "text": [
            " 011-141-144.gdoc\n",
            "'1 intro.pptx'\n",
            " 5d242a18d36f5614.pdf\n",
            " Abril2014.arff\n",
            "'account page.pdf'\n",
            " ACP-DL.gdoc\n",
            " ACT_111.pdf\n",
            " American_English.gdoc\n",
            "'Andreas Müller-Introduction to Machine Learning with Python A Guide for Data Scientists.pdf'\n",
            " AntiCancerPeptides.gdoc\n",
            "'Attendee 6 (Rafsanjani Muhammod)'\n",
            " Backup\n",
            " backup-TUD.gdoc\n",
            "'bacteriophage proteins.gdoc'\n",
            "'Badda Home Calculation:.gdoc'\n",
            " bangla_digits\n",
            "'Baysian AI.gdoc'\n",
            " b.csv\n",
            " b.csv.gsheet\n",
            "'Big Data with Python-1.gslides'\n",
            "'Big Data with Python-2.gslides'\n",
            "'Big Data with Python-3.gslides'\n",
            "'Big Data with Python-4.gslides'\n",
            "'bioinformatics ( CSE 493 )'\n",
            "'Bioinformatics Current Research Topics.gdoc'\n",
            "'Bioinformatics Dictionary.gdoc'\n",
            "'Bioinformatics Papers Writing Techniques with Toha.gdoc'\n",
            " BioTool.gdoc\n",
            " Bk.zip\n",
            " BlackLists.gdoc\n",
            "'Body Lotion.gslides'\n",
            "'Book report (1).gdoc'\n",
            "'Book report.gdoc'\n",
            "'BSc_Official_Transcript (1).pdf'\n",
            " BSc_Official_Transcript.pdf\n",
            " ClassLectures\n",
            " Code.gsheet\n",
            "'Colab Notebooks'\n",
            " ColorManuscript.zip\n",
            "'Comparing!.gdoc'\n",
            " Copy.gdoc\n",
            "'Copy of Magoosh GRE: 90 Day GRE Study Plan for Beginners [V3 June 2015].gdoc'\n",
            " Courses-173.gdoc\n",
            " CRISPR.gdoc\n",
            " CSE-425\n",
            "'CSI 416_Mid_SA (1).doc.gdoc'\n",
            "'CSI 416_Mid_SA.doc'\n",
            "'CSI 416_Mid_SA.doc.gdoc'\n",
            " CT#03.gdoc\n",
            " CT-1.gdoc\n",
            " CT-2.gdoc\n",
            " CT-3.gdoc\n",
            "'Dan Schrider: UNCarolina.tar.gz'\n",
            "'Data Science using Python.gdoc'\n",
            " dataset.csv\n",
            " Deep-Learning-Concepts.gdoc\n",
            "'Deep Learning in Biology.gdoc'\n",
            "'Deep Learning: To Learn.gdoc'\n",
            " DL-Protein.gdoc\n",
            " DNA_bind.gdoc\n",
            "'Dr. Mofrad-Interview.gdoc'\n",
            " eCom_Tourism.zip\n",
            "'Efficient Feature Selection and Classification of Protein Sequence Data in Bioinformatics.gdoc'\n",
            " EnergyPredictionDatasets.gdoc\n",
            " Extension_iRec.gdoc\n",
            " FinalDataset\n",
            "'Final-Excel VBA Programming.gdoc'\n",
            "'First CMB Revision.gdoc'\n",
            " Flask-Email.gdoc\n",
            "'Frequent Operations.gdoc'\n",
            " Genetics.gdoc\n",
            " Germany_interview.gsheet\n",
            "'Getting started.pdf'\n",
            " GitHub_Projects.gdoc\n",
            " GitHub_Projects.pdf\n",
            " Glossary.gdoc\n",
            " Grades.gsheet\n",
            " Grades_MyBackup.gsheet\n",
            " GRE_Grammar.gdoc\n",
            " GRE.gsheet\n",
            " GRE_Mathematics.gdoc\n",
            "'GRE & TOELF Planning.gsheet'\n",
            "'How to Write A Bioinformatics Research Paper.gdoc'\n",
            " HTML-CSS-JS-Final.gdoc\n",
            " icddrb.gdoc\n",
            " iD.csv\n",
            " iDNAPro-PseAAC.gdoc\n",
            "'IEEE VIP Cup.gdoc'\n",
            " image003.png\n",
            "'Introduction to competitive programming.gslides'\n",
            "'iPro70‐FMWin (1).pdf'\n",
            " iPro70‐FMWin.pdf\n",
            " iPro70-PseZNC.gdoc\n",
            " iPromoter-FSEn.pdf\n",
            " iPromoters.gdoc\n",
            " iRecAdding.gdoc\n",
            " iRecSpot_Datasets\n",
            "'iRecSpot-EF (1).pdf'\n",
            " iRecSpot-EF.pdf\n",
            " iris.csv\n",
            " iRSpot-EL.gdoc\n",
            " iRSpot-SPI.gdoc\n",
            " jeeon\n",
            " K425.gdoc\n",
            "'Keyboard Layout.gdoc'\n",
            " lab.gdoc\n",
            "'Laptop Market Analysis.gsheet'\n",
            " Learn.gsheet\n",
            " LoR-Rafsanjani.gdoc\n",
            " Machine_Learning_in_Action.pdf\n",
            " MagooshMathematics.gdoc\n",
            " Mal-Lys.gdoc\n",
            " MDNs.gdoc\n",
            "'Meiler Lab.gdoc'\n",
            " micro_01.gdoc\n",
            " Miracle_Morning.gdoc\n",
            " ML.gslides\n",
            "'Monthly budget.gsheet'\n",
            "'Motivational Letter.gdoc'\n",
            " mrz.jpg\n",
            "'New Doc 2018-04-27.pdf'\n",
            " NewReview_iRec\n",
            "'No-GRE Ph. D..gdoc'\n",
            "'Nov 12.gdoc'\n",
            "'NSTU images'\n",
            "'OOP Python.gslides'\n",
            " output.pdf\n",
            " PapersReview.gdoc\n",
            "'Personal History Statement (Bk).gdoc'\n",
            "'PhD Apply (University List).gdoc'\n",
            "'Ph. D. Interview.gdoc'\n",
            " PID4799913.pdf\n",
            " pima.csv\n",
            " Portfolio.zip\n",
            "'Presentation Resources .gdoc'\n",
            "'Prime 1 to 200.gdoc'\n",
            "'Professors [Rafsanjani].gdoc'\n",
            "'Professors [Sajid & Rafsanjani].gdoc'\n",
            "'Project Management Tools.gslides'\n",
            "'Project proposal.gdoc'\n",
            "'Protein Attribute Prediction.gdoc'\n",
            "'Protein in R.gdoc'\n",
            "'Protein Structure Prediction.gdoc'\n",
            "'psi-blast [Paper].gdoc'\n",
            "'PSSM (1).zip'\n",
            " pssm.py\n",
            " PSSM.zip\n",
            " PV.gdoc\n",
            " PyFeat\n",
            "'PyFeat (1).pdf'\n",
            " PyFeat_Draft.pdf\n",
            " PyFeat.gdoc\n",
            " PyFeat.pdf\n",
            " PyFest_Manual.zip\n",
            " Python-Final.gdoc\n",
            "'Python Function.gslides'\n",
            "'Python String.gslides'\n",
            " PyTorch_Doc.gdoc\n",
            " Quran.com.gdoc\n",
            " rafsanjani_CV.pdf\n",
            "'Rafsanjani Muhammod (1).gsite'\n",
            "'Rafsanjani Muhammod.gsite'\n",
            "'Recombination Hotspot Coldspot Identification via an EL.gdoc'\n",
            "'Recommendation Letter.gdoc'\n",
            " RejectedBioReview.gdoc\n",
            " Report.gdoc\n",
            "'Research Interests, Motivation.gdoc'\n",
            " Response_Reviewers_Comment_AS_AD.docx\n",
            " Response_Reviewers_Comment.gdoc\n",
            "'resume (1).pdf'\n",
            "'resume (2).pdf'\n",
            "'resume (3).pdf'\n",
            "'resume (4).pdf'\n",
            "'resume (5).pdf'\n",
            " Resume.gdoc\n",
            " resume.pdf\n",
            " reviewerReplay.gdoc\n",
            " reviewerReplay.odt\n",
            " rosalind.gdoc\n",
            " Rosalind.gdoc\n",
            " SA.gdoc\n",
            " SB.gdoc\n",
            "'Shahin cv.html.html'\n",
            " sigma70_arrayCalculation.gdoc\n",
            " SigmaNotes.gdoc\n",
            " SigmaPromoters.gdoc\n",
            " SmallVersionAmericanEnglish.gdoc\n",
            "'Software E..gdoc'\n",
            "'SoP - UC Berkeley.gdoc'\n",
            "'SoP - US Universities [Sajid].gdoc'\n",
            "'SoP Words Count!.gdoc'\n",
            " Splitting_Train_Set_70_train_30_test_Results.txt\n",
            " SquaresCubesRoots.gdoc\n",
            "'SSH Linux.gdoc'\n",
            " Stammer.gdoc\n",
            "'Statement of Purpose (SoP).gdoc'\n",
            " TalkMind.gdoc\n",
            " tf2.0.ipynb\n",
            "'TOEFL Code.gdoc'\n",
            " TOEFL.gdoc\n",
            "'Top Bioinformarics Conferences.gdoc'\n",
            "'Typing Practice.gdoc'\n",
            " UCB-myWork.gdoc\n",
            "'UCB-Question?.gdoc'\n",
            " UITS.gdoc\n",
            "'UIU CGPA Distribution.gdoc'\n",
            "'University Apply Deadline.gsheet'\n",
            "'Untitled document (1).gdoc'\n",
            "'Untitled document (2).gdoc'\n",
            "'Untitled document (3).gdoc'\n",
            "'Untitled document.gdoc'\n",
            "'Untitled drawing.gdraw'\n",
            "'Untitled presentation (1).gslides'\n",
            "'Untitled presentation.gslides'\n",
            "'Untitled Site.gsite'\n",
            "'Untitled spreadsheet (1).gsheet'\n",
            "'Untitled spreadsheet (2).gsheet'\n",
            "'Untitled spreadsheet.gsheet'\n",
            " upWork.mp4\n",
            "'US Quiz.gdoc'\n",
            " UVA-Nathan.gdoc\n",
            " VBA_Macro.gdoc\n",
            " VBA_Macro.gslides\n",
            " vibrio.zip\n",
            " Web_and_Scraping.gdoc\n",
            " Web.gdoc\n",
            " Web.gslides\n",
            "'What is Recombination Hotspot?.gdoc'\n",
            " Wireshark.gdoc\n",
            " WordSuffix.gdoc\n"
          ],
          "name": "stdout"
        }
      ]
    },
    {
      "cell_type": "code",
      "metadata": {
        "id": "CHwlWTL71IZz",
        "colab_type": "code",
        "colab": {}
      },
      "source": [
        "!cp LR.h5 drive/My\\ Drive"
      ],
      "execution_count": 0,
      "outputs": []
    },
    {
      "cell_type": "code",
      "metadata": {
        "id": "HnMRIT4-1pEo",
        "colab_type": "code",
        "colab": {
          "base_uri": "https://localhost:8080/",
          "height": 1000
        },
        "outputId": "f9c8345f-5873-4939-a54c-f620a7183e95"
      },
      "source": [
        "!ls drive/My\\ Drive"
      ],
      "execution_count": 71,
      "outputs": [
        {
          "output_type": "stream",
          "text": [
            " 011-141-144.gdoc\n",
            "'1 intro.pptx'\n",
            " 5d242a18d36f5614.pdf\n",
            " Abril2014.arff\n",
            "'account page.pdf'\n",
            " ACP-DL.gdoc\n",
            " ACT_111.pdf\n",
            " American_English.gdoc\n",
            "'Andreas Müller-Introduction to Machine Learning with Python A Guide for Data Scientists.pdf'\n",
            " AntiCancerPeptides.gdoc\n",
            "'Attendee 6 (Rafsanjani Muhammod)'\n",
            " Backup\n",
            " backup-TUD.gdoc\n",
            "'bacteriophage proteins.gdoc'\n",
            "'Badda Home Calculation:.gdoc'\n",
            " bangla_digits\n",
            "'Baysian AI.gdoc'\n",
            " b.csv\n",
            " b.csv.gsheet\n",
            "'Big Data with Python-1.gslides'\n",
            "'Big Data with Python-2.gslides'\n",
            "'Big Data with Python-3.gslides'\n",
            "'Big Data with Python-4.gslides'\n",
            "'bioinformatics ( CSE 493 )'\n",
            "'Bioinformatics Current Research Topics.gdoc'\n",
            "'Bioinformatics Dictionary.gdoc'\n",
            "'Bioinformatics Papers Writing Techniques with Toha.gdoc'\n",
            " BioTool.gdoc\n",
            " Bk.zip\n",
            " BlackLists.gdoc\n",
            "'Body Lotion.gslides'\n",
            "'Book report (1).gdoc'\n",
            "'Book report.gdoc'\n",
            "'BSc_Official_Transcript (1).pdf'\n",
            " BSc_Official_Transcript.pdf\n",
            " ClassLectures\n",
            " Code.gsheet\n",
            "'Colab Notebooks'\n",
            " ColorManuscript.zip\n",
            "'Comparing!.gdoc'\n",
            " Copy.gdoc\n",
            "'Copy of Magoosh GRE: 90 Day GRE Study Plan for Beginners [V3 June 2015].gdoc'\n",
            " Courses-173.gdoc\n",
            " CRISPR.gdoc\n",
            " CSE-425\n",
            "'CSI 416_Mid_SA (1).doc.gdoc'\n",
            "'CSI 416_Mid_SA.doc'\n",
            "'CSI 416_Mid_SA.doc.gdoc'\n",
            " CT#03.gdoc\n",
            " CT-1.gdoc\n",
            " CT-2.gdoc\n",
            " CT-3.gdoc\n",
            "'Dan Schrider: UNCarolina.tar.gz'\n",
            "'Data Science using Python.gdoc'\n",
            " dataset.csv\n",
            " Deep-Learning-Concepts.gdoc\n",
            "'Deep Learning in Biology.gdoc'\n",
            "'Deep Learning: To Learn.gdoc'\n",
            " DL-Protein.gdoc\n",
            " DNA_bind.gdoc\n",
            "'Dr. Mofrad-Interview.gdoc'\n",
            " eCom_Tourism.zip\n",
            "'Efficient Feature Selection and Classification of Protein Sequence Data in Bioinformatics.gdoc'\n",
            " EnergyPredictionDatasets.gdoc\n",
            " Extension_iRec.gdoc\n",
            " FinalDataset\n",
            "'Final-Excel VBA Programming.gdoc'\n",
            "'First CMB Revision.gdoc'\n",
            " Flask-Email.gdoc\n",
            "'Frequent Operations.gdoc'\n",
            " Genetics.gdoc\n",
            " Germany_interview.gsheet\n",
            "'Getting started.pdf'\n",
            " GitHub_Projects.gdoc\n",
            " GitHub_Projects.pdf\n",
            " Glossary.gdoc\n",
            " Grades.gsheet\n",
            " Grades_MyBackup.gsheet\n",
            " GRE_Grammar.gdoc\n",
            " GRE.gsheet\n",
            " GRE_Mathematics.gdoc\n",
            "'GRE & TOELF Planning.gsheet'\n",
            "'How to Write A Bioinformatics Research Paper.gdoc'\n",
            " HTML-CSS-JS-Final.gdoc\n",
            " icddrb.gdoc\n",
            " iD.csv\n",
            " iDNAPro-PseAAC.gdoc\n",
            "'IEEE VIP Cup.gdoc'\n",
            " image003.png\n",
            "'Introduction to competitive programming.gslides'\n",
            "'iPro70‐FMWin (1).pdf'\n",
            " iPro70‐FMWin.pdf\n",
            " iPro70-PseZNC.gdoc\n",
            " iPromoter-FSEn.pdf\n",
            " iPromoters.gdoc\n",
            " iRecAdding.gdoc\n",
            " iRecSpot_Datasets\n",
            "'iRecSpot-EF (1).pdf'\n",
            " iRecSpot-EF.pdf\n",
            " iris.csv\n",
            " iRSpot-EL.gdoc\n",
            " iRSpot-SPI.gdoc\n",
            " jeeon\n",
            " K425.gdoc\n",
            "'Keyboard Layout.gdoc'\n",
            " lab.gdoc\n",
            "'Laptop Market Analysis.gsheet'\n",
            " Learn.gsheet\n",
            " LoR-Rafsanjani.gdoc\n",
            " LR.h5\n",
            " Machine_Learning_in_Action.pdf\n",
            " MagooshMathematics.gdoc\n",
            " Mal-Lys.gdoc\n",
            " MDNs.gdoc\n",
            "'Meiler Lab.gdoc'\n",
            " micro_01.gdoc\n",
            " Miracle_Morning.gdoc\n",
            " ML.gslides\n",
            "'Monthly budget.gsheet'\n",
            "'Motivational Letter.gdoc'\n",
            " mrz.jpg\n",
            "'New Doc 2018-04-27.pdf'\n",
            " NewReview_iRec\n",
            "'No-GRE Ph. D..gdoc'\n",
            "'Nov 12.gdoc'\n",
            "'NSTU images'\n",
            "'OOP Python.gslides'\n",
            " output.pdf\n",
            " PapersReview.gdoc\n",
            "'Personal History Statement (Bk).gdoc'\n",
            "'PhD Apply (University List).gdoc'\n",
            "'Ph. D. Interview.gdoc'\n",
            " PID4799913.pdf\n",
            " pima.csv\n",
            " Portfolio.zip\n",
            "'Presentation Resources .gdoc'\n",
            "'Prime 1 to 200.gdoc'\n",
            "'Professors [Rafsanjani].gdoc'\n",
            "'Professors [Sajid & Rafsanjani].gdoc'\n",
            "'Project Management Tools.gslides'\n",
            "'Project proposal.gdoc'\n",
            "'Protein Attribute Prediction.gdoc'\n",
            "'Protein in R.gdoc'\n",
            "'Protein Structure Prediction.gdoc'\n",
            "'psi-blast [Paper].gdoc'\n",
            "'PSSM (1).zip'\n",
            " pssm.py\n",
            " PSSM.zip\n",
            " PV.gdoc\n",
            " PyFeat\n",
            "'PyFeat (1).pdf'\n",
            " PyFeat_Draft.pdf\n",
            " PyFeat.gdoc\n",
            " PyFeat.pdf\n",
            " PyFest_Manual.zip\n",
            " Python-Final.gdoc\n",
            "'Python Function.gslides'\n",
            "'Python String.gslides'\n",
            " PyTorch_Doc.gdoc\n",
            " Quran.com.gdoc\n",
            " rafsanjani_CV.pdf\n",
            "'Rafsanjani Muhammod (1).gsite'\n",
            "'Rafsanjani Muhammod.gsite'\n",
            "'Recombination Hotspot Coldspot Identification via an EL.gdoc'\n",
            "'Recommendation Letter.gdoc'\n",
            " RejectedBioReview.gdoc\n",
            " Report.gdoc\n",
            "'Research Interests, Motivation.gdoc'\n",
            " Response_Reviewers_Comment_AS_AD.docx\n",
            " Response_Reviewers_Comment.gdoc\n",
            "'resume (1).pdf'\n",
            "'resume (2).pdf'\n",
            "'resume (3).pdf'\n",
            "'resume (4).pdf'\n",
            "'resume (5).pdf'\n",
            " Resume.gdoc\n",
            " resume.pdf\n",
            " reviewerReplay.gdoc\n",
            " reviewerReplay.odt\n",
            " rosalind.gdoc\n",
            " Rosalind.gdoc\n",
            " SA.gdoc\n",
            " SB.gdoc\n",
            "'Shahin cv.html.html'\n",
            " sigma70_arrayCalculation.gdoc\n",
            " SigmaNotes.gdoc\n",
            " SigmaPromoters.gdoc\n",
            " SmallVersionAmericanEnglish.gdoc\n",
            "'Software E..gdoc'\n",
            "'SoP - UC Berkeley.gdoc'\n",
            "'SoP - US Universities [Sajid].gdoc'\n",
            "'SoP Words Count!.gdoc'\n",
            " Splitting_Train_Set_70_train_30_test_Results.txt\n",
            " SquaresCubesRoots.gdoc\n",
            "'SSH Linux.gdoc'\n",
            " Stammer.gdoc\n",
            "'Statement of Purpose (SoP).gdoc'\n",
            " TalkMind.gdoc\n",
            " tf2.0.ipynb\n",
            "'TOEFL Code.gdoc'\n",
            " TOEFL.gdoc\n",
            "'Top Bioinformarics Conferences.gdoc'\n",
            "'Typing Practice.gdoc'\n",
            " UCB-myWork.gdoc\n",
            "'UCB-Question?.gdoc'\n",
            " UITS.gdoc\n",
            "'UIU CGPA Distribution.gdoc'\n",
            "'University Apply Deadline.gsheet'\n",
            "'Untitled document (1).gdoc'\n",
            "'Untitled document (2).gdoc'\n",
            "'Untitled document (3).gdoc'\n",
            "'Untitled document.gdoc'\n",
            "'Untitled drawing.gdraw'\n",
            "'Untitled presentation (1).gslides'\n",
            "'Untitled presentation.gslides'\n",
            "'Untitled Site.gsite'\n",
            "'Untitled spreadsheet (1).gsheet'\n",
            "'Untitled spreadsheet (2).gsheet'\n",
            "'Untitled spreadsheet.gsheet'\n",
            " upWork.mp4\n",
            "'US Quiz.gdoc'\n",
            " UVA-Nathan.gdoc\n",
            " VBA_Macro.gdoc\n",
            " VBA_Macro.gslides\n",
            " vibrio.zip\n",
            " Web_and_Scraping.gdoc\n",
            " Web.gdoc\n",
            " Web.gslides\n",
            "'What is Recombination Hotspot?.gdoc'\n",
            " Wireshark.gdoc\n",
            " WordSuffix.gdoc\n"
          ],
          "name": "stdout"
        }
      ]
    },
    {
      "cell_type": "code",
      "metadata": {
        "id": "AR2dqG-R1xLM",
        "colab_type": "code",
        "colab": {}
      },
      "source": [
        ""
      ],
      "execution_count": 0,
      "outputs": []
    }
  ]
}