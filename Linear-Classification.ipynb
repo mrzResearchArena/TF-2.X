{
  "nbformat": 4,
  "nbformat_minor": 0,
  "metadata": {
    "colab": {
      "name": "Linear-Classification.ipynb",
      "provenance": [],
      "include_colab_link": true
    },
    "kernelspec": {
      "name": "python3",
      "display_name": "Python 3"
    },
    "accelerator": "GPU"
  },
  "cells": [
    {
      "cell_type": "markdown",
      "metadata": {
        "id": "view-in-github",
        "colab_type": "text"
      },
      "source": [
        "<a href=\"https://colab.research.google.com/github/mrzResearchArena/TF-2.X/blob/master/Linear-Classification.ipynb\" target=\"_parent\"><img src=\"https://colab.research.google.com/assets/colab-badge.svg\" alt=\"Open In Colab\"/></a>"
      ]
    },
    {
      "cell_type": "code",
      "metadata": {
        "id": "51CB8bMaQG3t",
        "colab_type": "code",
        "outputId": "65d58645-32c2-42a5-bedb-c78a03fc041c",
        "colab": {
          "base_uri": "https://localhost:8080/",
          "height": 124
        }
      },
      "source": [
        "try:\n",
        "    %tensorflow_version 2.x  # Colab only.\n",
        "except Exception:\n",
        "    pass\n",
        "\n",
        "import tensorflow as tf\n",
        "import sklearn\n",
        "import numpy as np\n",
        "print(tf.__version__)"
      ],
      "execution_count": 1,
      "outputs": [
        {
          "output_type": "stream",
          "text": [
            "`%tensorflow_version` only switches the major version: `1.x` or `2.x`.\n",
            "You set: `2.x  # Colab only.`. This will be interpreted as: `2.x`.\n",
            "\n",
            "\n",
            "TensorFlow 2.x selected.\n",
            "2.1.0-rc1\n"
          ],
          "name": "stdout"
        }
      ]
    },
    {
      "cell_type": "code",
      "metadata": {
        "id": "iYfAz4yvQcMV",
        "colab_type": "code",
        "colab": {}
      },
      "source": [
        "from sklearn.datasets import load_breast_cancer \n",
        "D = load_breast_cancer()"
      ],
      "execution_count": 0,
      "outputs": []
    },
    {
      "cell_type": "code",
      "metadata": {
        "id": "IhKGwF7cRaEH",
        "colab_type": "code",
        "outputId": "77e1e95a-d547-4df4-846f-e7966ff2cb71",
        "colab": {
          "base_uri": "https://localhost:8080/",
          "height": 35
        }
      },
      "source": [
        "D.keys()"
      ],
      "execution_count": 4,
      "outputs": [
        {
          "output_type": "execute_result",
          "data": {
            "text/plain": [
              "dict_keys(['data', 'target', 'target_names', 'DESCR', 'feature_names', 'filename'])"
            ]
          },
          "metadata": {
            "tags": []
          },
          "execution_count": 4
        }
      ]
    },
    {
      "cell_type": "code",
      "metadata": {
        "id": "Cc9gTDtsRiUW",
        "colab_type": "code",
        "outputId": "98bfcfed-a746-4319-ae5d-df75075e046e",
        "colab": {
          "base_uri": "https://localhost:8080/",
          "height": 249
        }
      },
      "source": [
        "X = D['data']\n",
        "# X.shape # --> (569, 30)\n",
        "X"
      ],
      "execution_count": 5,
      "outputs": [
        {
          "output_type": "execute_result",
          "data": {
            "text/plain": [
              "array([[1.799e+01, 1.038e+01, 1.228e+02, ..., 2.654e-01, 4.601e-01,\n",
              "        1.189e-01],\n",
              "       [2.057e+01, 1.777e+01, 1.329e+02, ..., 1.860e-01, 2.750e-01,\n",
              "        8.902e-02],\n",
              "       [1.969e+01, 2.125e+01, 1.300e+02, ..., 2.430e-01, 3.613e-01,\n",
              "        8.758e-02],\n",
              "       ...,\n",
              "       [1.660e+01, 2.808e+01, 1.083e+02, ..., 1.418e-01, 2.218e-01,\n",
              "        7.820e-02],\n",
              "       [2.060e+01, 2.933e+01, 1.401e+02, ..., 2.650e-01, 4.087e-01,\n",
              "        1.240e-01],\n",
              "       [7.760e+00, 2.454e+01, 4.792e+01, ..., 0.000e+00, 2.871e-01,\n",
              "        7.039e-02]])"
            ]
          },
          "metadata": {
            "tags": []
          },
          "execution_count": 5
        }
      ]
    },
    {
      "cell_type": "code",
      "metadata": {
        "id": "_Xq9_NzRRofW",
        "colab_type": "code",
        "outputId": "f19fc8da-0329-4c39-da2e-adf071e75328",
        "colab": {
          "base_uri": "https://localhost:8080/",
          "height": 482
        }
      },
      "source": [
        "Y = D['target']\n",
        "# Y.shape # --> (569,)\n",
        "Y"
      ],
      "execution_count": 6,
      "outputs": [
        {
          "output_type": "execute_result",
          "data": {
            "text/plain": [
              "array([0, 0, 0, 0, 0, 0, 0, 0, 0, 0, 0, 0, 0, 0, 0, 0, 0, 0, 0, 1, 1, 1,\n",
              "       0, 0, 0, 0, 0, 0, 0, 0, 0, 0, 0, 0, 0, 0, 0, 1, 0, 0, 0, 0, 0, 0,\n",
              "       0, 0, 1, 0, 1, 1, 1, 1, 1, 0, 0, 1, 0, 0, 1, 1, 1, 1, 0, 1, 0, 0,\n",
              "       1, 1, 1, 1, 0, 1, 0, 0, 1, 0, 1, 0, 0, 1, 1, 1, 0, 0, 1, 0, 0, 0,\n",
              "       1, 1, 1, 0, 1, 1, 0, 0, 1, 1, 1, 0, 0, 1, 1, 1, 1, 0, 1, 1, 0, 1,\n",
              "       1, 1, 1, 1, 1, 1, 1, 0, 0, 0, 1, 0, 0, 1, 1, 1, 0, 0, 1, 0, 1, 0,\n",
              "       0, 1, 0, 0, 1, 1, 0, 1, 1, 0, 1, 1, 1, 1, 0, 1, 1, 1, 1, 1, 1, 1,\n",
              "       1, 1, 0, 1, 1, 1, 1, 0, 0, 1, 0, 1, 1, 0, 0, 1, 1, 0, 0, 1, 1, 1,\n",
              "       1, 0, 1, 1, 0, 0, 0, 1, 0, 1, 0, 1, 1, 1, 0, 1, 1, 0, 0, 1, 0, 0,\n",
              "       0, 0, 1, 0, 0, 0, 1, 0, 1, 0, 1, 1, 0, 1, 0, 0, 0, 0, 1, 1, 0, 0,\n",
              "       1, 1, 1, 0, 1, 1, 1, 1, 1, 0, 0, 1, 1, 0, 1, 1, 0, 0, 1, 0, 1, 1,\n",
              "       1, 1, 0, 1, 1, 1, 1, 1, 0, 1, 0, 0, 0, 0, 0, 0, 0, 0, 0, 0, 0, 0,\n",
              "       0, 0, 1, 1, 1, 1, 1, 1, 0, 1, 0, 1, 1, 0, 1, 1, 0, 1, 0, 0, 1, 1,\n",
              "       1, 1, 1, 1, 1, 1, 1, 1, 1, 1, 1, 0, 1, 1, 0, 1, 0, 1, 1, 1, 1, 1,\n",
              "       1, 1, 1, 1, 1, 1, 1, 1, 1, 0, 1, 1, 1, 0, 1, 0, 1, 1, 1, 1, 0, 0,\n",
              "       0, 1, 1, 1, 1, 0, 1, 0, 1, 0, 1, 1, 1, 0, 1, 1, 1, 1, 1, 1, 1, 0,\n",
              "       0, 0, 1, 1, 1, 1, 1, 1, 1, 1, 1, 1, 1, 0, 0, 1, 0, 0, 0, 1, 0, 0,\n",
              "       1, 1, 1, 1, 1, 0, 1, 1, 1, 1, 1, 0, 1, 1, 1, 0, 1, 1, 0, 0, 1, 1,\n",
              "       1, 1, 1, 1, 0, 1, 1, 1, 1, 1, 1, 1, 0, 1, 1, 1, 1, 1, 0, 1, 1, 0,\n",
              "       1, 1, 1, 1, 1, 1, 1, 1, 1, 1, 1, 1, 0, 1, 0, 0, 1, 0, 1, 1, 1, 1,\n",
              "       1, 0, 1, 1, 0, 1, 0, 1, 1, 0, 1, 0, 1, 1, 1, 1, 1, 1, 1, 1, 0, 0,\n",
              "       1, 1, 1, 1, 1, 1, 0, 1, 1, 1, 1, 1, 1, 1, 1, 1, 1, 0, 1, 1, 1, 1,\n",
              "       1, 1, 1, 0, 1, 0, 1, 1, 0, 1, 1, 1, 1, 1, 0, 0, 1, 0, 1, 0, 1, 1,\n",
              "       1, 1, 1, 0, 1, 1, 0, 1, 0, 1, 0, 0, 1, 1, 1, 0, 1, 1, 1, 1, 1, 1,\n",
              "       1, 1, 1, 1, 1, 0, 1, 0, 0, 1, 1, 1, 1, 1, 1, 1, 1, 1, 1, 1, 1, 1,\n",
              "       1, 1, 1, 1, 1, 1, 1, 1, 1, 1, 1, 1, 0, 0, 0, 0, 0, 0, 1])"
            ]
          },
          "metadata": {
            "tags": []
          },
          "execution_count": 6
        }
      ]
    },
    {
      "cell_type": "code",
      "metadata": {
        "id": "TZX_ohg1TBLC",
        "colab_type": "code",
        "outputId": "655a7a1d-5a51-4e82-a68e-bd56acff2708",
        "colab": {
          "base_uri": "https://localhost:8080/",
          "height": 482
        }
      },
      "source": [
        "# from sklearn.utils import shuffle\n",
        "X, Y = sklearn.utils.shuffle(X, Y)\n",
        "Y"
      ],
      "execution_count": 7,
      "outputs": [
        {
          "output_type": "execute_result",
          "data": {
            "text/plain": [
              "array([1, 0, 0, 1, 1, 1, 1, 1, 0, 1, 0, 1, 1, 0, 1, 0, 0, 1, 1, 1, 0, 1,\n",
              "       1, 0, 1, 1, 0, 1, 0, 1, 1, 0, 1, 1, 1, 0, 0, 0, 0, 1, 1, 1, 0, 1,\n",
              "       0, 1, 1, 1, 1, 1, 1, 0, 1, 1, 0, 0, 1, 1, 0, 1, 1, 1, 0, 0, 0, 1,\n",
              "       0, 0, 0, 1, 0, 1, 0, 1, 0, 0, 1, 1, 1, 1, 0, 1, 0, 1, 1, 0, 1, 1,\n",
              "       0, 1, 0, 1, 1, 1, 0, 1, 1, 1, 1, 0, 1, 0, 0, 0, 0, 0, 1, 0, 1, 1,\n",
              "       0, 0, 0, 1, 0, 0, 1, 0, 1, 1, 1, 0, 1, 0, 1, 1, 0, 1, 0, 0, 1, 1,\n",
              "       0, 1, 0, 1, 1, 1, 1, 0, 0, 1, 1, 0, 0, 1, 1, 1, 1, 1, 1, 0, 1, 1,\n",
              "       1, 0, 1, 1, 1, 1, 1, 1, 1, 1, 0, 1, 0, 1, 1, 1, 1, 1, 0, 1, 0, 0,\n",
              "       0, 1, 0, 0, 1, 1, 1, 1, 1, 0, 0, 0, 1, 1, 1, 1, 1, 0, 0, 1, 0, 1,\n",
              "       0, 0, 0, 1, 1, 1, 0, 0, 0, 1, 0, 1, 0, 1, 1, 1, 1, 1, 0, 0, 1, 0,\n",
              "       1, 1, 1, 0, 0, 1, 0, 1, 1, 0, 0, 1, 1, 0, 1, 1, 1, 1, 1, 0, 0, 0,\n",
              "       1, 1, 1, 0, 0, 1, 1, 1, 0, 1, 1, 0, 1, 1, 1, 1, 1, 1, 0, 0, 1, 1,\n",
              "       1, 1, 1, 0, 0, 1, 1, 0, 1, 1, 0, 0, 1, 0, 1, 0, 1, 0, 1, 0, 1, 1,\n",
              "       1, 1, 1, 1, 1, 0, 1, 0, 0, 1, 1, 1, 1, 0, 1, 0, 1, 1, 0, 1, 0, 0,\n",
              "       1, 1, 0, 0, 1, 0, 0, 0, 1, 1, 0, 1, 1, 0, 1, 1, 1, 1, 1, 1, 0, 0,\n",
              "       0, 0, 1, 0, 1, 1, 1, 0, 0, 1, 1, 1, 1, 0, 0, 0, 1, 0, 1, 1, 1, 0,\n",
              "       1, 0, 1, 1, 1, 0, 1, 1, 0, 1, 1, 1, 1, 1, 0, 1, 0, 1, 1, 1, 0, 1,\n",
              "       1, 1, 1, 1, 0, 1, 1, 1, 0, 1, 1, 1, 1, 1, 1, 1, 0, 1, 0, 1, 0, 1,\n",
              "       0, 0, 1, 0, 1, 1, 1, 1, 1, 0, 1, 0, 1, 1, 1, 1, 1, 0, 1, 1, 1, 1,\n",
              "       1, 0, 1, 1, 1, 0, 1, 0, 1, 1, 1, 1, 0, 1, 1, 1, 1, 1, 1, 1, 1, 0,\n",
              "       1, 1, 1, 1, 0, 0, 1, 1, 0, 1, 0, 1, 1, 1, 0, 0, 1, 1, 1, 1, 0, 1,\n",
              "       0, 1, 0, 1, 1, 0, 0, 0, 0, 0, 1, 0, 0, 0, 0, 0, 0, 1, 0, 1, 1, 1,\n",
              "       1, 0, 0, 0, 1, 0, 0, 1, 0, 0, 1, 1, 1, 1, 1, 1, 1, 0, 1, 1, 1, 1,\n",
              "       1, 1, 0, 1, 0, 1, 1, 1, 0, 0, 1, 1, 0, 0, 1, 0, 1, 1, 1, 1, 0, 1,\n",
              "       0, 1, 1, 0, 1, 1, 1, 1, 1, 1, 1, 0, 0, 0, 1, 1, 1, 1, 1, 1, 0, 1,\n",
              "       1, 0, 1, 0, 1, 1, 0, 1, 0, 0, 1, 1, 1, 0, 1, 1, 0, 1, 1])"
            ]
          },
          "metadata": {
            "tags": []
          },
          "execution_count": 7
        }
      ]
    },
    {
      "cell_type": "code",
      "metadata": {
        "id": "FOJASsacjolG",
        "colab_type": "code",
        "colab": {}
      },
      "source": [
        "def Label(Y):\n",
        "    v = np.zeros(shape=(len(Y), len(set(Y))))\n",
        "    for i in range(len(Y)):\n",
        "        v[i, Y[i]] = 1\n",
        "    \n",
        "    return v\n"
      ],
      "execution_count": 0,
      "outputs": []
    },
    {
      "cell_type": "code",
      "metadata": {
        "id": "ayO54lWzlHDh",
        "colab_type": "code",
        "outputId": "970ca3ee-69cf-4a81-ffdc-f9f272fdf283",
        "colab": {
          "base_uri": "https://localhost:8080/",
          "height": 142
        }
      },
      "source": [
        "Y = Label(Y)\n",
        "Y"
      ],
      "execution_count": 9,
      "outputs": [
        {
          "output_type": "execute_result",
          "data": {
            "text/plain": [
              "array([[0., 1.],\n",
              "       [1., 0.],\n",
              "       [1., 0.],\n",
              "       ...,\n",
              "       [1., 0.],\n",
              "       [0., 1.],\n",
              "       [0., 1.]])"
            ]
          },
          "metadata": {
            "tags": []
          },
          "execution_count": 9
        }
      ]
    },
    {
      "cell_type": "code",
      "metadata": {
        "id": "TdUls1VhR2l4",
        "colab_type": "code",
        "outputId": "35244a90-a5ee-4811-c8a4-6bf6e2a9ca6a",
        "colab": {
          "base_uri": "https://localhost:8080/",
          "height": 35
        }
      },
      "source": [
        "D['target_names'] # malignant --> 0 and benign --> 1"
      ],
      "execution_count": 10,
      "outputs": [
        {
          "output_type": "execute_result",
          "data": {
            "text/plain": [
              "array(['malignant', 'benign'], dtype='<U9')"
            ]
          },
          "metadata": {
            "tags": []
          },
          "execution_count": 10
        }
      ]
    },
    {
      "cell_type": "code",
      "metadata": {
        "id": "cLGXSnbRSQJ5",
        "colab_type": "code",
        "colab": {}
      },
      "source": [
        "from sklearn.model_selection import train_test_split\n",
        "\n",
        "X_train, X_test, Y_train, Y_test = train_test_split(X, Y, test_size=0.33, random_state=0)"
      ],
      "execution_count": 0,
      "outputs": []
    },
    {
      "cell_type": "code",
      "metadata": {
        "id": "VpJktftRa9Sy",
        "colab_type": "code",
        "colab": {}
      },
      "source": [
        "from sklearn.preprocessing import StandardScaler\n",
        "z = StandardScaler()\n",
        "\n",
        "X_train = z.fit_transform(X_train)\n",
        "X_test = z.transform(X_test)"
      ],
      "execution_count": 0,
      "outputs": []
    },
    {
      "cell_type": "code",
      "metadata": {
        "id": "jtoMxc-WSrDG",
        "colab_type": "code",
        "outputId": "cc1b26ee-c00b-4a21-d3da-5fab017a30a7",
        "colab": {
          "base_uri": "https://localhost:8080/",
          "height": 35
        }
      },
      "source": [
        "N, D = X_train.shape\n",
        "print(N, D)"
      ],
      "execution_count": 13,
      "outputs": [
        {
          "output_type": "stream",
          "text": [
            "381 30\n"
          ],
          "name": "stdout"
        }
      ]
    },
    {
      "cell_type": "code",
      "metadata": {
        "id": "JYA6tUGcS7Mo",
        "colab_type": "code",
        "colab": {}
      },
      "source": [
        "model = tf.keras.models.Sequential([\n",
        "    tf.keras.layers.Input(shape=(D)),\n",
        "    tf.keras.layers.Dense(units=2, activation='softmax')                             \n",
        "])"
      ],
      "execution_count": 0,
      "outputs": []
    },
    {
      "cell_type": "code",
      "metadata": {
        "id": "p9pVoxcGUS3Z",
        "colab_type": "code",
        "colab": {}
      },
      "source": [
        "model.compile(optimizer='adam',\n",
        "              loss='categorical_crossentropy',\n",
        "              metrics=['accuracy'],\n",
        ")"
      ],
      "execution_count": 0,
      "outputs": []
    },
    {
      "cell_type": "code",
      "metadata": {
        "id": "Q4_888LkU31C",
        "colab_type": "code",
        "outputId": "8f6f4251-e7f9-492a-baa9-ecb2f35b16f9",
        "colab": {
          "base_uri": "https://localhost:8080/",
          "height": 1000
        }
      },
      "source": [
        "result = model.fit(X_train, Y_train, validation_data=(X_test, Y_test), epochs=200)"
      ],
      "execution_count": 16,
      "outputs": [
        {
          "output_type": "stream",
          "text": [
            "Train on 381 samples, validate on 188 samples\n",
            "Epoch 1/200\n",
            "381/381 [==============================] - 2s 5ms/sample - loss: 0.8325 - accuracy: 0.5564 - val_loss: 0.6622 - val_accuracy: 0.6489\n",
            "Epoch 2/200\n",
            "381/381 [==============================] - 0s 128us/sample - loss: 0.7160 - accuracy: 0.6535 - val_loss: 0.5567 - val_accuracy: 0.7074\n",
            "Epoch 3/200\n",
            "381/381 [==============================] - 0s 135us/sample - loss: 0.6183 - accuracy: 0.7297 - val_loss: 0.4805 - val_accuracy: 0.7819\n",
            "Epoch 4/200\n",
            "381/381 [==============================] - 0s 118us/sample - loss: 0.5439 - accuracy: 0.7717 - val_loss: 0.4230 - val_accuracy: 0.8191\n",
            "Epoch 5/200\n",
            "381/381 [==============================] - 0s 118us/sample - loss: 0.4883 - accuracy: 0.7979 - val_loss: 0.3782 - val_accuracy: 0.8670\n",
            "Epoch 6/200\n",
            "381/381 [==============================] - 0s 124us/sample - loss: 0.4392 - accuracy: 0.8294 - val_loss: 0.3459 - val_accuracy: 0.8777\n",
            "Epoch 7/200\n",
            "381/381 [==============================] - 0s 121us/sample - loss: 0.4031 - accuracy: 0.8451 - val_loss: 0.3198 - val_accuracy: 0.8830\n",
            "Epoch 8/200\n",
            "381/381 [==============================] - 0s 113us/sample - loss: 0.3713 - accuracy: 0.8556 - val_loss: 0.2984 - val_accuracy: 0.8883\n",
            "Epoch 9/200\n",
            "381/381 [==============================] - 0s 126us/sample - loss: 0.3453 - accuracy: 0.8688 - val_loss: 0.2795 - val_accuracy: 0.8936\n",
            "Epoch 10/200\n",
            "381/381 [==============================] - 0s 126us/sample - loss: 0.3207 - accuracy: 0.8740 - val_loss: 0.2651 - val_accuracy: 0.8989\n",
            "Epoch 11/200\n",
            "381/381 [==============================] - 0s 145us/sample - loss: 0.3017 - accuracy: 0.8845 - val_loss: 0.2516 - val_accuracy: 0.9043\n",
            "Epoch 12/200\n",
            "381/381 [==============================] - 0s 139us/sample - loss: 0.2841 - accuracy: 0.8976 - val_loss: 0.2397 - val_accuracy: 0.9096\n",
            "Epoch 13/200\n",
            "381/381 [==============================] - 0s 120us/sample - loss: 0.2692 - accuracy: 0.9081 - val_loss: 0.2300 - val_accuracy: 0.9096\n",
            "Epoch 14/200\n",
            "381/381 [==============================] - 0s 125us/sample - loss: 0.2554 - accuracy: 0.9108 - val_loss: 0.2206 - val_accuracy: 0.9096\n",
            "Epoch 15/200\n",
            "381/381 [==============================] - 0s 112us/sample - loss: 0.2441 - accuracy: 0.9186 - val_loss: 0.2127 - val_accuracy: 0.9255\n",
            "Epoch 16/200\n",
            "381/381 [==============================] - 0s 117us/sample - loss: 0.2330 - accuracy: 0.9186 - val_loss: 0.2054 - val_accuracy: 0.9309\n",
            "Epoch 17/200\n",
            "381/381 [==============================] - 0s 117us/sample - loss: 0.2230 - accuracy: 0.9318 - val_loss: 0.1988 - val_accuracy: 0.9309\n",
            "Epoch 18/200\n",
            "381/381 [==============================] - 0s 119us/sample - loss: 0.2143 - accuracy: 0.9344 - val_loss: 0.1924 - val_accuracy: 0.9362\n",
            "Epoch 19/200\n",
            "381/381 [==============================] - 0s 119us/sample - loss: 0.2062 - accuracy: 0.9344 - val_loss: 0.1865 - val_accuracy: 0.9362\n",
            "Epoch 20/200\n",
            "381/381 [==============================] - 0s 112us/sample - loss: 0.1988 - accuracy: 0.9396 - val_loss: 0.1815 - val_accuracy: 0.9362\n",
            "Epoch 21/200\n",
            "381/381 [==============================] - 0s 117us/sample - loss: 0.1922 - accuracy: 0.9423 - val_loss: 0.1767 - val_accuracy: 0.9415\n",
            "Epoch 22/200\n",
            "381/381 [==============================] - 0s 111us/sample - loss: 0.1859 - accuracy: 0.9475 - val_loss: 0.1722 - val_accuracy: 0.9468\n",
            "Epoch 23/200\n",
            "381/381 [==============================] - 0s 120us/sample - loss: 0.1803 - accuracy: 0.9475 - val_loss: 0.1681 - val_accuracy: 0.9521\n",
            "Epoch 24/200\n",
            "381/381 [==============================] - 0s 131us/sample - loss: 0.1751 - accuracy: 0.9475 - val_loss: 0.1640 - val_accuracy: 0.9521\n",
            "Epoch 25/200\n",
            "381/381 [==============================] - 0s 108us/sample - loss: 0.1701 - accuracy: 0.9475 - val_loss: 0.1603 - val_accuracy: 0.9521\n",
            "Epoch 26/200\n",
            "381/381 [==============================] - 0s 111us/sample - loss: 0.1658 - accuracy: 0.9528 - val_loss: 0.1569 - val_accuracy: 0.9574\n",
            "Epoch 27/200\n",
            "381/381 [==============================] - 0s 113us/sample - loss: 0.1614 - accuracy: 0.9528 - val_loss: 0.1538 - val_accuracy: 0.9628\n",
            "Epoch 28/200\n",
            "381/381 [==============================] - 0s 109us/sample - loss: 0.1577 - accuracy: 0.9554 - val_loss: 0.1506 - val_accuracy: 0.9628\n",
            "Epoch 29/200\n",
            "381/381 [==============================] - 0s 122us/sample - loss: 0.1540 - accuracy: 0.9554 - val_loss: 0.1477 - val_accuracy: 0.9628\n",
            "Epoch 30/200\n",
            "381/381 [==============================] - 0s 119us/sample - loss: 0.1506 - accuracy: 0.9554 - val_loss: 0.1449 - val_accuracy: 0.9574\n",
            "Epoch 31/200\n",
            "381/381 [==============================] - 0s 114us/sample - loss: 0.1474 - accuracy: 0.9580 - val_loss: 0.1423 - val_accuracy: 0.9574\n",
            "Epoch 32/200\n",
            "381/381 [==============================] - 0s 113us/sample - loss: 0.1444 - accuracy: 0.9606 - val_loss: 0.1399 - val_accuracy: 0.9574\n",
            "Epoch 33/200\n",
            "381/381 [==============================] - 0s 122us/sample - loss: 0.1417 - accuracy: 0.9633 - val_loss: 0.1375 - val_accuracy: 0.9574\n",
            "Epoch 34/200\n",
            "381/381 [==============================] - 0s 130us/sample - loss: 0.1390 - accuracy: 0.9633 - val_loss: 0.1354 - val_accuracy: 0.9574\n",
            "Epoch 35/200\n",
            "381/381 [==============================] - 0s 149us/sample - loss: 0.1366 - accuracy: 0.9633 - val_loss: 0.1333 - val_accuracy: 0.9574\n",
            "Epoch 36/200\n",
            "381/381 [==============================] - 0s 121us/sample - loss: 0.1343 - accuracy: 0.9633 - val_loss: 0.1315 - val_accuracy: 0.9574\n",
            "Epoch 37/200\n",
            "381/381 [==============================] - 0s 123us/sample - loss: 0.1321 - accuracy: 0.9633 - val_loss: 0.1295 - val_accuracy: 0.9574\n",
            "Epoch 38/200\n",
            "381/381 [==============================] - 0s 116us/sample - loss: 0.1300 - accuracy: 0.9633 - val_loss: 0.1273 - val_accuracy: 0.9574\n",
            "Epoch 39/200\n",
            "381/381 [==============================] - 0s 121us/sample - loss: 0.1280 - accuracy: 0.9633 - val_loss: 0.1258 - val_accuracy: 0.9574\n",
            "Epoch 40/200\n",
            "381/381 [==============================] - 0s 113us/sample - loss: 0.1259 - accuracy: 0.9633 - val_loss: 0.1242 - val_accuracy: 0.9574\n",
            "Epoch 41/200\n",
            "381/381 [==============================] - 0s 113us/sample - loss: 0.1243 - accuracy: 0.9633 - val_loss: 0.1225 - val_accuracy: 0.9574\n",
            "Epoch 42/200\n",
            "381/381 [==============================] - 0s 119us/sample - loss: 0.1225 - accuracy: 0.9633 - val_loss: 0.1211 - val_accuracy: 0.9574\n",
            "Epoch 43/200\n",
            "381/381 [==============================] - 0s 116us/sample - loss: 0.1208 - accuracy: 0.9633 - val_loss: 0.1197 - val_accuracy: 0.9574\n",
            "Epoch 44/200\n",
            "381/381 [==============================] - 0s 118us/sample - loss: 0.1193 - accuracy: 0.9633 - val_loss: 0.1182 - val_accuracy: 0.9574\n",
            "Epoch 45/200\n",
            "381/381 [==============================] - 0s 131us/sample - loss: 0.1178 - accuracy: 0.9633 - val_loss: 0.1169 - val_accuracy: 0.9574\n",
            "Epoch 46/200\n",
            "381/381 [==============================] - 0s 128us/sample - loss: 0.1164 - accuracy: 0.9659 - val_loss: 0.1156 - val_accuracy: 0.9628\n",
            "Epoch 47/200\n",
            "381/381 [==============================] - 0s 112us/sample - loss: 0.1150 - accuracy: 0.9659 - val_loss: 0.1143 - val_accuracy: 0.9628\n",
            "Epoch 48/200\n",
            "381/381 [==============================] - 0s 110us/sample - loss: 0.1137 - accuracy: 0.9659 - val_loss: 0.1131 - val_accuracy: 0.9628\n",
            "Epoch 49/200\n",
            "381/381 [==============================] - 0s 123us/sample - loss: 0.1124 - accuracy: 0.9659 - val_loss: 0.1122 - val_accuracy: 0.9628\n",
            "Epoch 50/200\n",
            "381/381 [==============================] - 0s 132us/sample - loss: 0.1111 - accuracy: 0.9659 - val_loss: 0.1112 - val_accuracy: 0.9628\n",
            "Epoch 51/200\n",
            "381/381 [==============================] - 0s 124us/sample - loss: 0.1100 - accuracy: 0.9659 - val_loss: 0.1100 - val_accuracy: 0.9628\n",
            "Epoch 52/200\n",
            "381/381 [==============================] - 0s 121us/sample - loss: 0.1089 - accuracy: 0.9685 - val_loss: 0.1091 - val_accuracy: 0.9628\n",
            "Epoch 53/200\n",
            "381/381 [==============================] - 0s 125us/sample - loss: 0.1078 - accuracy: 0.9685 - val_loss: 0.1081 - val_accuracy: 0.9681\n",
            "Epoch 54/200\n",
            "381/381 [==============================] - 0s 136us/sample - loss: 0.1067 - accuracy: 0.9685 - val_loss: 0.1071 - val_accuracy: 0.9681\n",
            "Epoch 55/200\n",
            "381/381 [==============================] - 0s 137us/sample - loss: 0.1057 - accuracy: 0.9685 - val_loss: 0.1061 - val_accuracy: 0.9681\n",
            "Epoch 56/200\n",
            "381/381 [==============================] - 0s 116us/sample - loss: 0.1047 - accuracy: 0.9685 - val_loss: 0.1052 - val_accuracy: 0.9681\n",
            "Epoch 57/200\n",
            "381/381 [==============================] - 0s 124us/sample - loss: 0.1038 - accuracy: 0.9685 - val_loss: 0.1044 - val_accuracy: 0.9681\n",
            "Epoch 58/200\n",
            "381/381 [==============================] - 0s 124us/sample - loss: 0.1029 - accuracy: 0.9685 - val_loss: 0.1037 - val_accuracy: 0.9681\n",
            "Epoch 59/200\n",
            "381/381 [==============================] - 0s 128us/sample - loss: 0.1020 - accuracy: 0.9685 - val_loss: 0.1029 - val_accuracy: 0.9681\n",
            "Epoch 60/200\n",
            "381/381 [==============================] - 0s 117us/sample - loss: 0.1012 - accuracy: 0.9685 - val_loss: 0.1022 - val_accuracy: 0.9681\n",
            "Epoch 61/200\n",
            "381/381 [==============================] - 0s 126us/sample - loss: 0.1003 - accuracy: 0.9685 - val_loss: 0.1013 - val_accuracy: 0.9681\n",
            "Epoch 62/200\n",
            "381/381 [==============================] - 0s 140us/sample - loss: 0.0995 - accuracy: 0.9685 - val_loss: 0.1005 - val_accuracy: 0.9681\n",
            "Epoch 63/200\n",
            "381/381 [==============================] - 0s 131us/sample - loss: 0.0988 - accuracy: 0.9685 - val_loss: 0.0996 - val_accuracy: 0.9734\n",
            "Epoch 64/200\n",
            "381/381 [==============================] - 0s 118us/sample - loss: 0.0980 - accuracy: 0.9711 - val_loss: 0.0991 - val_accuracy: 0.9734\n",
            "Epoch 65/200\n",
            "381/381 [==============================] - 0s 115us/sample - loss: 0.0972 - accuracy: 0.9711 - val_loss: 0.0984 - val_accuracy: 0.9734\n",
            "Epoch 66/200\n",
            "381/381 [==============================] - 0s 138us/sample - loss: 0.0966 - accuracy: 0.9711 - val_loss: 0.0976 - val_accuracy: 0.9734\n",
            "Epoch 67/200\n",
            "381/381 [==============================] - 0s 117us/sample - loss: 0.0958 - accuracy: 0.9738 - val_loss: 0.0971 - val_accuracy: 0.9734\n",
            "Epoch 68/200\n",
            "381/381 [==============================] - 0s 115us/sample - loss: 0.0951 - accuracy: 0.9738 - val_loss: 0.0965 - val_accuracy: 0.9734\n",
            "Epoch 69/200\n",
            "381/381 [==============================] - 0s 107us/sample - loss: 0.0945 - accuracy: 0.9738 - val_loss: 0.0959 - val_accuracy: 0.9734\n",
            "Epoch 70/200\n",
            "381/381 [==============================] - 0s 116us/sample - loss: 0.0938 - accuracy: 0.9738 - val_loss: 0.0953 - val_accuracy: 0.9734\n",
            "Epoch 71/200\n",
            "381/381 [==============================] - 0s 123us/sample - loss: 0.0932 - accuracy: 0.9764 - val_loss: 0.0946 - val_accuracy: 0.9734\n",
            "Epoch 72/200\n",
            "381/381 [==============================] - 0s 116us/sample - loss: 0.0926 - accuracy: 0.9764 - val_loss: 0.0940 - val_accuracy: 0.9734\n",
            "Epoch 73/200\n",
            "381/381 [==============================] - 0s 116us/sample - loss: 0.0920 - accuracy: 0.9790 - val_loss: 0.0935 - val_accuracy: 0.9734\n",
            "Epoch 74/200\n",
            "381/381 [==============================] - 0s 122us/sample - loss: 0.0915 - accuracy: 0.9790 - val_loss: 0.0930 - val_accuracy: 0.9734\n",
            "Epoch 75/200\n",
            "381/381 [==============================] - 0s 122us/sample - loss: 0.0909 - accuracy: 0.9790 - val_loss: 0.0925 - val_accuracy: 0.9734\n",
            "Epoch 76/200\n",
            "381/381 [==============================] - 0s 117us/sample - loss: 0.0903 - accuracy: 0.9790 - val_loss: 0.0921 - val_accuracy: 0.9734\n",
            "Epoch 77/200\n",
            "381/381 [==============================] - 0s 145us/sample - loss: 0.0898 - accuracy: 0.9790 - val_loss: 0.0916 - val_accuracy: 0.9734\n",
            "Epoch 78/200\n",
            "381/381 [==============================] - 0s 132us/sample - loss: 0.0893 - accuracy: 0.9816 - val_loss: 0.0912 - val_accuracy: 0.9734\n",
            "Epoch 79/200\n",
            "381/381 [==============================] - 0s 111us/sample - loss: 0.0888 - accuracy: 0.9843 - val_loss: 0.0905 - val_accuracy: 0.9734\n",
            "Epoch 80/200\n",
            "381/381 [==============================] - 0s 114us/sample - loss: 0.0884 - accuracy: 0.9816 - val_loss: 0.0903 - val_accuracy: 0.9734\n",
            "Epoch 81/200\n",
            "381/381 [==============================] - 0s 129us/sample - loss: 0.0878 - accuracy: 0.9843 - val_loss: 0.0898 - val_accuracy: 0.9734\n",
            "Epoch 82/200\n",
            "381/381 [==============================] - 0s 110us/sample - loss: 0.0873 - accuracy: 0.9843 - val_loss: 0.0893 - val_accuracy: 0.9734\n",
            "Epoch 83/200\n",
            "381/381 [==============================] - 0s 112us/sample - loss: 0.0868 - accuracy: 0.9843 - val_loss: 0.0888 - val_accuracy: 0.9734\n",
            "Epoch 84/200\n",
            "381/381 [==============================] - 0s 118us/sample - loss: 0.0864 - accuracy: 0.9843 - val_loss: 0.0883 - val_accuracy: 0.9734\n",
            "Epoch 85/200\n",
            "381/381 [==============================] - 0s 123us/sample - loss: 0.0859 - accuracy: 0.9843 - val_loss: 0.0880 - val_accuracy: 0.9734\n",
            "Epoch 86/200\n",
            "381/381 [==============================] - 0s 116us/sample - loss: 0.0855 - accuracy: 0.9843 - val_loss: 0.0875 - val_accuracy: 0.9734\n",
            "Epoch 87/200\n",
            "381/381 [==============================] - 0s 116us/sample - loss: 0.0851 - accuracy: 0.9843 - val_loss: 0.0871 - val_accuracy: 0.9734\n",
            "Epoch 88/200\n",
            "381/381 [==============================] - 0s 136us/sample - loss: 0.0846 - accuracy: 0.9843 - val_loss: 0.0868 - val_accuracy: 0.9734\n",
            "Epoch 89/200\n",
            "381/381 [==============================] - 0s 109us/sample - loss: 0.0842 - accuracy: 0.9843 - val_loss: 0.0864 - val_accuracy: 0.9734\n",
            "Epoch 90/200\n",
            "381/381 [==============================] - 0s 108us/sample - loss: 0.0838 - accuracy: 0.9843 - val_loss: 0.0860 - val_accuracy: 0.9734\n",
            "Epoch 91/200\n",
            "381/381 [==============================] - 0s 112us/sample - loss: 0.0835 - accuracy: 0.9843 - val_loss: 0.0858 - val_accuracy: 0.9734\n",
            "Epoch 92/200\n",
            "381/381 [==============================] - 0s 115us/sample - loss: 0.0830 - accuracy: 0.9843 - val_loss: 0.0853 - val_accuracy: 0.9734\n",
            "Epoch 93/200\n",
            "381/381 [==============================] - 0s 120us/sample - loss: 0.0827 - accuracy: 0.9843 - val_loss: 0.0849 - val_accuracy: 0.9734\n",
            "Epoch 94/200\n",
            "381/381 [==============================] - 0s 113us/sample - loss: 0.0823 - accuracy: 0.9843 - val_loss: 0.0845 - val_accuracy: 0.9734\n",
            "Epoch 95/200\n",
            "381/381 [==============================] - 0s 124us/sample - loss: 0.0819 - accuracy: 0.9843 - val_loss: 0.0843 - val_accuracy: 0.9734\n",
            "Epoch 96/200\n",
            "381/381 [==============================] - 0s 118us/sample - loss: 0.0816 - accuracy: 0.9843 - val_loss: 0.0838 - val_accuracy: 0.9734\n",
            "Epoch 97/200\n",
            "381/381 [==============================] - 0s 115us/sample - loss: 0.0812 - accuracy: 0.9869 - val_loss: 0.0837 - val_accuracy: 0.9734\n",
            "Epoch 98/200\n",
            "381/381 [==============================] - 0s 108us/sample - loss: 0.0808 - accuracy: 0.9869 - val_loss: 0.0832 - val_accuracy: 0.9734\n",
            "Epoch 99/200\n",
            "381/381 [==============================] - 0s 118us/sample - loss: 0.0805 - accuracy: 0.9869 - val_loss: 0.0829 - val_accuracy: 0.9734\n",
            "Epoch 100/200\n",
            "381/381 [==============================] - 0s 138us/sample - loss: 0.0802 - accuracy: 0.9869 - val_loss: 0.0827 - val_accuracy: 0.9734\n",
            "Epoch 101/200\n",
            "381/381 [==============================] - 0s 116us/sample - loss: 0.0798 - accuracy: 0.9869 - val_loss: 0.0823 - val_accuracy: 0.9734\n",
            "Epoch 102/200\n",
            "381/381 [==============================] - 0s 115us/sample - loss: 0.0795 - accuracy: 0.9869 - val_loss: 0.0821 - val_accuracy: 0.9734\n",
            "Epoch 103/200\n",
            "381/381 [==============================] - 0s 120us/sample - loss: 0.0792 - accuracy: 0.9869 - val_loss: 0.0817 - val_accuracy: 0.9734\n",
            "Epoch 104/200\n",
            "381/381 [==============================] - 0s 112us/sample - loss: 0.0788 - accuracy: 0.9869 - val_loss: 0.0815 - val_accuracy: 0.9734\n",
            "Epoch 105/200\n",
            "381/381 [==============================] - 0s 112us/sample - loss: 0.0785 - accuracy: 0.9869 - val_loss: 0.0811 - val_accuracy: 0.9734\n",
            "Epoch 106/200\n",
            "381/381 [==============================] - 0s 116us/sample - loss: 0.0782 - accuracy: 0.9869 - val_loss: 0.0809 - val_accuracy: 0.9734\n",
            "Epoch 107/200\n",
            "381/381 [==============================] - 0s 135us/sample - loss: 0.0779 - accuracy: 0.9869 - val_loss: 0.0806 - val_accuracy: 0.9734\n",
            "Epoch 108/200\n",
            "381/381 [==============================] - 0s 129us/sample - loss: 0.0777 - accuracy: 0.9869 - val_loss: 0.0804 - val_accuracy: 0.9734\n",
            "Epoch 109/200\n",
            "381/381 [==============================] - 0s 138us/sample - loss: 0.0774 - accuracy: 0.9869 - val_loss: 0.0801 - val_accuracy: 0.9734\n",
            "Epoch 110/200\n",
            "381/381 [==============================] - 0s 106us/sample - loss: 0.0771 - accuracy: 0.9869 - val_loss: 0.0798 - val_accuracy: 0.9734\n",
            "Epoch 111/200\n",
            "381/381 [==============================] - 0s 112us/sample - loss: 0.0768 - accuracy: 0.9869 - val_loss: 0.0795 - val_accuracy: 0.9734\n",
            "Epoch 112/200\n",
            "381/381 [==============================] - 0s 125us/sample - loss: 0.0765 - accuracy: 0.9869 - val_loss: 0.0794 - val_accuracy: 0.9734\n",
            "Epoch 113/200\n",
            "381/381 [==============================] - 0s 130us/sample - loss: 0.0762 - accuracy: 0.9869 - val_loss: 0.0790 - val_accuracy: 0.9734\n",
            "Epoch 114/200\n",
            "381/381 [==============================] - 0s 123us/sample - loss: 0.0760 - accuracy: 0.9869 - val_loss: 0.0789 - val_accuracy: 0.9681\n",
            "Epoch 115/200\n",
            "381/381 [==============================] - 0s 117us/sample - loss: 0.0758 - accuracy: 0.9869 - val_loss: 0.0785 - val_accuracy: 0.9734\n",
            "Epoch 116/200\n",
            "381/381 [==============================] - 0s 117us/sample - loss: 0.0755 - accuracy: 0.9869 - val_loss: 0.0784 - val_accuracy: 0.9681\n",
            "Epoch 117/200\n",
            "381/381 [==============================] - 0s 119us/sample - loss: 0.0752 - accuracy: 0.9869 - val_loss: 0.0781 - val_accuracy: 0.9681\n",
            "Epoch 118/200\n",
            "381/381 [==============================] - 0s 119us/sample - loss: 0.0749 - accuracy: 0.9869 - val_loss: 0.0779 - val_accuracy: 0.9681\n",
            "Epoch 119/200\n",
            "381/381 [==============================] - 0s 123us/sample - loss: 0.0747 - accuracy: 0.9869 - val_loss: 0.0777 - val_accuracy: 0.9681\n",
            "Epoch 120/200\n",
            "381/381 [==============================] - 0s 127us/sample - loss: 0.0744 - accuracy: 0.9869 - val_loss: 0.0776 - val_accuracy: 0.9681\n",
            "Epoch 121/200\n",
            "381/381 [==============================] - 0s 122us/sample - loss: 0.0742 - accuracy: 0.9869 - val_loss: 0.0774 - val_accuracy: 0.9681\n",
            "Epoch 122/200\n",
            "381/381 [==============================] - 0s 125us/sample - loss: 0.0740 - accuracy: 0.9869 - val_loss: 0.0771 - val_accuracy: 0.9681\n",
            "Epoch 123/200\n",
            "381/381 [==============================] - 0s 138us/sample - loss: 0.0738 - accuracy: 0.9869 - val_loss: 0.0770 - val_accuracy: 0.9681\n",
            "Epoch 124/200\n",
            "381/381 [==============================] - 0s 153us/sample - loss: 0.0735 - accuracy: 0.9869 - val_loss: 0.0767 - val_accuracy: 0.9681\n",
            "Epoch 125/200\n",
            "381/381 [==============================] - 0s 116us/sample - loss: 0.0733 - accuracy: 0.9869 - val_loss: 0.0765 - val_accuracy: 0.9681\n",
            "Epoch 126/200\n",
            "381/381 [==============================] - 0s 114us/sample - loss: 0.0731 - accuracy: 0.9869 - val_loss: 0.0762 - val_accuracy: 0.9681\n",
            "Epoch 127/200\n",
            "381/381 [==============================] - 0s 119us/sample - loss: 0.0729 - accuracy: 0.9869 - val_loss: 0.0761 - val_accuracy: 0.9681\n",
            "Epoch 128/200\n",
            "381/381 [==============================] - 0s 139us/sample - loss: 0.0726 - accuracy: 0.9869 - val_loss: 0.0759 - val_accuracy: 0.9681\n",
            "Epoch 129/200\n",
            "381/381 [==============================] - 0s 123us/sample - loss: 0.0724 - accuracy: 0.9869 - val_loss: 0.0757 - val_accuracy: 0.9681\n",
            "Epoch 130/200\n",
            "381/381 [==============================] - 0s 147us/sample - loss: 0.0722 - accuracy: 0.9869 - val_loss: 0.0755 - val_accuracy: 0.9681\n",
            "Epoch 131/200\n",
            "381/381 [==============================] - 0s 113us/sample - loss: 0.0720 - accuracy: 0.9869 - val_loss: 0.0752 - val_accuracy: 0.9681\n",
            "Epoch 132/200\n",
            "381/381 [==============================] - 0s 135us/sample - loss: 0.0718 - accuracy: 0.9869 - val_loss: 0.0752 - val_accuracy: 0.9681\n",
            "Epoch 133/200\n",
            "381/381 [==============================] - 0s 125us/sample - loss: 0.0716 - accuracy: 0.9869 - val_loss: 0.0749 - val_accuracy: 0.9681\n",
            "Epoch 134/200\n",
            "381/381 [==============================] - 0s 124us/sample - loss: 0.0714 - accuracy: 0.9869 - val_loss: 0.0747 - val_accuracy: 0.9681\n",
            "Epoch 135/200\n",
            "381/381 [==============================] - 0s 118us/sample - loss: 0.0712 - accuracy: 0.9869 - val_loss: 0.0746 - val_accuracy: 0.9681\n",
            "Epoch 136/200\n",
            "381/381 [==============================] - 0s 121us/sample - loss: 0.0710 - accuracy: 0.9869 - val_loss: 0.0745 - val_accuracy: 0.9681\n",
            "Epoch 137/200\n",
            "381/381 [==============================] - 0s 122us/sample - loss: 0.0708 - accuracy: 0.9869 - val_loss: 0.0743 - val_accuracy: 0.9681\n",
            "Epoch 138/200\n",
            "381/381 [==============================] - 0s 127us/sample - loss: 0.0706 - accuracy: 0.9843 - val_loss: 0.0743 - val_accuracy: 0.9734\n",
            "Epoch 139/200\n",
            "381/381 [==============================] - 0s 113us/sample - loss: 0.0704 - accuracy: 0.9869 - val_loss: 0.0739 - val_accuracy: 0.9681\n",
            "Epoch 140/200\n",
            "381/381 [==============================] - 0s 113us/sample - loss: 0.0703 - accuracy: 0.9869 - val_loss: 0.0736 - val_accuracy: 0.9681\n",
            "Epoch 141/200\n",
            "381/381 [==============================] - 0s 115us/sample - loss: 0.0701 - accuracy: 0.9869 - val_loss: 0.0735 - val_accuracy: 0.9681\n",
            "Epoch 142/200\n",
            "381/381 [==============================] - 0s 113us/sample - loss: 0.0699 - accuracy: 0.9869 - val_loss: 0.0734 - val_accuracy: 0.9681\n",
            "Epoch 143/200\n",
            "381/381 [==============================] - 0s 126us/sample - loss: 0.0697 - accuracy: 0.9869 - val_loss: 0.0733 - val_accuracy: 0.9734\n",
            "Epoch 144/200\n",
            "381/381 [==============================] - 0s 119us/sample - loss: 0.0695 - accuracy: 0.9869 - val_loss: 0.0731 - val_accuracy: 0.9734\n",
            "Epoch 145/200\n",
            "381/381 [==============================] - 0s 117us/sample - loss: 0.0693 - accuracy: 0.9843 - val_loss: 0.0730 - val_accuracy: 0.9734\n",
            "Epoch 146/200\n",
            "381/381 [==============================] - 0s 108us/sample - loss: 0.0692 - accuracy: 0.9843 - val_loss: 0.0729 - val_accuracy: 0.9734\n",
            "Epoch 147/200\n",
            "381/381 [==============================] - 0s 117us/sample - loss: 0.0690 - accuracy: 0.9843 - val_loss: 0.0727 - val_accuracy: 0.9734\n",
            "Epoch 148/200\n",
            "381/381 [==============================] - 0s 115us/sample - loss: 0.0689 - accuracy: 0.9843 - val_loss: 0.0726 - val_accuracy: 0.9734\n",
            "Epoch 149/200\n",
            "381/381 [==============================] - 0s 124us/sample - loss: 0.0687 - accuracy: 0.9843 - val_loss: 0.0725 - val_accuracy: 0.9734\n",
            "Epoch 150/200\n",
            "381/381 [==============================] - 0s 121us/sample - loss: 0.0686 - accuracy: 0.9843 - val_loss: 0.0721 - val_accuracy: 0.9734\n",
            "Epoch 151/200\n",
            "381/381 [==============================] - 0s 148us/sample - loss: 0.0684 - accuracy: 0.9843 - val_loss: 0.0720 - val_accuracy: 0.9734\n",
            "Epoch 152/200\n",
            "381/381 [==============================] - 0s 133us/sample - loss: 0.0682 - accuracy: 0.9843 - val_loss: 0.0720 - val_accuracy: 0.9734\n",
            "Epoch 153/200\n",
            "381/381 [==============================] - 0s 119us/sample - loss: 0.0680 - accuracy: 0.9843 - val_loss: 0.0718 - val_accuracy: 0.9734\n",
            "Epoch 154/200\n",
            "381/381 [==============================] - 0s 117us/sample - loss: 0.0679 - accuracy: 0.9843 - val_loss: 0.0716 - val_accuracy: 0.9734\n",
            "Epoch 155/200\n",
            "381/381 [==============================] - 0s 114us/sample - loss: 0.0677 - accuracy: 0.9843 - val_loss: 0.0716 - val_accuracy: 0.9734\n",
            "Epoch 156/200\n",
            "381/381 [==============================] - 0s 115us/sample - loss: 0.0676 - accuracy: 0.9843 - val_loss: 0.0713 - val_accuracy: 0.9734\n",
            "Epoch 157/200\n",
            "381/381 [==============================] - 0s 120us/sample - loss: 0.0676 - accuracy: 0.9843 - val_loss: 0.0714 - val_accuracy: 0.9734\n",
            "Epoch 158/200\n",
            "381/381 [==============================] - 0s 121us/sample - loss: 0.0673 - accuracy: 0.9843 - val_loss: 0.0712 - val_accuracy: 0.9734\n",
            "Epoch 159/200\n",
            "381/381 [==============================] - 0s 120us/sample - loss: 0.0671 - accuracy: 0.9843 - val_loss: 0.0710 - val_accuracy: 0.9734\n",
            "Epoch 160/200\n",
            "381/381 [==============================] - 0s 125us/sample - loss: 0.0670 - accuracy: 0.9843 - val_loss: 0.0709 - val_accuracy: 0.9734\n",
            "Epoch 161/200\n",
            "381/381 [==============================] - 0s 112us/sample - loss: 0.0669 - accuracy: 0.9843 - val_loss: 0.0708 - val_accuracy: 0.9734\n",
            "Epoch 162/200\n",
            "381/381 [==============================] - 0s 112us/sample - loss: 0.0667 - accuracy: 0.9843 - val_loss: 0.0706 - val_accuracy: 0.9734\n",
            "Epoch 163/200\n",
            "381/381 [==============================] - 0s 112us/sample - loss: 0.0666 - accuracy: 0.9843 - val_loss: 0.0706 - val_accuracy: 0.9734\n",
            "Epoch 164/200\n",
            "381/381 [==============================] - 0s 114us/sample - loss: 0.0665 - accuracy: 0.9843 - val_loss: 0.0703 - val_accuracy: 0.9734\n",
            "Epoch 165/200\n",
            "381/381 [==============================] - 0s 120us/sample - loss: 0.0664 - accuracy: 0.9843 - val_loss: 0.0703 - val_accuracy: 0.9734\n",
            "Epoch 166/200\n",
            "381/381 [==============================] - 0s 154us/sample - loss: 0.0662 - accuracy: 0.9843 - val_loss: 0.0702 - val_accuracy: 0.9734\n",
            "Epoch 167/200\n",
            "381/381 [==============================] - 0s 117us/sample - loss: 0.0661 - accuracy: 0.9843 - val_loss: 0.0700 - val_accuracy: 0.9734\n",
            "Epoch 168/200\n",
            "381/381 [==============================] - 0s 123us/sample - loss: 0.0659 - accuracy: 0.9843 - val_loss: 0.0699 - val_accuracy: 0.9734\n",
            "Epoch 169/200\n",
            "381/381 [==============================] - 0s 119us/sample - loss: 0.0658 - accuracy: 0.9843 - val_loss: 0.0698 - val_accuracy: 0.9734\n",
            "Epoch 170/200\n",
            "381/381 [==============================] - 0s 111us/sample - loss: 0.0656 - accuracy: 0.9843 - val_loss: 0.0697 - val_accuracy: 0.9734\n",
            "Epoch 171/200\n",
            "381/381 [==============================] - 0s 116us/sample - loss: 0.0656 - accuracy: 0.9843 - val_loss: 0.0696 - val_accuracy: 0.9734\n",
            "Epoch 172/200\n",
            "381/381 [==============================] - 0s 121us/sample - loss: 0.0654 - accuracy: 0.9843 - val_loss: 0.0695 - val_accuracy: 0.9734\n",
            "Epoch 173/200\n",
            "381/381 [==============================] - 0s 156us/sample - loss: 0.0653 - accuracy: 0.9843 - val_loss: 0.0695 - val_accuracy: 0.9734\n",
            "Epoch 174/200\n",
            "381/381 [==============================] - 0s 132us/sample - loss: 0.0651 - accuracy: 0.9843 - val_loss: 0.0693 - val_accuracy: 0.9734\n",
            "Epoch 175/200\n",
            "381/381 [==============================] - 0s 129us/sample - loss: 0.0651 - accuracy: 0.9843 - val_loss: 0.0693 - val_accuracy: 0.9787\n",
            "Epoch 176/200\n",
            "381/381 [==============================] - 0s 122us/sample - loss: 0.0649 - accuracy: 0.9843 - val_loss: 0.0690 - val_accuracy: 0.9787\n",
            "Epoch 177/200\n",
            "381/381 [==============================] - 0s 112us/sample - loss: 0.0648 - accuracy: 0.9843 - val_loss: 0.0688 - val_accuracy: 0.9734\n",
            "Epoch 178/200\n",
            "381/381 [==============================] - 0s 117us/sample - loss: 0.0647 - accuracy: 0.9843 - val_loss: 0.0688 - val_accuracy: 0.9787\n",
            "Epoch 179/200\n",
            "381/381 [==============================] - 0s 121us/sample - loss: 0.0646 - accuracy: 0.9843 - val_loss: 0.0689 - val_accuracy: 0.9787\n",
            "Epoch 180/200\n",
            "381/381 [==============================] - 0s 123us/sample - loss: 0.0644 - accuracy: 0.9843 - val_loss: 0.0687 - val_accuracy: 0.9787\n",
            "Epoch 181/200\n",
            "381/381 [==============================] - 0s 115us/sample - loss: 0.0643 - accuracy: 0.9843 - val_loss: 0.0686 - val_accuracy: 0.9787\n",
            "Epoch 182/200\n",
            "381/381 [==============================] - 0s 116us/sample - loss: 0.0643 - accuracy: 0.9843 - val_loss: 0.0682 - val_accuracy: 0.9787\n",
            "Epoch 183/200\n",
            "381/381 [==============================] - 0s 113us/sample - loss: 0.0641 - accuracy: 0.9843 - val_loss: 0.0684 - val_accuracy: 0.9787\n",
            "Epoch 184/200\n",
            "381/381 [==============================] - 0s 124us/sample - loss: 0.0640 - accuracy: 0.9843 - val_loss: 0.0682 - val_accuracy: 0.9787\n",
            "Epoch 185/200\n",
            "381/381 [==============================] - 0s 147us/sample - loss: 0.0639 - accuracy: 0.9843 - val_loss: 0.0680 - val_accuracy: 0.9787\n",
            "Epoch 186/200\n",
            "381/381 [==============================] - 0s 135us/sample - loss: 0.0639 - accuracy: 0.9843 - val_loss: 0.0682 - val_accuracy: 0.9787\n",
            "Epoch 187/200\n",
            "381/381 [==============================] - 0s 114us/sample - loss: 0.0638 - accuracy: 0.9843 - val_loss: 0.0678 - val_accuracy: 0.9787\n",
            "Epoch 188/200\n",
            "381/381 [==============================] - 0s 113us/sample - loss: 0.0637 - accuracy: 0.9843 - val_loss: 0.0677 - val_accuracy: 0.9787\n",
            "Epoch 189/200\n",
            "381/381 [==============================] - 0s 155us/sample - loss: 0.0635 - accuracy: 0.9843 - val_loss: 0.0677 - val_accuracy: 0.9787\n",
            "Epoch 190/200\n",
            "381/381 [==============================] - 0s 124us/sample - loss: 0.0634 - accuracy: 0.9843 - val_loss: 0.0676 - val_accuracy: 0.9787\n",
            "Epoch 191/200\n",
            "381/381 [==============================] - 0s 116us/sample - loss: 0.0633 - accuracy: 0.9843 - val_loss: 0.0675 - val_accuracy: 0.9787\n",
            "Epoch 192/200\n",
            "381/381 [==============================] - 0s 112us/sample - loss: 0.0631 - accuracy: 0.9843 - val_loss: 0.0673 - val_accuracy: 0.9787\n",
            "Epoch 193/200\n",
            "381/381 [==============================] - 0s 115us/sample - loss: 0.0631 - accuracy: 0.9843 - val_loss: 0.0674 - val_accuracy: 0.9787\n",
            "Epoch 194/200\n",
            "381/381 [==============================] - 0s 137us/sample - loss: 0.0629 - accuracy: 0.9843 - val_loss: 0.0673 - val_accuracy: 0.9787\n",
            "Epoch 195/200\n",
            "381/381 [==============================] - 0s 123us/sample - loss: 0.0629 - accuracy: 0.9843 - val_loss: 0.0673 - val_accuracy: 0.9787\n",
            "Epoch 196/200\n",
            "381/381 [==============================] - 0s 135us/sample - loss: 0.0628 - accuracy: 0.9843 - val_loss: 0.0670 - val_accuracy: 0.9787\n",
            "Epoch 197/200\n",
            "381/381 [==============================] - 0s 126us/sample - loss: 0.0627 - accuracy: 0.9843 - val_loss: 0.0671 - val_accuracy: 0.9787\n",
            "Epoch 198/200\n",
            "381/381 [==============================] - 0s 112us/sample - loss: 0.0626 - accuracy: 0.9843 - val_loss: 0.0671 - val_accuracy: 0.9787\n",
            "Epoch 199/200\n",
            "381/381 [==============================] - 0s 133us/sample - loss: 0.0625 - accuracy: 0.9843 - val_loss: 0.0670 - val_accuracy: 0.9787\n",
            "Epoch 200/200\n",
            "381/381 [==============================] - 0s 120us/sample - loss: 0.0624 - accuracy: 0.9843 - val_loss: 0.0668 - val_accuracy: 0.9787\n"
          ],
          "name": "stdout"
        }
      ]
    },
    {
      "cell_type": "code",
      "metadata": {
        "id": "0uHbUJa36vhT",
        "colab_type": "code",
        "colab": {}
      },
      "source": [
        "Yp = model.predict(X_test)"
      ],
      "execution_count": 0,
      "outputs": []
    },
    {
      "cell_type": "code",
      "metadata": {
        "id": "Nl7GVx7ZVxa-",
        "colab_type": "code",
        "outputId": "e46cdd62-4c44-4d98-c3c8-961cb76ec06c",
        "colab": {
          "base_uri": "https://localhost:8080/",
          "height": 88
        }
      },
      "source": [
        "print('Training Accuracy: {}'.format(model.evaluate(X_train, Y_train)))\n",
        "print('Testing Accuracy: {}'.format(model.evaluate(X_test, Y_test)))\n",
        "\n",
        "# # Evaluate the model - evaluate() returns loss and accuracy\n",
        "# print(\"Train score:\", model.evaluate(X_train, Y_train))\n",
        "# print(\"Test score:\", model.evaluate(X_test, Y_test))"
      ],
      "execution_count": 20,
      "outputs": [
        {
          "output_type": "stream",
          "text": [
            "381/381 [==============================] - 0s 73us/sample - loss: 0.0623 - accuracy: 0.9843\n",
            "Training Accuracy: [0.062254386565347354, 0.984252]\n",
            "188/188 [==============================] - 0s 85us/sample - loss: 0.0668 - accuracy: 0.9787\n",
            "Testing Accuracy: [0.06679794588621626, 0.9787234]\n"
          ],
          "name": "stdout"
        }
      ]
    },
    {
      "cell_type": "code",
      "metadata": {
        "id": "7D0VaZNrXev0",
        "colab_type": "code",
        "outputId": "42c7762f-5815-47a9-e759-a55fa3573934",
        "colab": {
          "base_uri": "https://localhost:8080/",
          "height": 279
        }
      },
      "source": [
        "import matplotlib.pyplot as plt\n",
        "plt.plot(result.history['loss'], label='loss')\n",
        "plt.plot(result.history['val_loss'], label='val_loss')\n",
        "plt.xlabel('Epoch')\n",
        "plt.ylabel('Loss')\n",
        "plt.legend()\n",
        "plt.show()"
      ],
      "execution_count": 21,
      "outputs": [
        {
          "output_type": "display_data",
          "data": {
            "image/png": "[encoded data removed]",
            "text/plain": [
              "<Figure size 432x288 with 1 Axes>"
            ]
          },
          "metadata": {
            "tags": []
          }
        }
      ]
    },
    {
      "cell_type": "code",
      "metadata": {
        "id": "RyhFsUefcjxh",
        "colab_type": "code",
        "outputId": "7dfa0385-8542-437b-8242-85c58041e96b",
        "colab": {
          "base_uri": "https://localhost:8080/",
          "height": 279
        }
      },
      "source": [
        "import matplotlib.pyplot as plt\n",
        "plt.plot(result.history['accuracy'], label='accuracy')\n",
        "plt.plot(result.history['val_accuracy'], label='val_accuracy')\n",
        "plt.xlabel('Epoch')\n",
        "plt.ylabel('Accuracy')\n",
        "plt.legend()\n",
        "plt.show()"
      ],
      "execution_count": 22,
      "outputs": [
        {
          "output_type": "display_data",
          "data": {
            "image/png": "[encoded data removed]",
            "text/plain": [
              "<Figure size 432x288 with 1 Axes>"
            ]
          },
          "metadata": {
            "tags": []
          }
        }
      ]
    },
    {
      "cell_type": "code",
      "metadata": {
        "id": "MoxHh_Exctpx",
        "colab_type": "code",
        "outputId": "4f8f7659-fae0-47c3-8fd0-6a8fb6c19667",
        "colab": {
          "base_uri": "https://localhost:8080/",
          "height": 196
        }
      },
      "source": [
        "model.summary()"
      ],
      "execution_count": 23,
      "outputs": [
        {
          "output_type": "stream",
          "text": [
            "Model: \"sequential\"\n",
            "_________________________________________________________________\n",
            "Layer (type)                 Output Shape              Param #   \n",
            "=================================================================\n",
            "dense (Dense)                (None, 2)                 62        \n",
            "=================================================================\n",
            "Total params: 62\n",
            "Trainable params: 62\n",
            "Non-trainable params: 0\n",
            "_________________________________________________________________\n"
          ],
          "name": "stdout"
        }
      ]
    },
    {
      "cell_type": "code",
      "metadata": {
        "id": "p9tb6nKuoSKu",
        "colab_type": "code",
        "outputId": "c9072146-fa14-4261-89e8-1043a5f14658",
        "colab": {
          "base_uri": "https://localhost:8080/",
          "height": 1000
        }
      },
      "source": [
        "Yp"
      ],
      "execution_count": 24,
      "outputs": [
        {
          "output_type": "execute_result",
          "data": {
            "text/plain": [
              "array([[5.82247121e-05, 9.99941826e-01],\n",
              "       [8.23037117e-05, 9.99917746e-01],\n",
              "       [8.89319718e-01, 1.10680267e-01],\n",
              "       [3.61241182e-05, 9.99963880e-01],\n",
              "       [9.99999285e-01, 6.74969840e-07],\n",
              "       [9.99989033e-01, 1.09649964e-05],\n",
              "       [1.00000000e+00, 1.83691782e-08],\n",
              "       [9.94582474e-01, 5.41755464e-03],\n",
              "       [5.38371736e-03, 9.94616330e-01],\n",
              "       [9.96864080e-01, 3.13599384e-03],\n",
              "       [1.26763619e-02, 9.87323701e-01],\n",
              "       [9.99996662e-01, 3.35988807e-06],\n",
              "       [1.95312896e-04, 9.99804676e-01],\n",
              "       [1.92528329e-04, 9.99807537e-01],\n",
              "       [3.19279805e-02, 9.68071997e-01],\n",
              "       [9.99850631e-01, 1.49314234e-04],\n",
              "       [1.00000000e+00, 1.31269351e-08],\n",
              "       [9.99999881e-01, 7.44489057e-08],\n",
              "       [1.13607617e-04, 9.99886394e-01],\n",
              "       [9.06927407e-01, 9.30725709e-02],\n",
              "       [9.97294366e-01, 2.70567043e-03],\n",
              "       [9.99999523e-01, 4.82354380e-07],\n",
              "       [5.05392563e-06, 9.99994993e-01],\n",
              "       [6.20933366e-04, 9.99379039e-01],\n",
              "       [9.86099899e-01, 1.39000379e-02],\n",
              "       [2.95281084e-03, 9.97047246e-01],\n",
              "       [1.64996914e-03, 9.98350024e-01],\n",
              "       [2.37996061e-03, 9.97620046e-01],\n",
              "       [8.54128748e-02, 9.14587140e-01],\n",
              "       [9.99842405e-01, 1.57529968e-04],\n",
              "       [1.00000000e+00, 1.59247548e-08],\n",
              "       [9.99998331e-01, 1.70517808e-06],\n",
              "       [2.45750034e-05, 9.99975443e-01],\n",
              "       [1.00000000e+00, 3.81879559e-08],\n",
              "       [9.99960184e-01, 3.98185475e-05],\n",
              "       [9.99959826e-01, 4.02013175e-05],\n",
              "       [9.99997020e-01, 2.99987187e-06],\n",
              "       [7.55573046e-06, 9.99992490e-01],\n",
              "       [7.44076865e-03, 9.92559195e-01],\n",
              "       [9.70325887e-01, 2.96741072e-02],\n",
              "       [2.02885717e-01, 7.97114313e-01],\n",
              "       [4.11608592e-02, 9.58839178e-01],\n",
              "       [9.99999285e-01, 7.46613466e-07],\n",
              "       [3.81289534e-02, 9.61871028e-01],\n",
              "       [1.14937993e-02, 9.88506198e-01],\n",
              "       [1.59352217e-02, 9.84064758e-01],\n",
              "       [9.94053304e-01, 5.94673259e-03],\n",
              "       [1.31476996e-02, 9.86852348e-01],\n",
              "       [3.23258602e-04, 9.99676704e-01],\n",
              "       [9.99996305e-01, 3.65890514e-06],\n",
              "       [4.24539139e-05, 9.99957561e-01],\n",
              "       [1.00000000e+00, 1.94292626e-09],\n",
              "       [9.99996543e-01, 3.50584946e-06],\n",
              "       [3.11165482e-01, 6.88834548e-01],\n",
              "       [9.99479711e-01, 5.20343659e-04],\n",
              "       [2.98108444e-05, 9.99970198e-01],\n",
              "       [1.35686423e-04, 9.99864340e-01],\n",
              "       [9.96359885e-01, 3.64007778e-03],\n",
              "       [9.83164787e-01, 1.68351717e-02],\n",
              "       [2.34845523e-02, 9.76515532e-01],\n",
              "       [8.36205855e-02, 9.16379452e-01],\n",
              "       [9.99994874e-01, 5.13961186e-06],\n",
              "       [5.01256716e-03, 9.94987488e-01],\n",
              "       [6.48809850e-01, 3.51190090e-01],\n",
              "       [1.00000000e+00, 3.74249971e-11],\n",
              "       [9.84628320e-01, 1.53716980e-02],\n",
              "       [6.49509132e-01, 3.50490808e-01],\n",
              "       [9.68730569e-01, 3.12694386e-02],\n",
              "       [9.96254444e-01, 3.74559336e-03],\n",
              "       [1.00000000e+00, 1.55640865e-11],\n",
              "       [2.81818863e-03, 9.97181892e-01],\n",
              "       [1.11924695e-04, 9.99888062e-01],\n",
              "       [1.38728358e-02, 9.86127138e-01],\n",
              "       [1.84342684e-03, 9.98156607e-01],\n",
              "       [8.35066363e-02, 9.16493356e-01],\n",
              "       [1.32973287e-02, 9.86702681e-01],\n",
              "       [1.11761820e-02, 9.88823831e-01],\n",
              "       [4.73608176e-04, 9.99526381e-01],\n",
              "       [1.57135744e-02, 9.84286487e-01],\n",
              "       [6.04210468e-03, 9.93957877e-01],\n",
              "       [9.98382092e-01, 1.61789719e-03],\n",
              "       [1.66733369e-01, 8.33266675e-01],\n",
              "       [3.16471666e-01, 6.83528364e-01],\n",
              "       [1.31103825e-02, 9.86889601e-01],\n",
              "       [9.97895956e-01, 2.10407376e-03],\n",
              "       [3.43302934e-04, 9.99656677e-01],\n",
              "       [1.90160223e-04, 9.99809921e-01],\n",
              "       [4.04067192e-04, 9.99595940e-01],\n",
              "       [9.57725395e-04, 9.99042213e-01],\n",
              "       [5.49941324e-04, 9.99450028e-01],\n",
              "       [8.67359899e-03, 9.91326392e-01],\n",
              "       [9.99974728e-01, 2.52219543e-05],\n",
              "       [9.99975920e-01, 2.41174876e-05],\n",
              "       [2.50276495e-02, 9.74972308e-01],\n",
              "       [1.36308165e-06, 9.99998689e-01],\n",
              "       [9.99230027e-01, 7.70020182e-04],\n",
              "       [7.18072355e-02, 9.28192735e-01],\n",
              "       [3.00711789e-03, 9.96992826e-01],\n",
              "       [1.75595076e-07, 9.99999881e-01],\n",
              "       [2.25493358e-03, 9.97745037e-01],\n",
              "       [1.78581884e-03, 9.98214245e-01],\n",
              "       [9.99991417e-01, 8.56107727e-06],\n",
              "       [5.83577342e-03, 9.94164288e-01],\n",
              "       [6.70816880e-05, 9.99932885e-01],\n",
              "       [5.26134789e-01, 4.73865241e-01],\n",
              "       [2.00213209e-01, 7.99786806e-01],\n",
              "       [6.46165669e-01, 3.53834331e-01],\n",
              "       [9.99991775e-01, 8.17369983e-06],\n",
              "       [4.65489142e-02, 9.53451157e-01],\n",
              "       [2.19969638e-03, 9.97800291e-01],\n",
              "       [9.99939680e-01, 6.03101944e-05],\n",
              "       [5.12148945e-05, 9.99948740e-01],\n",
              "       [1.32167235e-03, 9.98678267e-01],\n",
              "       [1.99820031e-03, 9.98001754e-01],\n",
              "       [9.99769747e-01, 2.30305712e-04],\n",
              "       [4.58609648e-02, 9.54138994e-01],\n",
              "       [1.00140329e-02, 9.89985883e-01],\n",
              "       [4.03859513e-03, 9.95961368e-01],\n",
              "       [9.99975085e-01, 2.48928627e-05],\n",
              "       [2.36635897e-02, 9.76336360e-01],\n",
              "       [9.99999881e-01, 9.79876802e-08],\n",
              "       [1.28190713e-02, 9.87180889e-01],\n",
              "       [4.65548821e-02, 9.53445077e-01],\n",
              "       [8.69740761e-05, 9.99912977e-01],\n",
              "       [9.95149910e-01, 4.85011376e-03],\n",
              "       [8.55608463e-01, 1.44391552e-01],\n",
              "       [2.31023063e-03, 9.97689843e-01],\n",
              "       [1.00000000e+00, 1.49315011e-12],\n",
              "       [8.53564888e-02, 9.14643466e-01],\n",
              "       [2.77359155e-03, 9.97226417e-01],\n",
              "       [9.68026876e-01, 3.19731385e-02],\n",
              "       [5.98533332e-01, 4.01466668e-01],\n",
              "       [9.91597235e-01, 8.40278901e-03],\n",
              "       [9.99617934e-01, 3.81991907e-04],\n",
              "       [2.43506511e-03, 9.97564912e-01],\n",
              "       [9.99999881e-01, 7.10304207e-08],\n",
              "       [1.35676783e-05, 9.99986410e-01],\n",
              "       [9.99126732e-01, 8.73310666e-04],\n",
              "       [6.43181801e-02, 9.35681760e-01],\n",
              "       [4.16324947e-05, 9.99958396e-01],\n",
              "       [1.16776843e-02, 9.88322318e-01],\n",
              "       [9.75053199e-03, 9.90249455e-01],\n",
              "       [3.16465856e-04, 9.99683499e-01],\n",
              "       [1.00000000e+00, 1.72066841e-08],\n",
              "       [5.93507684e-05, 9.99940634e-01],\n",
              "       [1.16356117e-04, 9.99883652e-01],\n",
              "       [3.80185642e-03, 9.96198118e-01],\n",
              "       [7.79861748e-01, 2.20138192e-01],\n",
              "       [1.76645666e-02, 9.82335389e-01],\n",
              "       [9.69308615e-01, 3.06913778e-02],\n",
              "       [1.52566165e-01, 8.47433805e-01],\n",
              "       [9.94882703e-01, 5.11736469e-03],\n",
              "       [9.99909401e-01, 9.06155619e-05],\n",
              "       [8.09679627e-01, 1.90320343e-01],\n",
              "       [9.98815298e-01, 1.18472334e-03],\n",
              "       [1.80849656e-06, 9.99998212e-01],\n",
              "       [1.60609037e-04, 9.99839306e-01],\n",
              "       [1.00000000e+00, 3.47199935e-10],\n",
              "       [5.60944864e-05, 9.99943852e-01],\n",
              "       [9.89105523e-01, 1.08944317e-02],\n",
              "       [9.99834657e-01, 1.65357502e-04],\n",
              "       [9.85526573e-03, 9.90144730e-01],\n",
              "       [8.05674568e-02, 9.19432521e-01],\n",
              "       [1.12994712e-04, 9.99886990e-01],\n",
              "       [2.06854269e-02, 9.79314566e-01],\n",
              "       [9.99954939e-01, 4.50574844e-05],\n",
              "       [9.52131377e-05, 9.99904752e-01],\n",
              "       [4.50623661e-01, 5.49376309e-01],\n",
              "       [1.83858443e-02, 9.81614232e-01],\n",
              "       [7.09107369e-02, 9.29089308e-01],\n",
              "       [9.99771297e-01, 2.28753008e-04],\n",
              "       [7.68678010e-01, 2.31322005e-01],\n",
              "       [6.14715856e-04, 9.99385238e-01],\n",
              "       [9.99969125e-01, 3.09101961e-05],\n",
              "       [9.93320882e-01, 6.67910418e-03],\n",
              "       [3.33148688e-01, 6.66851282e-01],\n",
              "       [7.47167617e-02, 9.25283253e-01],\n",
              "       [9.84572172e-01, 1.54277962e-02],\n",
              "       [1.53468847e-01, 8.46531153e-01],\n",
              "       [8.66923988e-01, 1.33076042e-01],\n",
              "       [3.10726520e-02, 9.68927383e-01],\n",
              "       [8.73597741e-01, 1.26402214e-01],\n",
              "       [4.11307701e-05, 9.99958873e-01],\n",
              "       [3.94772366e-03, 9.96052265e-01],\n",
              "       [6.84766273e-04, 9.99315262e-01],\n",
              "       [9.77552891e-01, 2.24471856e-02],\n",
              "       [9.99993086e-01, 6.94049913e-06],\n",
              "       [8.79565906e-03, 9.91204321e-01]], dtype=float32)"
            ]
          },
          "metadata": {
            "tags": []
          },
          "execution_count": 24
        }
      ]
    },
    {
      "cell_type": "code",
      "metadata": {
        "id": "XhBP5d3To-m8",
        "colab_type": "code",
        "colab": {
          "base_uri": "https://localhost:8080/",
          "height": 35
        },
        "outputId": "19d23faf-2c37-4fe2-accf-35c66a295902"
      },
      "source": [
        "# v = np.argmax(Yp, axis=1, keepdims=True)\n",
        "# v\n",
        "v = np.round(Yp)\n",
        "\n",
        "C = 0\n",
        "for real, pred in zip(Y_test, v):\n",
        "    if real[0] == pred[0] and real[1] == pred[1]:\n",
        "        C += 1\n",
        "\n",
        "print(C/len(v)) "
      ],
      "execution_count": 42,
      "outputs": [
        {
          "output_type": "stream",
          "text": [
            "0.9787234042553191\n"
          ],
          "name": "stdout"
        }
      ]
    },
    {
      "cell_type": "code",
      "metadata": {
        "id": "9_Z12mdn74cm",
        "colab_type": "code",
        "colab": {
          "base_uri": "https://localhost:8080/",
          "height": 1000
        },
        "outputId": "b9b54ab1-f639-4126-f8e6-bd4aec7bd4b1"
      },
      "source": [
        ""
      ],
      "execution_count": 27,
      "outputs": [
        {
          "output_type": "execute_result",
          "data": {
            "text/plain": [
              "array([[0., 1.],\n",
              "       [0., 1.],\n",
              "       [1., 0.],\n",
              "       [0., 1.],\n",
              "       [1., 0.],\n",
              "       [1., 0.],\n",
              "       [1., 0.],\n",
              "       [1., 0.],\n",
              "       [0., 1.],\n",
              "       [1., 0.],\n",
              "       [0., 1.],\n",
              "       [1., 0.],\n",
              "       [0., 1.],\n",
              "       [0., 1.],\n",
              "       [0., 1.],\n",
              "       [1., 0.],\n",
              "       [1., 0.],\n",
              "       [1., 0.],\n",
              "       [0., 1.],\n",
              "       [1., 0.],\n",
              "       [1., 0.],\n",
              "       [1., 0.],\n",
              "       [0., 1.],\n",
              "       [0., 1.],\n",
              "       [1., 0.],\n",
              "       [0., 1.],\n",
              "       [0., 1.],\n",
              "       [0., 1.],\n",
              "       [0., 1.],\n",
              "       [1., 0.],\n",
              "       [1., 0.],\n",
              "       [1., 0.],\n",
              "       [0., 1.],\n",
              "       [1., 0.],\n",
              "       [1., 0.],\n",
              "       [1., 0.],\n",
              "       [1., 0.],\n",
              "       [0., 1.],\n",
              "       [0., 1.],\n",
              "       [1., 0.],\n",
              "       [0., 1.],\n",
              "       [0., 1.],\n",
              "       [1., 0.],\n",
              "       [0., 1.],\n",
              "       [0., 1.],\n",
              "       [0., 1.],\n",
              "       [1., 0.],\n",
              "       [0., 1.],\n",
              "       [0., 1.],\n",
              "       [1., 0.],\n",
              "       [0., 1.],\n",
              "       [1., 0.],\n",
              "       [1., 0.],\n",
              "       [0., 1.],\n",
              "       [1., 0.],\n",
              "       [0., 1.],\n",
              "       [0., 1.],\n",
              "       [1., 0.],\n",
              "       [1., 0.],\n",
              "       [0., 1.],\n",
              "       [1., 0.],\n",
              "       [1., 0.],\n",
              "       [0., 1.],\n",
              "       [1., 0.],\n",
              "       [1., 0.],\n",
              "       [1., 0.],\n",
              "       [0., 1.],\n",
              "       [1., 0.],\n",
              "       [1., 0.],\n",
              "       [1., 0.],\n",
              "       [0., 1.],\n",
              "       [0., 1.],\n",
              "       [0., 1.],\n",
              "       [0., 1.],\n",
              "       [0., 1.],\n",
              "       [0., 1.],\n",
              "       [0., 1.],\n",
              "       [0., 1.],\n",
              "       [0., 1.],\n",
              "       [0., 1.],\n",
              "       [1., 0.],\n",
              "       [0., 1.],\n",
              "       [0., 1.],\n",
              "       [0., 1.],\n",
              "       [1., 0.],\n",
              "       [0., 1.],\n",
              "       [0., 1.],\n",
              "       [0., 1.],\n",
              "       [0., 1.],\n",
              "       [0., 1.],\n",
              "       [0., 1.],\n",
              "       [1., 0.],\n",
              "       [1., 0.],\n",
              "       [0., 1.],\n",
              "       [0., 1.],\n",
              "       [1., 0.],\n",
              "       [0., 1.],\n",
              "       [0., 1.],\n",
              "       [0., 1.],\n",
              "       [0., 1.],\n",
              "       [0., 1.],\n",
              "       [1., 0.],\n",
              "       [0., 1.],\n",
              "       [0., 1.],\n",
              "       [1., 0.],\n",
              "       [0., 1.],\n",
              "       [0., 1.],\n",
              "       [1., 0.],\n",
              "       [0., 1.],\n",
              "       [0., 1.],\n",
              "       [1., 0.],\n",
              "       [0., 1.],\n",
              "       [0., 1.],\n",
              "       [0., 1.],\n",
              "       [1., 0.],\n",
              "       [0., 1.],\n",
              "       [0., 1.],\n",
              "       [0., 1.],\n",
              "       [1., 0.],\n",
              "       [0., 1.],\n",
              "       [1., 0.],\n",
              "       [0., 1.],\n",
              "       [0., 1.],\n",
              "       [0., 1.],\n",
              "       [1., 0.],\n",
              "       [1., 0.],\n",
              "       [0., 1.],\n",
              "       [1., 0.],\n",
              "       [0., 1.],\n",
              "       [0., 1.],\n",
              "       [1., 0.],\n",
              "       [1., 0.],\n",
              "       [1., 0.],\n",
              "       [1., 0.],\n",
              "       [0., 1.],\n",
              "       [1., 0.],\n",
              "       [0., 1.],\n",
              "       [1., 0.],\n",
              "       [0., 1.],\n",
              "       [0., 1.],\n",
              "       [0., 1.],\n",
              "       [0., 1.],\n",
              "       [0., 1.],\n",
              "       [1., 0.],\n",
              "       [0., 1.],\n",
              "       [0., 1.],\n",
              "       [0., 1.],\n",
              "       [1., 0.],\n",
              "       [0., 1.],\n",
              "       [1., 0.],\n",
              "       [0., 1.],\n",
              "       [1., 0.],\n",
              "       [1., 0.],\n",
              "       [1., 0.],\n",
              "       [1., 0.],\n",
              "       [0., 1.],\n",
              "       [0., 1.],\n",
              "       [1., 0.],\n",
              "       [0., 1.],\n",
              "       [1., 0.],\n",
              "       [1., 0.],\n",
              "       [0., 1.],\n",
              "       [0., 1.],\n",
              "       [0., 1.],\n",
              "       [0., 1.],\n",
              "       [1., 0.],\n",
              "       [0., 1.],\n",
              "       [0., 1.],\n",
              "       [0., 1.],\n",
              "       [0., 1.],\n",
              "       [1., 0.],\n",
              "       [1., 0.],\n",
              "       [0., 1.],\n",
              "       [1., 0.],\n",
              "       [1., 0.],\n",
              "       [1., 0.],\n",
              "       [0., 1.],\n",
              "       [1., 0.],\n",
              "       [0., 1.],\n",
              "       [1., 0.],\n",
              "       [0., 1.],\n",
              "       [1., 0.],\n",
              "       [0., 1.],\n",
              "       [0., 1.],\n",
              "       [0., 1.],\n",
              "       [1., 0.],\n",
              "       [1., 0.],\n",
              "       [0., 1.]])"
            ]
          },
          "metadata": {
            "tags": []
          },
          "execution_count": 27
        }
      ]
    },
    {
      "cell_type": "code",
      "metadata": {
        "id": "6fHdVzXQ8Dvw",
        "colab_type": "code",
        "colab": {
          "base_uri": "https://localhost:8080/",
          "height": 35
        },
        "outputId": "f9bd8fe8-f1f1-42df-cedc-3fb9cb77ebd4"
      },
      "source": [
        "u = np.array([0, 1], dtype=np.float)\n",
        "v = np.array([0, 1], dtype=np.float)\n",
        "print(u, v)"
      ],
      "execution_count": 39,
      "outputs": [
        {
          "output_type": "stream",
          "text": [
            "[0. 1.] [0. 1.]\n"
          ],
          "name": "stdout"
        }
      ]
    },
    {
      "cell_type": "code",
      "metadata": {
        "id": "dE0F8-539SNF",
        "colab_type": "code",
        "colab": {
          "base_uri": "https://localhost:8080/",
          "height": 35
        },
        "outputId": "a175d054-7daa-4772-9ed3-8bc872c79132"
      },
      "source": [
        "u == v"
      ],
      "execution_count": 40,
      "outputs": [
        {
          "output_type": "execute_result",
          "data": {
            "text/plain": [
              "array([ True,  True])"
            ]
          },
          "metadata": {
            "tags": []
          },
          "execution_count": 40
        }
      ]
    },
    {
      "cell_type": "code",
      "metadata": {
        "id": "IijlByZO9fu_",
        "colab_type": "code",
        "colab": {}
      },
      "source": [
        ""
      ],
      "execution_count": 0,
      "outputs": []
    }
  ]
}