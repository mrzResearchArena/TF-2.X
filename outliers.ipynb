{
  "nbformat": 4,
  "nbformat_minor": 0,
  "metadata": {
    "colab": {
      "name": "outliers.ipynb",
      "provenance": [],
      "collapsed_sections": [],
      "authorship_tag": "ABX9TyNLyW+MUkwMAi4mmowcDB4O",
      "include_colab_link": true
    },
    "kernelspec": {
      "name": "python3",
      "display_name": "Python 3"
    }
  },
  "cells": [
    {
      "cell_type": "markdown",
      "metadata": {
        "id": "view-in-github",
        "colab_type": "text"
      },
      "source": [
        "<a href=\"https://colab.research.google.com/github/mrzResearchArena/TF-2.x/blob/master/outliers.ipynb\" target=\"_parent\"><img src=\"https://colab.research.google.com/assets/colab-badge.svg\" alt=\"Open In Colab\"/></a>"
      ]
    },
    {
      "cell_type": "code",
      "metadata": {
        "id": "55O4TLSq3WgL",
        "colab_type": "code",
        "colab": {}
      },
      "source": [
        "import numpy as np"
      ],
      "execution_count": 3,
      "outputs": []
    },
    {
      "cell_type": "code",
      "metadata": {
        "id": "_Y1PoWEMnUnw",
        "colab_type": "code",
        "colab": {
          "base_uri": "https://localhost:8080/",
          "height": 35
        },
        "outputId": "ca90224d-74ae-4ce7-d748-84831018f6d6"
      },
      "source": [
        "v = [1, 2, 3, 4, 5, 10, 100]\n",
        "v = np.array(v)\n",
        "v"
      ],
      "execution_count": 4,
      "outputs": [
        {
          "output_type": "execute_result",
          "data": {
            "text/plain": [
              "array([  1,   2,   3,   4,   5,  10, 100])"
            ]
          },
          "metadata": {
            "tags": []
          },
          "execution_count": 4
        }
      ]
    },
    {
      "cell_type": "code",
      "metadata": {
        "id": "mQ1XfyXRrZfa",
        "colab_type": "code",
        "colab": {
          "base_uri": "https://localhost:8080/",
          "height": 35
        },
        "outputId": "f82a520d-f688-44b2-b4ef-327abc38d672"
      },
      "source": [
        "def outliers(Ax):\n",
        "    '''\n",
        "    # Reference: https://stackoverflow.com/questions/11686720/is-there-a-numpy-builtin-to-reject-outliers-from-a-list\n",
        "    # Range: [M-3*SD, M+3*SD]\n",
        "    '''\n",
        "\n",
        "    M  = np.mean(Ax)\n",
        "    SD = np.mean(Ax)\n",
        "\n",
        "    v = []\n",
        "    for i in Ax:\n",
        "        if (M - (3*SD)) <= i <= (M + (3*SD)):\n",
        "            v.append(i)\n",
        "        #end-if\n",
        "    #end-for\n",
        "\n",
        "    return v\n",
        "\n",
        "outliers(v)"
      ],
      "execution_count": 5,
      "outputs": [
        {
          "output_type": "execute_result",
          "data": {
            "text/plain": [
              "[1, 2, 3, 4, 5, 10]"
            ]
          },
          "metadata": {
            "tags": []
          },
          "execution_count": 5
        }
      ]
    },
    {
      "cell_type": "code",
      "metadata": {
        "id": "zfAQbfxZt4xA",
        "colab_type": "code",
        "colab": {
          "base_uri": "https://localhost:8080/",
          "height": 35
        },
        "outputId": "80a174a3-9226-461d-92b7-188c78afcb19"
      },
      "source": [
        "def outliers(Ax):\n",
        "    '''\n",
        "    # Reference: https://medium.com/datadriveninvestor/finding-outliers-in-dataset-using-python-efc3fce6ce32\n",
        "    # Range: |(x - M)/SD| <= 3.0\n",
        "    '''\n",
        "\n",
        "    M  = np.mean(Ax)\n",
        "    SD = np.mean(Ax)\n",
        "\n",
        "    v = []\n",
        "    for i in Ax:\n",
        "        zScore = (i-M)/SD\n",
        "        if np.abs(zScore) <= 3.0: #threshold\n",
        "            v.append(i)\n",
        "        #end-if\n",
        "    #end-for\n",
        "\n",
        "    return v\n",
        "\n",
        "outliers(v)"
      ],
      "execution_count": 6,
      "outputs": [
        {
          "output_type": "execute_result",
          "data": {
            "text/plain": [
              "[1, 2, 3, 4, 5, 10]"
            ]
          },
          "metadata": {
            "tags": []
          },
          "execution_count": 6
        }
      ]
    },
    {
      "cell_type": "code",
      "metadata": {
        "id": "J-aHG__lvGEN",
        "colab_type": "code",
        "colab": {
          "base_uri": "https://localhost:8080/",
          "height": 35
        },
        "outputId": "ae428cfd-cf1a-4646-a4b9-ea1f32d85e25"
      },
      "source": [
        "def outliers(Ax):\n",
        "    '''\n",
        "    # Reference: https://medium.com/datadriveninvestor/finding-outliers-in-dataset-using-python-efc3fce6ce32\n",
        "    # Range: [Q1 - (1.5 * IQR), Q3 + (1.5 * IQR)]\n",
        "    '''\n",
        "\n",
        "    Q1, Q3 = np.percentile(Ax, q=[25, 75])\n",
        "    IQR = Q3 - Q1\n",
        "\n",
        "    lowerBound = Q1 - (1.5 * IQR)\n",
        "    upperBound = Q3 + (1.5 * IQR)\n",
        "\n",
        "    v = []\n",
        "    for i in Ax:\n",
        "        if lowerBound <= i <= upperBound:\n",
        "            v.append(i)\n",
        "        #end-if\n",
        "    #end-for\n",
        "\n",
        "    return v\n",
        "\n",
        "#end-def\n",
        "outliers(v)"
      ],
      "execution_count": 7,
      "outputs": [
        {
          "output_type": "execute_result",
          "data": {
            "text/plain": [
              "[1, 2, 3, 4, 5, 10]"
            ]
          },
          "metadata": {
            "tags": []
          },
          "execution_count": 7
        }
      ]
    },
    {
      "cell_type": "code",
      "metadata": {
        "id": "VWFAGwk09LWg",
        "colab_type": "code",
        "colab": {}
      },
      "source": [
        ""
      ],
      "execution_count": null,
      "outputs": []
    }
  ]
}