{
  "nbformat": 4,
  "nbformat_minor": 0,
  "metadata": {
    "colab": {
      "name": "Deep-ANN-CNN-TF.ipynb",
      "provenance": [],
      "collapsed_sections": [],
      "authorship_tag": "ABX9TyORkjCSXDpMGuLTuiHeWle9",
      "include_colab_link": true
    },
    "kernelspec": {
      "name": "python3",
      "display_name": "Python 3"
    },
    "accelerator": "GPU"
  },
  "cells": [
    {
      "cell_type": "markdown",
      "metadata": {
        "id": "view-in-github",
        "colab_type": "text"
      },
      "source": [
        "<a href=\"https://colab.research.google.com/github/mrzResearchArena/TF-2.X/blob/master/Deep-ANN-CNN-TF.ipynb\" target=\"_parent\"><img src=\"https://colab.research.google.com/assets/colab-badge.svg\" alt=\"Open In Colab\"/></a>"
      ]
    },
    {
      "cell_type": "code",
      "metadata": {
        "id": "80pOP-cLnb39",
        "colab_type": "code",
        "outputId": "ece707ab-a6d9-4f32-887d-925e61d57d9d",
        "colab": {
          "base_uri": "https://localhost:8080/",
          "height": 124
        }
      },
      "source": [
        "# Initialize TF-2.x:\n",
        "try:\n",
        "    %tensorflow_version 2.x  # Colab only.\n",
        "except Exception:\n",
        "    pass\n",
        "\n",
        "import tensorflow as tf\n",
        "print('We\\'re using TF-{}.'.format(tf.__version__))\n",
        "\n",
        "# Colab Auto Click: https://paste.ubuntu.com/p/R78fGBJbjb/"
      ],
      "execution_count": 0,
      "outputs": [
        {
          "output_type": "stream",
          "text": [
            "`%tensorflow_version` only switches the major version: `1.x` or `2.x`.\n",
            "You set: `2.x  # Colab only.`. This will be interpreted as: `2.x`.\n",
            "\n",
            "\n",
            "TensorFlow 2.x selected.\n",
            "We're using TF-2.1.0.\n"
          ],
          "name": "stdout"
        }
      ]
    },
    {
      "cell_type": "code",
      "metadata": {
        "id": "K8RHjAUOnxCZ",
        "colab_type": "code",
        "colab": {}
      },
      "source": [
        "# Deep Neural Networks:\n",
        "from tensorflow.keras.layers import (Input, Dense, Dropout, Flatten, BatchNormalization,\n",
        "                                     Conv1D, Conv2D, MaxPooling1D, MaxPooling2D,\n",
        "                                     LSTM, GRU, Embedding, Bidirectional)\n",
        "from tensorflow.keras.regularizers import (l1, l2, l1_l2)\n",
        "from tensorflow.keras.optimizers import (RMSprop, Adam, SGD)\n",
        "from tensorflow.keras.models import (Sequential, Model)\n",
        "\n",
        "# Core:\n",
        "import numpy as np\n",
        "import pandas as pd\n",
        "import matplotlib.pyplot as plt\n",
        "\n",
        "# Performance:\n",
        "from sklearn.metrics import (confusion_matrix, classification_report)\n",
        "\n",
        "#Utilities\n",
        "from tensorflow.keras.callbacks import EarlyStopping\n",
        "from tensorflow.keras.utils import to_categorical as labelEncoding # Usages: Ytrain = labelEncoding(Ytrain, dtype=int)\n",
        "from tensorflow.keras.utils import plot_model                      # Usages: plot_model(model, to_file='model.png', show_shapes=True, show_layer_names=False, expand_nested=True)\n",
        "from sklearn.model_selection import (StratifiedKFold, KFold, train_test_split)\n",
        "#end-import"
      ],
      "execution_count": 0,
      "outputs": []
    },
    {
      "cell_type": "code",
      "metadata": {
        "id": "JAjDvCBAFzoh",
        "colab_type": "code",
        "colab": {}
      },
      "source": [
        "def lossPlot(result):\n",
        "    plt.title(label='Loss: Training and Validation')\n",
        "    plt.plot(result.history['loss'], label='loss')\n",
        "    plt.plot(result.history['val_loss'], label='val_loss')\n",
        "    plt.xlabel('Epoch')\n",
        "    plt.ylabel('Loss')\n",
        "    plt.legend()\n",
        "    plt.show()\n",
        "#end-def\n",
        "\n",
        "def accuracyPlot(result):\n",
        "    plt.title(label='Accuracy: Training and Validation')\n",
        "    plt.plot(result.history['accuracy'], label='accuracy')\n",
        "    plt.plot(result.history['val_accuracy'], label='val_accuracy')\n",
        "    plt.xlabel('Epoch')\n",
        "    plt.ylabel('Accuracy')\n",
        "    plt.legend()\n",
        "    plt.show()\n",
        "#end-def"
      ],
      "execution_count": 0,
      "outputs": []
    },
    {
      "cell_type": "code",
      "metadata": {
        "id": "nbMdm--gpYDr",
        "colab_type": "code",
        "colab": {}
      },
      "source": [
        "def oneZeroEncoding(Y):\n",
        "    '''\n",
        "    Argument: Class Label (Y)\n",
        "    --> [1, 0, 2]\n",
        "    Return: one hot encoding matrix (2D-array NumPy-array)\n",
        "    --> array([[0, 1, 0],\n",
        "               [1, 0, 0],\n",
        "               [0, 0, 1]])\n",
        "    '''\n",
        "    N = len(Y)\n",
        "    K = len(set(Y))\n",
        "    print(K)\n",
        "\n",
        "    index = np.zeros(shape=(N, K), dtype=int)\n",
        "    \n",
        "    for i, value in enumerate(Y):\n",
        "        index[i, value] = 1\n",
        "    #end-for\n",
        "    return index\n",
        "#end-def"
      ],
      "execution_count": 0,
      "outputs": []
    },
    {
      "cell_type": "code",
      "metadata": {
        "id": "8eouRsKBqHj5",
        "colab_type": "code",
        "outputId": "713c00c2-5368-4f22-8166-146686c2bd46",
        "colab": {
          "base_uri": "https://localhost:8080/",
          "height": 88
        }
      },
      "source": [
        "oneZeroEncoding(np.array([1, 0, 2]))"
      ],
      "execution_count": 0,
      "outputs": [
        {
          "output_type": "stream",
          "text": [
            "3\n"
          ],
          "name": "stdout"
        },
        {
          "output_type": "execute_result",
          "data": {
            "text/plain": [
              "array([[0, 1, 0],\n",
              "       [1, 0, 0],\n",
              "       [0, 0, 1]])"
            ]
          },
          "metadata": {
            "tags": []
          },
          "execution_count": 4
        }
      ]
    },
    {
      "cell_type": "markdown",
      "metadata": {
        "id": "917Qyc_8Dh_D",
        "colab_type": "text"
      },
      "source": [
        "### ANN Architecture for MNIST (Handwritten)"
      ]
    },
    {
      "cell_type": "code",
      "metadata": {
        "id": "cAULAK4m_3fI",
        "colab_type": "code",
        "outputId": "c5d2bd4a-60da-433f-a413-a3411d612da2",
        "colab": {
          "base_uri": "https://localhost:8080/",
          "height": 71
        }
      },
      "source": [
        "# Load in the data\n",
        "mnist = tf.keras.datasets.mnist\n",
        "\n",
        "(x_train, y_train), (x_test, y_test) = mnist.load_data()\n",
        "x_train, x_test = x_train / 255.0, x_test / 255.0\n",
        "print(\"x_train.shape:\", x_train.shape)"
      ],
      "execution_count": 0,
      "outputs": [
        {
          "output_type": "stream",
          "text": [
            "Downloading data from https://storage.googleapis.com/tensorflow/tf-keras-datasets/mnist.npz\n",
            "11493376/11490434 [==============================] - 0s 0us/step\n",
            "x_train.shape: (60000, 28, 28)\n"
          ],
          "name": "stdout"
        }
      ]
    },
    {
      "cell_type": "code",
      "metadata": {
        "id": "kob9U_e7S7AT",
        "colab_type": "code",
        "outputId": "a383c3b6-c77d-4c43-e6fd-15a9346fa50c",
        "colab": {
          "base_uri": "https://localhost:8080/",
          "height": 53
        }
      },
      "source": [
        "y_train = oneZeroEncoding(y_train)\n",
        "y_test = oneZeroEncoding(y_test)"
      ],
      "execution_count": 0,
      "outputs": [
        {
          "output_type": "stream",
          "text": [
            "10\n",
            "10\n"
          ],
          "name": "stdout"
        }
      ]
    },
    {
      "cell_type": "code",
      "metadata": {
        "id": "g8O6m9IXEXNX",
        "colab_type": "code",
        "colab": {}
      },
      "source": [
        "# Build the model\n",
        "# model = Sequential([\n",
        "#     Flatten(input_shape=(28, 28)),\n",
        "#     Dense(64, activation='relu'),\n",
        "#     Dropout(0.2),\n",
        "#     Dense(10, activation='softmax')\n",
        "# ])\n",
        "\n",
        "def Network():\n",
        "    i = Input(shape=(28, 28))\n",
        "    x = Flatten()(i)\n",
        "    x = Dense(units=64, activation='relu', kernel_initializer='glorot_uniform')(x) # kernel_initializer='he_uniform'\n",
        "    x = Dropout(0.2)(x)\n",
        "    x = Dense(units=10, activation='softmax')(x)\n",
        "\n",
        "    return Model(inputs=[i], outputs=[x])\n",
        "#end-def\n",
        "\n",
        "model = Network()"
      ],
      "execution_count": 0,
      "outputs": []
    },
    {
      "cell_type": "code",
      "metadata": {
        "id": "w2UMlmGsHCPW",
        "colab_type": "code",
        "outputId": "8c03f536-fdd4-4e69-84ee-72f1a73d6b64",
        "colab": {
          "base_uri": "https://localhost:8080/",
          "height": 551
        }
      },
      "source": [
        "# model.summary()\n",
        "print()\n",
        "plot_model(model, to_file='model.png', show_shapes=True, show_layer_names=False, expand_nested=True)"
      ],
      "execution_count": 0,
      "outputs": [
        {
          "output_type": "stream",
          "text": [
            "\n"
          ],
          "name": "stdout"
        },
        {
          "output_type": "execute_result",
          "data": {
            "image/png": "[encoded data removed]",
            "text/plain": [
              "<IPython.core.display.Image object>"
            ]
          },
          "metadata": {
            "tags": []
          },
          "execution_count": 8
        }
      ]
    },
    {
      "cell_type": "code",
      "metadata": {
        "id": "5CLoF_UDEm4W",
        "colab_type": "code",
        "colab": {}
      },
      "source": [
        "model.compile(optimizer=Adam(),\n",
        "              loss='categorical_crossentropy',\n",
        "              metrics=['accuracy'])"
      ],
      "execution_count": 0,
      "outputs": []
    },
    {
      "cell_type": "code",
      "metadata": {
        "id": "yQbb9s7_E7xo",
        "colab_type": "code",
        "outputId": "d5fae682-9bdf-49b7-807f-6ddd6623d66b",
        "colab": {
          "base_uri": "https://localhost:8080/",
          "height": 392
        }
      },
      "source": [
        "# Train the model\n",
        "result = model.fit(x_train, y_train, validation_data=(x_test, y_test), epochs=10)"
      ],
      "execution_count": 0,
      "outputs": [
        {
          "output_type": "stream",
          "text": [
            "Train on 60000 samples, validate on 10000 samples\n",
            "Epoch 1/10\n",
            "60000/60000 [==============================] - 8s 125us/sample - loss: 0.3594 - accuracy: 0.8947 - val_loss: 0.1783 - val_accuracy: 0.9464\n",
            "Epoch 2/10\n",
            "60000/60000 [==============================] - 5s 89us/sample - loss: 0.1951 - accuracy: 0.9424 - val_loss: 0.1389 - val_accuracy: 0.9583\n",
            "Epoch 3/10\n",
            "60000/60000 [==============================] - 5s 90us/sample - loss: 0.1556 - accuracy: 0.9535 - val_loss: 0.1143 - val_accuracy: 0.9639\n",
            "Epoch 4/10\n",
            "60000/60000 [==============================] - 5s 90us/sample - loss: 0.1337 - accuracy: 0.9594 - val_loss: 0.1009 - val_accuracy: 0.9686\n",
            "Epoch 5/10\n",
            "60000/60000 [==============================] - 6s 92us/sample - loss: 0.1185 - accuracy: 0.9632 - val_loss: 0.0985 - val_accuracy: 0.9705\n",
            "Epoch 6/10\n",
            "60000/60000 [==============================] - 5s 91us/sample - loss: 0.1111 - accuracy: 0.9656 - val_loss: 0.0940 - val_accuracy: 0.9710\n",
            "Epoch 7/10\n",
            "60000/60000 [==============================] - 5s 91us/sample - loss: 0.1012 - accuracy: 0.9686 - val_loss: 0.0879 - val_accuracy: 0.9735\n",
            "Epoch 8/10\n",
            "60000/60000 [==============================] - 5s 90us/sample - loss: 0.0942 - accuracy: 0.9707 - val_loss: 0.0901 - val_accuracy: 0.9726\n",
            "Epoch 9/10\n",
            "60000/60000 [==============================] - 5s 91us/sample - loss: 0.0890 - accuracy: 0.9719 - val_loss: 0.0876 - val_accuracy: 0.9743\n",
            "Epoch 10/10\n",
            "60000/60000 [==============================] - 5s 90us/sample - loss: 0.0827 - accuracy: 0.9730 - val_loss: 0.0875 - val_accuracy: 0.9742\n"
          ],
          "name": "stdout"
        }
      ]
    },
    {
      "cell_type": "code",
      "metadata": {
        "id": "3rLNBmr-H7xg",
        "colab_type": "code",
        "outputId": "a1793880-779e-4381-962d-155bf0e27e8e",
        "colab": {
          "base_uri": "https://localhost:8080/",
          "height": 88
        }
      },
      "source": [
        "print('Training Accuracy: {}'.format(model.evaluate(x_train, y_train)))\n",
        "print('Testing Accuracy: {}'.format(model.evaluate(x_test, y_test)))"
      ],
      "execution_count": 0,
      "outputs": [
        {
          "output_type": "stream",
          "text": [
            "60000/60000 [==============================] - 4s 62us/sample - loss: 0.0384 - accuracy: 0.9893\n",
            "Training Accuracy: [0.03840477652025098, 0.98925]\n",
            "10000/10000 [==============================] - 1s 69us/sample - loss: 0.0875 - accuracy: 0.9742\n",
            "Testing Accuracy: [0.0874825684550684, 0.9742]\n"
          ],
          "name": "stdout"
        }
      ]
    },
    {
      "cell_type": "code",
      "metadata": {
        "id": "w3X_uE1qFDfY",
        "colab_type": "code",
        "outputId": "02d8646e-2088-466f-ffd0-c29905ab945a",
        "colab": {
          "base_uri": "https://localhost:8080/",
          "height": 541
        }
      },
      "source": [
        "def lossPlot(result):\n",
        "    plt.plot(result.history['loss'], label='loss')\n",
        "    plt.plot(result.history['val_loss'], label='val_loss')\n",
        "    plt.xlabel('Epoch')\n",
        "    plt.ylabel('Loss')\n",
        "    plt.legend()\n",
        "    plt.show()\n",
        "#end-def\n",
        "\n",
        "def accuracyPlot(result):\n",
        "    plt.plot(result.history['accuracy'], label='accuracy')\n",
        "    plt.plot(result.history['val_accuracy'], label='val_accuracy')\n",
        "    plt.xlabel('Epoch')\n",
        "    plt.ylabel('Accuracy')\n",
        "    plt.legend()\n",
        "    plt.show()\n",
        "#end-def\n",
        "\n",
        "lossPlot(result)\n",
        "accuracyPlot(result)"
      ],
      "execution_count": 0,
      "outputs": [
        {
          "output_type": "display_data",
          "data": {
            "image/png": "[encoded data removed]",
            "text/plain": [
              "<Figure size 432x288 with 1 Axes>"
            ]
          },
          "metadata": {
            "tags": []
          }
        },
        {
          "output_type": "display_data",
          "data": {
            "image/png": "[encoded data removed]",
            "text/plain": [
              "<Figure size 432x288 with 1 Axes>"
            ]
          },
          "metadata": {
            "tags": []
          }
        }
      ]
    },
    {
      "cell_type": "code",
      "metadata": {
        "id": "h91yK6OkH4z-",
        "colab_type": "code",
        "outputId": "70bf10ce-d20c-4f14-ed17-8be31c5ead8f",
        "colab": {
          "base_uri": "https://localhost:8080/",
          "height": 704
        }
      },
      "source": [
        "# Plot confusion matrix\n",
        "from sklearn.metrics import confusion_matrix\n",
        "import numpy as np\n",
        "import itertools\n",
        "\n",
        "def plot_confusion_matrix(cm, classes,\n",
        "                          normalize=False,\n",
        "                          title='Confusion matrix',\n",
        "                          cmap=plt.cm.Blues):\n",
        "  \"\"\"\n",
        "  This function prints and plots the confusion matrix.\n",
        "  Normalization can be applied by setting `normalize=True`.\n",
        "  \"\"\"\n",
        "  if normalize:\n",
        "      cm = cm.astype('float') / cm.sum(axis=1)[:, np.newaxis]\n",
        "      print(\"Normalized confusion matrix\")\n",
        "  else:\n",
        "      print('Confusion matrix, without normalization')\n",
        "\n",
        "  print(cm)\n",
        "\n",
        "  plt.imshow(cm, interpolation='nearest', cmap=cmap)\n",
        "  plt.title(title)\n",
        "  plt.colorbar()\n",
        "  tick_marks = np.arange(len(classes))\n",
        "  plt.xticks(tick_marks, classes, rotation=45)\n",
        "  plt.yticks(tick_marks, classes)\n",
        "\n",
        "  fmt = '.2f' if normalize else 'd'\n",
        "  thresh = cm.max() / 2.\n",
        "  for i, j in itertools.product(range(cm.shape[0]), range(cm.shape[1])):\n",
        "      plt.text(j, i, format(cm[i, j], fmt),\n",
        "               horizontalalignment=\"center\",\n",
        "               color=\"white\" if cm[i, j] > thresh else \"black\")\n",
        "\n",
        "  plt.tight_layout()\n",
        "  plt.ylabel('True label')\n",
        "  plt.xlabel('Predicted label')\n",
        "  plt.show()\n",
        "\n",
        "\n",
        "p_test = model.predict(x_test).argmax(axis=1)\n",
        "y_test = y_test.argmax(axis=1)\n",
        "print(p_test)\n",
        "\n",
        "cm = confusion_matrix(y_test, p_test)\n",
        "print(cm)\n",
        "plot_confusion_matrix(cm, list(range(10)))\n",
        "\n",
        "# # Do these results make sense?\n",
        "# # It's easy to confuse 9 <--> 4, 9 <--> 7, 2 <--> 7, etc."
      ],
      "execution_count": 0,
      "outputs": [
        {
          "output_type": "stream",
          "text": [
            "[7 2 1 ... 4 5 6]\n",
            "[[ 970    0    1    2    1    1    3    1    1    0]\n",
            " [   0 1121    3    2    0    0    1    1    7    0]\n",
            " [   3    1 1005    2    2    0    2    9    8    0]\n",
            " [   0    0    5  990    0    5    0    5    5    0]\n",
            " [   1    0    6    0  957    0    4    2    2   10]\n",
            " [   3    1    0   14    2  856    5    2    7    2]\n",
            " [   7    3    1    1    5    3  934    1    3    0]\n",
            " [   1    5   13    1    0    0    0 1000    3    5]\n",
            " [   7    1    1    4    4    1    2    5  944    5]\n",
            " [   4    3    0    7   12    2    0   10    6  965]]\n",
            "Confusion matrix, without normalization\n",
            "[[ 970    0    1    2    1    1    3    1    1    0]\n",
            " [   0 1121    3    2    0    0    1    1    7    0]\n",
            " [   3    1 1005    2    2    0    2    9    8    0]\n",
            " [   0    0    5  990    0    5    0    5    5    0]\n",
            " [   1    0    6    0  957    0    4    2    2   10]\n",
            " [   3    1    0   14    2  856    5    2    7    2]\n",
            " [   7    3    1    1    5    3  934    1    3    0]\n",
            " [   1    5   13    1    0    0    0 1000    3    5]\n",
            " [   7    1    1    4    4    1    2    5  944    5]\n",
            " [   4    3    0    7   12    2    0   10    6  965]]\n"
          ],
          "name": "stdout"
        },
        {
          "output_type": "display_data",
          "data": {
            "image/png": "[encoded data removed]",
            "text/plain": [
              "<Figure size 432x288 with 2 Axes>"
            ]
          },
          "metadata": {
            "tags": []
          }
        }
      ]
    },
    {
      "cell_type": "code",
      "metadata": {
        "id": "QyTLFozCbWtd",
        "colab_type": "code",
        "outputId": "97c0bcba-80fb-420a-81eb-06de29c9f25e",
        "colab": {
          "base_uri": "https://localhost:8080/",
          "height": 1000
        }
      },
      "source": [
        "# Show some misclassified examples\n",
        "for _ in range(10):\n",
        "    misclassified_idx = np.where(p_test != y_test)[0]\n",
        "    i = np.random.choice(misclassified_idx)\n",
        "    plt.imshow(x_test[i], cmap='gray')\n",
        "    plt.title(\"True label: %s Predicted: %s\" % (y_test[i], p_test[i]))\n",
        "    plt.show()"
      ],
      "execution_count": 0,
      "outputs": [
        {
          "output_type": "display_data",
          "data": {
            "image/png": "[encoded data removed]",
            "text/plain": [
              "<Figure size 432x288 with 1 Axes>"
            ]
          },
          "metadata": {
            "tags": []
          }
        },
        {
          "output_type": "display_data",
          "data": {
            "image/png": "[encoded data removed]",
            "text/plain": [
              "<Figure size 432x288 with 1 Axes>"
            ]
          },
          "metadata": {
            "tags": []
          }
        },
        {
          "output_type": "display_data",
          "data": {
            "image/png": "[encoded data removed]",
            "text/plain": [
              "<Figure size 432x288 with 1 Axes>"
            ]
          },
          "metadata": {
            "tags": []
          }
        },
        {
          "output_type": "display_data",
          "data": {
            "image/png": "[encoded data removed]",
            "text/plain": [
              "<Figure size 432x288 with 1 Axes>"
            ]
          },
          "metadata": {
            "tags": []
          }
        },
        {
          "output_type": "display_data",
          "data": {
            "image/png": "[encoded data removed]",
            "text/plain": [
              "<Figure size 432x288 with 1 Axes>"
            ]
          },
          "metadata": {
            "tags": []
          }
        },
        {
          "output_type": "display_data",
          "data": {
            "image/png": "[encoded data removed]",
            "text/plain": [
              "<Figure size 432x288 with 1 Axes>"
            ]
          },
          "metadata": {
            "tags": []
          }
        },
        {
          "output_type": "display_data",
          "data": {
            "image/png": "[encoded data removed]",
            "text/plain": [
              "<Figure size 432x288 with 1 Axes>"
            ]
          },
          "metadata": {
            "tags": []
          }
        },
        {
          "output_type": "display_data",
          "data": {
            "image/png": "[encoded data removed]",
            "text/plain": [
              "<Figure size 432x288 with 1 Axes>"
            ]
          },
          "metadata": {
            "tags": []
          }
        },
        {
          "output_type": "display_data",
          "data": {
            "image/png": "[encoded data removed]",
            "text/plain": [
              "<Figure size 432x288 with 1 Axes>"
            ]
          },
          "metadata": {
            "tags": []
          }
        },
        {
          "output_type": "display_data",
          "data": {
            "image/png": "[encoded data removed]",
            "text/plain": [
              "<Figure size 432x288 with 1 Axes>"
            ]
          },
          "metadata": {
            "tags": []
          }
        }
      ]
    },
    {
      "cell_type": "code",
      "metadata": {
        "id": "XqypoFF8J9ZB",
        "colab_type": "code",
        "outputId": "ac7ffe62-3110-4eaa-cf80-14adeccb2c3c",
        "colab": {
          "base_uri": "https://localhost:8080/",
          "height": 446
        }
      },
      "source": [
        "np.where(p_test != y_test)"
      ],
      "execution_count": 0,
      "outputs": [
        {
          "output_type": "execute_result",
          "data": {
            "text/plain": [
              "(array([  33,  247,  259,  320,  321,  340,  381,  445,  448,  495,  582,\n",
              "         583,  613,  619,  691,  720,  740,  810,  846,  881,  882,  924,\n",
              "         938,  947,  951,  956,  965, 1003, 1014, 1032, 1039, 1044, 1112,\n",
              "        1128, 1156, 1181, 1182, 1226, 1232, 1242, 1247, 1260, 1299, 1319,\n",
              "        1326, 1393, 1500, 1522, 1530, 1549, 1553, 1554, 1581, 1607, 1609,\n",
              "        1678, 1681, 1709, 1717, 1751, 1754, 1790, 1878, 1901, 1938, 1941,\n",
              "        1952, 2004, 2016, 2024, 2033, 2035, 2040, 2043, 2044, 2053, 2093,\n",
              "        2109, 2129, 2130, 2135, 2182, 2237, 2272, 2293, 2369, 2380, 2387,\n",
              "        2406, 2414, 2422, 2462, 2488, 2526, 2534, 2582, 2607, 2610, 2654,\n",
              "        2760, 2810, 2863, 2896, 2927, 2939, 2970, 3005, 3060, 3073, 3117,\n",
              "        3269, 3336, 3422, 3490, 3503, 3520, 3533, 3549, 3558, 3565, 3597,\n",
              "        3662, 3674, 3681, 3718, 3749, 3751, 3757, 3776, 3796, 3808, 3818,\n",
              "        3838, 3853, 3869, 3893, 3906, 3941, 3985, 4065, 4075, 4078, 4093,\n",
              "        4140, 4163, 4176, 4193, 4201, 4212, 4224, 4248, 4269, 4289, 4355,\n",
              "        4360, 4369, 4374, 4384, 4439, 4497, 4536, 4547, 4548, 4571, 4575,\n",
              "        4601, 4615, 4639, 4690, 4731, 4761, 4807, 4814, 4823, 4880, 4956,\n",
              "        4966, 4990, 5078, 5140, 5331, 5457, 5600, 5634, 5642, 5734, 5749,\n",
              "        5757, 5835, 5842, 5887, 5936, 5937, 5955, 5972, 5973, 6042, 6043,\n",
              "        6046, 6059, 6065, 6071, 6166, 6168, 6400, 6421, 6505, 6555, 6568,\n",
              "        6571, 6574, 6576, 6597, 6598, 6603, 6625, 6651, 6755, 7216, 7434,\n",
              "        7849, 7899, 7928, 7990, 8020, 8062, 8094, 8311, 8325, 8520, 8522,\n",
              "        8527, 9009, 9015, 9019, 9024, 9128, 9280, 9422, 9482, 9587, 9634,\n",
              "        9642, 9664, 9679, 9692, 9700, 9729, 9745, 9768, 9770, 9808, 9811,\n",
              "        9839, 9858, 9867, 9883, 9982]),)"
            ]
          },
          "metadata": {
            "tags": []
          },
          "execution_count": 15
        }
      ]
    },
    {
      "cell_type": "markdown",
      "metadata": {
        "id": "ZCzxWRIXD3Vo",
        "colab_type": "text"
      },
      "source": [
        "### CNN Architecture for MNIST (Handwritten)"
      ]
    },
    {
      "cell_type": "code",
      "metadata": {
        "id": "R26oPFlhD9T2",
        "colab_type": "code",
        "outputId": "1fd2a4d9-d680-4706-a81d-401ec6f4fae2",
        "colab": {
          "base_uri": "https://localhost:8080/",
          "height": 71
        }
      },
      "source": [
        "# Load in the data\n",
        "mnist = tf.keras.datasets.mnist\n",
        "\n",
        "(x_train, y_train), (x_test, y_test) = mnist.load_data()\n",
        "x_train, x_test = x_train / 255.0, x_test / 255.0\n",
        "\n",
        "# Reshape to X\n",
        "# x_train = np.expand_dims(x_train, -1)\n",
        "# x_test = np.expand_dims(x_test, -1)\n",
        "\n",
        "x_train = x_train.reshape(60000, 784, 1)\n",
        "x_test  = x_test.reshape(10000, 784, 1)\n",
        "\n",
        "print(\"x_train.shape:\", x_train.shape)\n",
        "\n",
        "\n",
        "# Class Encoding\n",
        "y_train = oneZeroEncoding(y_train)\n",
        "y_test = oneZeroEncoding(y_test)"
      ],
      "execution_count": 0,
      "outputs": [
        {
          "output_type": "stream",
          "text": [
            "x_train.shape: (60000, 784, 1)\n",
            "10\n",
            "10\n"
          ],
          "name": "stdout"
        }
      ]
    },
    {
      "cell_type": "code",
      "metadata": {
        "id": "QU4RgOMvp1vb",
        "colab_type": "code",
        "outputId": "ffcde0cd-f6e0-45e3-aec5-d6970ec10799",
        "colab": {
          "base_uri": "https://localhost:8080/",
          "height": 35
        }
      },
      "source": [
        "x_train[0].shape"
      ],
      "execution_count": 0,
      "outputs": [
        {
          "output_type": "execute_result",
          "data": {
            "text/plain": [
              "(784, 1)"
            ]
          },
          "metadata": {
            "tags": []
          },
          "execution_count": 17
        }
      ]
    },
    {
      "cell_type": "code",
      "metadata": {
        "id": "2Uej3G89LrPU",
        "colab_type": "code",
        "outputId": "3f745a21-1d15-4837-8f50-9a9ae7d7994a",
        "colab": {
          "base_uri": "https://localhost:8080/",
          "height": 303
        }
      },
      "source": [
        "def Network():\n",
        "    i = Input(shape=(784,1))\n",
        "    x = Conv1D(filters=16, kernel_size=3, activation='relu')(i)\n",
        "    x = Flatten()(x)       # Because dense layer expect 1-D vector\n",
        "    x = Dense(units=10, activation='softmax')(x)\n",
        "    \n",
        "    return Model(inputs=[i], outputs=[x])\n",
        "#end-def\n",
        "\n",
        "model = Network()\n",
        "model.summary()"
      ],
      "execution_count": 0,
      "outputs": [
        {
          "output_type": "stream",
          "text": [
            "Model: \"model_1\"\n",
            "_________________________________________________________________\n",
            "Layer (type)                 Output Shape              Param #   \n",
            "=================================================================\n",
            "input_2 (InputLayer)         [(None, 784, 1)]          0         \n",
            "_________________________________________________________________\n",
            "conv1d (Conv1D)              (None, 782, 16)           64        \n",
            "_________________________________________________________________\n",
            "flatten_1 (Flatten)          (None, 12512)             0         \n",
            "_________________________________________________________________\n",
            "dense_2 (Dense)              (None, 10)                125130    \n",
            "=================================================================\n",
            "Total params: 125,194\n",
            "Trainable params: 125,194\n",
            "Non-trainable params: 0\n",
            "_________________________________________________________________\n"
          ],
          "name": "stdout"
        }
      ]
    },
    {
      "cell_type": "code",
      "metadata": {
        "id": "gTpYUG2kMBeC",
        "colab_type": "code",
        "colab": {}
      },
      "source": [
        "model.compile(optimizer=Adam(),\n",
        "              loss='categorical_crossentropy',\n",
        "              metrics=['accuracy'])"
      ],
      "execution_count": 0,
      "outputs": []
    },
    {
      "cell_type": "code",
      "metadata": {
        "id": "23X0n2B_RN7n",
        "colab_type": "code",
        "outputId": "e1828c39-89d6-4a55-e97d-a9d1ec145651",
        "colab": {
          "base_uri": "https://localhost:8080/",
          "height": 392
        }
      },
      "source": [
        "# Train the model\n",
        "result = model.fit(x_train, y_train, validation_data=(x_test, y_test), epochs=10)"
      ],
      "execution_count": 0,
      "outputs": [
        {
          "output_type": "stream",
          "text": [
            "Train on 60000 samples, validate on 10000 samples\n",
            "Epoch 1/10\n",
            "60000/60000 [==============================] - 12s 192us/sample - loss: 0.2937 - accuracy: 0.9169 - val_loss: 0.1843 - val_accuracy: 0.9483\n",
            "Epoch 2/10\n",
            "60000/60000 [==============================] - 6s 106us/sample - loss: 0.1696 - accuracy: 0.9493 - val_loss: 0.1670 - val_accuracy: 0.9501\n",
            "Epoch 3/10\n",
            "60000/60000 [==============================] - 6s 105us/sample - loss: 0.1416 - accuracy: 0.9582 - val_loss: 0.1632 - val_accuracy: 0.9492\n",
            "Epoch 4/10\n",
            "60000/60000 [==============================] - 6s 100us/sample - loss: 0.1251 - accuracy: 0.9625 - val_loss: 0.1499 - val_accuracy: 0.9552\n",
            "Epoch 5/10\n",
            "60000/60000 [==============================] - 6s 101us/sample - loss: 0.1145 - accuracy: 0.9647 - val_loss: 0.1499 - val_accuracy: 0.9550\n",
            "Epoch 6/10\n",
            "60000/60000 [==============================] - 6s 101us/sample - loss: 0.1045 - accuracy: 0.9685 - val_loss: 0.1478 - val_accuracy: 0.9564\n",
            "Epoch 7/10\n",
            "60000/60000 [==============================] - 6s 103us/sample - loss: 0.0959 - accuracy: 0.9710 - val_loss: 0.1463 - val_accuracy: 0.9576\n",
            "Epoch 8/10\n",
            "60000/60000 [==============================] - 6s 101us/sample - loss: 0.0895 - accuracy: 0.9729 - val_loss: 0.1500 - val_accuracy: 0.9572\n",
            "Epoch 9/10\n",
            "60000/60000 [==============================] - 6s 101us/sample - loss: 0.0818 - accuracy: 0.9754 - val_loss: 0.1545 - val_accuracy: 0.9556\n",
            "Epoch 10/10\n",
            "60000/60000 [==============================] - 6s 100us/sample - loss: 0.0763 - accuracy: 0.9763 - val_loss: 0.1571 - val_accuracy: 0.9557\n"
          ],
          "name": "stdout"
        }
      ]
    },
    {
      "cell_type": "code",
      "metadata": {
        "id": "XNw8K3ze8pnR",
        "colab_type": "code",
        "outputId": "31e551a3-af6c-4570-c155-232ffd72da38",
        "colab": {
          "base_uri": "https://localhost:8080/",
          "height": 108
        }
      },
      "source": [
        "help(Conv1D.__init__)"
      ],
      "execution_count": 0,
      "outputs": [
        {
          "output_type": "stream",
          "text": [
            "Help on function __init__ in module tensorflow.python.keras.layers.convolutional:\n",
            "\n",
            "__init__(self, filters, kernel_size, strides=1, padding='valid', data_format='channels_last', dilation_rate=1, activation=None, use_bias=True, kernel_initializer='glorot_uniform', bias_initializer='zeros', kernel_regularizer=None, bias_regularizer=None, activity_regularizer=None, kernel_constraint=None, bias_constraint=None, **kwargs)\n",
            "\n"
          ],
          "name": "stdout"
        }
      ]
    },
    {
      "cell_type": "markdown",
      "metadata": {
        "id": "6h9fyugXgOvs",
        "colab_type": "text"
      },
      "source": [
        "### CNN Architecture for MNIST (Fashion)"
      ]
    },
    {
      "cell_type": "code",
      "metadata": {
        "id": "g-MuB0qogUwv",
        "colab_type": "code",
        "outputId": "19a3cffb-ca85-4300-cf4d-c1e2cc6cdec6",
        "colab": {
          "base_uri": "https://localhost:8080/",
          "height": 35
        }
      },
      "source": [
        "# Load in the data\n",
        "fashion_mnist = tf.keras.datasets.fashion_mnist\n",
        "\n",
        "(x_train, y_train), (x_test, y_test) = fashion_mnist.load_data()\n",
        "x_train, x_test = x_train / 255.0, x_test / 255.0\n",
        "print(\"x_train.shape:\", x_train.shape)"
      ],
      "execution_count": 0,
      "outputs": [
        {
          "output_type": "stream",
          "text": [
            "x_train.shape: (60000, 28, 28)\n"
          ],
          "name": "stdout"
        }
      ]
    },
    {
      "cell_type": "code",
      "metadata": {
        "id": "jTomGUR3hKBr",
        "colab_type": "code",
        "colab": {}
      },
      "source": [
        "# Class Encoding\n",
        "# y_train = oneZeroEncoding(y_train)\n",
        "# y_test = oneZeroEncoding(y_test)\n",
        "\n",
        "y_train = labelEncoding(y_train, dtype=int)\n",
        "y_test  = labelEncoding(y_test, dtype=int)"
      ],
      "execution_count": 0,
      "outputs": []
    },
    {
      "cell_type": "code",
      "metadata": {
        "id": "qKiwqkR-ie8w",
        "colab_type": "code",
        "outputId": "5a65760f-74ba-44d7-f7bb-1dfd5e6d6d0e",
        "colab": {
          "base_uri": "https://localhost:8080/",
          "height": 35
        }
      },
      "source": [
        "y_test.shape"
      ],
      "execution_count": 0,
      "outputs": [
        {
          "output_type": "execute_result",
          "data": {
            "text/plain": [
              "(10000, 10)"
            ]
          },
          "metadata": {
            "tags": []
          },
          "execution_count": 32
        }
      ]
    },
    {
      "cell_type": "code",
      "metadata": {
        "id": "QTuW_OgXjbvA",
        "colab_type": "code",
        "outputId": "730a0514-5fc3-42ea-876f-b0759f16a6aa",
        "colab": {
          "base_uri": "https://localhost:8080/",
          "height": 35
        }
      },
      "source": [
        "x_train = np.expand_dims(x_train, -1)\n",
        "x_test  = np.expand_dims(x_test, -1)\n",
        "print(x_train.shape)"
      ],
      "execution_count": 0,
      "outputs": [
        {
          "output_type": "stream",
          "text": [
            "(60000, 28, 28, 1)\n"
          ],
          "name": "stdout"
        }
      ]
    },
    {
      "cell_type": "code",
      "metadata": {
        "id": "c80CCgn4jhdB",
        "colab_type": "code",
        "outputId": "1b4dcace-c73c-4e13-b494-044c0d1ac7d8",
        "colab": {
          "base_uri": "https://localhost:8080/",
          "height": 35
        }
      },
      "source": [
        "x_train[0].shape"
      ],
      "execution_count": 0,
      "outputs": [
        {
          "output_type": "execute_result",
          "data": {
            "text/plain": [
              "(28, 28, 1)"
            ]
          },
          "metadata": {
            "tags": []
          },
          "execution_count": 34
        }
      ]
    },
    {
      "cell_type": "code",
      "metadata": {
        "id": "_zZQ5qxvleL1",
        "colab_type": "code",
        "outputId": "af6c18e0-39de-48d3-d2dd-09153e69e572",
        "colab": {
          "base_uri": "https://localhost:8080/",
          "height": 624
        }
      },
      "source": [
        "def Network(inputShape):\n",
        "    i = Input(shape=(inputShape))\n",
        "    x = Conv2D(filters=32,  kernel_size=(3,3), strides=2, activation='relu')(i)\n",
        "    x = BatchNormalization()(x)\n",
        "    x = Conv2D(filters=64,  kernel_size=(3,3), strides=2, activation='relu')(x)\n",
        "    x = BatchNormalization()(x)\n",
        "    x = Conv2D(filters=128, kernel_size=(3,3), strides=2, activation='relu')(x)\n",
        "    x = BatchNormalization()(x)\n",
        "    x = Flatten()(x)        # Because dense layer expect 1-D vector\n",
        "    x = Dropout(rate=0.25,)(x)\n",
        "    x = Dense(units=512, activation='relu')(x)\n",
        "    x = BatchNormalization()(x)\n",
        "    x = Dropout(rate=0.25)(x)\n",
        "    x = Dense(units=10, activation='softmax')(x)\n",
        "    \n",
        "    return Model(inputs=[i], outputs=[x])\n",
        "#end-def\n",
        "\n",
        "model = Network(x_train[0].shape)\n",
        "model.summary()"
      ],
      "execution_count": 0,
      "outputs": [
        {
          "output_type": "stream",
          "text": [
            "Model: \"model_4\"\n",
            "_________________________________________________________________\n",
            "Layer (type)                 Output Shape              Param #   \n",
            "=================================================================\n",
            "input_5 (InputLayer)         [(None, 28, 28, 1)]       0         \n",
            "_________________________________________________________________\n",
            "conv2d_12 (Conv2D)           (None, 13, 13, 32)        320       \n",
            "_________________________________________________________________\n",
            "batch_normalization_4 (Batch (None, 13, 13, 32)        128       \n",
            "_________________________________________________________________\n",
            "conv2d_13 (Conv2D)           (None, 6, 6, 64)          18496     \n",
            "_________________________________________________________________\n",
            "batch_normalization_5 (Batch (None, 6, 6, 64)          256       \n",
            "_________________________________________________________________\n",
            "conv2d_14 (Conv2D)           (None, 2, 2, 128)         73856     \n",
            "_________________________________________________________________\n",
            "batch_normalization_6 (Batch (None, 2, 2, 128)         512       \n",
            "_________________________________________________________________\n",
            "flatten_4 (Flatten)          (None, 512)               0         \n",
            "_________________________________________________________________\n",
            "dropout_6 (Dropout)          (None, 512)               0         \n",
            "_________________________________________________________________\n",
            "dense_8 (Dense)              (None, 512)               262656    \n",
            "_________________________________________________________________\n",
            "batch_normalization_7 (Batch (None, 512)               2048      \n",
            "_________________________________________________________________\n",
            "dropout_7 (Dropout)          (None, 512)               0         \n",
            "_________________________________________________________________\n",
            "dense_9 (Dense)              (None, 10)                5130      \n",
            "=================================================================\n",
            "Total params: 363,402\n",
            "Trainable params: 361,930\n",
            "Non-trainable params: 1,472\n",
            "_________________________________________________________________\n"
          ],
          "name": "stdout"
        }
      ]
    },
    {
      "cell_type": "code",
      "metadata": {
        "id": "AB59h-95lwga",
        "colab_type": "code",
        "colab": {}
      },
      "source": [
        "model.compile(optimizer=Adam(),\n",
        "              loss='categorical_crossentropy',\n",
        "              metrics=['accuracy'])"
      ],
      "execution_count": 0,
      "outputs": []
    },
    {
      "cell_type": "code",
      "metadata": {
        "id": "hYQSaMR6l8mG",
        "colab_type": "code",
        "outputId": "0b0f2a5e-c4bf-4e94-bfc1-10bf5e19fce9",
        "colab": {
          "base_uri": "https://localhost:8080/",
          "height": 392
        }
      },
      "source": [
        "# Train the model\n",
        "result = model.fit(x_train, y_train, validation_data=(x_test, y_test), epochs=10)"
      ],
      "execution_count": 0,
      "outputs": [
        {
          "output_type": "stream",
          "text": [
            "Train on 60000 samples, validate on 10000 samples\n",
            "Epoch 1/10\n",
            "60000/60000 [==============================] - 10s 161us/sample - loss: 0.5294 - accuracy: 0.8103 - val_loss: 0.3901 - val_accuracy: 0.8548\n",
            "Epoch 2/10\n",
            "60000/60000 [==============================] - 9s 145us/sample - loss: 0.3731 - accuracy: 0.8626 - val_loss: 0.3841 - val_accuracy: 0.8478\n",
            "Epoch 3/10\n",
            "60000/60000 [==============================] - 9s 145us/sample - loss: 0.3291 - accuracy: 0.8781 - val_loss: 0.3260 - val_accuracy: 0.8793\n",
            "Epoch 4/10\n",
            "60000/60000 [==============================] - 9s 144us/sample - loss: 0.2997 - accuracy: 0.8890 - val_loss: 0.2988 - val_accuracy: 0.8909\n",
            "Epoch 5/10\n",
            "60000/60000 [==============================] - 9s 148us/sample - loss: 0.2761 - accuracy: 0.8970 - val_loss: 0.3145 - val_accuracy: 0.8906\n",
            "Epoch 6/10\n",
            "60000/60000 [==============================] - 9s 144us/sample - loss: 0.2540 - accuracy: 0.9052 - val_loss: 0.2773 - val_accuracy: 0.9013\n",
            "Epoch 7/10\n",
            "60000/60000 [==============================] - 9s 144us/sample - loss: 0.2377 - accuracy: 0.9116 - val_loss: 0.2837 - val_accuracy: 0.9001\n",
            "Epoch 8/10\n",
            "60000/60000 [==============================] - 9s 144us/sample - loss: 0.2221 - accuracy: 0.9166 - val_loss: 0.3481 - val_accuracy: 0.8775\n",
            "Epoch 9/10\n",
            "60000/60000 [==============================] - 9s 143us/sample - loss: 0.2106 - accuracy: 0.9203 - val_loss: 0.2880 - val_accuracy: 0.8985\n",
            "Epoch 10/10\n",
            "60000/60000 [==============================] - 9s 144us/sample - loss: 0.1963 - accuracy: 0.9264 - val_loss: 0.2881 - val_accuracy: 0.8993\n"
          ],
          "name": "stdout"
        }
      ]
    },
    {
      "cell_type": "code",
      "metadata": {
        "id": "HZlZMQhSmAz2",
        "colab_type": "code",
        "outputId": "2b6a741a-982a-4249-85ce-5982cb15f292",
        "colab": {
          "base_uri": "https://localhost:8080/",
          "height": 541
        }
      },
      "source": [
        "def lossPlot(result):\n",
        "    plt.plot(result.history['loss'], label='loss')\n",
        "    plt.plot(result.history['val_loss'], label='val_loss')\n",
        "    plt.xlabel('Epoch')\n",
        "    plt.ylabel('Loss')\n",
        "    plt.legend()\n",
        "    plt.show()\n",
        "#end-def\n",
        "\n",
        "def accuracyPlot(result):\n",
        "    plt.plot(result.history['accuracy'], label='accuracy')\n",
        "    plt.plot(result.history['val_accuracy'], label='val_accuracy')\n",
        "    plt.xlabel('Epoch')\n",
        "    plt.ylabel('Accuracy')\n",
        "    plt.legend()\n",
        "    plt.show()\n",
        "#end-def\n",
        "\n",
        "lossPlot(result)\n",
        "accuracyPlot(result)"
      ],
      "execution_count": 0,
      "outputs": [
        {
          "output_type": "display_data",
          "data": {
            "image/png": "[encoded data removed]",
            "text/plain": [
              "<Figure size 432x288 with 1 Axes>"
            ]
          },
          "metadata": {
            "tags": []
          }
        },
        {
          "output_type": "display_data",
          "data": {
            "image/png": "[encoded data removed]",
            "text/plain": [
              "<Figure size 432x288 with 1 Axes>"
            ]
          },
          "metadata": {
            "tags": []
          }
        }
      ]
    },
    {
      "cell_type": "markdown",
      "metadata": {
        "id": "zeVUIXKavMb7",
        "colab_type": "text"
      },
      "source": [
        ""
      ]
    },
    {
      "cell_type": "markdown",
      "metadata": {
        "colab_type": "text",
        "id": "nQhJgDKwvUq6"
      },
      "source": [
        "### CNN Architecture for CIFAR-10"
      ]
    },
    {
      "cell_type": "code",
      "metadata": {
        "id": "FvdD3fBKvZjR",
        "colab_type": "code",
        "outputId": "4e49e3b3-b3c4-4f76-c508-0413639bb435",
        "colab": {
          "base_uri": "https://localhost:8080/",
          "height": 88
        }
      },
      "source": [
        "# Load in the data\n",
        "cifar10 = tf.keras.datasets.cifar10\n",
        "\n",
        "(x_train, y_train), (x_test, y_test) = cifar10.load_data()\n",
        "x_train, x_test = x_train / 255.0, x_test / 255.0\n",
        "y_train, y_test = y_train.flatten(), y_test.flatten()\n",
        "print(\"x_train.shape:\", x_train.shape)\n",
        "print(\"y_train.shape\", y_train.shape)"
      ],
      "execution_count": 0,
      "outputs": [
        {
          "output_type": "stream",
          "text": [
            "Downloading data from https://www.cs.toronto.edu/~kriz/cifar-10-python.tar.gz\n",
            "170500096/170498071 [==============================] - 6s 0us/step\n",
            "x_train.shape: (50000, 32, 32, 3)\n",
            "y_train.shape (50000,)\n"
          ],
          "name": "stdout"
        }
      ]
    },
    {
      "cell_type": "code",
      "metadata": {
        "id": "OtxtmItFvkd3",
        "colab_type": "code",
        "outputId": "2d19910b-da36-4378-fa64-c50f53a6d4ca",
        "colab": {
          "base_uri": "https://localhost:8080/",
          "height": 35
        }
      },
      "source": [
        "y_train"
      ],
      "execution_count": 0,
      "outputs": [
        {
          "output_type": "execute_result",
          "data": {
            "text/plain": [
              "array([6, 9, 9, ..., 9, 1, 1], dtype=uint8)"
            ]
          },
          "metadata": {
            "tags": []
          },
          "execution_count": 5
        }
      ]
    },
    {
      "cell_type": "code",
      "metadata": {
        "id": "eX_DCw-pvvx2",
        "colab_type": "code",
        "colab": {}
      },
      "source": [
        "y_train = labelEncoding(y_train, dtype=int)\n",
        "y_test  = labelEncoding(y_test, dtype=int)"
      ],
      "execution_count": 0,
      "outputs": []
    },
    {
      "cell_type": "code",
      "metadata": {
        "id": "_YswqlLiv5FY",
        "colab_type": "code",
        "outputId": "e32a032f-5e9f-4f77-e59a-57480f37ad30",
        "colab": {
          "base_uri": "https://localhost:8080/",
          "height": 35
        }
      },
      "source": [
        "y_train.shape"
      ],
      "execution_count": 0,
      "outputs": [
        {
          "output_type": "execute_result",
          "data": {
            "text/plain": [
              "(50000, 10)"
            ]
          },
          "metadata": {
            "tags": []
          },
          "execution_count": 7
        }
      ]
    },
    {
      "cell_type": "code",
      "metadata": {
        "id": "qN7upAfuv7vm",
        "colab_type": "code",
        "outputId": "b3239f49-3241-4fc3-94d4-73f1fa6789d0",
        "colab": {
          "base_uri": "https://localhost:8080/",
          "height": 35
        }
      },
      "source": [
        "y_test.shape"
      ],
      "execution_count": 0,
      "outputs": [
        {
          "output_type": "execute_result",
          "data": {
            "text/plain": [
              "(10000, 10)"
            ]
          },
          "metadata": {
            "tags": []
          },
          "execution_count": 8
        }
      ]
    },
    {
      "cell_type": "code",
      "metadata": {
        "id": "wzsHIv2yv-a1",
        "colab_type": "code",
        "outputId": "ceb75911-81b7-4b11-83fb-66a5af9faac2",
        "colab": {
          "base_uri": "https://localhost:8080/",
          "height": 35
        }
      },
      "source": [
        "x_train[0].shape"
      ],
      "execution_count": 0,
      "outputs": [
        {
          "output_type": "execute_result",
          "data": {
            "text/plain": [
              "(32, 32, 3)"
            ]
          },
          "metadata": {
            "tags": []
          },
          "execution_count": 9
        }
      ]
    },
    {
      "cell_type": "code",
      "metadata": {
        "id": "4MercVEd3ChA",
        "colab_type": "code",
        "outputId": "35807d70-fa18-47fb-b412-d3f0fe215a96",
        "colab": {
          "base_uri": "https://localhost:8080/",
          "height": 266
        }
      },
      "source": [
        "plt.imshow(x_train[50])\n",
        "plt.show()"
      ],
      "execution_count": 0,
      "outputs": [
        {
          "output_type": "display_data",
          "data": {
            "image/png": "[encoded data removed]",
            "text/plain": [
              "<Figure size 432x288 with 1 Axes>"
            ]
          },
          "metadata": {
            "tags": []
          }
        }
      ]
    },
    {
      "cell_type": "code",
      "metadata": {
        "id": "3zZ6NxCkwL7l",
        "colab_type": "code",
        "outputId": "10aa7b89-2772-42c9-cbcb-7763445e04d8",
        "colab": {
          "base_uri": "https://localhost:8080/",
          "height": 946
        }
      },
      "source": [
        "def Network(inputShape):\n",
        "    i = Input(shape=(inputShape))\n",
        "    x = Conv2D(filters=32,  kernel_size=(3,3), strides=1, padding='same', activation='relu')(i)\n",
        "    x = BatchNormalization()(x)\n",
        "    x = Conv2D(filters=32,  kernel_size=(3,3), strides=1, padding='same', activation='relu')(x)\n",
        "    x = BatchNormalization()(x)\n",
        "    x = MaxPooling2D(pool_size=(2,2))(x)\n",
        "    print(x.shape)\n",
        "\n",
        "    x = Conv2D(filters=64,  kernel_size=(3,3), strides=1, padding='same', activation='relu')(x)\n",
        "    x = BatchNormalization()(x)\n",
        "    print(x.shape)\n",
        "\n",
        "    x = Conv2D(filters=64,  kernel_size=(3,3), strides=1, padding='same', activation='relu')(x)\n",
        "    x = BatchNormalization()(x)\n",
        "    x = MaxPooling2D(pool_size=(2,2))(x)\n",
        "\n",
        "    x = Conv2D(filters=128, kernel_size=(3,3), strides=1, padding='same', activation='relu')(x)\n",
        "    x = BatchNormalization()(x)\n",
        "    x = Conv2D(filters=128, kernel_size=(3,3), strides=1, padding='same', activation='relu')(x)\n",
        "    x = BatchNormalization()(x)\n",
        "    x = MaxPooling2D(pool_size=(2,2))(x)\n",
        "\n",
        "    x = Flatten()(x)         # Because dense layer expect 1-D vector\n",
        "    x = Dropout(rate=0.25,)(x)\n",
        "\n",
        "    x = Dense(units=1024, activation='relu')(x)\n",
        "    # x = BatchNormalization()(x)\n",
        "    x = Dropout(rate=0.20)(x)\n",
        "    x = Dense(units=10, activation='softmax')(x)\n",
        "\n",
        "    return Model(inputs=[i], outputs=[x])\n",
        "#end-def\n",
        "\n",
        "model = Network(x_train[0].shape)\n",
        "model.summary()\n",
        "# plot_model(model, to_file='model.png', show_shapes=True, show_layer_names=False, expand_nested=True)"
      ],
      "execution_count": 0,
      "outputs": [
        {
          "output_type": "stream",
          "text": [
            "(None, 16, 16, 32)\n",
            "(None, 16, 16, 64)\n",
            "Model: \"model\"\n",
            "_________________________________________________________________\n",
            "Layer (type)                 Output Shape              Param #   \n",
            "=================================================================\n",
            "input_1 (InputLayer)         [(None, 32, 32, 3)]       0         \n",
            "_________________________________________________________________\n",
            "conv2d (Conv2D)              (None, 32, 32, 32)        896       \n",
            "_________________________________________________________________\n",
            "batch_normalization (BatchNo (None, 32, 32, 32)        128       \n",
            "_________________________________________________________________\n",
            "conv2d_1 (Conv2D)            (None, 32, 32, 32)        9248      \n",
            "_________________________________________________________________\n",
            "batch_normalization_1 (Batch (None, 32, 32, 32)        128       \n",
            "_________________________________________________________________\n",
            "max_pooling2d (MaxPooling2D) (None, 16, 16, 32)        0         \n",
            "_________________________________________________________________\n",
            "conv2d_2 (Conv2D)            (None, 16, 16, 64)        18496     \n",
            "_________________________________________________________________\n",
            "batch_normalization_2 (Batch (None, 16, 16, 64)        256       \n",
            "_________________________________________________________________\n",
            "conv2d_3 (Conv2D)            (None, 16, 16, 64)        36928     \n",
            "_________________________________________________________________\n",
            "batch_normalization_3 (Batch (None, 16, 16, 64)        256       \n",
            "_________________________________________________________________\n",
            "max_pooling2d_1 (MaxPooling2 (None, 8, 8, 64)          0         \n",
            "_________________________________________________________________\n",
            "conv2d_4 (Conv2D)            (None, 8, 8, 128)         73856     \n",
            "_________________________________________________________________\n",
            "batch_normalization_4 (Batch (None, 8, 8, 128)         512       \n",
            "_________________________________________________________________\n",
            "conv2d_5 (Conv2D)            (None, 8, 8, 128)         147584    \n",
            "_________________________________________________________________\n",
            "batch_normalization_5 (Batch (None, 8, 8, 128)         512       \n",
            "_________________________________________________________________\n",
            "max_pooling2d_2 (MaxPooling2 (None, 4, 4, 128)         0         \n",
            "_________________________________________________________________\n",
            "flatten (Flatten)            (None, 2048)              0         \n",
            "_________________________________________________________________\n",
            "dropout (Dropout)            (None, 2048)              0         \n",
            "_________________________________________________________________\n",
            "dense (Dense)                (None, 1024)              2098176   \n",
            "_________________________________________________________________\n",
            "dropout_1 (Dropout)          (None, 1024)              0         \n",
            "_________________________________________________________________\n",
            "dense_1 (Dense)              (None, 10)                10250     \n",
            "=================================================================\n",
            "Total params: 2,397,226\n",
            "Trainable params: 2,396,330\n",
            "Non-trainable params: 896\n",
            "_________________________________________________________________\n"
          ],
          "name": "stdout"
        }
      ]
    },
    {
      "cell_type": "code",
      "metadata": {
        "id": "9MmaoG5SwcqY",
        "colab_type": "code",
        "outputId": "91f61307-ea6f-4c01-9cbb-1dbb7b10a792",
        "colab": {
          "base_uri": "https://localhost:8080/",
          "height": 446
        }
      },
      "source": [
        "# Compile the model:\n",
        "model.compile(optimizer=Adam(),\n",
        "              loss='categorical_crossentropy',\n",
        "              metrics=['accuracy'],\n",
        ")\n",
        "\n",
        "# Watch Tower:\n",
        "monitor = EarlyStopping(monitor='val_loss', verbose=1, patience=3)\n",
        "\n",
        "# Train the model:\n",
        "result = model.fit(x_train, y_train, validation_data=(x_test, y_test), callbacks=[monitor], epochs=25) # Epoch doesn't work when "
      ],
      "execution_count": 0,
      "outputs": [
        {
          "output_type": "stream",
          "text": [
            "Train on 50000 samples, validate on 10000 samples\n",
            "Epoch 1/25\n",
            "50000/50000 [==============================] - 20s 398us/sample - loss: 1.3346 - accuracy: 0.5446 - val_loss: 1.2106 - val_accuracy: 0.5786\n",
            "Epoch 2/25\n",
            "50000/50000 [==============================] - 11s 226us/sample - loss: 0.8584 - accuracy: 0.7019 - val_loss: 0.8661 - val_accuracy: 0.7023\n",
            "Epoch 3/25\n",
            "50000/50000 [==============================] - 11s 224us/sample - loss: 0.7064 - accuracy: 0.7546 - val_loss: 0.6873 - val_accuracy: 0.7675\n",
            "Epoch 4/25\n",
            "50000/50000 [==============================] - 11s 228us/sample - loss: 0.5945 - accuracy: 0.7964 - val_loss: 0.9007 - val_accuracy: 0.7108\n",
            "Epoch 5/25\n",
            "50000/50000 [==============================] - 11s 227us/sample - loss: 0.5110 - accuracy: 0.8253 - val_loss: 0.6603 - val_accuracy: 0.7862\n",
            "Epoch 6/25\n",
            "50000/50000 [==============================] - 12s 238us/sample - loss: 0.4418 - accuracy: 0.8467 - val_loss: 0.6221 - val_accuracy: 0.8033\n",
            "Epoch 7/25\n",
            "50000/50000 [==============================] - 12s 231us/sample - loss: 0.3732 - accuracy: 0.8710 - val_loss: 0.6563 - val_accuracy: 0.8065\n",
            "Epoch 8/25\n",
            "50000/50000 [==============================] - 11s 227us/sample - loss: 0.3218 - accuracy: 0.8875 - val_loss: 0.5942 - val_accuracy: 0.8151\n",
            "Epoch 9/25\n",
            "50000/50000 [==============================] - 11s 230us/sample - loss: 0.2786 - accuracy: 0.9036 - val_loss: 0.6017 - val_accuracy: 0.8102\n",
            "Epoch 10/25\n",
            "50000/50000 [==============================] - 11s 228us/sample - loss: 0.2456 - accuracy: 0.9142 - val_loss: 0.6480 - val_accuracy: 0.8221\n",
            "Epoch 11/25\n",
            "50000/50000 [==============================] - 11s 228us/sample - loss: 0.2116 - accuracy: 0.9285 - val_loss: 0.6287 - val_accuracy: 0.8274\n",
            "Epoch 00011: early stopping\n"
          ],
          "name": "stdout"
        }
      ]
    },
    {
      "cell_type": "code",
      "metadata": {
        "id": "VDi4E17_wnsK",
        "colab_type": "code",
        "outputId": "810b726b-6fc9-4924-cdaf-ac2377eb382e",
        "colab": {
          "base_uri": "https://localhost:8080/",
          "height": 612
        }
      },
      "source": [
        "def performance(Xtrain, Ytrain, Xtest, Ytest):\n",
        "    print('Training Accuracy: {:.4f}'.format(model.evaluate(Xtrain, Ytrain, verbose=0)[1]))\n",
        "    print('Testing  Accuracy: {:.4f}'.format(model.evaluate(Xtest,  Ytest,  verbose=0)[1]))\n",
        "    print('\\n')\n",
        "    lossPlot(result)\n",
        "    accuracyPlot(result)\n",
        "#end-def\n",
        "\n",
        "performance(x_train, y_train,x_test, y_test)"
      ],
      "execution_count": 0,
      "outputs": [
        {
          "output_type": "stream",
          "text": [
            "Training Accuracy: 0.9689\n",
            "Testing  Accuracy: 0.8274\n",
            "\n",
            "\n"
          ],
          "name": "stdout"
        },
        {
          "output_type": "display_data",
          "data": {
            "image/png": "[encoded data removed]",
            "text/plain": [
              "<Figure size 432x288 with 1 Axes>"
            ]
          },
          "metadata": {
            "tags": []
          }
        },
        {
          "output_type": "display_data",
          "data": {
            "image/png": "[encoded data removed]",
            "text/plain": [
              "<Figure size 432x288 with 1 Axes>"
            ]
          },
          "metadata": {
            "tags": []
          }
        }
      ]
    },
    {
      "cell_type": "code",
      "metadata": {
        "id": "s1OruPf0CYv7",
        "colab_type": "code",
        "outputId": "feb662ec-77f1-42ef-faa5-6f05d08b49b6",
        "colab": {
          "base_uri": "https://localhost:8080/",
          "height": 499
        }
      },
      "source": [
        "pYtest = np.argmax(model.predict(x_test), axis=1)\n",
        "CM = confusion_matrix(y_pred=pYtest, y_true=y_test.argmax(axis=1))\n",
        "print(CM)\n",
        "\n",
        "print(classification_report(y_pred=pYtest, y_true=y_test.argmax(axis=1)))"
      ],
      "execution_count": 0,
      "outputs": [
        {
          "output_type": "stream",
          "text": [
            "[[884  10  22  21   3   3   4   2  37  14]\n",
            " [ 10 908   3   5   1   3   3   0  27  40]\n",
            " [ 59   0 755  34  69  25  32   8  12   6]\n",
            " [ 24   3  76 729  28  92  26   9   9   4]\n",
            " [ 21   3  49  36 827  25  19  16   3   1]\n",
            " [ 14   3  53 139  29 730  10  14   6   2]\n",
            " [  7   3  47  47  28  16 836   2  10   4]\n",
            " [ 21   2  36  48  30  39   4 807   5   8]\n",
            " [ 53   4   6   5   1   0   3   0 916  12]\n",
            " [ 29  49   4   8   1   2   3   2  20 882]]\n",
            "              precision    recall  f1-score   support\n",
            "\n",
            "           0       0.79      0.88      0.83      1000\n",
            "           1       0.92      0.91      0.91      1000\n",
            "           2       0.72      0.76      0.74      1000\n",
            "           3       0.68      0.73      0.70      1000\n",
            "           4       0.81      0.83      0.82      1000\n",
            "           5       0.78      0.73      0.75      1000\n",
            "           6       0.89      0.84      0.86      1000\n",
            "           7       0.94      0.81      0.87      1000\n",
            "           8       0.88      0.92      0.90      1000\n",
            "           9       0.91      0.88      0.89      1000\n",
            "\n",
            "    accuracy                           0.83     10000\n",
            "   macro avg       0.83      0.83      0.83     10000\n",
            "weighted avg       0.83      0.83      0.83     10000\n",
            "\n"
          ],
          "name": "stdout"
        }
      ]
    },
    {
      "cell_type": "code",
      "metadata": {
        "id": "grCKyDsXxVZY",
        "colab_type": "code",
        "outputId": "098a60b6-049a-4ffb-f40c-946ae265c392",
        "colab": {
          "base_uri": "https://localhost:8080/",
          "height": 88
        }
      },
      "source": [
        "help(MaxPooling2D.__init__)"
      ],
      "execution_count": 0,
      "outputs": [
        {
          "output_type": "stream",
          "text": [
            "Help on function __init__ in module tensorflow.python.keras.layers.pooling:\n",
            "\n",
            "__init__(self, pool_size=(2, 2), strides=None, padding='valid', data_format=None, **kwargs)\n",
            "\n"
          ],
          "name": "stdout"
        }
      ]
    },
    {
      "cell_type": "code",
      "metadata": {
        "id": "zCFECrVbUKX1",
        "colab_type": "code",
        "colab": {}
      },
      "source": [
        ""
      ],
      "execution_count": 0,
      "outputs": []
    },
    {
      "cell_type": "code",
      "metadata": {
        "id": "fH4o4bkz3-wG",
        "colab_type": "code",
        "colab": {}
      },
      "source": [
        ""
      ],
      "execution_count": 0,
      "outputs": []
    }
  ]
}